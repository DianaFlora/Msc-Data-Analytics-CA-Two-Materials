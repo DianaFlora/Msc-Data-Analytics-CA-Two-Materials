{
 "cells": [
  {
   "cell_type": "markdown",
   "id": "28309d18",
   "metadata": {},
   "source": [
    "# Machine Learning For UK Data"
   ]
  },
  {
   "cell_type": "code",
   "execution_count": 1,
   "id": "171690bc",
   "metadata": {},
   "outputs": [],
   "source": [
    "#Setting up the environment for data analysis and visualization, configuring display settings, and handling warnings by importing all necessary libraries\n",
    "import pandas as pd\n",
    "import plotly.express as px\n",
    "import numpy as np\n",
    "import seaborn as sns\n",
    "import matplotlib.pyplot as plt\n",
    "%config InlineBackend.figure_format = 'retina'\n",
    "sns.set_context('talk')\n",
    "import warnings\n",
    "warnings.filterwarnings('ignore')"
   ]
  },
  {
   "cell_type": "code",
   "execution_count": 2,
   "id": "1ad84545",
   "metadata": {},
   "outputs": [],
   "source": [
    "#Import the Transport data cleaned in the other jupyternotebook for analysis of ML only for UK\n",
    "transport_data = pd.read_csv(\"transport_data.csv\")"
   ]
  },
  {
   "cell_type": "markdown",
   "id": "f13d06db",
   "metadata": {},
   "source": [
    "# MACHINE LEARNING\n",
    "This process involves:\n",
    "- Encoding the categorical Variables\n",
    "- Creating the features and dependent variable objects\n",
    "- Standardising the data\n",
    "- Normalizing the data\n",
    "- splitting the data into training and Test set.\n",
    "- build various ML models\n",
    "- test the model on a test data set\n",
    "- Evaluate the model performance\n",
    "- Maximize the model performance\n",
    "- Hyperparameter tuning"
   ]
  },
  {
   "cell_type": "code",
   "execution_count": 3,
   "id": "3a61fc6a",
   "metadata": {},
   "outputs": [],
   "source": [
    "transport_data = transport_data[transport_data['geo'] == 'UK']\n",
    "\n",
    "# Reset index\n",
    "transport_data.reset_index(drop=True, inplace=True)\n"
   ]
  },
  {
   "cell_type": "code",
   "execution_count": 4,
   "id": "62e0c7a0",
   "metadata": {},
   "outputs": [
    {
     "data": {
      "text/plain": [
       "tra_cov                 0\n",
       "aircraft                0\n",
       "distance                0\n",
       "geo                     0\n",
       "TIME_PERIOD             0\n",
       "Number of Passengers    0\n",
       "Number of Flights       0\n",
       "dtype: int64"
      ]
     },
     "execution_count": 4,
     "metadata": {},
     "output_type": "execute_result"
    }
   ],
   "source": [
    "transport_data.isnull().sum()"
   ]
  },
  {
   "cell_type": "code",
   "execution_count": 5,
   "id": "6c8320db",
   "metadata": {},
   "outputs": [],
   "source": [
    "#Drop variables that will not be used in any analysis process\n",
    "column_to_drop = ['geo']\n",
    "transport_data.drop(column_to_drop, axis=1, inplace=True)"
   ]
  },
  {
   "cell_type": "code",
   "execution_count": 6,
   "id": "8d8c6ff1",
   "metadata": {},
   "outputs": [],
   "source": [
    "from keras.models import Sequential\n",
    "from keras.layers import Dense\n",
    "from scikeras.wrappers import KerasRegressor\n",
    "from sklearn.model_selection import cross_val_score\n",
    "from sklearn.model_selection import KFold\n",
    "from sklearn.preprocessing import StandardScaler\n",
    "from sklearn.pipeline import Pipeline\n",
    "from sklearn.preprocessing import OneHotEncoder\n",
    "from sklearn.model_selection import train_test_split  \n",
    "from sklearn.metrics import mean_squared_error, mean_absolute_error \n",
    "from sklearn import preprocessing"
   ]
  },
  {
   "cell_type": "markdown",
   "id": "a8750e0d",
   "metadata": {},
   "source": [
    "## Encoding Data Using One Hot Encoding"
   ]
  },
  {
   "cell_type": "code",
   "execution_count": 7,
   "id": "99f620ea",
   "metadata": {},
   "outputs": [
    {
     "name": "stdout",
     "output_type": "stream",
     "text": [
      "    tra_cov aircraft     distance  TIME_PERIOD  Number of Passengers  \\\n",
      "0      INTL    AC_JJ  KM1000-1499         2008               3083938   \n",
      "1      INTL    AC_JJ  KM1000-1499         2009               2049461   \n",
      "2      INTL    AC_JJ  KM1000-1499         2010               1582968   \n",
      "3      INTL    AC_JJ  KM1000-1499         2011               1198971   \n",
      "4      INTL    AC_JJ  KM1000-1499         2012                976359   \n",
      "..      ...      ...          ...          ...                   ...   \n",
      "775     NAT    AC_WJ     KM_LT300         2016                  5688   \n",
      "776     NAT    AC_WJ     KM_LT300         2017                  3746   \n",
      "777     NAT    AC_WJ     KM_LT300         2018                  3793   \n",
      "778     NAT    AC_WJ     KM_LT300         2019                 29784   \n",
      "779     NAT    AC_WJ     KM_LT300         2020                 17593   \n",
      "\n",
      "     Number of Flights  tra_cov_NAT  aircraft_AC_NJ  aircraft_AC_RJ  \\\n",
      "0                18858          0.0             0.0             0.0   \n",
      "1                12970          0.0             0.0             0.0   \n",
      "2                 8933          0.0             0.0             0.0   \n",
      "3                 5816          0.0             0.0             0.0   \n",
      "4                 4688          0.0             0.0             0.0   \n",
      "..                 ...          ...             ...             ...   \n",
      "775                 54          1.0             0.0             0.0   \n",
      "776                 31          1.0             0.0             0.0   \n",
      "777                 43          1.0             0.0             0.0   \n",
      "778                197          1.0             0.0             0.0   \n",
      "779                154          1.0             0.0             0.0   \n",
      "\n",
      "     aircraft_AC_RT  aircraft_AC_WJ  distance_KM1500-1999  distance_KM300-499  \\\n",
      "0               0.0             0.0                   0.0                 0.0   \n",
      "1               0.0             0.0                   0.0                 0.0   \n",
      "2               0.0             0.0                   0.0                 0.0   \n",
      "3               0.0             0.0                   0.0                 0.0   \n",
      "4               0.0             0.0                   0.0                 0.0   \n",
      "..              ...             ...                   ...                 ...   \n",
      "775             0.0             1.0                   0.0                 0.0   \n",
      "776             0.0             1.0                   0.0                 0.0   \n",
      "777             0.0             1.0                   0.0                 0.0   \n",
      "778             0.0             1.0                   0.0                 0.0   \n",
      "779             0.0             1.0                   0.0                 0.0   \n",
      "\n",
      "     distance_KM500-999  distance_KM_GE2000  distance_KM_LT300  \n",
      "0                   0.0                 0.0                0.0  \n",
      "1                   0.0                 0.0                0.0  \n",
      "2                   0.0                 0.0                0.0  \n",
      "3                   0.0                 0.0                0.0  \n",
      "4                   0.0                 0.0                0.0  \n",
      "..                  ...                 ...                ...  \n",
      "775                 0.0                 0.0                1.0  \n",
      "776                 0.0                 0.0                1.0  \n",
      "777                 0.0                 0.0                1.0  \n",
      "778                 0.0                 0.0                1.0  \n",
      "779                 0.0                 0.0                1.0  \n",
      "\n",
      "[780 rows x 16 columns]\n"
     ]
    }
   ],
   "source": [
    "#Apply OneHotEncoder to multiple columns\n",
    "encoder = OneHotEncoder(sparse=False, drop='first')  \n",
    "encoded = encoder.fit_transform(transport_data[['tra_cov', 'aircraft','distance']])\n",
    "\n",
    "#Create a DataFrame with the encoded variables\n",
    "encoded_df = pd.DataFrame(encoded, columns=encoder.get_feature_names_out(['tra_cov', 'aircraft','distance']))\n",
    "\n",
    "#Concatenate the encoded DataFrame with the original DataFrame\n",
    "result_df = pd.concat([transport_data, encoded_df], axis=1)\n",
    "\n",
    "#Display the result\n",
    "print(result_df)"
   ]
  },
  {
   "cell_type": "code",
   "execution_count": 8,
   "id": "99f58350",
   "metadata": {
    "scrolled": true
   },
   "outputs": [
    {
     "name": "stdout",
     "output_type": "stream",
     "text": [
      "<class 'pandas.core.frame.DataFrame'>\n",
      "RangeIndex: 780 entries, 0 to 779\n",
      "Data columns (total 16 columns):\n",
      " #   Column                Non-Null Count  Dtype  \n",
      "---  ------                --------------  -----  \n",
      " 0   tra_cov               780 non-null    object \n",
      " 1   aircraft              780 non-null    object \n",
      " 2   distance              780 non-null    object \n",
      " 3   TIME_PERIOD           780 non-null    int64  \n",
      " 4   Number of Passengers  780 non-null    int64  \n",
      " 5   Number of Flights     780 non-null    int64  \n",
      " 6   tra_cov_NAT           780 non-null    float64\n",
      " 7   aircraft_AC_NJ        780 non-null    float64\n",
      " 8   aircraft_AC_RJ        780 non-null    float64\n",
      " 9   aircraft_AC_RT        780 non-null    float64\n",
      " 10  aircraft_AC_WJ        780 non-null    float64\n",
      " 11  distance_KM1500-1999  780 non-null    float64\n",
      " 12  distance_KM300-499    780 non-null    float64\n",
      " 13  distance_KM500-999    780 non-null    float64\n",
      " 14  distance_KM_GE2000    780 non-null    float64\n",
      " 15  distance_KM_LT300     780 non-null    float64\n",
      "dtypes: float64(10), int64(3), object(3)\n",
      "memory usage: 97.6+ KB\n"
     ]
    }
   ],
   "source": [
    "#View the dataframe\n",
    "result_df.info()"
   ]
  },
  {
   "cell_type": "code",
   "execution_count": 9,
   "id": "73a3f56d",
   "metadata": {},
   "outputs": [],
   "source": [
    "#Create a list of features to drop\n",
    "column_to_drop = ['tra_cov', 'aircraft', 'distance']\n",
    "result_df.drop(column_to_drop, axis=1, inplace=True)"
   ]
  },
  {
   "cell_type": "code",
   "execution_count": 10,
   "id": "fc445509",
   "metadata": {},
   "outputs": [
    {
     "name": "stdout",
     "output_type": "stream",
     "text": [
      "<class 'pandas.core.frame.DataFrame'>\n",
      "RangeIndex: 780 entries, 0 to 779\n",
      "Data columns (total 13 columns):\n",
      " #   Column                Non-Null Count  Dtype  \n",
      "---  ------                --------------  -----  \n",
      " 0   TIME_PERIOD           780 non-null    int64  \n",
      " 1   Number of Passengers  780 non-null    int64  \n",
      " 2   Number of Flights     780 non-null    int64  \n",
      " 3   tra_cov_NAT           780 non-null    float64\n",
      " 4   aircraft_AC_NJ        780 non-null    float64\n",
      " 5   aircraft_AC_RJ        780 non-null    float64\n",
      " 6   aircraft_AC_RT        780 non-null    float64\n",
      " 7   aircraft_AC_WJ        780 non-null    float64\n",
      " 8   distance_KM1500-1999  780 non-null    float64\n",
      " 9   distance_KM300-499    780 non-null    float64\n",
      " 10  distance_KM500-999    780 non-null    float64\n",
      " 11  distance_KM_GE2000    780 non-null    float64\n",
      " 12  distance_KM_LT300     780 non-null    float64\n",
      "dtypes: float64(10), int64(3)\n",
      "memory usage: 79.3 KB\n"
     ]
    }
   ],
   "source": [
    "#View if the columns have been dropped\n",
    "result_df.info()"
   ]
  },
  {
   "cell_type": "markdown",
   "id": "6b2bd7a1",
   "metadata": {},
   "source": [
    "### Findings\n",
    "- The columns have been dropped"
   ]
  },
  {
   "cell_type": "markdown",
   "id": "8596b293",
   "metadata": {},
   "source": [
    "# Fitting Model without Feature Scaling"
   ]
  },
  {
   "cell_type": "code",
   "execution_count": 11,
   "id": "0a11a9ed",
   "metadata": {},
   "outputs": [],
   "source": [
    "#Split into dependent and independent variables\n",
    "y = result_df.iloc[:, 1].values\n",
    "X = result_df.drop(['Number of Passengers'], axis=1).values"
   ]
  },
  {
   "cell_type": "code",
   "execution_count": 12,
   "id": "c3d5a906",
   "metadata": {
    "scrolled": true
   },
   "outputs": [
    {
     "name": "stdout",
     "output_type": "stream",
     "text": [
      "[ 3083938  2049461  1582968  1198971   976359   872069   896281   675558\n",
      "   610891   674159   592230   502257    75403  3401491  2731438  2181633\n",
      "  2347447  2094227  1845145  1684169  1522954  1493345  1614520  1505972\n",
      "  1242450   107071    20427    22661    47151     6404     3481     2263\n",
      "     3435     2068     1179     1581     1103      698        0   401476\n",
      "   237169   209999   227353   199899   205520   176399   117108   120240\n",
      "   120736   111786    77976    35783 10226737  9527345 10581329 11292004\n",
      " 11086880 10992964 11239633 11950248 12934729 14395703 13428009 12342174\n",
      "  2432245      471       33      479     1221      451      165        0\n",
      "       96        0      206      125      164       71 32200279 29857328\n",
      " 28392481 30829365 32210918 33791476 35605242 39205080 43445039 45886998\n",
      " 47028326 47953492 10434038 21292751 19434402 18792907 20182487 20492881\n",
      " 22394942 23940336 25568728 29502780 33285983 33455502 34539131  7310203\n",
      " 15120156 13355816 11842267 12446807 12304082 12836467 13602910 15125521\n",
      " 15856019 16456586 16741588 16945304  4071568 25050995 24493369 24357033\n",
      " 25854643 26551735 27223883 28252407 30576458 31980390 33140348 33961569\n",
      " 34010677  8178071 31626726 29814810 29375806 30477910 30504505 32935800\n",
      " 36993374 40793939 44603629 50283184 55090028 57817776 14169082  1457625\n",
      "  1242703  1032275  1003085  1100636  1137057  1308239  1663013  1922315\n",
      "  1812671  1883073  1930826   453747  1169029  1023602   797974   974583\n",
      "  1088895  1141811  1161820   987606  1189379  1430029  1254783  1218623\n",
      "   185480   225393   191418   276283   309471   375875   428761   454995\n",
      "   420309   498431   690404   717299   576446    69532  1729957  1738813\n",
      "  1633530  1638230  1546894  1494647  1785717  2113866  2560374  2635059\n",
      "  2625103  2737680   494777  3817469  3027394  2948845  3410999  3478301\n",
      "  3474944  3579245  3066997  3396861  3132235  2888369  2892782   622237\n",
      "    20633    20603    35102    24869    20942    49008    32930    57741\n",
      "    64284    73330    64384    77806    18949   114131    99166   124005\n",
      "   127781   125245   170202   152101   144727   147608   135806    80619\n",
      "    79815     7771    29905    44181    50383    38230    37286    39793\n",
      "    61454    53565    70553    53059    67161    45857     2464     4050\n",
      "     1831      399      589     1215      166     1139     3170     1453\n",
      "      217     1775     4368       58  1721343  1472397  1621423  1829281\n",
      "  1926882  2060805  2158121  1785990  1709537  1834673  1848552  1816690\n",
      "   298139   868239  1104740  1180088  1099551   827881   807181   695548\n",
      "   532188   729784   890552  1006572   743728   103998      103      218\n",
      "        9     2864     2135        2      234    80263    31593       52\n",
      "      400        0       34    78834    90729   145592   177291   171083\n",
      "   212209   283781   170608   181385   177179   203317   189545    34710\n",
      "   487987   456154   652131   765160   907021   887797   831652   916916\n",
      "   861287   979602   934459  1333250   617077   338658   365827   483685\n",
      "   505312   503991   471561   284224   333085   564275   638758   676894\n",
      "  1350434   431449    85729    25868   189655    90863    53319    39297\n",
      "   140572   198082   139631   139713   145671   259069   162574   376933\n",
      "   281659   228675   216781   223635   260426   211348   145127   128729\n",
      "   172189   139623   267526   168644 34430457 33160710 33399099 33590185\n",
      " 33697955 33522207 32787639 30859720 30080866 29474251 30763342 32174377\n",
      "  7751673     2717     3203     1545        0        0      943      405\n",
      "      404        0        0      691        0        0        0        0\n",
      "        0        0        0        0        0        0        0        0\n",
      "        0        0        0        0        0        0        0        0\n",
      "        0        0        0        0        0        0        0        0\n",
      "     4080    10733    27010    21318     1639     2545      503      797\n",
      "      737      196      242        0       89   120054     4945     5534\n",
      "     5752     3417    15323      600     3379       57      374      475\n",
      "      158        0        0        0        0        0        0        0\n",
      "        0        0        0        0        0        0        0   118564\n",
      "    15787    11817    12756    11190    10485     7938     4330     4138\n",
      "     3214     2270     1139      150        0        0        0        0\n",
      "        0        0        0      102        0        0        0        0\n",
      "        0        0        0        0        0        0        0        0\n",
      "        0        0        0        0        0        0  3596251  2958807\n",
      "  2393800  2254183  2000089  1949861  2038814  2400586  2232964  2288281\n",
      "  2371032  2362642   725861  8981281  8296658  7709515  7659888  7699470\n",
      "  7845866  8166125  8604508  8947117  8847473  8733269  8186286  2253169\n",
      "        0        0        0        0        0        0        0        0\n",
      "        0        0        0        0        0  3273146  3062296  2751829\n",
      "  2640319  2780345  2821895  3080206  3226409  3265974  3275840  3440459\n",
      "  3441206  1067131        0        0        0        0        0        0\n",
      "        0        0        0        0        0        0        0        0\n",
      "        0        0        0        0        0        0        0        0\n",
      "        0        0        0        0   748975   483213   542851   435090\n",
      "   705339   833855   497867   100493   315960   467467   483168   420332\n",
      "    70559  1286818  1180428   992000  1101410  1125163  1177414   685407\n",
      "   650717   702617   696270   772584   847059   196050        0        0\n",
      "        0        0        0        0        0        0        0        0\n",
      "        0        0        0   847106   462126   438383   475919   438222\n",
      "   515346   403499   303013   325666   330822   310681   449786    97095\n",
      "        0        0       49        0        0        0        0        0\n",
      "       63        0        0        0        0        0        0        0\n",
      "        0        0        0        0        0        0        0        0\n",
      "        0        0  2073046  2376281  2280828  2347216  2196938  2224604\n",
      "  2637055  2840865  2594887  2627729  2587164  2446617   357271   783211\n",
      "   881085   917776   950319   814481   571120   854164  1113590  1148048\n",
      "  1376735  1442310  1487956   188127        0        0        0        0\n",
      "        0        0        0        0        0        0        0        0\n",
      "        0  2392553  2480839  2257047  2273196  2125689  2075482  2195472\n",
      "  2233609  2017581  1942898  1870498  1769373   311883        0        0\n",
      "        0        0        0        0        0        0        0        0\n",
      "        0        0        0        0        0        0        0        0\n",
      "        0        0        0        0        0        0        0        0\n",
      "    25027     5699     6898     7642     2673     4894     4073     4784\n",
      "     2354        4      667    28207    18888    32660    12060    11271\n",
      "    19617    99639   413291   328283   306790   277834   299213   228974\n",
      "   193881    93395        0        0        0        0        0        0\n",
      "        0        0        0        0        0        0        0   115447\n",
      "    53273    44643    47092    45470    22959     9044     6196     5688\n",
      "     3746     3793    29784    17593]\n"
     ]
    }
   ],
   "source": [
    "#View the dependent variable\n",
    "print(y)"
   ]
  },
  {
   "cell_type": "code",
   "execution_count": 13,
   "id": "8ac3d002",
   "metadata": {},
   "outputs": [
    {
     "name": "stdout",
     "output_type": "stream",
     "text": [
      "[[2.0080e+03 1.8858e+04 0.0000e+00 ... 0.0000e+00 0.0000e+00 0.0000e+00]\n",
      " [2.0090e+03 1.2970e+04 0.0000e+00 ... 0.0000e+00 0.0000e+00 0.0000e+00]\n",
      " [2.0100e+03 8.9330e+03 0.0000e+00 ... 0.0000e+00 0.0000e+00 0.0000e+00]\n",
      " ...\n",
      " [2.0180e+03 4.3000e+01 1.0000e+00 ... 0.0000e+00 0.0000e+00 1.0000e+00]\n",
      " [2.0190e+03 1.9700e+02 1.0000e+00 ... 0.0000e+00 0.0000e+00 1.0000e+00]\n",
      " [2.0200e+03 1.5400e+02 1.0000e+00 ... 0.0000e+00 0.0000e+00 1.0000e+00]]\n"
     ]
    }
   ],
   "source": [
    "#View the independent variable\n",
    "print(X)"
   ]
  },
  {
   "cell_type": "code",
   "execution_count": 14,
   "id": "99afd3e0",
   "metadata": {},
   "outputs": [
    {
     "data": {
      "text/plain": [
       "((780, 12), (780,))"
      ]
     },
     "execution_count": 14,
     "metadata": {},
     "output_type": "execute_result"
    }
   ],
   "source": [
    "#View the shape of x and y\n",
    "X.shape, y.shape"
   ]
  },
  {
   "cell_type": "code",
   "execution_count": 15,
   "id": "6a99c32a",
   "metadata": {},
   "outputs": [],
   "source": [
    "#Split the data into features (X) and target variable (y)\n",
    "X_train, X_test, y_train, y_test = train_test_split(X, y, test_size=0.2)"
   ]
  },
  {
   "cell_type": "code",
   "execution_count": 16,
   "id": "d3965fef",
   "metadata": {},
   "outputs": [
    {
     "data": {
      "text/plain": [
       "((624, 12), (156, 12), (624,), (156,))"
      ]
     },
     "execution_count": 16,
     "metadata": {},
     "output_type": "execute_result"
    }
   ],
   "source": [
    "#View the shape of the split data\n",
    "X_train.shape, X_test.shape, y_train.shape, y_test.shape "
   ]
  },
  {
   "cell_type": "markdown",
   "id": "2572adf0",
   "metadata": {},
   "source": [
    "# Linear Regression"
   ]
  },
  {
   "cell_type": "code",
   "execution_count": 17,
   "id": "19ab4bf8",
   "metadata": {},
   "outputs": [
    {
     "name": "stdout",
     "output_type": "stream",
     "text": [
      "-----Training set statistics-----\n",
      "R-squared of the model in training set is: 0.9557723805982009\n",
      "-----Test set statistics-----\n",
      "R-squared of the model in test set is: 0.9509922749993647\n"
     ]
    }
   ],
   "source": [
    "#Import LinearRegression from sklearn library\n",
    "from sklearn.linear_model import LinearRegression\n",
    "\n",
    "#Initialise an object slr by calling a method named as 'LinearRegression()'\n",
    "mlr = LinearRegression()\n",
    "\n",
    "#Fitting the OLS model\n",
    "mlr.fit(X_train, y_train)\n",
    "\n",
    "# Predict the results for the training and testing\n",
    "y_train_pred = mlr.predict(X_train)\n",
    "y_test_pred = mlr.predict(X_test)\n",
    "\n",
    "#Print the R-squared values\n",
    "print(\"-----Training set statistics-----\")\n",
    "print(\"R-squared of the model in training set is: {}\".format(mlr.score(X_train, y_train)))\n",
    "\n",
    "print(\"-----Test set statistics-----\")\n",
    "print(\"R-squared of the model in test set is: {}\".format(mlr.score(X_test, y_test)))"
   ]
  },
  {
   "cell_type": "markdown",
   "id": "bf8edd66",
   "metadata": {},
   "source": [
    "### Coefficients of Independent variables"
   ]
  },
  {
   "cell_type": "code",
   "execution_count": 18,
   "id": "b4568f64",
   "metadata": {},
   "outputs": [
    {
     "name": "stdout",
     "output_type": "stream",
     "text": [
      "[ 6.25373258e+04  1.49393994e+02 -5.41711925e+05 -1.18479993e+06\n",
      " -1.52108034e+06 -2.19799917e+06  5.75386971e+05  3.95133200e+05\n",
      " -1.45415761e+06 -1.58310260e+06  2.38442922e+06 -5.44536408e+05]\n"
     ]
    }
   ],
   "source": [
    "#Print the coefficients of the independent variables\n",
    "print(mlr.coef_)"
   ]
  },
  {
   "cell_type": "markdown",
   "id": "0eb5581c",
   "metadata": {},
   "source": [
    "# Decision Tree Regression"
   ]
  },
  {
   "cell_type": "code",
   "execution_count": 19,
   "id": "4ea9cda0",
   "metadata": {},
   "outputs": [
    {
     "name": "stdout",
     "output_type": "stream",
     "text": [
      "-----Training set statistics-----\n",
      "R-squared of the model in training set is: 0.9406329566122515\n",
      "-----Test set statistics-----\n",
      "R-squared of the model in test set is: 0.9261873045057107\n"
     ]
    }
   ],
   "source": [
    "#Import DecisionTreeRegressor from the sklearn library\n",
    "from sklearn.tree import DecisionTreeRegressor\n",
    "\n",
    "#Initialise an object by calling a method DecisionTreeRegressor()\n",
    "decision_Regressor = DecisionTreeRegressor(max_depth=2, random_state=0)  # You can adjust max_depth as needed\n",
    "\n",
    "#Pass the training set through the decision_Regressor\n",
    "decision_Regressor.fit(X_train, y_train)\n",
    "\n",
    "#Predict the X_test values\n",
    "y_pred_decision=decision_Regressor.predict(X_test)\n",
    "\n",
    "#Print the R-squared values\n",
    "print(\"-----Training set statistics-----\")\n",
    "print(\"R-squared of the model in training set is: {}\".format(decision_Regressor.score(X_train, y_train)))\n",
    "\n",
    "print(\"-----Test set statistics-----\")\n",
    "print(\"R-squared of the model in test set is: {}\".format(decision_Regressor.score(X_test, y_test)))"
   ]
  },
  {
   "cell_type": "code",
   "execution_count": 20,
   "id": "fb6ffb26",
   "metadata": {
    "scrolled": true
   },
   "outputs": [
    {
     "data": {
      "image/png": "[encoded data removed]",
      "text/plain": [
       "<IPython.core.display.Image object>"
      ]
     },
     "execution_count": 20,
     "metadata": {},
     "output_type": "execute_result"
    }
   ],
   "source": [
    "#Visualize the Decision tree regressor\n",
    "from sklearn.tree import DecisionTreeRegressor\n",
    "from sklearn.tree import export_graphviz\n",
    "import pydotplus  # You need to import this library to work with Graphviz\n",
    "from IPython.display import Image\n",
    "from sklearn import tree\n",
    "from io import StringIO\n",
    "\n",
    "#Create a StringIO object to hold the visualization\n",
    "dot_data = StringIO()\n",
    "\n",
    "#Export the Decision Tree as a Graphviz dot file\n",
    "export_graphviz(decision_Regressor, out_file=dot_data, filled=True)\n",
    "\n",
    "#Use pydotplus to create an image from the dot file\n",
    "graph = pydotplus.graph_from_dot_data(dot_data.getvalue())\n",
    "\n",
    "#Create an Image from the graph\n",
    "Image(graph.create_png())"
   ]
  },
  {
   "cell_type": "markdown",
   "id": "511f48e9",
   "metadata": {},
   "source": [
    "# Random Forest Regression"
   ]
  },
  {
   "cell_type": "code",
   "execution_count": 21,
   "id": "a5bf86d5",
   "metadata": {},
   "outputs": [
    {
     "name": "stdout",
     "output_type": "stream",
     "text": [
      "-----Training set statistics-----\n",
      "R-squared of the model in training set is: 0.998740487069524\n",
      "-----Test set statistics-----\n",
      "R-squared of the model in test set is: 0.9893952451641765\n"
     ]
    }
   ],
   "source": [
    "#Import RandomForestRegressor from sklearn\n",
    "from sklearn.ensemble import RandomForestRegressor\n",
    "\n",
    "#Create an object forest by calling a method RandomForestRegressor()\n",
    "forest_Regressor = RandomForestRegressor(n_estimators = 1000,random_state=0)\n",
    "\n",
    "#Train the Model by calling a fit() method\n",
    "forest_Regressor.fit(X_train, y_train)\n",
    "\n",
    "#Predict the Test Set\n",
    "y_pred_random = forest_Regressor.predict(X_test)\n",
    "\n",
    "#Print the R-squared values\n",
    "print(\"-----Training set statistics-----\")\n",
    "print(\"R-squared of the model in training set is: {}\".format(forest_Regressor.score(X_train, y_train)))\n",
    "print(\"-----Test set statistics-----\")\n",
    "print(\"R-squared of the model in test set is: {}\".format(forest_Regressor.score(X_test, y_test)))"
   ]
  },
  {
   "cell_type": "markdown",
   "id": "e5ddef0c",
   "metadata": {},
   "source": [
    "# Ridge Regression"
   ]
  },
  {
   "cell_type": "code",
   "execution_count": 22,
   "id": "911a87d9",
   "metadata": {},
   "outputs": [
    {
     "name": "stdout",
     "output_type": "stream",
     "text": [
      "-----Training set statistics-----\n",
      "Training set score: 0.96\n",
      "-----Test set statistics (ridge)-----\n",
      "R-squared of the model in test set is: 0.9510249589037737\n",
      "-----Training set statistics-----\n",
      "Training set score: 0.96\n",
      "-----Test set statistics (ridge_10)-----\n",
      "R-squared of the model in test set is: 0.950963658745005\n",
      "-----Training set statistics-----\n",
      "Training set score: 0.96\n",
      "-----Test set statistics (ridge_01)-----\n",
      "R-squared of the model in test set is: 0.9509960697997634\n"
     ]
    }
   ],
   "source": [
    "#Import Ridge from sklearn library\n",
    "from sklearn.linear_model import Ridge\n",
    "\n",
    "#Train the Ridge() mode by calling a fit() method\n",
    "ridge = Ridge().fit(X_train, y_train)\n",
    "\n",
    "#Predict the Test Set\n",
    "y_pred_ridge = ridge.predict(X_test)\n",
    "\n",
    "\n",
    "#Display the score by using ridge object\n",
    "print(\"-----Training set statistics-----\")\n",
    "print(\"Training set score: {:.2f}\".format(ridge.score(X_train, y_train)))\n",
    "\n",
    "print(\"-----Test set statistics (ridge)-----\")\n",
    "print(\"R-squared of the model in test set is: {}\".format(ridge.score(X_test, y_test)))\n",
    "\n",
    "#Alpha = 10 is a parameter using a fit() method\n",
    "ridge_10 = Ridge(alpha = 10).fit(X_train, y_train)\n",
    "\n",
    "#Predict the Test Set\n",
    "y_pred_ridge_10 = ridge.predict(X_test)\n",
    "\n",
    "#Print the R-squared values\n",
    "print(\"-----Training set statistics-----\")\n",
    "print(\"Training set score: {:.2f}\".format(ridge_10.score(X_train, y_train)))\n",
    "\n",
    "print(\"-----Test set statistics (ridge_10)-----\")\n",
    "print(\"R-squared of the model in test set is: {}\".format(ridge_10.score(X_test, y_test)))\n",
    "\n",
    "\n",
    "#Alpha = 0.1 is a parameter using a fit() method\n",
    "ridge_01 = Ridge(alpha = 0.1).fit(X_train, y_train)\n",
    "\n",
    "#Predict the Test Set\n",
    "y_pred_ridge_01 = ridge.predict(X_test)\n",
    "\n",
    "#Print the R-squared values\n",
    "print(\"-----Training set statistics-----\")\n",
    "print(\"Training set score: {:.2f}\".format(ridge_01.score(X_train, y_train)))\n",
    "\n",
    "print(\"-----Test set statistics (ridge_01)-----\")\n",
    "print(\"R-squared of the model in test set is: {}\".format(ridge_01.score(X_test, y_test)))"
   ]
  },
  {
   "cell_type": "markdown",
   "id": "5b9445d9",
   "metadata": {},
   "source": [
    "# Using GridSearchCV for parameter optimization in Ridge Regression"
   ]
  },
  {
   "cell_type": "code",
   "execution_count": 23,
   "id": "9947fb7b",
   "metadata": {},
   "outputs": [
    {
     "name": "stdout",
     "output_type": "stream",
     "text": [
      "Fitting 5 folds for each of 3 candidates, totalling 15 fits\n",
      "-----Training set statistics-----\n",
      "R-squared of the model in training set is: 0.9557660482037577\n",
      "-----Test set statistics-----\n",
      "R-squared of the model in test set is: 0.9510249589037737\n"
     ]
    }
   ],
   "source": [
    "#Import GridSearchCV from sklearn library\n",
    "from sklearn.model_selection import GridSearchCV\n",
    "\n",
    "#Using GridSearch for parameter optimization\n",
    "ridgeregr = GridSearchCV(Ridge(),\n",
    "                    param_grid={\n",
    "                        'alpha': [0.01, 0.1, 1]\n",
    "                    }, verbose=1)\n",
    "\n",
    "ridgeregr.fit(X_train, y_train)\n",
    "\n",
    "ridge = ridgeregr.best_estimator_\n",
    "\n",
    "#Making the prediction for the test and training set \n",
    "y_train_pred = ridge.predict(X_train)\n",
    "y_test_pred_ridge = ridge.predict(X_test)\n",
    "\n",
    "#Print the R-squared values\n",
    "print(\"-----Training set statistics-----\")\n",
    "print(\"R-squared of the model in training set is: {}\".format(ridge.score(X_train, y_train)))\n",
    "print(\"-----Test set statistics-----\")\n",
    "print(\"R-squared of the model in test set is: {}\".format(ridge.score(X_test, y_test)))"
   ]
  },
  {
   "cell_type": "markdown",
   "id": "5a5d068d",
   "metadata": {},
   "source": [
    "# Lasso Regression"
   ]
  },
  {
   "cell_type": "code",
   "execution_count": 24,
   "id": "79bba08c",
   "metadata": {},
   "outputs": [
    {
     "name": "stdout",
     "output_type": "stream",
     "text": [
      "Training set score: 0.96\n",
      "Test set score: 0.95\n",
      "Number of features used: 12\n",
      "Training set score: 0.96\n",
      "Test set score: 0.95\n",
      "Number of features used: 12\n",
      "Training set score: 0.96\n",
      "Test set score: 0.95\n",
      "Number of features used: 12\n"
     ]
    }
   ],
   "source": [
    "#Import Lasso from sklearn library\n",
    "from sklearn.linear_model import Lasso\n",
    "lasso = Lasso().fit(X_train, y_train)\n",
    "\n",
    "#prediction the training and test values\n",
    "y_train_pred_lasso = lasso.predict(X_train)\n",
    "y_test_pred_lasso = lasso.predict(X_test)\n",
    "\n",
    "#Print the R-squared values\n",
    "print(\"Training set score: {:.2f}\".format(lasso.score(X_train, y_train)))\n",
    "print(\"Test set score: {:.2f}\".format(lasso.score(X_test, y_test)))\n",
    "print(\"Number of features used: {}\".format(np.sum(lasso.coef_ != 0)))\n",
    "\n",
    "#we increase the default setting of \"max_iter\",\n",
    "# otherwise the model would warn us that we should increase max_iter.\n",
    "lasso001 = Lasso(alpha=0.01).fit(X_train, y_train)\n",
    "\n",
    "#Print the R-squared values\n",
    "print(\"Training set score: {:.2f}\".format(lasso001.score(X_train, y_train)))\n",
    "print(\"Test set score: {:.2f}\".format(lasso001.score(X_test, y_test)))\n",
    "print(\"Number of features used: {}\".format(np.sum(lasso001.coef_ != 0)))\n",
    "\n",
    "#Print the R-squared values\n",
    "lasso00001 = Lasso(alpha=0.0001).fit(X_train, y_train)\n",
    "print(\"Training set score: {:.2f}\".format(lasso00001.score(X_train, y_train)))\n",
    "print(\"Test set score: {:.2f}\".format(lasso00001.score(X_test, y_test)))\n",
    "print(\"Number of features used: {}\".format(np.sum(lasso00001.coef_ != 0)))"
   ]
  },
  {
   "cell_type": "markdown",
   "id": "50837aa9",
   "metadata": {},
   "source": [
    "# Using GridSearch Parameter optimization in Lasso Regression"
   ]
  },
  {
   "cell_type": "code",
   "execution_count": 25,
   "id": "08e3dfbe",
   "metadata": {},
   "outputs": [
    {
     "name": "stdout",
     "output_type": "stream",
     "text": [
      "Fitting 5 folds for each of 3 candidates, totalling 15 fits\n",
      "-----Training set statistics-----\n",
      "R-squared of the model in training set is: 0.9557723805971812\n",
      "-----Test set statistics-----\n",
      "R-squared of the model in test set is: 0.9509923054668111\n"
     ]
    }
   ],
   "source": [
    "#Using GridSearch for parameter optimization\n",
    "lassoregr = GridSearchCV(Lasso(),\n",
    "                    param_grid={\n",
    "                        'alpha': [0.01, 0.0001, 1]\n",
    "                    }, verbose=1)\n",
    "\n",
    "lassoregr.fit(X_train, y_train)\n",
    "\n",
    "lasso = lassoregr.best_estimator_\n",
    "\n",
    "#Make predictions for test and training sets\n",
    "y_preds_train = lasso.predict(X_train)\n",
    "y_preds_test_lasso = lasso.predict(X_test)\n",
    "\n",
    "#Print the R-squared values\n",
    "print(\"-----Training set statistics-----\")\n",
    "print(\"R-squared of the model in training set is: {}\".format(lasso.score(X_train, y_train)))\n",
    "print(\"-----Test set statistics-----\")\n",
    "print(\"R-squared of the model in test set is: {}\".format(lasso.score(X_test, y_test)))"
   ]
  },
  {
   "cell_type": "markdown",
   "id": "7271d735",
   "metadata": {},
   "source": [
    "# ElasticNet Regression"
   ]
  },
  {
   "cell_type": "code",
   "execution_count": 26,
   "id": "325fbced",
   "metadata": {},
   "outputs": [
    {
     "name": "stdout",
     "output_type": "stream",
     "text": [
      "Mean Squared Error on test set 4082762468308.9287\n",
      "[ 6.21661721e+04  1.49171917e+02 -5.39874748e+05 -1.04676538e+06\n",
      " -1.39167789e+06 -2.04871142e+06  6.50745469e+05  3.98630374e+05\n",
      " -1.39523407e+06 -1.51100053e+06  2.33699494e+06 -5.11019341e+05] -124488262.60892825\n",
      "-----Training set statistics-----\n",
      "R-squared of the model in training set is: 0.9557170737158059\n",
      "-----Test set statistics-----\n",
      "R-squared of the model in test set is: 0.9510606468577267\n"
     ]
    }
   ],
   "source": [
    "#Import ElasticNet from sklearn library\n",
    "from sklearn.linear_model import ElasticNet\n",
    "\n",
    "#Train the model\n",
    "e_net = ElasticNet(alpha = 0.01)\n",
    "\n",
    "#Fit the e_net model\n",
    "e_net.fit(X_train, y_train)\n",
    "\n",
    "#Calculate the prediction and mean square error\n",
    "y_pred_elastic = e_net.predict(X_test)\n",
    "mean_squared_error = np.mean((y_pred_elastic - y_test)**2)\n",
    "\n",
    "#Print the mean square error, the coefficients and the intercept\n",
    "print(\"Mean Squared Error on test set\", mean_squared_error)\n",
    "print(e_net.coef_, e_net.intercept_)\n",
    "\n",
    "#Print the R-squared values\n",
    "print(\"-----Training set statistics-----\")\n",
    "print(\"R-squared of the model in training set is: {}\".format(e_net.score(X_train, y_train)))\n",
    "print(\"-----Test set statistics-----\")\n",
    "print(\"R-squared of the model in test set is: {}\".format(e_net.score(X_test, y_test)))"
   ]
  },
  {
   "cell_type": "markdown",
   "id": "d1439681",
   "metadata": {},
   "source": [
    "# Support Vector Machine Regression"
   ]
  },
  {
   "cell_type": "code",
   "execution_count": 27,
   "id": "825ac68b",
   "metadata": {},
   "outputs": [
    {
     "name": "stdout",
     "output_type": "stream",
     "text": [
      "Training set score: -0.15\n",
      "Test set score: -0.14\n"
     ]
    }
   ],
   "source": [
    "#Import SVR from sklearn library\n",
    "from sklearn.svm import SVR\n",
    "svr= SVR()\n",
    "\n",
    "#fit the svr \n",
    "svr.fit(X_train, y_train)\n",
    "\n",
    "#Print the R-squared values\n",
    "print(\"Training set score: {:.2f}\".format(svr.score(X_train, y_train)))\n",
    "print(\"Test set score: {:.2f}\".format(svr.score(X_test, y_test)))"
   ]
  },
  {
   "cell_type": "markdown",
   "id": "b08c83b3",
   "metadata": {},
   "source": [
    "# Support Vector Machine Regression using GridSearchCV"
   ]
  },
  {
   "cell_type": "code",
   "execution_count": 28,
   "id": "92c2ef6c",
   "metadata": {
    "scrolled": false
   },
   "outputs": [
    {
     "name": "stdout",
     "output_type": "stream",
     "text": [
      "Fitting 5 folds for each of 36 candidates, totalling 180 fits\n",
      "[CV 1/5] END ...C=0.01, gamma=0.01, kernel=rbf;, score=-0.171 total time=   0.0s\n",
      "[CV 2/5] END ...C=0.01, gamma=0.01, kernel=rbf;, score=-0.123 total time=   0.0s\n",
      "[CV 3/5] END ...C=0.01, gamma=0.01, kernel=rbf;, score=-0.115 total time=   0.0s\n",
      "[CV 4/5] END ...C=0.01, gamma=0.01, kernel=rbf;, score=-0.162 total time=   0.0s\n",
      "[CV 5/5] END ...C=0.01, gamma=0.01, kernel=rbf;, score=-0.173 total time=   0.0s\n",
      "[CV 1/5] END ....C=0.01, gamma=0.1, kernel=rbf;, score=-0.171 total time=   0.0s\n",
      "[CV 2/5] END ....C=0.01, gamma=0.1, kernel=rbf;, score=-0.123 total time=   0.0s\n",
      "[CV 3/5] END ....C=0.01, gamma=0.1, kernel=rbf;, score=-0.115 total time=   0.0s\n",
      "[CV 4/5] END ....C=0.01, gamma=0.1, kernel=rbf;, score=-0.162 total time=   0.0s\n",
      "[CV 5/5] END ....C=0.01, gamma=0.1, kernel=rbf;, score=-0.173 total time=   0.0s\n",
      "[CV 1/5] END ...C=0.01, gamma=0.01, kernel=rbf;, score=-0.171 total time=   0.0s\n",
      "[CV 2/5] END ...C=0.01, gamma=0.01, kernel=rbf;, score=-0.123 total time=   0.0s\n",
      "[CV 3/5] END ...C=0.01, gamma=0.01, kernel=rbf;, score=-0.115 total time=   0.0s\n",
      "[CV 4/5] END ...C=0.01, gamma=0.01, kernel=rbf;, score=-0.162 total time=   0.0s\n",
      "[CV 5/5] END ...C=0.01, gamma=0.01, kernel=rbf;, score=-0.173 total time=   0.0s\n",
      "[CV 1/5] END ..C=0.01, gamma=0.001, kernel=rbf;, score=-0.171 total time=   0.0s\n",
      "[CV 2/5] END ..C=0.01, gamma=0.001, kernel=rbf;, score=-0.123 total time=   0.0s\n",
      "[CV 3/5] END ..C=0.01, gamma=0.001, kernel=rbf;, score=-0.115 total time=   0.0s\n",
      "[CV 4/5] END ..C=0.01, gamma=0.001, kernel=rbf;, score=-0.162 total time=   0.0s\n",
      "[CV 5/5] END ..C=0.01, gamma=0.001, kernel=rbf;, score=-0.173 total time=   0.0s\n",
      "[CV 1/5] END ..C=0.01, gamma=0.001, kernel=rbf;, score=-0.171 total time=   0.0s\n",
      "[CV 2/5] END ..C=0.01, gamma=0.001, kernel=rbf;, score=-0.123 total time=   0.0s\n",
      "[CV 3/5] END ..C=0.01, gamma=0.001, kernel=rbf;, score=-0.115 total time=   0.0s\n",
      "[CV 4/5] END ..C=0.01, gamma=0.001, kernel=rbf;, score=-0.162 total time=   0.0s\n",
      "[CV 5/5] END ..C=0.01, gamma=0.001, kernel=rbf;, score=-0.173 total time=   0.0s\n",
      "[CV 1/5] END ......C=0.01, gamma=1, kernel=rbf;, score=-0.171 total time=   0.0s\n",
      "[CV 2/5] END ......C=0.01, gamma=1, kernel=rbf;, score=-0.123 total time=   0.0s\n",
      "[CV 3/5] END ......C=0.01, gamma=1, kernel=rbf;, score=-0.115 total time=   0.0s\n",
      "[CV 4/5] END ......C=0.01, gamma=1, kernel=rbf;, score=-0.162 total time=   0.0s\n",
      "[CV 5/5] END ......C=0.01, gamma=1, kernel=rbf;, score=-0.173 total time=   0.0s\n",
      "[CV 1/5] END ......C=1, gamma=0.01, kernel=rbf;, score=-0.171 total time=   0.0s\n",
      "[CV 2/5] END ......C=1, gamma=0.01, kernel=rbf;, score=-0.123 total time=   0.0s\n",
      "[CV 3/5] END ......C=1, gamma=0.01, kernel=rbf;, score=-0.115 total time=   0.0s\n",
      "[CV 4/5] END ......C=1, gamma=0.01, kernel=rbf;, score=-0.162 total time=   0.0s\n",
      "[CV 5/5] END ......C=1, gamma=0.01, kernel=rbf;, score=-0.173 total time=   0.0s\n",
      "[CV 1/5] END .......C=1, gamma=0.1, kernel=rbf;, score=-0.171 total time=   0.0s\n",
      "[CV 2/5] END .......C=1, gamma=0.1, kernel=rbf;, score=-0.123 total time=   0.0s\n",
      "[CV 3/5] END .......C=1, gamma=0.1, kernel=rbf;, score=-0.115 total time=   0.0s\n",
      "[CV 4/5] END .......C=1, gamma=0.1, kernel=rbf;, score=-0.162 total time=   0.0s\n",
      "[CV 5/5] END .......C=1, gamma=0.1, kernel=rbf;, score=-0.173 total time=   0.0s\n",
      "[CV 1/5] END ......C=1, gamma=0.01, kernel=rbf;, score=-0.171 total time=   0.0s\n",
      "[CV 2/5] END ......C=1, gamma=0.01, kernel=rbf;, score=-0.123 total time=   0.0s\n",
      "[CV 3/5] END ......C=1, gamma=0.01, kernel=rbf;, score=-0.115 total time=   0.0s\n",
      "[CV 4/5] END ......C=1, gamma=0.01, kernel=rbf;, score=-0.162 total time=   0.0s\n",
      "[CV 5/5] END ......C=1, gamma=0.01, kernel=rbf;, score=-0.173 total time=   0.0s\n",
      "[CV 1/5] END .....C=1, gamma=0.001, kernel=rbf;, score=-0.171 total time=   0.0s\n",
      "[CV 2/5] END .....C=1, gamma=0.001, kernel=rbf;, score=-0.123 total time=   0.0s\n",
      "[CV 3/5] END .....C=1, gamma=0.001, kernel=rbf;, score=-0.115 total time=   0.0s\n",
      "[CV 4/5] END .....C=1, gamma=0.001, kernel=rbf;, score=-0.162 total time=   0.0s\n",
      "[CV 5/5] END .....C=1, gamma=0.001, kernel=rbf;, score=-0.173 total time=   0.0s\n",
      "[CV 1/5] END .....C=1, gamma=0.001, kernel=rbf;, score=-0.171 total time=   0.0s\n",
      "[CV 2/5] END .....C=1, gamma=0.001, kernel=rbf;, score=-0.123 total time=   0.0s\n",
      "[CV 3/5] END .....C=1, gamma=0.001, kernel=rbf;, score=-0.115 total time=   0.0s\n",
      "[CV 4/5] END .....C=1, gamma=0.001, kernel=rbf;, score=-0.162 total time=   0.0s\n",
      "[CV 5/5] END .....C=1, gamma=0.001, kernel=rbf;, score=-0.173 total time=   0.0s\n",
      "[CV 1/5] END .........C=1, gamma=1, kernel=rbf;, score=-0.171 total time=   0.0s\n",
      "[CV 2/5] END .........C=1, gamma=1, kernel=rbf;, score=-0.123 total time=   0.0s\n",
      "[CV 3/5] END .........C=1, gamma=1, kernel=rbf;, score=-0.115 total time=   0.0s\n",
      "[CV 4/5] END .........C=1, gamma=1, kernel=rbf;, score=-0.162 total time=   0.0s\n",
      "[CV 5/5] END .........C=1, gamma=1, kernel=rbf;, score=-0.173 total time=   0.0s\n",
      "[CV 1/5] END ....C=0.1, gamma=0.01, kernel=rbf;, score=-0.171 total time=   0.0s\n",
      "[CV 2/5] END ....C=0.1, gamma=0.01, kernel=rbf;, score=-0.123 total time=   0.0s\n",
      "[CV 3/5] END ....C=0.1, gamma=0.01, kernel=rbf;, score=-0.115 total time=   0.0s\n",
      "[CV 4/5] END ....C=0.1, gamma=0.01, kernel=rbf;, score=-0.162 total time=   0.0s\n",
      "[CV 5/5] END ....C=0.1, gamma=0.01, kernel=rbf;, score=-0.173 total time=   0.0s\n",
      "[CV 1/5] END .....C=0.1, gamma=0.1, kernel=rbf;, score=-0.171 total time=   0.0s\n",
      "[CV 2/5] END .....C=0.1, gamma=0.1, kernel=rbf;, score=-0.123 total time=   0.0s\n",
      "[CV 3/5] END .....C=0.1, gamma=0.1, kernel=rbf;, score=-0.115 total time=   0.0s\n",
      "[CV 4/5] END .....C=0.1, gamma=0.1, kernel=rbf;, score=-0.162 total time=   0.0s\n",
      "[CV 5/5] END .....C=0.1, gamma=0.1, kernel=rbf;, score=-0.173 total time=   0.0s\n",
      "[CV 1/5] END ....C=0.1, gamma=0.01, kernel=rbf;, score=-0.171 total time=   0.0s\n",
      "[CV 2/5] END ....C=0.1, gamma=0.01, kernel=rbf;, score=-0.123 total time=   0.0s\n",
      "[CV 3/5] END ....C=0.1, gamma=0.01, kernel=rbf;, score=-0.115 total time=   0.0s\n",
      "[CV 4/5] END ....C=0.1, gamma=0.01, kernel=rbf;, score=-0.162 total time=   0.0s\n",
      "[CV 5/5] END ....C=0.1, gamma=0.01, kernel=rbf;, score=-0.173 total time=   0.0s\n",
      "[CV 1/5] END ...C=0.1, gamma=0.001, kernel=rbf;, score=-0.171 total time=   0.0s\n",
      "[CV 2/5] END ...C=0.1, gamma=0.001, kernel=rbf;, score=-0.123 total time=   0.0s\n",
      "[CV 3/5] END ...C=0.1, gamma=0.001, kernel=rbf;, score=-0.115 total time=   0.0s\n",
      "[CV 4/5] END ...C=0.1, gamma=0.001, kernel=rbf;, score=-0.162 total time=   0.0s\n",
      "[CV 5/5] END ...C=0.1, gamma=0.001, kernel=rbf;, score=-0.173 total time=   0.0s\n",
      "[CV 1/5] END ...C=0.1, gamma=0.001, kernel=rbf;, score=-0.171 total time=   0.0s\n",
      "[CV 2/5] END ...C=0.1, gamma=0.001, kernel=rbf;, score=-0.123 total time=   0.0s\n",
      "[CV 3/5] END ...C=0.1, gamma=0.001, kernel=rbf;, score=-0.115 total time=   0.0s\n",
      "[CV 4/5] END ...C=0.1, gamma=0.001, kernel=rbf;, score=-0.162 total time=   0.0s\n",
      "[CV 5/5] END ...C=0.1, gamma=0.001, kernel=rbf;, score=-0.173 total time=   0.0s\n",
      "[CV 1/5] END .......C=0.1, gamma=1, kernel=rbf;, score=-0.171 total time=   0.0s\n",
      "[CV 2/5] END .......C=0.1, gamma=1, kernel=rbf;, score=-0.123 total time=   0.0s\n",
      "[CV 3/5] END .......C=0.1, gamma=1, kernel=rbf;, score=-0.115 total time=   0.0s\n",
      "[CV 4/5] END .......C=0.1, gamma=1, kernel=rbf;, score=-0.162 total time=   0.0s\n",
      "[CV 5/5] END .......C=0.1, gamma=1, kernel=rbf;, score=-0.173 total time=   0.0s\n",
      "[CV 1/5] END .....C=10, gamma=0.01, kernel=rbf;, score=-0.171 total time=   0.0s\n",
      "[CV 2/5] END .....C=10, gamma=0.01, kernel=rbf;, score=-0.123 total time=   0.0s\n",
      "[CV 3/5] END .....C=10, gamma=0.01, kernel=rbf;, score=-0.115 total time=   0.0s\n",
      "[CV 4/5] END .....C=10, gamma=0.01, kernel=rbf;, score=-0.162 total time=   0.0s\n",
      "[CV 5/5] END .....C=10, gamma=0.01, kernel=rbf;, score=-0.173 total time=   0.0s\n",
      "[CV 1/5] END ......C=10, gamma=0.1, kernel=rbf;, score=-0.171 total time=   0.0s\n",
      "[CV 2/5] END ......C=10, gamma=0.1, kernel=rbf;, score=-0.123 total time=   0.0s\n",
      "[CV 3/5] END ......C=10, gamma=0.1, kernel=rbf;, score=-0.115 total time=   0.0s\n",
      "[CV 4/5] END ......C=10, gamma=0.1, kernel=rbf;, score=-0.162 total time=   0.0s\n",
      "[CV 5/5] END ......C=10, gamma=0.1, kernel=rbf;, score=-0.173 total time=   0.0s\n",
      "[CV 1/5] END .....C=10, gamma=0.01, kernel=rbf;, score=-0.171 total time=   0.0s\n"
     ]
    },
    {
     "name": "stdout",
     "output_type": "stream",
     "text": [
      "[CV 2/5] END .....C=10, gamma=0.01, kernel=rbf;, score=-0.123 total time=   0.0s\n",
      "[CV 3/5] END .....C=10, gamma=0.01, kernel=rbf;, score=-0.115 total time=   0.0s\n",
      "[CV 4/5] END .....C=10, gamma=0.01, kernel=rbf;, score=-0.162 total time=   0.0s\n",
      "[CV 5/5] END .....C=10, gamma=0.01, kernel=rbf;, score=-0.173 total time=   0.0s\n",
      "[CV 1/5] END ....C=10, gamma=0.001, kernel=rbf;, score=-0.171 total time=   0.0s\n",
      "[CV 2/5] END ....C=10, gamma=0.001, kernel=rbf;, score=-0.123 total time=   0.0s\n",
      "[CV 3/5] END ....C=10, gamma=0.001, kernel=rbf;, score=-0.115 total time=   0.0s\n",
      "[CV 4/5] END ....C=10, gamma=0.001, kernel=rbf;, score=-0.162 total time=   0.0s\n",
      "[CV 5/5] END ....C=10, gamma=0.001, kernel=rbf;, score=-0.173 total time=   0.0s\n",
      "[CV 1/5] END ....C=10, gamma=0.001, kernel=rbf;, score=-0.171 total time=   0.0s\n",
      "[CV 2/5] END ....C=10, gamma=0.001, kernel=rbf;, score=-0.123 total time=   0.0s\n",
      "[CV 3/5] END ....C=10, gamma=0.001, kernel=rbf;, score=-0.115 total time=   0.0s\n",
      "[CV 4/5] END ....C=10, gamma=0.001, kernel=rbf;, score=-0.162 total time=   0.0s\n",
      "[CV 5/5] END ....C=10, gamma=0.001, kernel=rbf;, score=-0.173 total time=   0.0s\n",
      "[CV 1/5] END ........C=10, gamma=1, kernel=rbf;, score=-0.171 total time=   0.0s\n",
      "[CV 2/5] END ........C=10, gamma=1, kernel=rbf;, score=-0.123 total time=   0.0s\n",
      "[CV 3/5] END ........C=10, gamma=1, kernel=rbf;, score=-0.115 total time=   0.0s\n",
      "[CV 4/5] END ........C=10, gamma=1, kernel=rbf;, score=-0.162 total time=   0.0s\n",
      "[CV 5/5] END ........C=10, gamma=1, kernel=rbf;, score=-0.173 total time=   0.0s\n",
      "[CV 1/5] END ....C=100, gamma=0.01, kernel=rbf;, score=-0.171 total time=   0.0s\n",
      "[CV 2/5] END ....C=100, gamma=0.01, kernel=rbf;, score=-0.123 total time=   0.0s\n",
      "[CV 3/5] END ....C=100, gamma=0.01, kernel=rbf;, score=-0.115 total time=   0.0s\n",
      "[CV 4/5] END ....C=100, gamma=0.01, kernel=rbf;, score=-0.162 total time=   0.0s\n",
      "[CV 5/5] END ....C=100, gamma=0.01, kernel=rbf;, score=-0.173 total time=   0.0s\n",
      "[CV 1/5] END .....C=100, gamma=0.1, kernel=rbf;, score=-0.171 total time=   0.0s\n",
      "[CV 2/5] END .....C=100, gamma=0.1, kernel=rbf;, score=-0.123 total time=   0.0s\n",
      "[CV 3/5] END .....C=100, gamma=0.1, kernel=rbf;, score=-0.115 total time=   0.0s\n",
      "[CV 4/5] END .....C=100, gamma=0.1, kernel=rbf;, score=-0.162 total time=   0.0s\n",
      "[CV 5/5] END .....C=100, gamma=0.1, kernel=rbf;, score=-0.173 total time=   0.0s\n",
      "[CV 1/5] END ....C=100, gamma=0.01, kernel=rbf;, score=-0.171 total time=   0.0s\n",
      "[CV 2/5] END ....C=100, gamma=0.01, kernel=rbf;, score=-0.123 total time=   0.0s\n",
      "[CV 3/5] END ....C=100, gamma=0.01, kernel=rbf;, score=-0.115 total time=   0.0s\n",
      "[CV 4/5] END ....C=100, gamma=0.01, kernel=rbf;, score=-0.162 total time=   0.0s\n",
      "[CV 5/5] END ....C=100, gamma=0.01, kernel=rbf;, score=-0.173 total time=   0.0s\n",
      "[CV 1/5] END ...C=100, gamma=0.001, kernel=rbf;, score=-0.171 total time=   0.0s\n",
      "[CV 2/5] END ...C=100, gamma=0.001, kernel=rbf;, score=-0.123 total time=   0.0s\n",
      "[CV 3/5] END ...C=100, gamma=0.001, kernel=rbf;, score=-0.115 total time=   0.0s\n",
      "[CV 4/5] END ...C=100, gamma=0.001, kernel=rbf;, score=-0.162 total time=   0.0s\n",
      "[CV 5/5] END ...C=100, gamma=0.001, kernel=rbf;, score=-0.173 total time=   0.0s\n",
      "[CV 1/5] END ...C=100, gamma=0.001, kernel=rbf;, score=-0.171 total time=   0.0s\n",
      "[CV 2/5] END ...C=100, gamma=0.001, kernel=rbf;, score=-0.123 total time=   0.0s\n",
      "[CV 3/5] END ...C=100, gamma=0.001, kernel=rbf;, score=-0.115 total time=   0.0s\n",
      "[CV 4/5] END ...C=100, gamma=0.001, kernel=rbf;, score=-0.162 total time=   0.0s\n",
      "[CV 5/5] END ...C=100, gamma=0.001, kernel=rbf;, score=-0.173 total time=   0.0s\n",
      "[CV 1/5] END .......C=100, gamma=1, kernel=rbf;, score=-0.171 total time=   0.0s\n",
      "[CV 2/5] END .......C=100, gamma=1, kernel=rbf;, score=-0.123 total time=   0.0s\n",
      "[CV 3/5] END .......C=100, gamma=1, kernel=rbf;, score=-0.115 total time=   0.0s\n",
      "[CV 4/5] END .......C=100, gamma=1, kernel=rbf;, score=-0.162 total time=   0.0s\n",
      "[CV 5/5] END .......C=100, gamma=1, kernel=rbf;, score=-0.173 total time=   0.0s\n",
      "[CV 1/5] END ...C=1000, gamma=0.01, kernel=rbf;, score=-0.171 total time=   0.0s\n",
      "[CV 2/5] END ...C=1000, gamma=0.01, kernel=rbf;, score=-0.123 total time=   0.0s\n",
      "[CV 3/5] END ...C=1000, gamma=0.01, kernel=rbf;, score=-0.115 total time=   0.0s\n",
      "[CV 4/5] END ...C=1000, gamma=0.01, kernel=rbf;, score=-0.159 total time=   0.0s\n",
      "[CV 5/5] END ...C=1000, gamma=0.01, kernel=rbf;, score=-0.173 total time=   0.0s\n",
      "[CV 1/5] END ....C=1000, gamma=0.1, kernel=rbf;, score=-0.171 total time=   0.0s\n",
      "[CV 2/5] END ....C=1000, gamma=0.1, kernel=rbf;, score=-0.123 total time=   0.0s\n",
      "[CV 3/5] END ....C=1000, gamma=0.1, kernel=rbf;, score=-0.115 total time=   0.0s\n",
      "[CV 4/5] END ....C=1000, gamma=0.1, kernel=rbf;, score=-0.162 total time=   0.0s\n",
      "[CV 5/5] END ....C=1000, gamma=0.1, kernel=rbf;, score=-0.173 total time=   0.0s\n",
      "[CV 1/5] END ...C=1000, gamma=0.01, kernel=rbf;, score=-0.171 total time=   0.0s\n",
      "[CV 2/5] END ...C=1000, gamma=0.01, kernel=rbf;, score=-0.123 total time=   0.0s\n",
      "[CV 3/5] END ...C=1000, gamma=0.01, kernel=rbf;, score=-0.115 total time=   0.0s\n",
      "[CV 4/5] END ...C=1000, gamma=0.01, kernel=rbf;, score=-0.159 total time=   0.0s\n",
      "[CV 5/5] END ...C=1000, gamma=0.01, kernel=rbf;, score=-0.173 total time=   0.0s\n",
      "[CV 1/5] END ..C=1000, gamma=0.001, kernel=rbf;, score=-0.169 total time=   0.0s\n",
      "[CV 2/5] END ..C=1000, gamma=0.001, kernel=rbf;, score=-0.121 total time=   0.0s\n",
      "[CV 3/5] END ..C=1000, gamma=0.001, kernel=rbf;, score=-0.114 total time=   0.0s\n",
      "[CV 4/5] END ..C=1000, gamma=0.001, kernel=rbf;, score=-0.156 total time=   0.0s\n",
      "[CV 5/5] END ..C=1000, gamma=0.001, kernel=rbf;, score=-0.172 total time=   0.0s\n",
      "[CV 1/5] END ..C=1000, gamma=0.001, kernel=rbf;, score=-0.169 total time=   0.0s\n",
      "[CV 2/5] END ..C=1000, gamma=0.001, kernel=rbf;, score=-0.121 total time=   0.0s\n",
      "[CV 3/5] END ..C=1000, gamma=0.001, kernel=rbf;, score=-0.114 total time=   0.0s\n",
      "[CV 4/5] END ..C=1000, gamma=0.001, kernel=rbf;, score=-0.156 total time=   0.0s\n",
      "[CV 5/5] END ..C=1000, gamma=0.001, kernel=rbf;, score=-0.172 total time=   0.0s\n",
      "[CV 1/5] END ......C=1000, gamma=1, kernel=rbf;, score=-0.171 total time=   0.0s\n",
      "[CV 2/5] END ......C=1000, gamma=1, kernel=rbf;, score=-0.123 total time=   0.0s\n",
      "[CV 3/5] END ......C=1000, gamma=1, kernel=rbf;, score=-0.115 total time=   0.0s\n",
      "[CV 4/5] END ......C=1000, gamma=1, kernel=rbf;, score=-0.162 total time=   0.0s\n",
      "[CV 5/5] END ......C=1000, gamma=1, kernel=rbf;, score=-0.173 total time=   0.0s\n",
      "-----Training set statistics-----\n",
      "R-squared of the model in training set is: -0.14119744074864493\n",
      "-----Test set statistics-----\n",
      "R-squared of the model in test set is: -0.13652855470252412\n"
     ]
    }
   ],
   "source": [
    "#Find best hyper parameters\n",
    "from sklearn.model_selection import GridSearchCV\n",
    "param_grid = {'C':[0.01,1,0.1,10,100,1000],'gamma':[0.01,0.1,0.01,0.001,0.001, 1], 'kernel':['rbf']}\n",
    "grid = GridSearchCV(SVR(),param_grid,verbose = 4)\n",
    "grid.fit(X_train,y_train)\n",
    "grid.best_params_\n",
    "grid.best_estimator_\n",
    "grid_predictions = grid.predict(X_test)\n",
    "\n",
    "#Print the R-squared values\n",
    "print(\"-----Training set statistics-----\")\n",
    "print(\"R-squared of the model in training set is: {}\".format(grid.score(X_train, y_train)))\n",
    "print(\"-----Test set statistics-----\")\n",
    "print(\"R-squared of the model in test set is: {}\".format(grid.score(X_test, y_test)))"
   ]
  },
  {
   "cell_type": "markdown",
   "id": "6bb4787d",
   "metadata": {},
   "source": [
    "# K-Nearest Neighbors Regression"
   ]
  },
  {
   "cell_type": "code",
   "execution_count": 29,
   "id": "56615570",
   "metadata": {},
   "outputs": [
    {
     "name": "stdout",
     "output_type": "stream",
     "text": [
      "-----Training set statistics-----\n",
      "R-squared of the model in training set is: 0.9671684023019903\n",
      "-----Test set statistics-----\n",
      "R-squared of the model in test set is: 0.9505214439061268\n"
     ]
    }
   ],
   "source": [
    "#Import KNeighborsRegressor from sklearn library\n",
    "from sklearn.neighbors import KNeighborsRegressor\n",
    "knn_Regressor = KNeighborsRegressor(algorithm='auto', leaf_size=30,metric='minkowski',\n",
    "                                   metric_params=None, n_jobs=1, n_neighbors=5)\n",
    "knn_Regressor.fit(X_train, y_train)\n",
    "\n",
    "#Print the R-squared values\n",
    "print(\"-----Training set statistics-----\")\n",
    "print(\"R-squared of the model in training set is: {}\".format(knn_Regressor.score(X_train, y_train)))\n",
    "print(\"-----Test set statistics-----\")\n",
    "print(\"R-squared of the model in test set is: {}\".format(knn_Regressor.score(X_test, y_test)))"
   ]
  },
  {
   "cell_type": "markdown",
   "id": "6c6794ae",
   "metadata": {},
   "source": [
    "# Fitting Data with Normalization"
   ]
  },
  {
   "cell_type": "code",
   "execution_count": 30,
   "id": "5aa589fe",
   "metadata": {},
   "outputs": [
    {
     "name": "stdout",
     "output_type": "stream",
     "text": [
      "<class 'pandas.core.frame.DataFrame'>\n",
      "RangeIndex: 780 entries, 0 to 779\n",
      "Data columns (total 13 columns):\n",
      " #   Column                Non-Null Count  Dtype  \n",
      "---  ------                --------------  -----  \n",
      " 0   TIME_PERIOD           780 non-null    int64  \n",
      " 1   Number of Passengers  780 non-null    int64  \n",
      " 2   Number of Flights     780 non-null    int64  \n",
      " 3   tra_cov_NAT           780 non-null    float64\n",
      " 4   aircraft_AC_NJ        780 non-null    float64\n",
      " 5   aircraft_AC_RJ        780 non-null    float64\n",
      " 6   aircraft_AC_RT        780 non-null    float64\n",
      " 7   aircraft_AC_WJ        780 non-null    float64\n",
      " 8   distance_KM1500-1999  780 non-null    float64\n",
      " 9   distance_KM300-499    780 non-null    float64\n",
      " 10  distance_KM500-999    780 non-null    float64\n",
      " 11  distance_KM_GE2000    780 non-null    float64\n",
      " 12  distance_KM_LT300     780 non-null    float64\n",
      "dtypes: float64(10), int64(3)\n",
      "memory usage: 79.3 KB\n"
     ]
    }
   ],
   "source": [
    "#View the Data\n",
    "result_df.info()"
   ]
  },
  {
   "cell_type": "markdown",
   "id": "bb74db3b",
   "metadata": {},
   "source": [
    "Normalize the X variable Number of Flights"
   ]
  },
  {
   "cell_type": "code",
   "execution_count": 31,
   "id": "4e8ba87a",
   "metadata": {},
   "outputs": [],
   "source": [
    "from sklearn.preprocessing import MinMaxScaler\n",
    "\n",
    "#Create the minmaxscaler object\n",
    "scaler = MinMaxScaler()\n",
    "result_df['Number of Flights Scaled'] = scaler.fit_transform(result_df[['Number of Flights']])"
   ]
  },
  {
   "cell_type": "code",
   "execution_count": 32,
   "id": "a9cb8a9c",
   "metadata": {},
   "outputs": [
    {
     "name": "stdout",
     "output_type": "stream",
     "text": [
      "<class 'pandas.core.frame.DataFrame'>\n",
      "RangeIndex: 780 entries, 0 to 779\n",
      "Data columns (total 14 columns):\n",
      " #   Column                    Non-Null Count  Dtype  \n",
      "---  ------                    --------------  -----  \n",
      " 0   TIME_PERIOD               780 non-null    int64  \n",
      " 1   Number of Passengers      780 non-null    int64  \n",
      " 2   Number of Flights         780 non-null    int64  \n",
      " 3   tra_cov_NAT               780 non-null    float64\n",
      " 4   aircraft_AC_NJ            780 non-null    float64\n",
      " 5   aircraft_AC_RJ            780 non-null    float64\n",
      " 6   aircraft_AC_RT            780 non-null    float64\n",
      " 7   aircraft_AC_WJ            780 non-null    float64\n",
      " 8   distance_KM1500-1999      780 non-null    float64\n",
      " 9   distance_KM300-499        780 non-null    float64\n",
      " 10  distance_KM500-999        780 non-null    float64\n",
      " 11  distance_KM_GE2000        780 non-null    float64\n",
      " 12  distance_KM_LT300         780 non-null    float64\n",
      " 13  Number of Flights Scaled  780 non-null    float64\n",
      "dtypes: float64(11), int64(3)\n",
      "memory usage: 85.4 KB\n"
     ]
    }
   ],
   "source": [
    "#View Result_df\n",
    "result_df.info()"
   ]
  },
  {
   "cell_type": "code",
   "execution_count": 33,
   "id": "54d6b6b4",
   "metadata": {},
   "outputs": [],
   "source": [
    "#Create dependent and independent variables from normalized data\n",
    "y_minmax = result_df.iloc[:, 1].values\n",
    "X_minmax = result_df.drop(['Number of Passengers','Number of Flights'], axis=1).values"
   ]
  },
  {
   "cell_type": "code",
   "execution_count": 34,
   "id": "40a10183",
   "metadata": {},
   "outputs": [
    {
     "name": "stdout",
     "output_type": "stream",
     "text": [
      "[ 3083938  2049461  1582968  1198971   976359   872069   896281   675558\n",
      "   610891   674159   592230   502257    75403  3401491  2731438  2181633\n",
      "  2347447  2094227  1845145  1684169  1522954  1493345  1614520  1505972\n",
      "  1242450   107071    20427    22661    47151     6404     3481     2263\n",
      "     3435     2068     1179     1581     1103      698        0   401476\n",
      "   237169   209999   227353   199899   205520   176399   117108   120240\n",
      "   120736   111786    77976    35783 10226737  9527345 10581329 11292004\n",
      " 11086880 10992964 11239633 11950248 12934729 14395703 13428009 12342174\n",
      "  2432245      471       33      479     1221      451      165        0\n",
      "       96        0      206      125      164       71 32200279 29857328\n",
      " 28392481 30829365 32210918 33791476 35605242 39205080 43445039 45886998\n",
      " 47028326 47953492 10434038 21292751 19434402 18792907 20182487 20492881\n",
      " 22394942 23940336 25568728 29502780 33285983 33455502 34539131  7310203\n",
      " 15120156 13355816 11842267 12446807 12304082 12836467 13602910 15125521\n",
      " 15856019 16456586 16741588 16945304  4071568 25050995 24493369 24357033\n",
      " 25854643 26551735 27223883 28252407 30576458 31980390 33140348 33961569\n",
      " 34010677  8178071 31626726 29814810 29375806 30477910 30504505 32935800\n",
      " 36993374 40793939 44603629 50283184 55090028 57817776 14169082  1457625\n",
      "  1242703  1032275  1003085  1100636  1137057  1308239  1663013  1922315\n",
      "  1812671  1883073  1930826   453747  1169029  1023602   797974   974583\n",
      "  1088895  1141811  1161820   987606  1189379  1430029  1254783  1218623\n",
      "   185480   225393   191418   276283   309471   375875   428761   454995\n",
      "   420309   498431   690404   717299   576446    69532  1729957  1738813\n",
      "  1633530  1638230  1546894  1494647  1785717  2113866  2560374  2635059\n",
      "  2625103  2737680   494777  3817469  3027394  2948845  3410999  3478301\n",
      "  3474944  3579245  3066997  3396861  3132235  2888369  2892782   622237\n",
      "    20633    20603    35102    24869    20942    49008    32930    57741\n",
      "    64284    73330    64384    77806    18949   114131    99166   124005\n",
      "   127781   125245   170202   152101   144727   147608   135806    80619\n",
      "    79815     7771    29905    44181    50383    38230    37286    39793\n",
      "    61454    53565    70553    53059    67161    45857     2464     4050\n",
      "     1831      399      589     1215      166     1139     3170     1453\n",
      "      217     1775     4368       58  1721343  1472397  1621423  1829281\n",
      "  1926882  2060805  2158121  1785990  1709537  1834673  1848552  1816690\n",
      "   298139   868239  1104740  1180088  1099551   827881   807181   695548\n",
      "   532188   729784   890552  1006572   743728   103998      103      218\n",
      "        9     2864     2135        2      234    80263    31593       52\n",
      "      400        0       34    78834    90729   145592   177291   171083\n",
      "   212209   283781   170608   181385   177179   203317   189545    34710\n",
      "   487987   456154   652131   765160   907021   887797   831652   916916\n",
      "   861287   979602   934459  1333250   617077   338658   365827   483685\n",
      "   505312   503991   471561   284224   333085   564275   638758   676894\n",
      "  1350434   431449    85729    25868   189655    90863    53319    39297\n",
      "   140572   198082   139631   139713   145671   259069   162574   376933\n",
      "   281659   228675   216781   223635   260426   211348   145127   128729\n",
      "   172189   139623   267526   168644 34430457 33160710 33399099 33590185\n",
      " 33697955 33522207 32787639 30859720 30080866 29474251 30763342 32174377\n",
      "  7751673     2717     3203     1545        0        0      943      405\n",
      "      404        0        0      691        0        0        0        0\n",
      "        0        0        0        0        0        0        0        0\n",
      "        0        0        0        0        0        0        0        0\n",
      "        0        0        0        0        0        0        0        0\n",
      "     4080    10733    27010    21318     1639     2545      503      797\n",
      "      737      196      242        0       89   120054     4945     5534\n",
      "     5752     3417    15323      600     3379       57      374      475\n",
      "      158        0        0        0        0        0        0        0\n",
      "        0        0        0        0        0        0        0   118564\n",
      "    15787    11817    12756    11190    10485     7938     4330     4138\n",
      "     3214     2270     1139      150        0        0        0        0\n",
      "        0        0        0      102        0        0        0        0\n",
      "        0        0        0        0        0        0        0        0\n",
      "        0        0        0        0        0        0  3596251  2958807\n",
      "  2393800  2254183  2000089  1949861  2038814  2400586  2232964  2288281\n",
      "  2371032  2362642   725861  8981281  8296658  7709515  7659888  7699470\n",
      "  7845866  8166125  8604508  8947117  8847473  8733269  8186286  2253169\n",
      "        0        0        0        0        0        0        0        0\n",
      "        0        0        0        0        0  3273146  3062296  2751829\n",
      "  2640319  2780345  2821895  3080206  3226409  3265974  3275840  3440459\n",
      "  3441206  1067131        0        0        0        0        0        0\n",
      "        0        0        0        0        0        0        0        0\n",
      "        0        0        0        0        0        0        0        0\n",
      "        0        0        0        0   748975   483213   542851   435090\n",
      "   705339   833855   497867   100493   315960   467467   483168   420332\n",
      "    70559  1286818  1180428   992000  1101410  1125163  1177414   685407\n",
      "   650717   702617   696270   772584   847059   196050        0        0\n",
      "        0        0        0        0        0        0        0        0\n",
      "        0        0        0   847106   462126   438383   475919   438222\n",
      "   515346   403499   303013   325666   330822   310681   449786    97095\n",
      "        0        0       49        0        0        0        0        0\n",
      "       63        0        0        0        0        0        0        0\n",
      "        0        0        0        0        0        0        0        0\n",
      "        0        0  2073046  2376281  2280828  2347216  2196938  2224604\n",
      "  2637055  2840865  2594887  2627729  2587164  2446617   357271   783211\n",
      "   881085   917776   950319   814481   571120   854164  1113590  1148048\n",
      "  1376735  1442310  1487956   188127        0        0        0        0\n",
      "        0        0        0        0        0        0        0        0\n",
      "        0  2392553  2480839  2257047  2273196  2125689  2075482  2195472\n",
      "  2233609  2017581  1942898  1870498  1769373   311883        0        0\n",
      "        0        0        0        0        0        0        0        0\n",
      "        0        0        0        0        0        0        0        0\n",
      "        0        0        0        0        0        0        0        0\n",
      "    25027     5699     6898     7642     2673     4894     4073     4784\n",
      "     2354        4      667    28207    18888    32660    12060    11271\n",
      "    19617    99639   413291   328283   306790   277834   299213   228974\n",
      "   193881    93395        0        0        0        0        0        0\n",
      "        0        0        0        0        0        0        0   115447\n",
      "    53273    44643    47092    45470    22959     9044     6196     5688\n",
      "     3746     3793    29784    17593]\n"
     ]
    }
   ],
   "source": [
    "#View the y_minmax variable \n",
    "print(y_minmax)"
   ]
  },
  {
   "cell_type": "code",
   "execution_count": 35,
   "id": "7c678d0c",
   "metadata": {},
   "outputs": [
    {
     "name": "stdout",
     "output_type": "stream",
     "text": [
      "[[2.00800000e+03 0.00000000e+00 0.00000000e+00 ... 0.00000000e+00\n",
      "  0.00000000e+00 6.07967606e-02]\n",
      " [2.00900000e+03 0.00000000e+00 0.00000000e+00 ... 0.00000000e+00\n",
      "  0.00000000e+00 4.18142955e-02]\n",
      " [2.01000000e+03 0.00000000e+00 0.00000000e+00 ... 0.00000000e+00\n",
      "  0.00000000e+00 2.87993139e-02]\n",
      " ...\n",
      " [2.01800000e+03 1.00000000e+00 0.00000000e+00 ... 0.00000000e+00\n",
      "  1.00000000e+00 1.38628736e-04]\n",
      " [2.01900000e+03 1.00000000e+00 0.00000000e+00 ... 0.00000000e+00\n",
      "  1.00000000e+00 6.35113047e-04]\n",
      " [2.02000000e+03 1.00000000e+00 0.00000000e+00 ... 0.00000000e+00\n",
      "  1.00000000e+00 4.96484311e-04]]\n"
     ]
    }
   ],
   "source": [
    "#View the X_minmax variable\n",
    "print(X_minmax)"
   ]
  },
  {
   "cell_type": "code",
   "execution_count": 36,
   "id": "d8768c3a",
   "metadata": {},
   "outputs": [
    {
     "data": {
      "text/plain": [
       "((780, 12), (780,))"
      ]
     },
     "execution_count": 36,
     "metadata": {},
     "output_type": "execute_result"
    }
   ],
   "source": [
    "#View the shape of X_minmax and y_minmax\n",
    "X_minmax.shape, y_minmax.shape"
   ]
  },
  {
   "cell_type": "code",
   "execution_count": 37,
   "id": "d5c9930e",
   "metadata": {},
   "outputs": [],
   "source": [
    "#Split the data into features (X_minmax) and target variable (y_minmax)\n",
    "X_minmax_train, X_minmax_test, y_minmax_train, y_minmax_test = train_test_split(X_minmax, y_minmax, test_size=0.2)"
   ]
  },
  {
   "cell_type": "code",
   "execution_count": 38,
   "id": "2f27a920",
   "metadata": {},
   "outputs": [
    {
     "data": {
      "text/plain": [
       "((624, 12), (156, 12), (624,), (156,))"
      ]
     },
     "execution_count": 38,
     "metadata": {},
     "output_type": "execute_result"
    }
   ],
   "source": [
    "#View the shapes of the split data\n",
    "X_minmax_train.shape, X_minmax_test.shape, y_minmax_train.shape, y_minmax_test.shape"
   ]
  },
  {
   "cell_type": "markdown",
   "id": "5dd08374",
   "metadata": {},
   "source": [
    "# Fit the Regression Models using normalized Data"
   ]
  },
  {
   "cell_type": "markdown",
   "id": "7e284094",
   "metadata": {},
   "source": [
    "# Linear Regression Model"
   ]
  },
  {
   "cell_type": "code",
   "execution_count": 39,
   "id": "e6aea23c",
   "metadata": {},
   "outputs": [
    {
     "name": "stdout",
     "output_type": "stream",
     "text": [
      "-----Training set statistics-----\n",
      "R-squared of the model in training set is: 0.9573440852211164\n",
      "-----Test set statistics-----\n",
      "R-squared of the model in test set is: 0.9419138659750353\n"
     ]
    }
   ],
   "source": [
    "#Import LinearRegression from sklearn library\n",
    "from sklearn.linear_model import LinearRegression\n",
    "\n",
    "#Initialise an object slr by calling a method named as 'LinearRegression()'\n",
    "mlr = LinearRegression()\n",
    "\n",
    "#Fitting the OLS model\n",
    "mlr.fit(X_minmax_train, y_minmax_train)\n",
    "\n",
    "# Predict the results for the training and testing\n",
    "y_train_pred = mlr.predict(X_minmax_train)\n",
    "y_test_pred = mlr.predict(X_minmax_test)\n",
    "\n",
    "#Print the R-squared values\n",
    "print(\"-----Training set statistics-----\")\n",
    "print(\"R-squared of the model in training set is: {}\".format(mlr.score(X_minmax_train, y_minmax_train)))\n",
    "\n",
    "print(\"-----Test set statistics-----\")\n",
    "print(\"R-squared of the model in test set is: {}\".format(mlr.score(X_minmax_test, y_minmax_test)))"
   ]
  },
  {
   "cell_type": "markdown",
   "id": "0a5dcc89",
   "metadata": {},
   "source": [
    "# Decision Tree Regression (Normalized Data)"
   ]
  },
  {
   "cell_type": "code",
   "execution_count": 40,
   "id": "f2b17086",
   "metadata": {},
   "outputs": [
    {
     "name": "stdout",
     "output_type": "stream",
     "text": [
      "-----Training set statistics-----\n",
      "R-squared of the model in training set is: 0.9465032977430112\n",
      "-----Test set statistics-----\n",
      "R-squared of the model in test set is: 0.8963782661580453\n"
     ]
    }
   ],
   "source": [
    "#Import DecisionTreeRegressor from the sklearn library\n",
    "from sklearn.tree import DecisionTreeRegressor\n",
    "\n",
    "#Initialise an object by calling a method DecisionTreeRegressor()\n",
    "decision_Regressor = DecisionTreeRegressor(max_depth=2, random_state=0)  # You can adjust max_depth as needed\n",
    "\n",
    "#Pass the training set through the decision_Regressor\n",
    "decision_Regressor.fit(X_minmax_train, y_minmax_train)\n",
    "\n",
    "#Predict the X_test values\n",
    "y_pred_decision=decision_Regressor.predict(X_minmax_test)\n",
    "\n",
    "#Print the R-squared values\n",
    "print(\"-----Training set statistics-----\")\n",
    "print(\"R-squared of the model in training set is: {}\".format(decision_Regressor.score(X_minmax_train, y_minmax_train)))\n",
    "\n",
    "print(\"-----Test set statistics-----\")\n",
    "print(\"R-squared of the model in test set is: {}\".format(decision_Regressor.score(X_minmax_test, y_minmax_test)))"
   ]
  },
  {
   "cell_type": "code",
   "execution_count": 41,
   "id": "ae522e4a",
   "metadata": {},
   "outputs": [
    {
     "data": {
      "image/png": "[encoded data removed]",
      "text/plain": [
       "<IPython.core.display.Image object>"
      ]
     },
     "execution_count": 41,
     "metadata": {},
     "output_type": "execute_result"
    }
   ],
   "source": [
    "#Visualize the Decision tree regressor\n",
    "from sklearn.tree import DecisionTreeRegressor\n",
    "from sklearn.tree import export_graphviz\n",
    "import pydotplus  # You need to import this library to work with Graphviz\n",
    "from IPython.display import Image\n",
    "from sklearn import tree\n",
    "from io import StringIO\n",
    "\n",
    "#Create a StringIO object to hold the visualization\n",
    "dot_data = StringIO()\n",
    "\n",
    "#Export the Decision Tree as a Graphviz dot file\n",
    "export_graphviz(decision_Regressor, out_file=dot_data, filled=True)\n",
    "\n",
    "#Use pydotplus to create an image from the dot file\n",
    "graph = pydotplus.graph_from_dot_data(dot_data.getvalue())\n",
    "\n",
    "#Create an Image from the graph\n",
    "Image(graph.create_png())"
   ]
  },
  {
   "cell_type": "markdown",
   "id": "fd1c9e64",
   "metadata": {},
   "source": [
    "# Random Forest (Normalized Data)"
   ]
  },
  {
   "cell_type": "code",
   "execution_count": 42,
   "id": "84974380",
   "metadata": {},
   "outputs": [
    {
     "name": "stdout",
     "output_type": "stream",
     "text": [
      "-----Training set statistics-----\n",
      "R-squared of the model in training set is: 0.9986502720612728\n",
      "-----Test set statistics-----\n",
      "R-squared of the model in test set is: 0.9834605244359163\n"
     ]
    }
   ],
   "source": [
    "#Import RandomForestRegressor from sklearn\n",
    "from sklearn.ensemble import RandomForestRegressor\n",
    "\n",
    "#Create an object forest by calling a method RandomForestRegressor()\n",
    "forest_Regressor = RandomForestRegressor(n_estimators = 1000,random_state=0)\n",
    "\n",
    "#Train the Model by calling a fit() method\n",
    "forest_Regressor.fit(X_minmax_train, y_minmax_train)\n",
    "\n",
    "#Predict the Test Set\n",
    "y_pred_random = forest_Regressor.predict(X_minmax_test)\n",
    "\n",
    "#Print the R-squared values\n",
    "print(\"-----Training set statistics-----\")\n",
    "print(\"R-squared of the model in training set is: {}\".format(forest_Regressor.score(X_minmax_train, y_minmax_train)))\n",
    "print(\"-----Test set statistics-----\")\n",
    "print(\"R-squared of the model in test set is: {}\".format(forest_Regressor.score(X_minmax_test, y_minmax_test)))"
   ]
  },
  {
   "cell_type": "markdown",
   "id": "71773d94",
   "metadata": {},
   "source": [
    "# Ridge Regression with Normalized Data"
   ]
  },
  {
   "cell_type": "code",
   "execution_count": 43,
   "id": "ec3c6639",
   "metadata": {},
   "outputs": [
    {
     "name": "stdout",
     "output_type": "stream",
     "text": [
      "-----Training set statistics-----\n",
      "Training set score: 0.95\n",
      "-----Test set statistics (ridge)-----\n",
      "R-squared of the model in test set is: 0.9397995119454362\n",
      "-----Training set statistics-----\n",
      "Training set score: 0.86\n",
      "-----Test set statistics (ridge_10)-----\n",
      "R-squared of the model in test set is: 0.8377812356666978\n",
      "-----Training set statistics-----\n",
      "Training set score: 0.96\n",
      "-----Test set statistics (ridge_01)-----\n",
      "R-squared of the model in test set is: 0.9419979793249806\n"
     ]
    }
   ],
   "source": [
    "#Import Ridge from sklearn library\n",
    "from sklearn.linear_model import Ridge\n",
    "\n",
    "#Train the Ridge() mode by calling a fit() method\n",
    "ridge = Ridge().fit(X_minmax_train, y_minmax_train)\n",
    "\n",
    "#Predict the Test Set\n",
    "y_pred_ridge = ridge.predict(X_minmax_test)\n",
    "\n",
    "\n",
    "#Display the score by using ridge object\n",
    "print(\"-----Training set statistics-----\")\n",
    "print(\"Training set score: {:.2f}\".format(ridge.score(X_minmax_train, y_minmax_train)))\n",
    "\n",
    "print(\"-----Test set statistics (ridge)-----\")\n",
    "print(\"R-squared of the model in test set is: {}\".format(ridge.score(X_minmax_test, y_minmax_test)))\n",
    "\n",
    "#Alpha = 10 is a parameter using a fit() method\n",
    "ridge_10 = Ridge(alpha = 10).fit(X_minmax_train, y_minmax_train)\n",
    "\n",
    "#Predict the Test Set\n",
    "y_pred_ridge_10 = ridge.predict(X_minmax_test)\n",
    "\n",
    "#Print the R-squared values\n",
    "print(\"-----Training set statistics-----\")\n",
    "print(\"Training set score: {:.2f}\".format(ridge_10.score(X_minmax_train, y_minmax_train)))\n",
    "\n",
    "print(\"-----Test set statistics (ridge_10)-----\")\n",
    "print(\"R-squared of the model in test set is: {}\".format(ridge_10.score(X_minmax_test, y_minmax_test)))\n",
    "\n",
    "\n",
    "#Alpha = 0.1 is a parameter using a fit() method\n",
    "ridge_01 = Ridge(alpha = 0.1).fit(X_minmax_train, y_minmax_train)\n",
    "\n",
    "#Predict the Test Set\n",
    "y_pred_ridge_01 = ridge.predict(X_minmax_test)\n",
    "\n",
    "#Print the R-squared values\n",
    "print(\"-----Training set statistics-----\")\n",
    "print(\"Training set score: {:.2f}\".format(ridge_01.score(X_minmax_train, y_minmax_train)))\n",
    "\n",
    "print(\"-----Test set statistics (ridge_01)-----\")\n",
    "print(\"R-squared of the model in test set is: {}\".format(ridge_01.score(X_minmax_test, y_minmax_test)))"
   ]
  },
  {
   "cell_type": "markdown",
   "id": "8961dcad",
   "metadata": {},
   "source": [
    "# using GridSearchCV for parameter optimization in Ridge Regression for normalized data"
   ]
  },
  {
   "cell_type": "code",
   "execution_count": 44,
   "id": "cf6871e9",
   "metadata": {},
   "outputs": [
    {
     "name": "stdout",
     "output_type": "stream",
     "text": [
      "Fitting 5 folds for each of 3 candidates, totalling 15 fits\n",
      "-----Training set statistics-----\n",
      "R-squared of the model in training set is: 0.9573128974021675\n",
      "-----Test set statistics-----\n",
      "R-squared of the model in test set is: 0.9419979793249806\n"
     ]
    }
   ],
   "source": [
    "#Import GridSearchCV from sklearn library\n",
    "from sklearn.model_selection import GridSearchCV\n",
    "\n",
    "#Using GridSearch for parameter optimization\n",
    "ridgeregr = GridSearchCV(Ridge(),\n",
    "                    param_grid={\n",
    "                        'alpha': [10, 0.1, 1]\n",
    "                    }, verbose=1)\n",
    "\n",
    "ridgeregr.fit(X_minmax_train, y_minmax_train)\n",
    "\n",
    "ridge = ridgeregr.best_estimator_\n",
    "\n",
    "#Making the prediction for the test and training set \n",
    "yminmax_train_pred = ridge.predict(X_minmax_train)\n",
    "yminmax_test_pred_ridge = ridge.predict(X_minmax_test)\n",
    "\n",
    "#Print the R-squared values\n",
    "print(\"-----Training set statistics-----\")\n",
    "print(\"R-squared of the model in training set is: {}\".format(ridge.score(X_minmax_train, y_minmax_train)))\n",
    "print(\"-----Test set statistics-----\")\n",
    "print(\"R-squared of the model in test set is: {}\".format(ridge.score(X_minmax_test, y_minmax_test)))"
   ]
  },
  {
   "cell_type": "markdown",
   "id": "2e2f4a7c",
   "metadata": {},
   "source": [
    "# Lasso Regression "
   ]
  },
  {
   "cell_type": "code",
   "execution_count": 45,
   "id": "afe18a99",
   "metadata": {},
   "outputs": [
    {
     "name": "stdout",
     "output_type": "stream",
     "text": [
      "Training set score: 0.96\n",
      "Test set score: 0.94\n",
      "Number of features used: 12\n",
      "Training set score: 0.96\n",
      "Test set score: 0.94\n",
      "Number of features used: 12\n",
      "Training set score: 0.96\n",
      "Test set score: 0.94\n",
      "Number of features used: 12\n"
     ]
    }
   ],
   "source": [
    "#Import Lasso from sklearn library\n",
    "from sklearn.linear_model import Lasso\n",
    "lasso = Lasso().fit(X_minmax_train, y_minmax_train)\n",
    "\n",
    "#prediction the training and test values\n",
    "y_train_pred_lasso = lasso.predict(X_minmax_train)\n",
    "y_test_pred_lasso = lasso.predict(X_minmax_test)\n",
    "\n",
    "#Print the R-squared values\n",
    "print(\"Training set score: {:.2f}\".format(lasso.score(X_minmax_train, y_minmax_train)))\n",
    "print(\"Test set score: {:.2f}\".format(lasso.score(X_minmax_test, y_minmax_test)))\n",
    "print(\"Number of features used: {}\".format(np.sum(lasso.coef_ != 0)))\n",
    "\n",
    "#we increase the default setting of \"max_iter\",\n",
    "# otherwise the model would warn us that we should increase max_iter.\n",
    "lasso001 = Lasso(alpha=0.01).fit(X_minmax_train, y_minmax_train)\n",
    "\n",
    "#Print the R-squared values\n",
    "print(\"Training set score: {:.2f}\".format(lasso001.score(X_minmax_train, y_minmax_train)))\n",
    "print(\"Test set score: {:.2f}\".format(lasso001.score(X_minmax_test, y_minmax_test)))\n",
    "print(\"Number of features used: {}\".format(np.sum(lasso001.coef_ != 0)))\n",
    "\n",
    "#Print the R-squared values\n",
    "lasso00001 = Lasso(alpha=0.0001).fit(X_minmax_train, y_minmax_train)\n",
    "print(\"Training set score: {:.2f}\".format(lasso00001.score(X_minmax_train, y_minmax_train)))\n",
    "print(\"Test set score: {:.2f}\".format(lasso00001.score(X_minmax_test, y_minmax_test)))\n",
    "print(\"Number of features used: {}\".format(np.sum(lasso00001.coef_ != 0)))"
   ]
  },
  {
   "cell_type": "markdown",
   "id": "5b2d0b0d",
   "metadata": {},
   "source": [
    "# Using GridseachCV parameter optimization in Lasso Regression for Normalized data"
   ]
  },
  {
   "cell_type": "code",
   "execution_count": 46,
   "id": "efa6e7d7",
   "metadata": {},
   "outputs": [
    {
     "name": "stdout",
     "output_type": "stream",
     "text": [
      "Fitting 5 folds for each of 3 candidates, totalling 15 fits\n",
      "-----Training set statistics-----\n",
      "R-squared of the model in training set is: 0.9573440852192653\n",
      "-----Test set statistics-----\n",
      "R-squared of the model in test set is: 0.9419139406972928\n"
     ]
    }
   ],
   "source": [
    "#Using GridSearch for parameter optimization\n",
    "lassoregr = GridSearchCV(Lasso(),\n",
    "                    param_grid={\n",
    "                        'alpha': [0.0001, 0.01, 1]\n",
    "                    }, verbose=1)\n",
    "\n",
    "lassoregr.fit(X_minmax_train, y_minmax_train)\n",
    "\n",
    "lasso = lassoregr.best_estimator_\n",
    "\n",
    "#Make predictions for test and training sets\n",
    "y_preds_train = lasso.predict(X_minmax_train)\n",
    "y_preds_test_lasso = lasso.predict(X_minmax_test)\n",
    "\n",
    "#Print the R-squared values\n",
    "print(\"-----Training set statistics-----\")\n",
    "print(\"R-squared of the model in training set is: {}\".format(lasso.score(X_minmax_train, y_minmax_train)))\n",
    "print(\"-----Test set statistics-----\")\n",
    "print(\"R-squared of the model in test set is: {}\".format(lasso.score(X_minmax_test, y_minmax_test)))"
   ]
  },
  {
   "cell_type": "markdown",
   "id": "b601b459",
   "metadata": {},
   "source": [
    "# Elastic Net Regression using Normalized Data"
   ]
  },
  {
   "cell_type": "code",
   "execution_count": 47,
   "id": "f91cfc31",
   "metadata": {},
   "outputs": [
    {
     "name": "stdout",
     "output_type": "stream",
     "text": [
      "Mean Squared Error on test set 5300525093855.725\n",
      "[   41480.58101392 -1469856.43660988  1295032.1578644  -1335791.85788307\n",
      " -2021851.08238817   499125.68526089   288636.42848717 -1393692.86582491\n",
      " -1079184.16454975  2670180.83184231  -889786.7554786  37425916.61874002] -82122204.70512947\n",
      "-----Training set statistics-----\n",
      "R-squared of the model in training set is: 0.9380726905407921\n",
      "-----Test set statistics-----\n",
      "R-squared of the model in test set is: 0.9218143332418548\n"
     ]
    }
   ],
   "source": [
    "#Import ElasticNet from sklearn library\n",
    "from sklearn.linear_model import ElasticNet\n",
    "\n",
    "#Train the model\n",
    "e_net = ElasticNet(alpha = 0.01)\n",
    "\n",
    "#Fit the e_net model\n",
    "e_net.fit(X_minmax_train,y_minmax_train)\n",
    "\n",
    "#Calculate the prediction and mean square error\n",
    "y_pred_elastic = e_net.predict(X_minmax_test)\n",
    "mean_squared_error = np.mean((y_pred_elastic - y_minmax_test)**2)\n",
    "\n",
    "#Print the mean square error, the coefficients and the intercept\n",
    "print(\"Mean Squared Error on test set\", mean_squared_error)\n",
    "print(e_net.coef_, e_net.intercept_)\n",
    "\n",
    "#Print the R-squared values\n",
    "print(\"-----Training set statistics-----\")\n",
    "print(\"R-squared of the model in training set is: {}\".format(e_net.score(X_minmax_train, y_minmax_train)))\n",
    "print(\"-----Test set statistics-----\")\n",
    "print(\"R-squared of the model in test set is: {}\".format(e_net.score(X_minmax_test, y_minmax_test)))"
   ]
  },
  {
   "cell_type": "markdown",
   "id": "9564cbda",
   "metadata": {},
   "source": [
    "# Support Vector Machine Regression for Normalized Data"
   ]
  },
  {
   "cell_type": "code",
   "execution_count": 48,
   "id": "7bf27670",
   "metadata": {},
   "outputs": [
    {
     "name": "stdout",
     "output_type": "stream",
     "text": [
      "Training set score: -0.15\n",
      "Test set score: -0.13\n"
     ]
    }
   ],
   "source": [
    "#Import SVR from sklearn library\n",
    "from sklearn.svm import SVR\n",
    "svr= SVR()\n",
    "\n",
    "#fit the svr \n",
    "svr.fit(X_minmax_train,y_minmax_train)\n",
    "\n",
    "#Print the R-squared values\n",
    "print(\"Training set score: {:.2f}\".format(svr.score(X_minmax_train,y_minmax_train)))\n",
    "print(\"Test set score: {:.2f}\".format(svr.score(X_minmax_test,y_minmax_test)))"
   ]
  },
  {
   "cell_type": "markdown",
   "id": "7467cc9b",
   "metadata": {},
   "source": [
    "# Support Vector Machine Regression using GridSearchCV for normalized data"
   ]
  },
  {
   "cell_type": "code",
   "execution_count": 49,
   "id": "b3bb9ae7",
   "metadata": {},
   "outputs": [
    {
     "name": "stdout",
     "output_type": "stream",
     "text": [
      "Fitting 5 folds for each of 25 candidates, totalling 125 fits\n",
      "[CV 1/5] END ...C=0.01, gamma=0.01, kernel=rbf;, score=-0.135 total time=   0.0s\n",
      "[CV 2/5] END ...C=0.01, gamma=0.01, kernel=rbf;, score=-0.176 total time=   0.0s\n",
      "[CV 3/5] END ...C=0.01, gamma=0.01, kernel=rbf;, score=-0.210 total time=   0.0s\n",
      "[CV 4/5] END ...C=0.01, gamma=0.01, kernel=rbf;, score=-0.120 total time=   0.0s\n",
      "[CV 5/5] END ...C=0.01, gamma=0.01, kernel=rbf;, score=-0.132 total time=   0.0s\n",
      "[CV 1/5] END ....C=0.01, gamma=0.1, kernel=rbf;, score=-0.135 total time=   0.0s\n",
      "[CV 2/5] END ....C=0.01, gamma=0.1, kernel=rbf;, score=-0.176 total time=   0.0s\n",
      "[CV 3/5] END ....C=0.01, gamma=0.1, kernel=rbf;, score=-0.210 total time=   0.0s\n",
      "[CV 4/5] END ....C=0.01, gamma=0.1, kernel=rbf;, score=-0.120 total time=   0.0s\n",
      "[CV 5/5] END ....C=0.01, gamma=0.1, kernel=rbf;, score=-0.132 total time=   0.0s\n",
      "[CV 1/5] END ...C=0.01, gamma=0.01, kernel=rbf;, score=-0.135 total time=   0.0s\n",
      "[CV 2/5] END ...C=0.01, gamma=0.01, kernel=rbf;, score=-0.176 total time=   0.0s\n",
      "[CV 3/5] END ...C=0.01, gamma=0.01, kernel=rbf;, score=-0.210 total time=   0.0s\n",
      "[CV 4/5] END ...C=0.01, gamma=0.01, kernel=rbf;, score=-0.120 total time=   0.0s\n",
      "[CV 5/5] END ...C=0.01, gamma=0.01, kernel=rbf;, score=-0.132 total time=   0.0s\n",
      "[CV 1/5] END ..C=0.01, gamma=0.001, kernel=rbf;, score=-0.135 total time=   0.0s\n",
      "[CV 2/5] END ..C=0.01, gamma=0.001, kernel=rbf;, score=-0.176 total time=   0.0s\n",
      "[CV 3/5] END ..C=0.01, gamma=0.001, kernel=rbf;, score=-0.210 total time=   0.0s\n",
      "[CV 4/5] END ..C=0.01, gamma=0.001, kernel=rbf;, score=-0.120 total time=   0.0s\n",
      "[CV 5/5] END ..C=0.01, gamma=0.001, kernel=rbf;, score=-0.132 total time=   0.0s\n",
      "[CV 1/5] END ..C=0.01, gamma=0.001, kernel=rbf;, score=-0.135 total time=   0.0s\n",
      "[CV 2/5] END ..C=0.01, gamma=0.001, kernel=rbf;, score=-0.176 total time=   0.0s\n",
      "[CV 3/5] END ..C=0.01, gamma=0.001, kernel=rbf;, score=-0.210 total time=   0.0s\n",
      "[CV 4/5] END ..C=0.01, gamma=0.001, kernel=rbf;, score=-0.120 total time=   0.0s\n",
      "[CV 5/5] END ..C=0.01, gamma=0.001, kernel=rbf;, score=-0.132 total time=   0.0s\n",
      "[CV 1/5] END ....C=0.1, gamma=0.01, kernel=rbf;, score=-0.135 total time=   0.0s\n",
      "[CV 2/5] END ....C=0.1, gamma=0.01, kernel=rbf;, score=-0.176 total time=   0.0s\n",
      "[CV 3/5] END ....C=0.1, gamma=0.01, kernel=rbf;, score=-0.210 total time=   0.0s\n",
      "[CV 4/5] END ....C=0.1, gamma=0.01, kernel=rbf;, score=-0.120 total time=   0.0s\n",
      "[CV 5/5] END ....C=0.1, gamma=0.01, kernel=rbf;, score=-0.132 total time=   0.0s\n",
      "[CV 1/5] END .....C=0.1, gamma=0.1, kernel=rbf;, score=-0.135 total time=   0.0s\n",
      "[CV 2/5] END .....C=0.1, gamma=0.1, kernel=rbf;, score=-0.176 total time=   0.0s\n",
      "[CV 3/5] END .....C=0.1, gamma=0.1, kernel=rbf;, score=-0.210 total time=   0.0s\n",
      "[CV 4/5] END .....C=0.1, gamma=0.1, kernel=rbf;, score=-0.120 total time=   0.0s\n",
      "[CV 5/5] END .....C=0.1, gamma=0.1, kernel=rbf;, score=-0.132 total time=   0.0s\n",
      "[CV 1/5] END ....C=0.1, gamma=0.01, kernel=rbf;, score=-0.135 total time=   0.0s\n",
      "[CV 2/5] END ....C=0.1, gamma=0.01, kernel=rbf;, score=-0.176 total time=   0.0s\n",
      "[CV 3/5] END ....C=0.1, gamma=0.01, kernel=rbf;, score=-0.210 total time=   0.0s\n",
      "[CV 4/5] END ....C=0.1, gamma=0.01, kernel=rbf;, score=-0.120 total time=   0.0s\n",
      "[CV 5/5] END ....C=0.1, gamma=0.01, kernel=rbf;, score=-0.132 total time=   0.0s\n",
      "[CV 1/5] END ...C=0.1, gamma=0.001, kernel=rbf;, score=-0.135 total time=   0.0s\n",
      "[CV 2/5] END ...C=0.1, gamma=0.001, kernel=rbf;, score=-0.176 total time=   0.0s\n",
      "[CV 3/5] END ...C=0.1, gamma=0.001, kernel=rbf;, score=-0.210 total time=   0.0s\n",
      "[CV 4/5] END ...C=0.1, gamma=0.001, kernel=rbf;, score=-0.120 total time=   0.0s\n",
      "[CV 5/5] END ...C=0.1, gamma=0.001, kernel=rbf;, score=-0.132 total time=   0.0s\n",
      "[CV 1/5] END ...C=0.1, gamma=0.001, kernel=rbf;, score=-0.135 total time=   0.0s\n",
      "[CV 2/5] END ...C=0.1, gamma=0.001, kernel=rbf;, score=-0.176 total time=   0.0s\n",
      "[CV 3/5] END ...C=0.1, gamma=0.001, kernel=rbf;, score=-0.210 total time=   0.0s\n",
      "[CV 4/5] END ...C=0.1, gamma=0.001, kernel=rbf;, score=-0.120 total time=   0.0s\n",
      "[CV 5/5] END ...C=0.1, gamma=0.001, kernel=rbf;, score=-0.132 total time=   0.0s\n",
      "[CV 1/5] END .....C=10, gamma=0.01, kernel=rbf;, score=-0.135 total time=   0.0s\n",
      "[CV 2/5] END .....C=10, gamma=0.01, kernel=rbf;, score=-0.176 total time=   0.0s\n",
      "[CV 3/5] END .....C=10, gamma=0.01, kernel=rbf;, score=-0.210 total time=   0.0s\n",
      "[CV 4/5] END .....C=10, gamma=0.01, kernel=rbf;, score=-0.120 total time=   0.0s\n",
      "[CV 5/5] END .....C=10, gamma=0.01, kernel=rbf;, score=-0.132 total time=   0.0s\n",
      "[CV 1/5] END ......C=10, gamma=0.1, kernel=rbf;, score=-0.135 total time=   0.0s\n",
      "[CV 2/5] END ......C=10, gamma=0.1, kernel=rbf;, score=-0.176 total time=   0.0s\n",
      "[CV 3/5] END ......C=10, gamma=0.1, kernel=rbf;, score=-0.210 total time=   0.0s\n",
      "[CV 4/5] END ......C=10, gamma=0.1, kernel=rbf;, score=-0.120 total time=   0.0s\n",
      "[CV 5/5] END ......C=10, gamma=0.1, kernel=rbf;, score=-0.132 total time=   0.0s\n",
      "[CV 1/5] END .....C=10, gamma=0.01, kernel=rbf;, score=-0.135 total time=   0.0s\n",
      "[CV 2/5] END .....C=10, gamma=0.01, kernel=rbf;, score=-0.176 total time=   0.0s\n",
      "[CV 3/5] END .....C=10, gamma=0.01, kernel=rbf;, score=-0.210 total time=   0.0s\n",
      "[CV 4/5] END .....C=10, gamma=0.01, kernel=rbf;, score=-0.120 total time=   0.0s\n",
      "[CV 5/5] END .....C=10, gamma=0.01, kernel=rbf;, score=-0.132 total time=   0.0s\n",
      "[CV 1/5] END ....C=10, gamma=0.001, kernel=rbf;, score=-0.135 total time=   0.0s\n",
      "[CV 2/5] END ....C=10, gamma=0.001, kernel=rbf;, score=-0.176 total time=   0.0s\n",
      "[CV 3/5] END ....C=10, gamma=0.001, kernel=rbf;, score=-0.210 total time=   0.0s\n",
      "[CV 4/5] END ....C=10, gamma=0.001, kernel=rbf;, score=-0.120 total time=   0.0s\n",
      "[CV 5/5] END ....C=10, gamma=0.001, kernel=rbf;, score=-0.132 total time=   0.0s\n",
      "[CV 1/5] END ....C=10, gamma=0.001, kernel=rbf;, score=-0.135 total time=   0.0s\n",
      "[CV 2/5] END ....C=10, gamma=0.001, kernel=rbf;, score=-0.176 total time=   0.0s\n",
      "[CV 3/5] END ....C=10, gamma=0.001, kernel=rbf;, score=-0.210 total time=   0.0s\n",
      "[CV 4/5] END ....C=10, gamma=0.001, kernel=rbf;, score=-0.120 total time=   0.0s\n",
      "[CV 5/5] END ....C=10, gamma=0.001, kernel=rbf;, score=-0.132 total time=   0.0s\n",
      "[CV 1/5] END ....C=100, gamma=0.01, kernel=rbf;, score=-0.135 total time=   0.0s\n",
      "[CV 2/5] END ....C=100, gamma=0.01, kernel=rbf;, score=-0.176 total time=   0.0s\n",
      "[CV 3/5] END ....C=100, gamma=0.01, kernel=rbf;, score=-0.210 total time=   0.0s\n",
      "[CV 4/5] END ....C=100, gamma=0.01, kernel=rbf;, score=-0.120 total time=   0.0s\n",
      "[CV 5/5] END ....C=100, gamma=0.01, kernel=rbf;, score=-0.132 total time=   0.0s\n",
      "[CV 1/5] END .....C=100, gamma=0.1, kernel=rbf;, score=-0.135 total time=   0.0s\n",
      "[CV 2/5] END .....C=100, gamma=0.1, kernel=rbf;, score=-0.176 total time=   0.0s\n",
      "[CV 3/5] END .....C=100, gamma=0.1, kernel=rbf;, score=-0.210 total time=   0.0s\n",
      "[CV 4/5] END .....C=100, gamma=0.1, kernel=rbf;, score=-0.120 total time=   0.0s\n",
      "[CV 5/5] END .....C=100, gamma=0.1, kernel=rbf;, score=-0.132 total time=   0.0s\n",
      "[CV 1/5] END ....C=100, gamma=0.01, kernel=rbf;, score=-0.135 total time=   0.0s\n",
      "[CV 2/5] END ....C=100, gamma=0.01, kernel=rbf;, score=-0.176 total time=   0.0s\n",
      "[CV 3/5] END ....C=100, gamma=0.01, kernel=rbf;, score=-0.210 total time=   0.0s\n",
      "[CV 4/5] END ....C=100, gamma=0.01, kernel=rbf;, score=-0.120 total time=   0.0s\n",
      "[CV 5/5] END ....C=100, gamma=0.01, kernel=rbf;, score=-0.132 total time=   0.0s\n",
      "[CV 1/5] END ...C=100, gamma=0.001, kernel=rbf;, score=-0.135 total time=   0.0s\n",
      "[CV 2/5] END ...C=100, gamma=0.001, kernel=rbf;, score=-0.176 total time=   0.0s\n",
      "[CV 3/5] END ...C=100, gamma=0.001, kernel=rbf;, score=-0.210 total time=   0.0s\n",
      "[CV 4/5] END ...C=100, gamma=0.001, kernel=rbf;, score=-0.120 total time=   0.0s\n",
      "[CV 5/5] END ...C=100, gamma=0.001, kernel=rbf;, score=-0.132 total time=   0.0s\n",
      "[CV 1/5] END ...C=100, gamma=0.001, kernel=rbf;, score=-0.135 total time=   0.0s\n",
      "[CV 2/5] END ...C=100, gamma=0.001, kernel=rbf;, score=-0.176 total time=   0.0s\n",
      "[CV 3/5] END ...C=100, gamma=0.001, kernel=rbf;, score=-0.210 total time=   0.0s\n",
      "[CV 4/5] END ...C=100, gamma=0.001, kernel=rbf;, score=-0.120 total time=   0.0s\n",
      "[CV 5/5] END ...C=100, gamma=0.001, kernel=rbf;, score=-0.132 total time=   0.0s\n",
      "[CV 1/5] END ...C=1000, gamma=0.01, kernel=rbf;, score=-0.135 total time=   0.0s\n"
     ]
    },
    {
     "name": "stdout",
     "output_type": "stream",
     "text": [
      "[CV 2/5] END ...C=1000, gamma=0.01, kernel=rbf;, score=-0.176 total time=   0.0s\n",
      "[CV 3/5] END ...C=1000, gamma=0.01, kernel=rbf;, score=-0.210 total time=   0.0s\n",
      "[CV 4/5] END ...C=1000, gamma=0.01, kernel=rbf;, score=-0.120 total time=   0.0s\n",
      "[CV 5/5] END ...C=1000, gamma=0.01, kernel=rbf;, score=-0.132 total time=   0.0s\n",
      "[CV 1/5] END ....C=1000, gamma=0.1, kernel=rbf;, score=-0.135 total time=   0.0s\n",
      "[CV 2/5] END ....C=1000, gamma=0.1, kernel=rbf;, score=-0.176 total time=   0.0s\n",
      "[CV 3/5] END ....C=1000, gamma=0.1, kernel=rbf;, score=-0.210 total time=   0.0s\n",
      "[CV 4/5] END ....C=1000, gamma=0.1, kernel=rbf;, score=-0.120 total time=   0.0s\n",
      "[CV 5/5] END ....C=1000, gamma=0.1, kernel=rbf;, score=-0.132 total time=   0.0s\n",
      "[CV 1/5] END ...C=1000, gamma=0.01, kernel=rbf;, score=-0.135 total time=   0.0s\n",
      "[CV 2/5] END ...C=1000, gamma=0.01, kernel=rbf;, score=-0.176 total time=   0.0s\n",
      "[CV 3/5] END ...C=1000, gamma=0.01, kernel=rbf;, score=-0.210 total time=   0.0s\n",
      "[CV 4/5] END ...C=1000, gamma=0.01, kernel=rbf;, score=-0.120 total time=   0.0s\n",
      "[CV 5/5] END ...C=1000, gamma=0.01, kernel=rbf;, score=-0.132 total time=   0.0s\n",
      "[CV 1/5] END ..C=1000, gamma=0.001, kernel=rbf;, score=-0.135 total time=   0.0s\n",
      "[CV 2/5] END ..C=1000, gamma=0.001, kernel=rbf;, score=-0.176 total time=   0.0s\n",
      "[CV 3/5] END ..C=1000, gamma=0.001, kernel=rbf;, score=-0.210 total time=   0.0s\n",
      "[CV 4/5] END ..C=1000, gamma=0.001, kernel=rbf;, score=-0.120 total time=   0.0s\n",
      "[CV 5/5] END ..C=1000, gamma=0.001, kernel=rbf;, score=-0.132 total time=   0.0s\n",
      "[CV 1/5] END ..C=1000, gamma=0.001, kernel=rbf;, score=-0.135 total time=   0.0s\n",
      "[CV 2/5] END ..C=1000, gamma=0.001, kernel=rbf;, score=-0.176 total time=   0.0s\n",
      "[CV 3/5] END ..C=1000, gamma=0.001, kernel=rbf;, score=-0.210 total time=   0.0s\n",
      "[CV 4/5] END ..C=1000, gamma=0.001, kernel=rbf;, score=-0.120 total time=   0.0s\n",
      "[CV 5/5] END ..C=1000, gamma=0.001, kernel=rbf;, score=-0.132 total time=   0.0s\n",
      "-----Training set statistics-----\n",
      "R-squared of the model in training set is: -0.14944705101290534\n",
      "-----Test set statistics-----\n",
      "R-squared of the model in test set is: -0.12754152874276903\n"
     ]
    }
   ],
   "source": [
    "#Find best hyper parameters\n",
    "param_grid = {'C':[0.01,0.1,10,100,1000],'gamma':[0.01,0.1,0.01,0.001,0.001], 'kernel':['rbf']}\n",
    "grid = GridSearchCV(SVR(),param_grid,verbose = 4)\n",
    "grid.fit(X_minmax_train,y_minmax_train)\n",
    "grid.best_params_\n",
    "grid.best_estimator_\n",
    "grid_predictions = grid.predict(X_minmax_test)\n",
    "\n",
    "#Print the R-squared values\n",
    "print(\"-----Training set statistics-----\")\n",
    "print(\"R-squared of the model in training set is: {}\".format(grid.score(X_minmax_train, y_minmax_train)))\n",
    "print(\"-----Test set statistics-----\")\n",
    "print(\"R-squared of the model in test set is: {}\".format(grid.score(X_minmax_test, y_minmax_test)))"
   ]
  },
  {
   "cell_type": "markdown",
   "id": "55902289",
   "metadata": {},
   "source": [
    "# K-NN (Normalized Data)"
   ]
  },
  {
   "cell_type": "code",
   "execution_count": 50,
   "id": "3255e0bb",
   "metadata": {},
   "outputs": [
    {
     "name": "stdout",
     "output_type": "stream",
     "text": [
      "-----Training set statistics-----\n",
      "R-squared of the model in training set is: 0.8960879398470368\n",
      "-----Test set statistics-----\n",
      "R-squared of the model in test set is: 0.7920902862517976\n"
     ]
    }
   ],
   "source": [
    "#Import KNeighborsRegressor from sklearn library\n",
    "from sklearn.neighbors import KNeighborsRegressor\n",
    "knn_Regressor = KNeighborsRegressor(algorithm='auto', leaf_size=30,metric='minkowski',\n",
    "                                   metric_params=None, n_jobs=1, n_neighbors=5)\n",
    "knn_Regressor.fit(X_minmax_train, y_minmax_train)\n",
    "\n",
    "#Print the R-squared values\n",
    "print(\"-----Training set statistics-----\")\n",
    "print(\"R-squared of the model in training set is: {}\".format(knn_Regressor.score(X_minmax_train, y_minmax_train)))\n",
    "print(\"-----Test set statistics-----\")\n",
    "print(\"R-squared of the model in test set is: {}\".format(knn_Regressor.score(X_minmax_test, y_minmax_test)))"
   ]
  },
  {
   "cell_type": "markdown",
   "id": "771d08d8",
   "metadata": {},
   "source": [
    "# Fitting Regression Models Using Standard scaler"
   ]
  },
  {
   "cell_type": "code",
   "execution_count": 51,
   "id": "c1ad4b45",
   "metadata": {},
   "outputs": [
    {
     "name": "stdout",
     "output_type": "stream",
     "text": [
      "<class 'pandas.core.frame.DataFrame'>\n",
      "RangeIndex: 780 entries, 0 to 779\n",
      "Data columns (total 14 columns):\n",
      " #   Column                    Non-Null Count  Dtype  \n",
      "---  ------                    --------------  -----  \n",
      " 0   TIME_PERIOD               780 non-null    int64  \n",
      " 1   Number of Passengers      780 non-null    int64  \n",
      " 2   Number of Flights         780 non-null    int64  \n",
      " 3   tra_cov_NAT               780 non-null    float64\n",
      " 4   aircraft_AC_NJ            780 non-null    float64\n",
      " 5   aircraft_AC_RJ            780 non-null    float64\n",
      " 6   aircraft_AC_RT            780 non-null    float64\n",
      " 7   aircraft_AC_WJ            780 non-null    float64\n",
      " 8   distance_KM1500-1999      780 non-null    float64\n",
      " 9   distance_KM300-499        780 non-null    float64\n",
      " 10  distance_KM500-999        780 non-null    float64\n",
      " 11  distance_KM_GE2000        780 non-null    float64\n",
      " 12  distance_KM_LT300         780 non-null    float64\n",
      " 13  Number of Flights Scaled  780 non-null    float64\n",
      "dtypes: float64(11), int64(3)\n",
      "memory usage: 85.4 KB\n"
     ]
    }
   ],
   "source": [
    "result_df.info()"
   ]
  },
  {
   "cell_type": "code",
   "execution_count": 52,
   "id": "658ce359",
   "metadata": {},
   "outputs": [],
   "source": [
    "from sklearn.preprocessing import StandardScaler\n",
    "\n",
    "#Create the standardscaler object\n",
    "scaler = StandardScaler()\n",
    "result_df['Number of Flights standardised'] = scaler.fit_transform(result_df[['Number of Flights']])"
   ]
  },
  {
   "cell_type": "code",
   "execution_count": 53,
   "id": "c1c0e97c",
   "metadata": {},
   "outputs": [
    {
     "name": "stdout",
     "output_type": "stream",
     "text": [
      "<class 'pandas.core.frame.DataFrame'>\n",
      "RangeIndex: 780 entries, 0 to 779\n",
      "Data columns (total 15 columns):\n",
      " #   Column                          Non-Null Count  Dtype  \n",
      "---  ------                          --------------  -----  \n",
      " 0   TIME_PERIOD                     780 non-null    int64  \n",
      " 1   Number of Passengers            780 non-null    int64  \n",
      " 2   Number of Flights               780 non-null    int64  \n",
      " 3   tra_cov_NAT                     780 non-null    float64\n",
      " 4   aircraft_AC_NJ                  780 non-null    float64\n",
      " 5   aircraft_AC_RJ                  780 non-null    float64\n",
      " 6   aircraft_AC_RT                  780 non-null    float64\n",
      " 7   aircraft_AC_WJ                  780 non-null    float64\n",
      " 8   distance_KM1500-1999            780 non-null    float64\n",
      " 9   distance_KM300-499              780 non-null    float64\n",
      " 10  distance_KM500-999              780 non-null    float64\n",
      " 11  distance_KM_GE2000              780 non-null    float64\n",
      " 12  distance_KM_LT300               780 non-null    float64\n",
      " 13  Number of Flights Scaled        780 non-null    float64\n",
      " 14  Number of Flights standardised  780 non-null    float64\n",
      "dtypes: float64(12), int64(3)\n",
      "memory usage: 91.5 KB\n"
     ]
    }
   ],
   "source": [
    "#View the dataset to check the new standardised variable has been created\n",
    "result_df.info()"
   ]
  },
  {
   "cell_type": "code",
   "execution_count": 54,
   "id": "1a1af332",
   "metadata": {},
   "outputs": [],
   "source": [
    "#Split the data into dependent and independent variable\n",
    "y_standardised = result_df.iloc[:, 1].values\n",
    "X_standardised = result_df.drop(['Number of Passengers','Number of Flights', \"Number of Flights Scaled\"], axis=1).values"
   ]
  },
  {
   "cell_type": "code",
   "execution_count": 55,
   "id": "cdf1d636",
   "metadata": {},
   "outputs": [
    {
     "name": "stdout",
     "output_type": "stream",
     "text": [
      "[ 3083938  2049461  1582968  1198971   976359   872069   896281   675558\n",
      "   610891   674159   592230   502257    75403  3401491  2731438  2181633\n",
      "  2347447  2094227  1845145  1684169  1522954  1493345  1614520  1505972\n",
      "  1242450   107071    20427    22661    47151     6404     3481     2263\n",
      "     3435     2068     1179     1581     1103      698        0   401476\n",
      "   237169   209999   227353   199899   205520   176399   117108   120240\n",
      "   120736   111786    77976    35783 10226737  9527345 10581329 11292004\n",
      " 11086880 10992964 11239633 11950248 12934729 14395703 13428009 12342174\n",
      "  2432245      471       33      479     1221      451      165        0\n",
      "       96        0      206      125      164       71 32200279 29857328\n",
      " 28392481 30829365 32210918 33791476 35605242 39205080 43445039 45886998\n",
      " 47028326 47953492 10434038 21292751 19434402 18792907 20182487 20492881\n",
      " 22394942 23940336 25568728 29502780 33285983 33455502 34539131  7310203\n",
      " 15120156 13355816 11842267 12446807 12304082 12836467 13602910 15125521\n",
      " 15856019 16456586 16741588 16945304  4071568 25050995 24493369 24357033\n",
      " 25854643 26551735 27223883 28252407 30576458 31980390 33140348 33961569\n",
      " 34010677  8178071 31626726 29814810 29375806 30477910 30504505 32935800\n",
      " 36993374 40793939 44603629 50283184 55090028 57817776 14169082  1457625\n",
      "  1242703  1032275  1003085  1100636  1137057  1308239  1663013  1922315\n",
      "  1812671  1883073  1930826   453747  1169029  1023602   797974   974583\n",
      "  1088895  1141811  1161820   987606  1189379  1430029  1254783  1218623\n",
      "   185480   225393   191418   276283   309471   375875   428761   454995\n",
      "   420309   498431   690404   717299   576446    69532  1729957  1738813\n",
      "  1633530  1638230  1546894  1494647  1785717  2113866  2560374  2635059\n",
      "  2625103  2737680   494777  3817469  3027394  2948845  3410999  3478301\n",
      "  3474944  3579245  3066997  3396861  3132235  2888369  2892782   622237\n",
      "    20633    20603    35102    24869    20942    49008    32930    57741\n",
      "    64284    73330    64384    77806    18949   114131    99166   124005\n",
      "   127781   125245   170202   152101   144727   147608   135806    80619\n",
      "    79815     7771    29905    44181    50383    38230    37286    39793\n",
      "    61454    53565    70553    53059    67161    45857     2464     4050\n",
      "     1831      399      589     1215      166     1139     3170     1453\n",
      "      217     1775     4368       58  1721343  1472397  1621423  1829281\n",
      "  1926882  2060805  2158121  1785990  1709537  1834673  1848552  1816690\n",
      "   298139   868239  1104740  1180088  1099551   827881   807181   695548\n",
      "   532188   729784   890552  1006572   743728   103998      103      218\n",
      "        9     2864     2135        2      234    80263    31593       52\n",
      "      400        0       34    78834    90729   145592   177291   171083\n",
      "   212209   283781   170608   181385   177179   203317   189545    34710\n",
      "   487987   456154   652131   765160   907021   887797   831652   916916\n",
      "   861287   979602   934459  1333250   617077   338658   365827   483685\n",
      "   505312   503991   471561   284224   333085   564275   638758   676894\n",
      "  1350434   431449    85729    25868   189655    90863    53319    39297\n",
      "   140572   198082   139631   139713   145671   259069   162574   376933\n",
      "   281659   228675   216781   223635   260426   211348   145127   128729\n",
      "   172189   139623   267526   168644 34430457 33160710 33399099 33590185\n",
      " 33697955 33522207 32787639 30859720 30080866 29474251 30763342 32174377\n",
      "  7751673     2717     3203     1545        0        0      943      405\n",
      "      404        0        0      691        0        0        0        0\n",
      "        0        0        0        0        0        0        0        0\n",
      "        0        0        0        0        0        0        0        0\n",
      "        0        0        0        0        0        0        0        0\n",
      "     4080    10733    27010    21318     1639     2545      503      797\n",
      "      737      196      242        0       89   120054     4945     5534\n",
      "     5752     3417    15323      600     3379       57      374      475\n",
      "      158        0        0        0        0        0        0        0\n",
      "        0        0        0        0        0        0        0   118564\n",
      "    15787    11817    12756    11190    10485     7938     4330     4138\n",
      "     3214     2270     1139      150        0        0        0        0\n",
      "        0        0        0      102        0        0        0        0\n",
      "        0        0        0        0        0        0        0        0\n",
      "        0        0        0        0        0        0  3596251  2958807\n",
      "  2393800  2254183  2000089  1949861  2038814  2400586  2232964  2288281\n",
      "  2371032  2362642   725861  8981281  8296658  7709515  7659888  7699470\n",
      "  7845866  8166125  8604508  8947117  8847473  8733269  8186286  2253169\n",
      "        0        0        0        0        0        0        0        0\n",
      "        0        0        0        0        0  3273146  3062296  2751829\n",
      "  2640319  2780345  2821895  3080206  3226409  3265974  3275840  3440459\n",
      "  3441206  1067131        0        0        0        0        0        0\n",
      "        0        0        0        0        0        0        0        0\n",
      "        0        0        0        0        0        0        0        0\n",
      "        0        0        0        0   748975   483213   542851   435090\n",
      "   705339   833855   497867   100493   315960   467467   483168   420332\n",
      "    70559  1286818  1180428   992000  1101410  1125163  1177414   685407\n",
      "   650717   702617   696270   772584   847059   196050        0        0\n",
      "        0        0        0        0        0        0        0        0\n",
      "        0        0        0   847106   462126   438383   475919   438222\n",
      "   515346   403499   303013   325666   330822   310681   449786    97095\n",
      "        0        0       49        0        0        0        0        0\n",
      "       63        0        0        0        0        0        0        0\n",
      "        0        0        0        0        0        0        0        0\n",
      "        0        0  2073046  2376281  2280828  2347216  2196938  2224604\n",
      "  2637055  2840865  2594887  2627729  2587164  2446617   357271   783211\n",
      "   881085   917776   950319   814481   571120   854164  1113590  1148048\n",
      "  1376735  1442310  1487956   188127        0        0        0        0\n",
      "        0        0        0        0        0        0        0        0\n",
      "        0  2392553  2480839  2257047  2273196  2125689  2075482  2195472\n",
      "  2233609  2017581  1942898  1870498  1769373   311883        0        0\n",
      "        0        0        0        0        0        0        0        0\n",
      "        0        0        0        0        0        0        0        0\n",
      "        0        0        0        0        0        0        0        0\n",
      "    25027     5699     6898     7642     2673     4894     4073     4784\n",
      "     2354        4      667    28207    18888    32660    12060    11271\n",
      "    19617    99639   413291   328283   306790   277834   299213   228974\n",
      "   193881    93395        0        0        0        0        0        0\n",
      "        0        0        0        0        0        0        0   115447\n",
      "    53273    44643    47092    45470    22959     9044     6196     5688\n",
      "     3746     3793    29784    17593]\n"
     ]
    }
   ],
   "source": [
    "#View the y_standardised variable\n",
    "print(y_standardised)"
   ]
  },
  {
   "cell_type": "code",
   "execution_count": 56,
   "id": "35b398d1",
   "metadata": {},
   "outputs": [
    {
     "name": "stdout",
     "output_type": "stream",
     "text": [
      "[[ 2.00800000e+03  0.00000000e+00  0.00000000e+00 ...  0.00000000e+00\n",
      "   0.00000000e+00 -1.41900940e-01]\n",
      " [ 2.00900000e+03  0.00000000e+00  0.00000000e+00 ...  0.00000000e+00\n",
      "   0.00000000e+00 -2.43272692e-01]\n",
      " [ 2.01000000e+03  0.00000000e+00  0.00000000e+00 ...  0.00000000e+00\n",
      "   0.00000000e+00 -3.12776389e-01]\n",
      " ...\n",
      " [ 2.01800000e+03  1.00000000e+00  0.00000000e+00 ...  0.00000000e+00\n",
      "   1.00000000e+00 -4.65832583e-01]\n",
      " [ 2.01900000e+03  1.00000000e+00  0.00000000e+00 ...  0.00000000e+00\n",
      "   1.00000000e+00 -4.63181216e-01]\n",
      " [ 2.02000000e+03  1.00000000e+00  0.00000000e+00 ...  0.00000000e+00\n",
      "   1.00000000e+00 -4.63921533e-01]]\n"
     ]
    }
   ],
   "source": [
    "#View the x_standardised variable\n",
    "print(X_standardised)"
   ]
  },
  {
   "cell_type": "code",
   "execution_count": 57,
   "id": "eae034d1",
   "metadata": {},
   "outputs": [
    {
     "data": {
      "text/plain": [
       "((780, 12), (780,))"
      ]
     },
     "execution_count": 57,
     "metadata": {},
     "output_type": "execute_result"
    }
   ],
   "source": [
    "#View the shape of X_standardised and y_standardised\n",
    "X_standardised.shape, y_standardised.shape"
   ]
  },
  {
   "cell_type": "code",
   "execution_count": 58,
   "id": "9e141a69",
   "metadata": {},
   "outputs": [],
   "source": [
    "# Split the data into features (X_standardised) and target variable (y_standardised)\n",
    "X_standardised_train, X_standardised_test, y_standardised_train, y_standardised_test = train_test_split(X_standardised, y_standardised, test_size=0.2)"
   ]
  },
  {
   "cell_type": "markdown",
   "id": "8e9a99bc",
   "metadata": {},
   "source": [
    "### Fit Regression using standardised data"
   ]
  },
  {
   "cell_type": "code",
   "execution_count": 59,
   "id": "2277724d",
   "metadata": {
    "scrolled": true
   },
   "outputs": [
    {
     "name": "stdout",
     "output_type": "stream",
     "text": [
      "Linear Regression - R-squared (standardised scaled): 0.9551138445103784\n",
      "Decision_Regressor - R-squared (standardised scaled): 0.882659961989623\n",
      "Ridge Regression alpha=10 - R-squared (standardised scaled): 0.9556065353844998\n",
      "Ridge Regression alpha=0.1 - R-squared (standardised scaled): 0.9551237436395135\n",
      "Ridge Regression alpha=1.0 - R-squared (standardised scaled): 0.9552079163429321\n",
      "Lasso Regression alpha=0.01 - R-squared (standardised scaled): 0.9551138447617913\n",
      "Lasso Regression alpha=1.0 - R-squared (standardised scaled): 0.955113847036588\n",
      "Lasso Regression alpha=0.001 - R-squared (standardised scaled): 0.955113844535576\n",
      "ElasticNet Regression alpha = 0.01 - R-squared (standardised scaled): 0.9541225931998922\n",
      "Random Forest Regression - R-squared (standardised scaled): 0.9885988738053734\n",
      "Support Vector Regression - R-squared (standardised scaled): -0.1519817956194327\n",
      "K-Nearest Neighbors Regression - R-squared (standardised scaled): 0.9849083631903125\n"
     ]
    }
   ],
   "source": [
    "from sklearn.metrics import mean_squared_error, r2_score\n",
    "from sklearn.preprocessing import StandardScaler\n",
    "\n",
    "#Create a StandardScaler instance\n",
    "scaler = StandardScaler()\n",
    "\n",
    "# Scale the training and test data\n",
    "X_standardised_train = scaler.fit_transform(X_standardised_train)\n",
    "X_standardised_test = scaler.transform(X_standardised_test)\n",
    "\n",
    "#Define models with their respective hyperparameters\n",
    "models_standardised = [\n",
    "    ('Linear Regression', LinearRegression()),\n",
    "    ('Decision_Regressor', DecisionTreeRegressor(max_depth=2, random_state=0)),\n",
    "    ('Ridge Regression alpha=10', Ridge(alpha=10)),\n",
    "    ('Ridge Regression alpha=0.1', Ridge(alpha=0.1)),\n",
    "    ('Ridge Regression alpha=1.0', Ridge(alpha=1.0)),\n",
    "    ('Lasso Regression alpha=0.01', Lasso(alpha=0.01)),\n",
    "    ('Lasso Regression alpha=1.0', Lasso(alpha=0.10)),\n",
    "    ('Lasso Regression alpha=0.001', Lasso(alpha=0.001)),\n",
    "    ('ElasticNet Regression alpha = 0.01', ElasticNet(alpha = 0.1)),\n",
    "    ('Random Forest Regression', RandomForestRegressor(n_estimators=1000, random_state=0)),\n",
    "    ('Support Vector Regression', SVR()),\n",
    "    ('K-Nearest Neighbors Regression', KNeighborsRegressor(algorithm='auto', leaf_size=30,metric='minkowski',\n",
    "                                   metric_params=None, n_jobs=1, n_neighbors=5))\n",
    "]\n",
    "\n",
    "#Train and evaluate each model\n",
    "for name, model in models_standardised:\n",
    "    model.fit(X_standardised_train, y_standardised_train)\n",
    "    y_pred_standardised = model.predict(X_standardised_test)\n",
    "    r2_standardised = r2_score(y_standardised_test, y_pred_standardised)\n",
    "    print(f\"{name} - R-squared (standardised scaled): {r2_standardised}\")\n",
    "    "
   ]
  },
  {
   "cell_type": "markdown",
   "id": "a64c5f07",
   "metadata": {},
   "source": [
    "## Hyperparameter tuning using gridsearchCV for standardised data"
   ]
  },
  {
   "cell_type": "code",
   "execution_count": 60,
   "id": "28970326",
   "metadata": {},
   "outputs": [
    {
     "name": "stdout",
     "output_type": "stream",
     "text": [
      "Fitting 5 folds for each of 3 candidates, totalling 15 fits\n",
      "[CV 1/5] END .........................alpha=0.1;, score=0.946 total time=   0.0s\n",
      "[CV 2/5] END .........................alpha=0.1;, score=0.959 total time=   0.0s\n",
      "[CV 3/5] END .........................alpha=0.1;, score=0.938 total time=   0.0s\n",
      "[CV 4/5] END .........................alpha=0.1;, score=0.953 total time=   0.0s\n",
      "[CV 5/5] END .........................alpha=0.1;, score=0.960 total time=   0.0s\n",
      "[CV 1/5] END .........................alpha=1.0;, score=0.946 total time=   0.0s\n",
      "[CV 2/5] END .........................alpha=1.0;, score=0.959 total time=   0.0s\n",
      "[CV 3/5] END .........................alpha=1.0;, score=0.938 total time=   0.0s\n",
      "[CV 4/5] END .........................alpha=1.0;, score=0.954 total time=   0.0s\n",
      "[CV 5/5] END .........................alpha=1.0;, score=0.960 total time=   0.0s\n",
      "[CV 1/5] END ........................alpha=10.0;, score=0.944 total time=   0.0s\n",
      "[CV 2/5] END ........................alpha=10.0;, score=0.958 total time=   0.0s\n",
      "[CV 3/5] END ........................alpha=10.0;, score=0.938 total time=   0.0s\n",
      "[CV 4/5] END ........................alpha=10.0;, score=0.954 total time=   0.0s\n",
      "[CV 5/5] END ........................alpha=10.0;, score=0.959 total time=   0.0s\n",
      "Ridge Regression - R-squared tuned(standardised): 0.9552079163429321, Best Params: {'alpha': 1.0}\n",
      "Fitting 5 folds for each of 3 candidates, totalling 15 fits\n",
      "[CV 1/5] END ........................alpha=0.01;, score=0.946 total time=   0.0s\n",
      "[CV 2/5] END ........................alpha=0.01;, score=0.959 total time=   0.0s\n",
      "[CV 3/5] END ........................alpha=0.01;, score=0.938 total time=   0.0s\n",
      "[CV 4/5] END ........................alpha=0.01;, score=0.953 total time=   0.0s\n",
      "[CV 5/5] END ........................alpha=0.01;, score=0.960 total time=   0.0s\n",
      "[CV 1/5] END .........................alpha=1.0;, score=0.946 total time=   0.0s\n",
      "[CV 2/5] END .........................alpha=1.0;, score=0.959 total time=   0.0s\n",
      "[CV 3/5] END .........................alpha=1.0;, score=0.938 total time=   0.0s\n",
      "[CV 4/5] END .........................alpha=1.0;, score=0.953 total time=   0.0s\n",
      "[CV 5/5] END .........................alpha=1.0;, score=0.960 total time=   0.0s\n",
      "[CV 1/5] END ......................alpha=0.0001;, score=0.946 total time=   0.0s\n",
      "[CV 2/5] END ......................alpha=0.0001;, score=0.959 total time=   0.0s\n",
      "[CV 3/5] END ......................alpha=0.0001;, score=0.938 total time=   0.0s\n",
      "[CV 4/5] END ......................alpha=0.0001;, score=0.953 total time=   0.0s\n",
      "[CV 5/5] END ......................alpha=0.0001;, score=0.960 total time=   0.0s\n",
      "Lasso Regression - R-squared tuned(standardised): 0.9551138699028634, Best Params: {'alpha': 1.0}\n",
      "Fitting 5 folds for each of 30 candidates, totalling 150 fits\n",
      "[CV 1/5] END ...............C=0.01, gamma=0.01;, score=-0.113 total time=   0.0s\n",
      "[CV 2/5] END ...............C=0.01, gamma=0.01;, score=-0.145 total time=   0.0s\n",
      "[CV 3/5] END ...............C=0.01, gamma=0.01;, score=-0.110 total time=   0.0s\n",
      "[CV 4/5] END ...............C=0.01, gamma=0.01;, score=-0.187 total time=   0.0s\n",
      "[CV 5/5] END ...............C=0.01, gamma=0.01;, score=-0.159 total time=   0.0s\n",
      "[CV 1/5] END ................C=0.01, gamma=0.1;, score=-0.113 total time=   0.0s\n",
      "[CV 2/5] END ................C=0.01, gamma=0.1;, score=-0.145 total time=   0.0s\n",
      "[CV 3/5] END ................C=0.01, gamma=0.1;, score=-0.110 total time=   0.0s\n",
      "[CV 4/5] END ................C=0.01, gamma=0.1;, score=-0.187 total time=   0.0s\n",
      "[CV 5/5] END ................C=0.01, gamma=0.1;, score=-0.159 total time=   0.0s\n",
      "[CV 1/5] END ...............C=0.01, gamma=0.01;, score=-0.113 total time=   0.0s\n",
      "[CV 2/5] END ...............C=0.01, gamma=0.01;, score=-0.145 total time=   0.0s\n",
      "[CV 3/5] END ...............C=0.01, gamma=0.01;, score=-0.110 total time=   0.0s\n",
      "[CV 4/5] END ...............C=0.01, gamma=0.01;, score=-0.187 total time=   0.0s\n",
      "[CV 5/5] END ...............C=0.01, gamma=0.01;, score=-0.159 total time=   0.0s\n",
      "[CV 1/5] END ..............C=0.01, gamma=0.001;, score=-0.113 total time=   0.0s\n",
      "[CV 2/5] END ..............C=0.01, gamma=0.001;, score=-0.145 total time=   0.0s\n",
      "[CV 3/5] END ..............C=0.01, gamma=0.001;, score=-0.110 total time=   0.0s\n",
      "[CV 4/5] END ..............C=0.01, gamma=0.001;, score=-0.187 total time=   0.0s\n",
      "[CV 5/5] END ..............C=0.01, gamma=0.001;, score=-0.159 total time=   0.0s\n",
      "[CV 1/5] END ..............C=0.01, gamma=0.001;, score=-0.113 total time=   0.0s\n",
      "[CV 2/5] END ..............C=0.01, gamma=0.001;, score=-0.145 total time=   0.0s\n",
      "[CV 3/5] END ..............C=0.01, gamma=0.001;, score=-0.110 total time=   0.0s\n",
      "[CV 4/5] END ..............C=0.01, gamma=0.001;, score=-0.187 total time=   0.0s\n",
      "[CV 5/5] END ..............C=0.01, gamma=0.001;, score=-0.159 total time=   0.0s\n",
      "[CV 1/5] END ................C=0.1, gamma=0.01;, score=-0.113 total time=   0.0s\n",
      "[CV 2/5] END ................C=0.1, gamma=0.01;, score=-0.145 total time=   0.0s\n",
      "[CV 3/5] END ................C=0.1, gamma=0.01;, score=-0.110 total time=   0.0s\n",
      "[CV 4/5] END ................C=0.1, gamma=0.01;, score=-0.187 total time=   0.0s\n",
      "[CV 5/5] END ................C=0.1, gamma=0.01;, score=-0.159 total time=   0.0s\n",
      "[CV 1/5] END .................C=0.1, gamma=0.1;, score=-0.113 total time=   0.0s\n",
      "[CV 2/5] END .................C=0.1, gamma=0.1;, score=-0.145 total time=   0.0s\n",
      "[CV 3/5] END .................C=0.1, gamma=0.1;, score=-0.110 total time=   0.0s\n",
      "[CV 4/5] END .................C=0.1, gamma=0.1;, score=-0.187 total time=   0.0s\n",
      "[CV 5/5] END .................C=0.1, gamma=0.1;, score=-0.159 total time=   0.0s\n",
      "[CV 1/5] END ................C=0.1, gamma=0.01;, score=-0.113 total time=   0.0s\n",
      "[CV 2/5] END ................C=0.1, gamma=0.01;, score=-0.145 total time=   0.0s\n",
      "[CV 3/5] END ................C=0.1, gamma=0.01;, score=-0.110 total time=   0.0s\n",
      "[CV 4/5] END ................C=0.1, gamma=0.01;, score=-0.187 total time=   0.0s\n",
      "[CV 5/5] END ................C=0.1, gamma=0.01;, score=-0.159 total time=   0.0s\n",
      "[CV 1/5] END ...............C=0.1, gamma=0.001;, score=-0.113 total time=   0.0s\n",
      "[CV 2/5] END ...............C=0.1, gamma=0.001;, score=-0.145 total time=   0.0s\n",
      "[CV 3/5] END ...............C=0.1, gamma=0.001;, score=-0.110 total time=   0.0s\n",
      "[CV 4/5] END ...............C=0.1, gamma=0.001;, score=-0.187 total time=   0.0s\n",
      "[CV 5/5] END ...............C=0.1, gamma=0.001;, score=-0.159 total time=   0.0s\n",
      "[CV 1/5] END ...............C=0.1, gamma=0.001;, score=-0.113 total time=   0.0s\n",
      "[CV 2/5] END ...............C=0.1, gamma=0.001;, score=-0.145 total time=   0.0s\n",
      "[CV 3/5] END ...............C=0.1, gamma=0.001;, score=-0.110 total time=   0.0s\n",
      "[CV 4/5] END ...............C=0.1, gamma=0.001;, score=-0.187 total time=   0.0s\n",
      "[CV 5/5] END ...............C=0.1, gamma=0.001;, score=-0.159 total time=   0.0s\n",
      "[CV 1/5] END ..................C=1, gamma=0.01;, score=-0.113 total time=   0.0s\n",
      "[CV 2/5] END ..................C=1, gamma=0.01;, score=-0.145 total time=   0.0s\n",
      "[CV 3/5] END ..................C=1, gamma=0.01;, score=-0.110 total time=   0.0s\n",
      "[CV 4/5] END ..................C=1, gamma=0.01;, score=-0.187 total time=   0.0s\n",
      "[CV 5/5] END ..................C=1, gamma=0.01;, score=-0.159 total time=   0.0s\n",
      "[CV 1/5] END ...................C=1, gamma=0.1;, score=-0.113 total time=   0.0s\n",
      "[CV 2/5] END ...................C=1, gamma=0.1;, score=-0.145 total time=   0.0s\n",
      "[CV 3/5] END ...................C=1, gamma=0.1;, score=-0.110 total time=   0.0s\n",
      "[CV 4/5] END ...................C=1, gamma=0.1;, score=-0.187 total time=   0.0s\n",
      "[CV 5/5] END ...................C=1, gamma=0.1;, score=-0.159 total time=   0.0s\n",
      "[CV 1/5] END ..................C=1, gamma=0.01;, score=-0.113 total time=   0.0s\n",
      "[CV 2/5] END ..................C=1, gamma=0.01;, score=-0.145 total time=   0.0s\n",
      "[CV 3/5] END ..................C=1, gamma=0.01;, score=-0.110 total time=   0.0s\n",
      "[CV 4/5] END ..................C=1, gamma=0.01;, score=-0.187 total time=   0.0s\n",
      "[CV 5/5] END ..................C=1, gamma=0.01;, score=-0.159 total time=   0.0s\n",
      "[CV 1/5] END .................C=1, gamma=0.001;, score=-0.113 total time=   0.0s\n",
      "[CV 2/5] END .................C=1, gamma=0.001;, score=-0.145 total time=   0.0s\n"
     ]
    },
    {
     "name": "stdout",
     "output_type": "stream",
     "text": [
      "[CV 3/5] END .................C=1, gamma=0.001;, score=-0.110 total time=   0.0s\n",
      "[CV 4/5] END .................C=1, gamma=0.001;, score=-0.187 total time=   0.0s\n",
      "[CV 5/5] END .................C=1, gamma=0.001;, score=-0.159 total time=   0.0s\n",
      "[CV 1/5] END .................C=1, gamma=0.001;, score=-0.113 total time=   0.0s\n",
      "[CV 2/5] END .................C=1, gamma=0.001;, score=-0.145 total time=   0.0s\n",
      "[CV 3/5] END .................C=1, gamma=0.001;, score=-0.110 total time=   0.0s\n",
      "[CV 4/5] END .................C=1, gamma=0.001;, score=-0.187 total time=   0.0s\n",
      "[CV 5/5] END .................C=1, gamma=0.001;, score=-0.159 total time=   0.0s\n",
      "[CV 1/5] END .................C=10, gamma=0.01;, score=-0.113 total time=   0.0s\n",
      "[CV 2/5] END .................C=10, gamma=0.01;, score=-0.145 total time=   0.0s\n",
      "[CV 3/5] END .................C=10, gamma=0.01;, score=-0.110 total time=   0.0s\n",
      "[CV 4/5] END .................C=10, gamma=0.01;, score=-0.187 total time=   0.0s\n",
      "[CV 5/5] END .................C=10, gamma=0.01;, score=-0.159 total time=   0.0s\n",
      "[CV 1/5] END ..................C=10, gamma=0.1;, score=-0.113 total time=   0.0s\n",
      "[CV 2/5] END ..................C=10, gamma=0.1;, score=-0.145 total time=   0.0s\n",
      "[CV 3/5] END ..................C=10, gamma=0.1;, score=-0.110 total time=   0.0s\n",
      "[CV 4/5] END ..................C=10, gamma=0.1;, score=-0.187 total time=   0.0s\n",
      "[CV 5/5] END ..................C=10, gamma=0.1;, score=-0.159 total time=   0.0s\n",
      "[CV 1/5] END .................C=10, gamma=0.01;, score=-0.113 total time=   0.0s\n",
      "[CV 2/5] END .................C=10, gamma=0.01;, score=-0.145 total time=   0.0s\n",
      "[CV 3/5] END .................C=10, gamma=0.01;, score=-0.110 total time=   0.0s\n",
      "[CV 4/5] END .................C=10, gamma=0.01;, score=-0.187 total time=   0.0s\n",
      "[CV 5/5] END .................C=10, gamma=0.01;, score=-0.159 total time=   0.0s\n",
      "[CV 1/5] END ................C=10, gamma=0.001;, score=-0.113 total time=   0.0s\n",
      "[CV 2/5] END ................C=10, gamma=0.001;, score=-0.145 total time=   0.0s\n",
      "[CV 3/5] END ................C=10, gamma=0.001;, score=-0.110 total time=   0.0s\n",
      "[CV 4/5] END ................C=10, gamma=0.001;, score=-0.187 total time=   0.0s\n",
      "[CV 5/5] END ................C=10, gamma=0.001;, score=-0.159 total time=   0.0s\n",
      "[CV 1/5] END ................C=10, gamma=0.001;, score=-0.113 total time=   0.0s\n",
      "[CV 2/5] END ................C=10, gamma=0.001;, score=-0.145 total time=   0.0s\n",
      "[CV 3/5] END ................C=10, gamma=0.001;, score=-0.110 total time=   0.0s\n",
      "[CV 4/5] END ................C=10, gamma=0.001;, score=-0.187 total time=   0.0s\n",
      "[CV 5/5] END ................C=10, gamma=0.001;, score=-0.159 total time=   0.0s\n",
      "[CV 1/5] END ................C=100, gamma=0.01;, score=-0.113 total time=   0.0s\n",
      "[CV 2/5] END ................C=100, gamma=0.01;, score=-0.145 total time=   0.0s\n",
      "[CV 3/5] END ................C=100, gamma=0.01;, score=-0.110 total time=   0.0s\n",
      "[CV 4/5] END ................C=100, gamma=0.01;, score=-0.187 total time=   0.0s\n",
      "[CV 5/5] END ................C=100, gamma=0.01;, score=-0.159 total time=   0.0s\n",
      "[CV 1/5] END .................C=100, gamma=0.1;, score=-0.113 total time=   0.0s\n",
      "[CV 2/5] END .................C=100, gamma=0.1;, score=-0.145 total time=   0.0s\n",
      "[CV 3/5] END .................C=100, gamma=0.1;, score=-0.110 total time=   0.0s\n",
      "[CV 4/5] END .................C=100, gamma=0.1;, score=-0.187 total time=   0.0s\n",
      "[CV 5/5] END .................C=100, gamma=0.1;, score=-0.159 total time=   0.0s\n",
      "[CV 1/5] END ................C=100, gamma=0.01;, score=-0.113 total time=   0.0s\n",
      "[CV 2/5] END ................C=100, gamma=0.01;, score=-0.145 total time=   0.0s\n",
      "[CV 3/5] END ................C=100, gamma=0.01;, score=-0.110 total time=   0.0s\n",
      "[CV 4/5] END ................C=100, gamma=0.01;, score=-0.187 total time=   0.0s\n",
      "[CV 5/5] END ................C=100, gamma=0.01;, score=-0.159 total time=   0.0s\n",
      "[CV 1/5] END ...............C=100, gamma=0.001;, score=-0.113 total time=   0.0s\n",
      "[CV 2/5] END ...............C=100, gamma=0.001;, score=-0.145 total time=   0.0s\n",
      "[CV 3/5] END ...............C=100, gamma=0.001;, score=-0.110 total time=   0.0s\n",
      "[CV 4/5] END ...............C=100, gamma=0.001;, score=-0.187 total time=   0.0s\n",
      "[CV 5/5] END ...............C=100, gamma=0.001;, score=-0.159 total time=   0.0s\n",
      "[CV 1/5] END ...............C=100, gamma=0.001;, score=-0.113 total time=   0.0s\n",
      "[CV 2/5] END ...............C=100, gamma=0.001;, score=-0.145 total time=   0.0s\n",
      "[CV 3/5] END ...............C=100, gamma=0.001;, score=-0.110 total time=   0.0s\n",
      "[CV 4/5] END ...............C=100, gamma=0.001;, score=-0.187 total time=   0.0s\n",
      "[CV 5/5] END ...............C=100, gamma=0.001;, score=-0.159 total time=   0.0s\n",
      "[CV 1/5] END ...............C=1000, gamma=0.01;, score=-0.112 total time=   0.0s\n",
      "[CV 2/5] END ...............C=1000, gamma=0.01;, score=-0.144 total time=   0.0s\n",
      "[CV 3/5] END ...............C=1000, gamma=0.01;, score=-0.109 total time=   0.0s\n",
      "[CV 4/5] END ...............C=1000, gamma=0.01;, score=-0.186 total time=   0.0s\n",
      "[CV 5/5] END ...............C=1000, gamma=0.01;, score=-0.158 total time=   0.0s\n",
      "[CV 1/5] END ................C=1000, gamma=0.1;, score=-0.112 total time=   0.0s\n",
      "[CV 2/5] END ................C=1000, gamma=0.1;, score=-0.145 total time=   0.0s\n",
      "[CV 3/5] END ................C=1000, gamma=0.1;, score=-0.110 total time=   0.0s\n",
      "[CV 4/5] END ................C=1000, gamma=0.1;, score=-0.186 total time=   0.0s\n",
      "[CV 5/5] END ................C=1000, gamma=0.1;, score=-0.158 total time=   0.0s\n",
      "[CV 1/5] END ...............C=1000, gamma=0.01;, score=-0.112 total time=   0.0s\n",
      "[CV 2/5] END ...............C=1000, gamma=0.01;, score=-0.144 total time=   0.0s\n",
      "[CV 3/5] END ...............C=1000, gamma=0.01;, score=-0.109 total time=   0.0s\n",
      "[CV 4/5] END ...............C=1000, gamma=0.01;, score=-0.186 total time=   0.0s\n",
      "[CV 5/5] END ...............C=1000, gamma=0.01;, score=-0.158 total time=   0.0s\n",
      "[CV 1/5] END ..............C=1000, gamma=0.001;, score=-0.113 total time=   0.0s\n",
      "[CV 2/5] END ..............C=1000, gamma=0.001;, score=-0.145 total time=   0.0s\n",
      "[CV 3/5] END ..............C=1000, gamma=0.001;, score=-0.110 total time=   0.0s\n",
      "[CV 4/5] END ..............C=1000, gamma=0.001;, score=-0.187 total time=   0.0s\n",
      "[CV 5/5] END ..............C=1000, gamma=0.001;, score=-0.159 total time=   0.0s\n",
      "[CV 1/5] END ..............C=1000, gamma=0.001;, score=-0.113 total time=   0.0s\n",
      "[CV 2/5] END ..............C=1000, gamma=0.001;, score=-0.145 total time=   0.0s\n",
      "[CV 3/5] END ..............C=1000, gamma=0.001;, score=-0.110 total time=   0.0s\n",
      "[CV 4/5] END ..............C=1000, gamma=0.001;, score=-0.187 total time=   0.0s\n",
      "[CV 5/5] END ..............C=1000, gamma=0.001;, score=-0.159 total time=   0.0s\n",
      "Support Vector Regression - R-squared tuned(standardised): -0.15090621644393942, Best Params: {'C': 1000, 'gamma': 0.01}\n"
     ]
    }
   ],
   "source": [
    "#Define models with their respective parameter grids for hyperparameter tuning\n",
    "models_with_tuning = [\n",
    "    ('Ridge Regression', Ridge(), {'alpha': [0.1, 1.0, 10.0]}),\n",
    "    ('Lasso Regression', Lasso(), {'alpha': [0.01, 1.0, 0.0001]}),\n",
    "    ('Support Vector Regression', SVR(), {'C': [0.01,0.1,1,10,100,1000], 'gamma': [0.01,0.1,0.01,0.001,0.001]})\n",
    "]\n",
    "\n",
    "#Train and evaluate each model using GridSearchCV\n",
    "for name, model, param_grid in models_with_tuning:\n",
    "    grid = GridSearchCV(model, param_grid, verbose =4)\n",
    "    grid.fit(X_standardised_train, y_standardised_train)\n",
    "    \n",
    "    best_model = grid.best_estimator_\n",
    "    y_pred_standardised = best_model.predict(X_standardised_test)\n",
    "    \n",
    "    r2_standardised = r2_score(y_standardised_test, y_pred_standardised)\n",
    "    \n",
    "    print(f\"{name} - R-squared tuned(standardised): {r2_standardised}, Best Params: {grid.best_params_}\")\n"
   ]
  },
  {
   "cell_type": "markdown",
   "id": "aa8631c2",
   "metadata": {},
   "source": [
    "# Building regressions Model using Label Encoder"
   ]
  },
  {
   "cell_type": "markdown",
   "id": "95d19777",
   "metadata": {},
   "source": [
    "## For Label encoded with no feature scaling"
   ]
  },
  {
   "cell_type": "code",
   "execution_count": 61,
   "id": "c13a06bf",
   "metadata": {},
   "outputs": [
    {
     "name": "stdout",
     "output_type": "stream",
     "text": [
      "<class 'pandas.core.frame.DataFrame'>\n",
      "RangeIndex: 780 entries, 0 to 779\n",
      "Data columns (total 6 columns):\n",
      " #   Column                Non-Null Count  Dtype \n",
      "---  ------                --------------  ----- \n",
      " 0   tra_cov               780 non-null    object\n",
      " 1   aircraft              780 non-null    object\n",
      " 2   distance              780 non-null    object\n",
      " 3   TIME_PERIOD           780 non-null    int64 \n",
      " 4   Number of Passengers  780 non-null    int64 \n",
      " 5   Number of Flights     780 non-null    int64 \n",
      "dtypes: int64(3), object(3)\n",
      "memory usage: 36.7+ KB\n"
     ]
    }
   ],
   "source": [
    "transport_data.info()"
   ]
  },
  {
   "cell_type": "code",
   "execution_count": 62,
   "id": "46cc3a78",
   "metadata": {},
   "outputs": [
    {
     "name": "stdout",
     "output_type": "stream",
     "text": [
      "    tra_cov aircraft     distance  TIME_PERIOD  Number of Passengers  \\\n",
      "0      INTL    AC_JJ  KM1000-1499         2008               3083938   \n",
      "1      INTL    AC_JJ  KM1000-1499         2009               2049461   \n",
      "2      INTL    AC_JJ  KM1000-1499         2010               1582968   \n",
      "3      INTL    AC_JJ  KM1000-1499         2011               1198971   \n",
      "4      INTL    AC_JJ  KM1000-1499         2012                976359   \n",
      "..      ...      ...          ...          ...                   ...   \n",
      "775     NAT    AC_WJ     KM_LT300         2016                  5688   \n",
      "776     NAT    AC_WJ     KM_LT300         2017                  3746   \n",
      "777     NAT    AC_WJ     KM_LT300         2018                  3793   \n",
      "778     NAT    AC_WJ     KM_LT300         2019                 29784   \n",
      "779     NAT    AC_WJ     KM_LT300         2020                 17593   \n",
      "\n",
      "     Number of Flights  tracov_encoded  aircraft_encoded  distance_encoded  \n",
      "0                18858               0                 0                 0  \n",
      "1                12970               0                 0                 0  \n",
      "2                 8933               0                 0                 0  \n",
      "3                 5816               0                 0                 0  \n",
      "4                 4688               0                 0                 0  \n",
      "..                 ...             ...               ...               ...  \n",
      "775                 54               1                 4                 5  \n",
      "776                 31               1                 4                 5  \n",
      "777                 43               1                 4                 5  \n",
      "778                197               1                 4                 5  \n",
      "779                154               1                 4                 5  \n",
      "\n",
      "[780 rows x 9 columns]\n"
     ]
    }
   ],
   "source": [
    "from sklearn.preprocessing import LabelEncoder\n",
    "\n",
    "#Initialize LabelEncoder\n",
    "label_encoder = LabelEncoder()\n",
    "\n",
    "#Fit and transform the categorical columns\n",
    "transport_data['tracov_encoded'] = label_encoder.fit_transform(transport_data['tra_cov'])\n",
    "transport_data['aircraft_encoded'] = label_encoder.fit_transform(transport_data['aircraft'])\n",
    "transport_data['distance_encoded'] = label_encoder.fit_transform(transport_data['distance'])\n",
    "\n",
    "\n",
    "#Display the transformed data\n",
    "print(transport_data)\n"
   ]
  },
  {
   "cell_type": "code",
   "execution_count": 63,
   "id": "08900c46",
   "metadata": {},
   "outputs": [
    {
     "name": "stdout",
     "output_type": "stream",
     "text": [
      "<class 'pandas.core.frame.DataFrame'>\n",
      "RangeIndex: 780 entries, 0 to 779\n",
      "Data columns (total 9 columns):\n",
      " #   Column                Non-Null Count  Dtype \n",
      "---  ------                --------------  ----- \n",
      " 0   tra_cov               780 non-null    object\n",
      " 1   aircraft              780 non-null    object\n",
      " 2   distance              780 non-null    object\n",
      " 3   TIME_PERIOD           780 non-null    int64 \n",
      " 4   Number of Passengers  780 non-null    int64 \n",
      " 5   Number of Flights     780 non-null    int64 \n",
      " 6   tracov_encoded        780 non-null    int32 \n",
      " 7   aircraft_encoded      780 non-null    int32 \n",
      " 8   distance_encoded      780 non-null    int32 \n",
      "dtypes: int32(3), int64(3), object(3)\n",
      "memory usage: 45.8+ KB\n"
     ]
    }
   ],
   "source": [
    "#View the transport data to check if the categorical variables with label encoders have been created\n",
    "transport_data.info()"
   ]
  },
  {
   "cell_type": "code",
   "execution_count": 64,
   "id": "f4534e8e",
   "metadata": {},
   "outputs": [],
   "source": [
    "#Split into dependent and independent variables\n",
    "y = transport_data.iloc[:, 4].values\n",
    "X = transport_data.drop(['Number of Passengers', 'tra_cov','aircraft','distance'], axis=1).values\n",
    "\n",
    "\n",
    "# Split the data into features (X) and target variable (y)\n",
    "X_train, X_test, y_train, y_test = train_test_split(X, y, test_size=0.2)"
   ]
  },
  {
   "cell_type": "code",
   "execution_count": 65,
   "id": "55111405",
   "metadata": {},
   "outputs": [
    {
     "data": {
      "text/plain": [
       "((780, 5), (780,))"
      ]
     },
     "execution_count": 65,
     "metadata": {},
     "output_type": "execute_result"
    }
   ],
   "source": [
    "#View the shpe of X and Y\n",
    "X.shape, y.shape"
   ]
  },
  {
   "cell_type": "code",
   "execution_count": 66,
   "id": "6b46cfc7",
   "metadata": {},
   "outputs": [
    {
     "name": "stdout",
     "output_type": "stream",
     "text": [
      "[[ 2019     0     1     1     1]\n",
      " [ 2008 64067     1     3     2]\n",
      " [ 2020     0     1     2     4]\n",
      " ...\n",
      " [ 2011     0     1     3     4]\n",
      " [ 2017  3424     0     3     5]\n",
      " [ 2015 27608     1     1     5]]\n"
     ]
    }
   ],
   "source": [
    "#Print X_train\n",
    "print(X_train)"
   ]
  },
  {
   "cell_type": "code",
   "execution_count": 67,
   "id": "14d952ae",
   "metadata": {},
   "outputs": [
    {
     "name": "stdout",
     "output_type": "stream",
     "text": [
      "[       0  2073046        0  2480839  3265974  2376281 13428009        0\n",
      "        0   120736        0    45470     5534        0    50383 33285983\n",
      "      667    53319        0     3170  2195472  1104740      479   717299\n",
      "   979602        0    45857 12304082     1831   306790        0 36993374\n",
      "    28207        0   303013        0     1103        0    85729 33697955\n",
      " 39205080        0        0  3275840        0        0  2196938    27010\n",
      "   209999        0 10581329     4894        0     1545  1308239       57\n",
      "  2060805        4  2181633  1180088        0     1215    97095        0\n",
      "        0        0    22661  1487956   992000 30829365   483213        0\n",
      "  2888369        0 26551735   139713        0  1926882   152101    80263\n",
      "    70553   212209        0        0 25568728   917776        0        0\n",
      "     7771        0   987606        0        0  2280828        0        0\n",
      "        0    20603  3441206   833855        0        0  2371032   483168\n",
      "        0   135806  3083938      158  2640319  1099551 16456586   690404\n",
      "   610891   827881      698     7938    11190  2038814    29905  2017581\n",
      "     2263      374        0 32210918        0 31980390 19434402    17593\n",
      "        0  2948845      242        0        0 23940336 14169082  1684169\n",
      "  2000089    25868   438222   617077     4784        0    47151   650717\n",
      "      475        0   281659    99639 22394942   907021  1785990   191418\n",
      "        0   974583   198082       49      400  2288281   170608  8947117\n",
      "  1638230   193881     1221   260426        0        0  3817469        0\n",
      "   494777        0        0        0        0        0   168644 34430457\n",
      "    15323      797        0     9044        0  2393800 20492881        0\n",
      "  2125689  2737680   638758        0  3027394  7659888  3478301   743728\n",
      "        0   676894    12060        0        0        2 28392481 12836467\n",
      "     3746        0    20942  2347216 33160710     2864        0   315960\n",
      "   225393   205520  1845145   117108  1522954        0   413291   881085\n",
      "   100493        0   797974    53059  2821895    93395    79815        0\n",
      "  2254183   449786    22959        0  2432245   685407        0    44643\n",
      "   228675       89 33961569 30763342  1006572  1350434 10992964   622237\n",
      "        0        0 32200279 32174377     3203  2560374        0      503\n",
      "  1546894        0   357271   375875   333085 16945304     4368    32660\n",
      "     4050 32935800        0  2158121   950319   325666        0   203317\n",
      " 45886998   309471 11842267        0   216781        0 30080866        0\n",
      "  8733269     7642   115447 32787639    35783        0 33455502 35605242\n",
      "        0        0   223635        0    64284 15856019  2075482        0\n",
      "     2673   505312        0        0       34 30477910    69532    10733\n",
      "     1453     2545        0 29474251 12342174   330822  1949861  1834673\n",
      "     6196  2627729   181385  1254783 27223883  1180428        0   807181\n",
      "     2464        0        0      234        0 11239633    64384  1812671\n",
      "  3273146     1179    77806 50283184  7751673        0   438383  2362642\n",
      "        0   120240        0   103998  1023602 13355816 10434038   403499\n",
      "    11271        0  1032275        0        0  1721343   118564   498431\n",
      "        0 33522207        0    90863        0      164 16741588     1639\n",
      "  2113866     3214   861287        0  8604508        0        0  1125163\n",
      "  1177414        0       58    20427   107071  3474944     3481  8186286\n",
      " 25854643  2446617   695548   310681        0 11292004    61454        0\n",
      "   532188   171083        0  7699470   435090   420309        0        0\n",
      "   211348        0        0    70559        0   772584 34010677     6898\n",
      "   162574      166     6404  2273196  3410999  2751829      451        0\n",
      "  2731438  4071568    99166      125   267526  8981281   887797        0\n",
      "  2637055  1113590        0 11950248   872069  1101410        0     2270\n",
      "   185480  1218623  2232964   145127    73330        0   847106     3379\n",
      "        0     1775   120054   127781 21292751     1139     1139  2094227\n",
      "  1141811        0 34539131   125245        0      600 18792907        0\n",
      "  3401491        0     2354        0  1376735        0 57817776  1633530\n",
      "  8178071 13602910  3579245     4138   515346        0        0        0\n",
      "        0        0   748975  1505972  2049461 30504505  8847473      217\n",
      "        0  9527345  2587164        0 43445039     3435   189655        0\n",
      "        0      943  1883073        0 47028326       33  3066997  1848552\n",
      "      405    18949    39793        0        0      737  2780345        0\n",
      "    29784   139631   475919    75403     4080        0    12756 24357033\n",
      "   284224 24493369        0        0        0   592230   177291        0\n",
      " 30576458        0   467467   497867        0        0   487987  1161820\n",
      "  1922315   847059 33590185        0   456154  1148048   454995        0\n",
      "    90729    77976        0  1942898  1067131   783211    31593     4073\n",
      "  3080206        0    53273   199899        0   145671 33140348  1785717\n",
      "       96        0        0      196  1137057      589    18888   196050\n",
      "        0   237169   144727   172189        0   428761  1816690   277834\n",
      "   696270  2594887 15125521  1930826    44181  1198971    24869  7310203\n",
      " 12446807 31626726  1663013        0        9  1100636     5688   652131\n",
      "   854164   571120 55090028        0   576446 33399099    53565        0\n",
      "   139623   705339        0  1709537   259069 28252407      218    19617\n",
      "  2635059   298139     2068   147608     4330  3396861  1286818  3062296\n",
      "        0  2392553  2840865        0        0        0        0  2257047\n",
      "   170202  1242450 40793939 29502780        0 10226737        0  1003085\n",
      " 29814810      150   283781        0        0   311883  1493345   868239\n",
      "   188127   471561  2958807  1769373  8296658        0   177179  3226409]\n"
     ]
    }
   ],
   "source": [
    "#Print y_train\n",
    "print(y_train)"
   ]
  },
  {
   "cell_type": "markdown",
   "id": "1eb7e03e",
   "metadata": {},
   "source": [
    "# Regression Modelling using labeled encoded data for data with no feature scaling"
   ]
  },
  {
   "cell_type": "code",
   "execution_count": 68,
   "id": "06b09b6b",
   "metadata": {
    "scrolled": false
   },
   "outputs": [
    {
     "name": "stdout",
     "output_type": "stream",
     "text": [
      "Linear Regression -  R-squared: 0.9266225044346917\n",
      "Decision_Regressor -  R-squared: 0.9006287558675151\n",
      "Ridge Regression alpha=10 -  R-squared: 0.9266936353269948\n",
      "Ridge Regression alpha=0.1 -  R-squared: 0.9266233473407419\n",
      "Ridge Regression alpha=1.0 -  R-squared: 0.9266308014883561\n",
      "Lasso Regression alpha=0.0001 -  R-squared: 0.9266225044351175\n",
      "Lasso Regression alpha=0.01 -  R-squared: 0.9266225044772858\n",
      "Lasso Regression alpha=1.0 -  R-squared: 0.9266225086939875\n",
      "ElasticNet Regression alpha = 0.01 -  R-squared: 0.9266474536399626\n",
      "Random Forest Regression -  R-squared: 0.9895166625461068\n",
      "Support Vector Regression -  R-squared: -0.10612844323879722\n",
      "K-Nearest Neighbors Regression -  R-squared: 0.9136955311996211\n"
     ]
    }
   ],
   "source": [
    "#Define models with their respective hyperparameters\n",
    "models_labeled = [\n",
    "    ('Linear Regression', LinearRegression()),\n",
    "    ('Decision_Regressor', DecisionTreeRegressor(max_depth=2, random_state=0)),\n",
    "    ('Ridge Regression alpha=10', Ridge(alpha=10)),\n",
    "    ('Ridge Regression alpha=0.1', Ridge(alpha=0.1)),\n",
    "    ('Ridge Regression alpha=1.0', Ridge(alpha=1.0)),\n",
    "    ('Lasso Regression alpha=0.0001', Lasso(alpha=0.0001)),\n",
    "    ('Lasso Regression alpha=0.01', Lasso(alpha=0.01)),\n",
    "    ('Lasso Regression alpha=1.0', Lasso(alpha=1.0)),\n",
    "    ('ElasticNet Regression alpha = 0.01', ElasticNet(alpha = 0.01)),\n",
    "    ('Random Forest Regression', RandomForestRegressor(n_estimators=1000, random_state=0)),\n",
    "    ('Support Vector Regression', SVR()),\n",
    "    ('K-Nearest Neighbors Regression', KNeighborsRegressor(algorithm='auto', leaf_size=30,metric='minkowski',\n",
    "                                   metric_params=None, n_jobs=1, n_neighbors=5))\n",
    "]\n",
    "\n",
    "#Train and evaluate each model\n",
    "for name, model in models_labeled:\n",
    "    model.fit(X_train, y_train)\n",
    "    y_pred = model.predict(X_test)\n",
    "    mse = mean_squared_error(y_test, y_pred)\n",
    "    r2 = r2_score(y_test, y_pred)\n",
    "    print(f\"{name} -  R-squared: {r2}\")"
   ]
  },
  {
   "cell_type": "markdown",
   "id": "d7ac0d4a",
   "metadata": {},
   "source": [
    "## Visualize the Decision Tree Regression"
   ]
  },
  {
   "cell_type": "code",
   "execution_count": 69,
   "id": "5709320b",
   "metadata": {},
   "outputs": [
    {
     "data": {
      "text/html": [
       "<style>#sk-container-id-1 {color: black;}#sk-container-id-1 pre{padding: 0;}#sk-container-id-1 div.sk-toggleable {background-color: white;}#sk-container-id-1 label.sk-toggleable__label {cursor: pointer;display: block;width: 100%;margin-bottom: 0;padding: 0.3em;box-sizing: border-box;text-align: center;}#sk-container-id-1 label.sk-toggleable__label-arrow:before {content: \"▸\";float: left;margin-right: 0.25em;color: #696969;}#sk-container-id-1 label.sk-toggleable__label-arrow:hover:before {color: black;}#sk-container-id-1 div.sk-estimator:hover label.sk-toggleable__label-arrow:before {color: black;}#sk-container-id-1 div.sk-toggleable__content {max-height: 0;max-width: 0;overflow: hidden;text-align: left;background-color: #f0f8ff;}#sk-container-id-1 div.sk-toggleable__content pre {margin: 0.2em;color: black;border-radius: 0.25em;background-color: #f0f8ff;}#sk-container-id-1 input.sk-toggleable__control:checked~div.sk-toggleable__content {max-height: 200px;max-width: 100%;overflow: auto;}#sk-container-id-1 input.sk-toggleable__control:checked~label.sk-toggleable__label-arrow:before {content: \"▾\";}#sk-container-id-1 div.sk-estimator input.sk-toggleable__control:checked~label.sk-toggleable__label {background-color: #d4ebff;}#sk-container-id-1 div.sk-label input.sk-toggleable__control:checked~label.sk-toggleable__label {background-color: #d4ebff;}#sk-container-id-1 input.sk-hidden--visually {border: 0;clip: rect(1px 1px 1px 1px);clip: rect(1px, 1px, 1px, 1px);height: 1px;margin: -1px;overflow: hidden;padding: 0;position: absolute;width: 1px;}#sk-container-id-1 div.sk-estimator {font-family: monospace;background-color: #f0f8ff;border: 1px dotted black;border-radius: 0.25em;box-sizing: border-box;margin-bottom: 0.5em;}#sk-container-id-1 div.sk-estimator:hover {background-color: #d4ebff;}#sk-container-id-1 div.sk-parallel-item::after {content: \"\";width: 100%;border-bottom: 1px solid gray;flex-grow: 1;}#sk-container-id-1 div.sk-label:hover label.sk-toggleable__label {background-color: #d4ebff;}#sk-container-id-1 div.sk-serial::before {content: \"\";position: absolute;border-left: 1px solid gray;box-sizing: border-box;top: 0;bottom: 0;left: 50%;z-index: 0;}#sk-container-id-1 div.sk-serial {display: flex;flex-direction: column;align-items: center;background-color: white;padding-right: 0.2em;padding-left: 0.2em;position: relative;}#sk-container-id-1 div.sk-item {position: relative;z-index: 1;}#sk-container-id-1 div.sk-parallel {display: flex;align-items: stretch;justify-content: center;background-color: white;position: relative;}#sk-container-id-1 div.sk-item::before, #sk-container-id-1 div.sk-parallel-item::before {content: \"\";position: absolute;border-left: 1px solid gray;box-sizing: border-box;top: 0;bottom: 0;left: 50%;z-index: -1;}#sk-container-id-1 div.sk-parallel-item {display: flex;flex-direction: column;z-index: 1;position: relative;background-color: white;}#sk-container-id-1 div.sk-parallel-item:first-child::after {align-self: flex-end;width: 50%;}#sk-container-id-1 div.sk-parallel-item:last-child::after {align-self: flex-start;width: 50%;}#sk-container-id-1 div.sk-parallel-item:only-child::after {width: 0;}#sk-container-id-1 div.sk-dashed-wrapped {border: 1px dashed gray;margin: 0 0.4em 0.5em 0.4em;box-sizing: border-box;padding-bottom: 0.4em;background-color: white;}#sk-container-id-1 div.sk-label label {font-family: monospace;font-weight: bold;display: inline-block;line-height: 1.2em;}#sk-container-id-1 div.sk-label-container {text-align: center;}#sk-container-id-1 div.sk-container {/* jupyter's `normalize.less` sets `[hidden] { display: none; }` but bootstrap.min.css set `[hidden] { display: none !important; }` so we also need the `!important` here to be able to override the default hidden behavior on the sphinx rendered scikit-learn.org. See: https://github.com/scikit-learn/scikit-learn/issues/21755 */display: inline-block !important;position: relative;}#sk-container-id-1 div.sk-text-repr-fallback {display: none;}</style><div id=\"sk-container-id-1\" class=\"sk-top-container\"><div class=\"sk-text-repr-fallback\"><pre>DecisionTreeRegressor(max_depth=2, random_state=0)</pre><b>In a Jupyter environment, please rerun this cell to show the HTML representation or trust the notebook. <br />On GitHub, the HTML representation is unable to render, please try loading this page with nbviewer.org.</b></div><div class=\"sk-container\" hidden><div class=\"sk-item\"><div class=\"sk-estimator sk-toggleable\"><input class=\"sk-toggleable__control sk-hidden--visually\" id=\"sk-estimator-id-1\" type=\"checkbox\" checked><label for=\"sk-estimator-id-1\" class=\"sk-toggleable__label sk-toggleable__label-arrow\">DecisionTreeRegressor</label><div class=\"sk-toggleable__content\"><pre>DecisionTreeRegressor(max_depth=2, random_state=0)</pre></div></div></div></div></div>"
      ],
      "text/plain": [
       "DecisionTreeRegressor(max_depth=2, random_state=0)"
      ]
     },
     "execution_count": 69,
     "metadata": {},
     "output_type": "execute_result"
    }
   ],
   "source": [
    "#Create the Decision Tree Regressor\n",
    "from sklearn.tree import DecisionTreeRegressor\n",
    "from sklearn.datasets import make_regression\n",
    "from sklearn.model_selection import train_test_split\n",
    "Decision_Regressor = DecisionTreeRegressor(max_depth=2, random_state=0)\n",
    "# Fit the model\n",
    "Decision_Regressor.fit(X_train, y_train)\n",
    "\n",
    "# Assuming 'Decision_Regressor' is your trained DecisionTreeRegressor\n",
    "Decision_Regressor.fit(X_train, y_train)"
   ]
  },
  {
   "cell_type": "code",
   "execution_count": 70,
   "id": "8614e4bd",
   "metadata": {},
   "outputs": [
    {
     "data": {
      "image/png": "[encoded data removed]",
      "text/plain": [
       "<IPython.core.display.Image object>"
      ]
     },
     "execution_count": 70,
     "metadata": {},
     "output_type": "execute_result"
    }
   ],
   "source": [
    "#Visualize the Decision tree regressor\n",
    "from sklearn.tree import DecisionTreeRegressor\n",
    "from sklearn.tree import export_graphviz\n",
    "import pydotplus  # You need to import this library to work with Graphviz\n",
    "from IPython.display import Image\n",
    "from sklearn import tree\n",
    "from io import StringIO\n",
    "\n",
    "#Create a StringIO object to hold the visualization\n",
    "dot_data = StringIO()\n",
    "\n",
    "#Export the Decision Tree as a Graphviz dot file\n",
    "export_graphviz(Decision_Regressor, out_file=dot_data, filled=True)\n",
    "\n",
    "#Use pydotplus to create an image from the dot file\n",
    "graph = pydotplus.graph_from_dot_data(dot_data.getvalue())\n",
    "\n",
    "#Create an Image from the graph\n",
    "Image(graph.create_png())"
   ]
  },
  {
   "cell_type": "markdown",
   "id": "d37e29d4",
   "metadata": {},
   "source": [
    "# Regression Modelling using labeled encoded data for data with no feature scaling using hyperparameter tuning"
   ]
  },
  {
   "cell_type": "code",
   "execution_count": 71,
   "id": "0ac7a4d8",
   "metadata": {
    "scrolled": true
   },
   "outputs": [
    {
     "name": "stdout",
     "output_type": "stream",
     "text": [
      "Fitting 5 folds for each of 3 candidates, totalling 15 fits\n",
      "[CV 1/5] END .........................alpha=0.1;, score=0.905 total time=   0.0s\n",
      "[CV 2/5] END .........................alpha=0.1;, score=0.898 total time=   0.0s\n",
      "[CV 3/5] END .........................alpha=0.1;, score=0.921 total time=   0.0s\n",
      "[CV 4/5] END .........................alpha=0.1;, score=0.944 total time=   0.0s\n",
      "[CV 5/5] END .........................alpha=0.1;, score=0.914 total time=   0.0s\n",
      "[CV 1/5] END .........................alpha=1.0;, score=0.905 total time=   0.0s\n",
      "[CV 2/5] END .........................alpha=1.0;, score=0.898 total time=   0.0s\n",
      "[CV 3/5] END .........................alpha=1.0;, score=0.921 total time=   0.0s\n",
      "[CV 4/5] END .........................alpha=1.0;, score=0.944 total time=   0.0s\n",
      "[CV 5/5] END .........................alpha=1.0;, score=0.914 total time=   0.0s\n",
      "[CV 1/5] END ..........................alpha=10;, score=0.905 total time=   0.0s\n",
      "[CV 2/5] END ..........................alpha=10;, score=0.898 total time=   0.0s\n",
      "[CV 3/5] END ..........................alpha=10;, score=0.921 total time=   0.0s\n",
      "[CV 4/5] END ..........................alpha=10;, score=0.945 total time=   0.0s\n",
      "[CV 5/5] END ..........................alpha=10;, score=0.914 total time=   0.0s\n",
      "Ridge Regression - R-squared tuned: 0.9266936353269948, Best Params: {'alpha': 10}\n",
      "Fitting 5 folds for each of 3 candidates, totalling 15 fits\n",
      "[CV 1/5] END ......................alpha=0.0001;, score=0.905 total time=   0.0s\n",
      "[CV 2/5] END ......................alpha=0.0001;, score=0.898 total time=   0.0s\n",
      "[CV 3/5] END ......................alpha=0.0001;, score=0.921 total time=   0.0s\n",
      "[CV 4/5] END ......................alpha=0.0001;, score=0.944 total time=   0.0s\n",
      "[CV 5/5] END ......................alpha=0.0001;, score=0.914 total time=   0.0s\n",
      "[CV 1/5] END ........................alpha=0.01;, score=0.905 total time=   0.0s\n",
      "[CV 2/5] END ........................alpha=0.01;, score=0.898 total time=   0.0s\n",
      "[CV 3/5] END ........................alpha=0.01;, score=0.921 total time=   0.0s\n",
      "[CV 4/5] END ........................alpha=0.01;, score=0.944 total time=   0.0s\n",
      "[CV 5/5] END ........................alpha=0.01;, score=0.914 total time=   0.0s\n",
      "[CV 1/5] END .........................alpha=1.0;, score=0.905 total time=   0.0s\n",
      "[CV 2/5] END .........................alpha=1.0;, score=0.898 total time=   0.0s\n",
      "[CV 3/5] END .........................alpha=1.0;, score=0.921 total time=   0.0s\n",
      "[CV 4/5] END .........................alpha=1.0;, score=0.944 total time=   0.0s\n",
      "[CV 5/5] END .........................alpha=1.0;, score=0.914 total time=   0.0s\n",
      "Lasso Regression - R-squared tuned: 0.9266225086939875, Best Params: {'alpha': 1.0}\n",
      "Fitting 5 folds for each of 30 candidates, totalling 150 fits\n",
      "[CV 1/5] END ...............C=0.01, gamma=0.01;, score=-0.120 total time=   0.0s\n",
      "[CV 2/5] END ...............C=0.01, gamma=0.01;, score=-0.171 total time=   0.0s\n",
      "[CV 3/5] END ...............C=0.01, gamma=0.01;, score=-0.204 total time=   0.0s\n",
      "[CV 4/5] END ...............C=0.01, gamma=0.01;, score=-0.134 total time=   0.0s\n",
      "[CV 5/5] END ...............C=0.01, gamma=0.01;, score=-0.146 total time=   0.0s\n",
      "[CV 1/5] END ................C=0.01, gamma=0.1;, score=-0.120 total time=   0.0s\n",
      "[CV 2/5] END ................C=0.01, gamma=0.1;, score=-0.171 total time=   0.0s\n",
      "[CV 3/5] END ................C=0.01, gamma=0.1;, score=-0.204 total time=   0.0s\n",
      "[CV 4/5] END ................C=0.01, gamma=0.1;, score=-0.134 total time=   0.0s\n",
      "[CV 5/5] END ................C=0.01, gamma=0.1;, score=-0.146 total time=   0.0s\n",
      "[CV 1/5] END ...............C=0.01, gamma=0.01;, score=-0.120 total time=   0.0s\n",
      "[CV 2/5] END ...............C=0.01, gamma=0.01;, score=-0.171 total time=   0.0s\n",
      "[CV 3/5] END ...............C=0.01, gamma=0.01;, score=-0.204 total time=   0.0s\n",
      "[CV 4/5] END ...............C=0.01, gamma=0.01;, score=-0.134 total time=   0.0s\n",
      "[CV 5/5] END ...............C=0.01, gamma=0.01;, score=-0.146 total time=   0.0s\n",
      "[CV 1/5] END ..............C=0.01, gamma=0.001;, score=-0.120 total time=   0.0s\n",
      "[CV 2/5] END ..............C=0.01, gamma=0.001;, score=-0.171 total time=   0.0s\n",
      "[CV 3/5] END ..............C=0.01, gamma=0.001;, score=-0.204 total time=   0.0s\n",
      "[CV 4/5] END ..............C=0.01, gamma=0.001;, score=-0.134 total time=   0.0s\n",
      "[CV 5/5] END ..............C=0.01, gamma=0.001;, score=-0.146 total time=   0.0s\n",
      "[CV 1/5] END ..............C=0.01, gamma=0.001;, score=-0.120 total time=   0.0s\n",
      "[CV 2/5] END ..............C=0.01, gamma=0.001;, score=-0.171 total time=   0.0s\n",
      "[CV 3/5] END ..............C=0.01, gamma=0.001;, score=-0.204 total time=   0.0s\n",
      "[CV 4/5] END ..............C=0.01, gamma=0.001;, score=-0.134 total time=   0.0s\n",
      "[CV 5/5] END ..............C=0.01, gamma=0.001;, score=-0.146 total time=   0.0s\n",
      "[CV 1/5] END ................C=0.1, gamma=0.01;, score=-0.120 total time=   0.0s\n",
      "[CV 2/5] END ................C=0.1, gamma=0.01;, score=-0.171 total time=   0.0s\n",
      "[CV 3/5] END ................C=0.1, gamma=0.01;, score=-0.204 total time=   0.0s\n",
      "[CV 4/5] END ................C=0.1, gamma=0.01;, score=-0.134 total time=   0.0s\n",
      "[CV 5/5] END ................C=0.1, gamma=0.01;, score=-0.146 total time=   0.0s\n",
      "[CV 1/5] END .................C=0.1, gamma=0.1;, score=-0.120 total time=   0.0s\n",
      "[CV 2/5] END .................C=0.1, gamma=0.1;, score=-0.171 total time=   0.0s\n",
      "[CV 3/5] END .................C=0.1, gamma=0.1;, score=-0.204 total time=   0.0s\n",
      "[CV 4/5] END .................C=0.1, gamma=0.1;, score=-0.134 total time=   0.0s\n",
      "[CV 5/5] END .................C=0.1, gamma=0.1;, score=-0.146 total time=   0.0s\n",
      "[CV 1/5] END ................C=0.1, gamma=0.01;, score=-0.120 total time=   0.0s\n",
      "[CV 2/5] END ................C=0.1, gamma=0.01;, score=-0.171 total time=   0.0s\n",
      "[CV 3/5] END ................C=0.1, gamma=0.01;, score=-0.204 total time=   0.0s\n",
      "[CV 4/5] END ................C=0.1, gamma=0.01;, score=-0.134 total time=   0.0s\n",
      "[CV 5/5] END ................C=0.1, gamma=0.01;, score=-0.146 total time=   0.0s\n",
      "[CV 1/5] END ...............C=0.1, gamma=0.001;, score=-0.120 total time=   0.0s\n",
      "[CV 2/5] END ...............C=0.1, gamma=0.001;, score=-0.171 total time=   0.0s\n",
      "[CV 3/5] END ...............C=0.1, gamma=0.001;, score=-0.204 total time=   0.0s\n",
      "[CV 4/5] END ...............C=0.1, gamma=0.001;, score=-0.134 total time=   0.0s\n",
      "[CV 5/5] END ...............C=0.1, gamma=0.001;, score=-0.146 total time=   0.0s\n",
      "[CV 1/5] END ...............C=0.1, gamma=0.001;, score=-0.120 total time=   0.0s\n",
      "[CV 2/5] END ...............C=0.1, gamma=0.001;, score=-0.171 total time=   0.0s\n",
      "[CV 3/5] END ...............C=0.1, gamma=0.001;, score=-0.204 total time=   0.0s\n",
      "[CV 4/5] END ...............C=0.1, gamma=0.001;, score=-0.134 total time=   0.0s\n",
      "[CV 5/5] END ...............C=0.1, gamma=0.001;, score=-0.146 total time=   0.0s\n",
      "[CV 1/5] END ..................C=1, gamma=0.01;, score=-0.120 total time=   0.0s\n",
      "[CV 2/5] END ..................C=1, gamma=0.01;, score=-0.171 total time=   0.0s\n",
      "[CV 3/5] END ..................C=1, gamma=0.01;, score=-0.204 total time=   0.0s\n",
      "[CV 4/5] END ..................C=1, gamma=0.01;, score=-0.134 total time=   0.0s\n",
      "[CV 5/5] END ..................C=1, gamma=0.01;, score=-0.146 total time=   0.0s\n",
      "[CV 1/5] END ...................C=1, gamma=0.1;, score=-0.120 total time=   0.0s\n",
      "[CV 2/5] END ...................C=1, gamma=0.1;, score=-0.171 total time=   0.0s\n",
      "[CV 3/5] END ...................C=1, gamma=0.1;, score=-0.204 total time=   0.0s\n",
      "[CV 4/5] END ...................C=1, gamma=0.1;, score=-0.134 total time=   0.0s\n",
      "[CV 5/5] END ...................C=1, gamma=0.1;, score=-0.146 total time=   0.0s\n",
      "[CV 1/5] END ..................C=1, gamma=0.01;, score=-0.120 total time=   0.0s\n",
      "[CV 2/5] END ..................C=1, gamma=0.01;, score=-0.171 total time=   0.0s\n",
      "[CV 3/5] END ..................C=1, gamma=0.01;, score=-0.204 total time=   0.0s\n",
      "[CV 4/5] END ..................C=1, gamma=0.01;, score=-0.134 total time=   0.0s\n",
      "[CV 5/5] END ..................C=1, gamma=0.01;, score=-0.146 total time=   0.0s\n",
      "[CV 1/5] END .................C=1, gamma=0.001;, score=-0.120 total time=   0.0s\n",
      "[CV 2/5] END .................C=1, gamma=0.001;, score=-0.171 total time=   0.0s\n",
      "[CV 3/5] END .................C=1, gamma=0.001;, score=-0.204 total time=   0.0s\n"
     ]
    },
    {
     "name": "stdout",
     "output_type": "stream",
     "text": [
      "[CV 4/5] END .................C=1, gamma=0.001;, score=-0.134 total time=   0.0s\n",
      "[CV 5/5] END .................C=1, gamma=0.001;, score=-0.146 total time=   0.0s\n",
      "[CV 1/5] END .................C=1, gamma=0.001;, score=-0.120 total time=   0.0s\n",
      "[CV 2/5] END .................C=1, gamma=0.001;, score=-0.171 total time=   0.0s\n",
      "[CV 3/5] END .................C=1, gamma=0.001;, score=-0.204 total time=   0.0s\n",
      "[CV 4/5] END .................C=1, gamma=0.001;, score=-0.134 total time=   0.0s\n",
      "[CV 5/5] END .................C=1, gamma=0.001;, score=-0.146 total time=   0.0s\n",
      "[CV 1/5] END .................C=10, gamma=0.01;, score=-0.120 total time=   0.0s\n",
      "[CV 2/5] END .................C=10, gamma=0.01;, score=-0.171 total time=   0.0s\n",
      "[CV 3/5] END .................C=10, gamma=0.01;, score=-0.204 total time=   0.0s\n",
      "[CV 4/5] END .................C=10, gamma=0.01;, score=-0.134 total time=   0.0s\n",
      "[CV 5/5] END .................C=10, gamma=0.01;, score=-0.146 total time=   0.0s\n",
      "[CV 1/5] END ..................C=10, gamma=0.1;, score=-0.120 total time=   0.0s\n",
      "[CV 2/5] END ..................C=10, gamma=0.1;, score=-0.171 total time=   0.0s\n",
      "[CV 3/5] END ..................C=10, gamma=0.1;, score=-0.204 total time=   0.0s\n",
      "[CV 4/5] END ..................C=10, gamma=0.1;, score=-0.134 total time=   0.0s\n",
      "[CV 5/5] END ..................C=10, gamma=0.1;, score=-0.146 total time=   0.0s\n",
      "[CV 1/5] END .................C=10, gamma=0.01;, score=-0.120 total time=   0.0s\n",
      "[CV 2/5] END .................C=10, gamma=0.01;, score=-0.171 total time=   0.0s\n",
      "[CV 3/5] END .................C=10, gamma=0.01;, score=-0.204 total time=   0.0s\n",
      "[CV 4/5] END .................C=10, gamma=0.01;, score=-0.134 total time=   0.0s\n",
      "[CV 5/5] END .................C=10, gamma=0.01;, score=-0.146 total time=   0.0s\n",
      "[CV 1/5] END ................C=10, gamma=0.001;, score=-0.120 total time=   0.0s\n",
      "[CV 2/5] END ................C=10, gamma=0.001;, score=-0.171 total time=   0.0s\n",
      "[CV 3/5] END ................C=10, gamma=0.001;, score=-0.204 total time=   0.0s\n",
      "[CV 4/5] END ................C=10, gamma=0.001;, score=-0.134 total time=   0.0s\n",
      "[CV 5/5] END ................C=10, gamma=0.001;, score=-0.146 total time=   0.0s\n",
      "[CV 1/5] END ................C=10, gamma=0.001;, score=-0.120 total time=   0.0s\n",
      "[CV 2/5] END ................C=10, gamma=0.001;, score=-0.171 total time=   0.0s\n",
      "[CV 3/5] END ................C=10, gamma=0.001;, score=-0.204 total time=   0.0s\n",
      "[CV 4/5] END ................C=10, gamma=0.001;, score=-0.134 total time=   0.0s\n",
      "[CV 5/5] END ................C=10, gamma=0.001;, score=-0.146 total time=   0.0s\n",
      "[CV 1/5] END ................C=100, gamma=0.01;, score=-0.120 total time=   0.0s\n",
      "[CV 2/5] END ................C=100, gamma=0.01;, score=-0.171 total time=   0.0s\n",
      "[CV 3/5] END ................C=100, gamma=0.01;, score=-0.204 total time=   0.0s\n",
      "[CV 4/5] END ................C=100, gamma=0.01;, score=-0.134 total time=   0.0s\n",
      "[CV 5/5] END ................C=100, gamma=0.01;, score=-0.146 total time=   0.0s\n",
      "[CV 1/5] END .................C=100, gamma=0.1;, score=-0.120 total time=   0.0s\n",
      "[CV 2/5] END .................C=100, gamma=0.1;, score=-0.171 total time=   0.0s\n",
      "[CV 3/5] END .................C=100, gamma=0.1;, score=-0.204 total time=   0.0s\n",
      "[CV 4/5] END .................C=100, gamma=0.1;, score=-0.134 total time=   0.0s\n",
      "[CV 5/5] END .................C=100, gamma=0.1;, score=-0.146 total time=   0.0s\n",
      "[CV 1/5] END ................C=100, gamma=0.01;, score=-0.120 total time=   0.0s\n",
      "[CV 2/5] END ................C=100, gamma=0.01;, score=-0.171 total time=   0.0s\n",
      "[CV 3/5] END ................C=100, gamma=0.01;, score=-0.204 total time=   0.0s\n",
      "[CV 4/5] END ................C=100, gamma=0.01;, score=-0.134 total time=   0.0s\n",
      "[CV 5/5] END ................C=100, gamma=0.01;, score=-0.146 total time=   0.0s\n",
      "[CV 1/5] END ...............C=100, gamma=0.001;, score=-0.120 total time=   0.0s\n",
      "[CV 2/5] END ...............C=100, gamma=0.001;, score=-0.171 total time=   0.0s\n",
      "[CV 3/5] END ...............C=100, gamma=0.001;, score=-0.204 total time=   0.0s\n",
      "[CV 4/5] END ...............C=100, gamma=0.001;, score=-0.134 total time=   0.0s\n",
      "[CV 5/5] END ...............C=100, gamma=0.001;, score=-0.146 total time=   0.0s\n",
      "[CV 1/5] END ...............C=100, gamma=0.001;, score=-0.120 total time=   0.0s\n",
      "[CV 2/5] END ...............C=100, gamma=0.001;, score=-0.171 total time=   0.0s\n",
      "[CV 3/5] END ...............C=100, gamma=0.001;, score=-0.204 total time=   0.0s\n",
      "[CV 4/5] END ...............C=100, gamma=0.001;, score=-0.134 total time=   0.0s\n",
      "[CV 5/5] END ...............C=100, gamma=0.001;, score=-0.146 total time=   0.0s\n",
      "[CV 1/5] END ...............C=1000, gamma=0.01;, score=-0.119 total time=   0.0s\n",
      "[CV 2/5] END ...............C=1000, gamma=0.01;, score=-0.171 total time=   0.0s\n",
      "[CV 3/5] END ...............C=1000, gamma=0.01;, score=-0.204 total time=   0.0s\n",
      "[CV 4/5] END ...............C=1000, gamma=0.01;, score=-0.134 total time=   0.0s\n",
      "[CV 5/5] END ...............C=1000, gamma=0.01;, score=-0.144 total time=   0.0s\n",
      "[CV 1/5] END ................C=1000, gamma=0.1;, score=-0.120 total time=   0.0s\n",
      "[CV 2/5] END ................C=1000, gamma=0.1;, score=-0.171 total time=   0.0s\n",
      "[CV 3/5] END ................C=1000, gamma=0.1;, score=-0.204 total time=   0.0s\n",
      "[CV 4/5] END ................C=1000, gamma=0.1;, score=-0.134 total time=   0.0s\n",
      "[CV 5/5] END ................C=1000, gamma=0.1;, score=-0.146 total time=   0.0s\n",
      "[CV 1/5] END ...............C=1000, gamma=0.01;, score=-0.119 total time=   0.0s\n",
      "[CV 2/5] END ...............C=1000, gamma=0.01;, score=-0.171 total time=   0.0s\n",
      "[CV 3/5] END ...............C=1000, gamma=0.01;, score=-0.204 total time=   0.0s\n",
      "[CV 4/5] END ...............C=1000, gamma=0.01;, score=-0.134 total time=   0.0s\n",
      "[CV 5/5] END ...............C=1000, gamma=0.01;, score=-0.144 total time=   0.0s\n",
      "[CV 1/5] END ..............C=1000, gamma=0.001;, score=-0.119 total time=   0.0s\n",
      "[CV 2/5] END ..............C=1000, gamma=0.001;, score=-0.169 total time=   0.0s\n",
      "[CV 3/5] END ..............C=1000, gamma=0.001;, score=-0.202 total time=   0.0s\n",
      "[CV 4/5] END ..............C=1000, gamma=0.001;, score=-0.134 total time=   0.0s\n",
      "[CV 5/5] END ..............C=1000, gamma=0.001;, score=-0.142 total time=   0.0s\n",
      "[CV 1/5] END ..............C=1000, gamma=0.001;, score=-0.119 total time=   0.0s\n",
      "[CV 2/5] END ..............C=1000, gamma=0.001;, score=-0.169 total time=   0.0s\n",
      "[CV 3/5] END ..............C=1000, gamma=0.001;, score=-0.202 total time=   0.0s\n",
      "[CV 4/5] END ..............C=1000, gamma=0.001;, score=-0.134 total time=   0.0s\n",
      "[CV 5/5] END ..............C=1000, gamma=0.001;, score=-0.142 total time=   0.0s\n",
      "Support Vector Regression - R-squared tuned: -0.10227425030935611, Best Params: {'C': 1000, 'gamma': 0.001}\n"
     ]
    }
   ],
   "source": [
    "#Define models with their respective parameter grids for hyperparameter tuning\n",
    "models_with_tuning = [\n",
    "    ('Ridge Regression', Ridge(), {'alpha': [0.1, 1.0, 10]}),\n",
    "    ('Lasso Regression', Lasso(), {'alpha': [0.0001, 0.01, 1.0]}),\n",
    "    ('Support Vector Regression', SVR(), {'C': [0.01,0.1,1,10,100,1000], 'gamma': [0.01,0.1,0.01,0.001,0.001]})\n",
    "]\n",
    "\n",
    "#Train and evaluate each model using GridSearchCV\n",
    "for name, model, param_grid in models_with_tuning:\n",
    "    grid = GridSearchCV(model, param_grid, verbose =4)\n",
    "    grid.fit(X_train, y_train)\n",
    "    \n",
    "    best_model = grid.best_estimator_\n",
    "    y_pred = best_model.predict(X_test)\n",
    "    \n",
    "    mse = mean_squared_error(y_test, y_pred)\n",
    "    r2 = r2_score(y_test, y_pred)\n",
    "    \n",
    "    print(f\"{name} - R-squared tuned: {r2}, Best Params: {grid.best_params_}\")\n"
   ]
  },
  {
   "cell_type": "markdown",
   "id": "84f1539d",
   "metadata": {},
   "source": [
    "# Regression Modelling using labeled encoded data for data with standardization"
   ]
  },
  {
   "cell_type": "code",
   "execution_count": 72,
   "id": "c58c7ca9",
   "metadata": {},
   "outputs": [],
   "source": [
    "#Split into dependent and independent variables\n",
    "y = transport_data.iloc[:, 4].values\n",
    "X = transport_data.drop(['Number of Passengers', 'tra_cov','aircraft','distance'], axis=1).values\n",
    "\n",
    "\n",
    "# Split the data into features (X) and target variable (y)\n",
    "X_train, X_test, y_train, y_test = train_test_split(X, y, test_size=0.2)"
   ]
  },
  {
   "cell_type": "code",
   "execution_count": 73,
   "id": "a98e467f",
   "metadata": {},
   "outputs": [],
   "source": [
    "from sklearn.metrics import mean_squared_error, r2_score\n",
    "from sklearn.preprocessing import StandardScaler\n",
    "\n",
    "#Creating a StandardScaler instance\n",
    "scaler = StandardScaler()\n",
    "\n",
    "#Scaling your training and test data\n",
    "X_standardised_train = scaler.fit_transform(X_train)\n",
    "X_standardised_test = scaler.transform(X_test)"
   ]
  },
  {
   "cell_type": "markdown",
   "id": "ecb0e5c8",
   "metadata": {},
   "source": [
    "# Regression Modelling using labeled encoded data for standardised data"
   ]
  },
  {
   "cell_type": "code",
   "execution_count": 74,
   "id": "f18221e0",
   "metadata": {
    "scrolled": false
   },
   "outputs": [
    {
     "name": "stdout",
     "output_type": "stream",
     "text": [
      "Linear Regression - R-squared (standardised scaled): 0.9026383415804882\n",
      "Decision_Regressor - R-squared (standardised scaled): 0.8936760367020835\n",
      "Ridge Regression alpha=10 - R-squared (standardised scaled): 0.9017481056359318\n",
      "Ridge Regression alpha=0.1 - R-squared (standardised scaled): 0.9026315812150355\n",
      "Ridge Regression alpha=1 - R-squared (standardised scaled): 0.9025687184346772\n",
      "Lasso Regression alpha=1 - R-squared (standardised scaled): 0.9026383561865126\n",
      "Lasso Regression alpha=0.01 - R-squared (standardised scaled): 0.9026383417430381\n",
      "Lasso Regression alpha=0.0001 - R-squared (standardised scaled): 0.9026383415814277\n",
      "ElasticNet Regression alpha = 0.01 - R-squared (standardised scaled): 0.9024064576251216\n",
      "Random Forest Regression - R-squared (standardised scaled): 0.9779500270439709\n",
      "Support Vector Regression - R-squared (standardised scaled): -0.14225127680860594\n",
      "K-Nearest Neighbors Regression - R-squared (standardised scaled): 0.9780915910349967\n"
     ]
    }
   ],
   "source": [
    "#Define the models\n",
    "models_standardised = [\n",
    "    ('Linear Regression', LinearRegression()),\n",
    "    ('Decision_Regressor', DecisionTreeRegressor(max_depth=2, random_state=0)),\n",
    "    ('Ridge Regression alpha=10', Ridge(alpha=10)),\n",
    "    ('Ridge Regression alpha=0.1', Ridge(alpha=0.1)),\n",
    "    ('Ridge Regression alpha=1', Ridge(alpha=1)),    \n",
    "    ('Lasso Regression alpha=1', Lasso(alpha=1)),\n",
    "    ('Lasso Regression alpha=0.01', Lasso(alpha=0.01)),\n",
    "    ('Lasso Regression alpha=0.0001', Lasso(alpha=0.0001)),\n",
    "    ('ElasticNet Regression alpha = 0.01', ElasticNet(alpha = 0.01)),\n",
    "    ('Random Forest Regression', RandomForestRegressor(n_estimators=1000, random_state=0)),\n",
    "    ('Support Vector Regression', SVR()),\n",
    "    ('K-Nearest Neighbors Regression', KNeighborsRegressor(algorithm='auto', leaf_size=30,metric='minkowski',\n",
    "                                   metric_params=None, n_jobs=1, n_neighbors=5))\n",
    "]\n",
    "\n",
    "#Train and evaluate each model\n",
    "for name, model in models_standardised:\n",
    "    model.fit(X_standardised_train, y_train)\n",
    "    y_pred_standardised = model.predict(X_standardised_test)\n",
    "    r2_standardised = r2_score(y_test, y_pred_standardised)\n",
    "    print(f\"{name} - R-squared (standardised scaled): {r2_standardised}\")"
   ]
  },
  {
   "cell_type": "markdown",
   "id": "54c44a32",
   "metadata": {},
   "source": [
    "# Regression Modelling using labeled encoded data for standardised data  using hyperparameter tuning"
   ]
  },
  {
   "cell_type": "code",
   "execution_count": 75,
   "id": "e28c54c6",
   "metadata": {},
   "outputs": [
    {
     "name": "stdout",
     "output_type": "stream",
     "text": [
      "Fitting 5 folds for each of 3 candidates, totalling 15 fits\n",
      "[CV 1/5] END .........................alpha=0.1;, score=0.929 total time=   0.0s\n",
      "[CV 2/5] END .........................alpha=0.1;, score=0.916 total time=   0.0s\n",
      "[CV 3/5] END .........................alpha=0.1;, score=0.919 total time=   0.0s\n",
      "[CV 4/5] END .........................alpha=0.1;, score=0.909 total time=   0.0s\n",
      "[CV 5/5] END .........................alpha=0.1;, score=0.934 total time=   0.0s\n",
      "[CV 1/5] END .........................alpha=1.0;, score=0.929 total time=   0.0s\n",
      "[CV 2/5] END .........................alpha=1.0;, score=0.916 total time=   0.0s\n",
      "[CV 3/5] END .........................alpha=1.0;, score=0.920 total time=   0.0s\n",
      "[CV 4/5] END .........................alpha=1.0;, score=0.909 total time=   0.0s\n",
      "[CV 5/5] END .........................alpha=1.0;, score=0.934 total time=   0.0s\n",
      "[CV 1/5] END ..........................alpha=10;, score=0.927 total time=   0.0s\n",
      "[CV 2/5] END ..........................alpha=10;, score=0.915 total time=   0.0s\n",
      "[CV 3/5] END ..........................alpha=10;, score=0.922 total time=   0.0s\n",
      "[CV 4/5] END ..........................alpha=10;, score=0.913 total time=   0.0s\n",
      "[CV 5/5] END ..........................alpha=10;, score=0.932 total time=   0.0s\n",
      "Ridge Regression - R-squared tuned: 0.9017481056359318, Best Params: {'alpha': 10}\n",
      "Fitting 5 folds for each of 3 candidates, totalling 15 fits\n",
      "[CV 1/5] END ......................alpha=0.0001;, score=0.929 total time=   0.0s\n",
      "[CV 2/5] END ......................alpha=0.0001;, score=0.916 total time=   0.0s\n",
      "[CV 3/5] END ......................alpha=0.0001;, score=0.919 total time=   0.0s\n",
      "[CV 4/5] END ......................alpha=0.0001;, score=0.909 total time=   0.0s\n",
      "[CV 5/5] END ......................alpha=0.0001;, score=0.934 total time=   0.0s\n",
      "[CV 1/5] END ........................alpha=0.01;, score=0.929 total time=   0.0s\n",
      "[CV 2/5] END ........................alpha=0.01;, score=0.916 total time=   0.0s\n",
      "[CV 3/5] END ........................alpha=0.01;, score=0.919 total time=   0.0s\n",
      "[CV 4/5] END ........................alpha=0.01;, score=0.909 total time=   0.0s\n",
      "[CV 5/5] END ........................alpha=0.01;, score=0.934 total time=   0.0s\n",
      "[CV 1/5] END .........................alpha=1.0;, score=0.929 total time=   0.0s\n",
      "[CV 2/5] END .........................alpha=1.0;, score=0.916 total time=   0.0s\n",
      "[CV 3/5] END .........................alpha=1.0;, score=0.919 total time=   0.0s\n",
      "[CV 4/5] END .........................alpha=1.0;, score=0.909 total time=   0.0s\n",
      "[CV 5/5] END .........................alpha=1.0;, score=0.934 total time=   0.0s\n",
      "Lasso Regression - R-squared tuned: 0.9026383561865126, Best Params: {'alpha': 1.0}\n",
      "Fitting 5 folds for each of 30 candidates, totalling 150 fits\n",
      "[CV 1/5] END ...............C=0.01, gamma=0.01;, score=-0.111 total time=   0.0s\n",
      "[CV 2/5] END ...............C=0.01, gamma=0.01;, score=-0.193 total time=   0.0s\n",
      "[CV 3/5] END ...............C=0.01, gamma=0.01;, score=-0.161 total time=   0.0s\n",
      "[CV 4/5] END ...............C=0.01, gamma=0.01;, score=-0.091 total time=   0.0s\n",
      "[CV 5/5] END ...............C=0.01, gamma=0.01;, score=-0.200 total time=   0.0s\n",
      "[CV 1/5] END ................C=0.01, gamma=0.1;, score=-0.111 total time=   0.0s\n",
      "[CV 2/5] END ................C=0.01, gamma=0.1;, score=-0.193 total time=   0.0s\n",
      "[CV 3/5] END ................C=0.01, gamma=0.1;, score=-0.161 total time=   0.0s\n",
      "[CV 4/5] END ................C=0.01, gamma=0.1;, score=-0.091 total time=   0.0s\n",
      "[CV 5/5] END ................C=0.01, gamma=0.1;, score=-0.200 total time=   0.0s\n",
      "[CV 1/5] END ...............C=0.01, gamma=0.01;, score=-0.111 total time=   0.0s\n",
      "[CV 2/5] END ...............C=0.01, gamma=0.01;, score=-0.193 total time=   0.0s\n",
      "[CV 3/5] END ...............C=0.01, gamma=0.01;, score=-0.161 total time=   0.0s\n",
      "[CV 4/5] END ...............C=0.01, gamma=0.01;, score=-0.091 total time=   0.0s\n",
      "[CV 5/5] END ...............C=0.01, gamma=0.01;, score=-0.200 total time=   0.0s\n",
      "[CV 1/5] END ..............C=0.01, gamma=0.001;, score=-0.111 total time=   0.0s\n",
      "[CV 2/5] END ..............C=0.01, gamma=0.001;, score=-0.193 total time=   0.0s\n",
      "[CV 3/5] END ..............C=0.01, gamma=0.001;, score=-0.161 total time=   0.0s\n",
      "[CV 4/5] END ..............C=0.01, gamma=0.001;, score=-0.091 total time=   0.0s\n",
      "[CV 5/5] END ..............C=0.01, gamma=0.001;, score=-0.200 total time=   0.0s\n",
      "[CV 1/5] END ..............C=0.01, gamma=0.001;, score=-0.111 total time=   0.0s\n",
      "[CV 2/5] END ..............C=0.01, gamma=0.001;, score=-0.193 total time=   0.0s\n",
      "[CV 3/5] END ..............C=0.01, gamma=0.001;, score=-0.161 total time=   0.0s\n",
      "[CV 4/5] END ..............C=0.01, gamma=0.001;, score=-0.091 total time=   0.0s\n",
      "[CV 5/5] END ..............C=0.01, gamma=0.001;, score=-0.200 total time=   0.0s\n",
      "[CV 1/5] END ................C=0.1, gamma=0.01;, score=-0.111 total time=   0.0s\n",
      "[CV 2/5] END ................C=0.1, gamma=0.01;, score=-0.193 total time=   0.0s\n",
      "[CV 3/5] END ................C=0.1, gamma=0.01;, score=-0.161 total time=   0.0s\n",
      "[CV 4/5] END ................C=0.1, gamma=0.01;, score=-0.091 total time=   0.0s\n",
      "[CV 5/5] END ................C=0.1, gamma=0.01;, score=-0.200 total time=   0.0s\n",
      "[CV 1/5] END .................C=0.1, gamma=0.1;, score=-0.111 total time=   0.0s\n",
      "[CV 2/5] END .................C=0.1, gamma=0.1;, score=-0.193 total time=   0.0s\n",
      "[CV 3/5] END .................C=0.1, gamma=0.1;, score=-0.161 total time=   0.0s\n",
      "[CV 4/5] END .................C=0.1, gamma=0.1;, score=-0.091 total time=   0.0s\n",
      "[CV 5/5] END .................C=0.1, gamma=0.1;, score=-0.200 total time=   0.0s\n",
      "[CV 1/5] END ................C=0.1, gamma=0.01;, score=-0.111 total time=   0.0s\n",
      "[CV 2/5] END ................C=0.1, gamma=0.01;, score=-0.193 total time=   0.0s\n",
      "[CV 3/5] END ................C=0.1, gamma=0.01;, score=-0.161 total time=   0.0s\n",
      "[CV 4/5] END ................C=0.1, gamma=0.01;, score=-0.091 total time=   0.0s\n",
      "[CV 5/5] END ................C=0.1, gamma=0.01;, score=-0.200 total time=   0.0s\n",
      "[CV 1/5] END ...............C=0.1, gamma=0.001;, score=-0.111 total time=   0.0s\n",
      "[CV 2/5] END ...............C=0.1, gamma=0.001;, score=-0.193 total time=   0.0s\n",
      "[CV 3/5] END ...............C=0.1, gamma=0.001;, score=-0.161 total time=   0.0s\n",
      "[CV 4/5] END ...............C=0.1, gamma=0.001;, score=-0.091 total time=   0.0s\n",
      "[CV 5/5] END ...............C=0.1, gamma=0.001;, score=-0.200 total time=   0.0s\n",
      "[CV 1/5] END ...............C=0.1, gamma=0.001;, score=-0.111 total time=   0.0s\n",
      "[CV 2/5] END ...............C=0.1, gamma=0.001;, score=-0.193 total time=   0.0s\n",
      "[CV 3/5] END ...............C=0.1, gamma=0.001;, score=-0.161 total time=   0.0s\n",
      "[CV 4/5] END ...............C=0.1, gamma=0.001;, score=-0.091 total time=   0.0s\n",
      "[CV 5/5] END ...............C=0.1, gamma=0.001;, score=-0.200 total time=   0.0s\n",
      "[CV 1/5] END ..................C=1, gamma=0.01;, score=-0.111 total time=   0.0s\n",
      "[CV 2/5] END ..................C=1, gamma=0.01;, score=-0.193 total time=   0.0s\n",
      "[CV 3/5] END ..................C=1, gamma=0.01;, score=-0.161 total time=   0.0s\n",
      "[CV 4/5] END ..................C=1, gamma=0.01;, score=-0.091 total time=   0.0s\n",
      "[CV 5/5] END ..................C=1, gamma=0.01;, score=-0.200 total time=   0.0s\n",
      "[CV 1/5] END ...................C=1, gamma=0.1;, score=-0.111 total time=   0.0s\n",
      "[CV 2/5] END ...................C=1, gamma=0.1;, score=-0.193 total time=   0.0s\n",
      "[CV 3/5] END ...................C=1, gamma=0.1;, score=-0.161 total time=   0.0s\n",
      "[CV 4/5] END ...................C=1, gamma=0.1;, score=-0.091 total time=   0.0s\n",
      "[CV 5/5] END ...................C=1, gamma=0.1;, score=-0.200 total time=   0.0s\n",
      "[CV 1/5] END ..................C=1, gamma=0.01;, score=-0.111 total time=   0.0s\n",
      "[CV 2/5] END ..................C=1, gamma=0.01;, score=-0.193 total time=   0.0s\n",
      "[CV 3/5] END ..................C=1, gamma=0.01;, score=-0.161 total time=   0.0s\n",
      "[CV 4/5] END ..................C=1, gamma=0.01;, score=-0.091 total time=   0.0s\n",
      "[CV 5/5] END ..................C=1, gamma=0.01;, score=-0.200 total time=   0.0s\n",
      "[CV 1/5] END .................C=1, gamma=0.001;, score=-0.111 total time=   0.0s\n",
      "[CV 2/5] END .................C=1, gamma=0.001;, score=-0.193 total time=   0.0s\n",
      "[CV 3/5] END .................C=1, gamma=0.001;, score=-0.161 total time=   0.0s\n",
      "[CV 4/5] END .................C=1, gamma=0.001;, score=-0.091 total time=   0.0s\n"
     ]
    },
    {
     "name": "stdout",
     "output_type": "stream",
     "text": [
      "[CV 5/5] END .................C=1, gamma=0.001;, score=-0.200 total time=   0.0s\n",
      "[CV 1/5] END .................C=1, gamma=0.001;, score=-0.111 total time=   0.0s\n",
      "[CV 2/5] END .................C=1, gamma=0.001;, score=-0.193 total time=   0.0s\n",
      "[CV 3/5] END .................C=1, gamma=0.001;, score=-0.161 total time=   0.0s\n",
      "[CV 4/5] END .................C=1, gamma=0.001;, score=-0.091 total time=   0.0s\n",
      "[CV 5/5] END .................C=1, gamma=0.001;, score=-0.200 total time=   0.0s\n",
      "[CV 1/5] END .................C=10, gamma=0.01;, score=-0.111 total time=   0.0s\n",
      "[CV 2/5] END .................C=10, gamma=0.01;, score=-0.193 total time=   0.0s\n",
      "[CV 3/5] END .................C=10, gamma=0.01;, score=-0.161 total time=   0.0s\n",
      "[CV 4/5] END .................C=10, gamma=0.01;, score=-0.091 total time=   0.0s\n",
      "[CV 5/5] END .................C=10, gamma=0.01;, score=-0.200 total time=   0.0s\n",
      "[CV 1/5] END ..................C=10, gamma=0.1;, score=-0.111 total time=   0.0s\n",
      "[CV 2/5] END ..................C=10, gamma=0.1;, score=-0.193 total time=   0.0s\n",
      "[CV 3/5] END ..................C=10, gamma=0.1;, score=-0.161 total time=   0.0s\n",
      "[CV 4/5] END ..................C=10, gamma=0.1;, score=-0.091 total time=   0.0s\n",
      "[CV 5/5] END ..................C=10, gamma=0.1;, score=-0.200 total time=   0.0s\n",
      "[CV 1/5] END .................C=10, gamma=0.01;, score=-0.111 total time=   0.0s\n",
      "[CV 2/5] END .................C=10, gamma=0.01;, score=-0.193 total time=   0.0s\n",
      "[CV 3/5] END .................C=10, gamma=0.01;, score=-0.161 total time=   0.0s\n",
      "[CV 4/5] END .................C=10, gamma=0.01;, score=-0.091 total time=   0.0s\n",
      "[CV 5/5] END .................C=10, gamma=0.01;, score=-0.200 total time=   0.0s\n",
      "[CV 1/5] END ................C=10, gamma=0.001;, score=-0.111 total time=   0.0s\n",
      "[CV 2/5] END ................C=10, gamma=0.001;, score=-0.193 total time=   0.0s\n",
      "[CV 3/5] END ................C=10, gamma=0.001;, score=-0.161 total time=   0.0s\n",
      "[CV 4/5] END ................C=10, gamma=0.001;, score=-0.091 total time=   0.0s\n",
      "[CV 5/5] END ................C=10, gamma=0.001;, score=-0.200 total time=   0.0s\n",
      "[CV 1/5] END ................C=10, gamma=0.001;, score=-0.111 total time=   0.0s\n",
      "[CV 2/5] END ................C=10, gamma=0.001;, score=-0.193 total time=   0.0s\n",
      "[CV 3/5] END ................C=10, gamma=0.001;, score=-0.161 total time=   0.0s\n",
      "[CV 4/5] END ................C=10, gamma=0.001;, score=-0.091 total time=   0.0s\n",
      "[CV 5/5] END ................C=10, gamma=0.001;, score=-0.200 total time=   0.0s\n",
      "[CV 1/5] END ................C=100, gamma=0.01;, score=-0.111 total time=   0.0s\n",
      "[CV 2/5] END ................C=100, gamma=0.01;, score=-0.193 total time=   0.0s\n",
      "[CV 3/5] END ................C=100, gamma=0.01;, score=-0.161 total time=   0.0s\n",
      "[CV 4/5] END ................C=100, gamma=0.01;, score=-0.091 total time=   0.0s\n",
      "[CV 5/5] END ................C=100, gamma=0.01;, score=-0.200 total time=   0.0s\n",
      "[CV 1/5] END .................C=100, gamma=0.1;, score=-0.111 total time=   0.0s\n",
      "[CV 2/5] END .................C=100, gamma=0.1;, score=-0.193 total time=   0.0s\n",
      "[CV 3/5] END .................C=100, gamma=0.1;, score=-0.161 total time=   0.0s\n",
      "[CV 4/5] END .................C=100, gamma=0.1;, score=-0.091 total time=   0.0s\n",
      "[CV 5/5] END .................C=100, gamma=0.1;, score=-0.200 total time=   0.0s\n",
      "[CV 1/5] END ................C=100, gamma=0.01;, score=-0.111 total time=   0.0s\n",
      "[CV 2/5] END ................C=100, gamma=0.01;, score=-0.193 total time=   0.0s\n",
      "[CV 3/5] END ................C=100, gamma=0.01;, score=-0.161 total time=   0.0s\n",
      "[CV 4/5] END ................C=100, gamma=0.01;, score=-0.091 total time=   0.0s\n",
      "[CV 5/5] END ................C=100, gamma=0.01;, score=-0.200 total time=   0.0s\n",
      "[CV 1/5] END ...............C=100, gamma=0.001;, score=-0.111 total time=   0.0s\n",
      "[CV 2/5] END ...............C=100, gamma=0.001;, score=-0.193 total time=   0.0s\n",
      "[CV 3/5] END ...............C=100, gamma=0.001;, score=-0.161 total time=   0.0s\n",
      "[CV 4/5] END ...............C=100, gamma=0.001;, score=-0.091 total time=   0.0s\n",
      "[CV 5/5] END ...............C=100, gamma=0.001;, score=-0.200 total time=   0.0s\n",
      "[CV 1/5] END ...............C=100, gamma=0.001;, score=-0.111 total time=   0.0s\n",
      "[CV 2/5] END ...............C=100, gamma=0.001;, score=-0.193 total time=   0.0s\n",
      "[CV 3/5] END ...............C=100, gamma=0.001;, score=-0.161 total time=   0.0s\n",
      "[CV 4/5] END ...............C=100, gamma=0.001;, score=-0.091 total time=   0.0s\n",
      "[CV 5/5] END ...............C=100, gamma=0.001;, score=-0.200 total time=   0.0s\n",
      "[CV 1/5] END ...............C=1000, gamma=0.01;, score=-0.110 total time=   0.0s\n",
      "[CV 2/5] END ...............C=1000, gamma=0.01;, score=-0.192 total time=   0.0s\n",
      "[CV 3/5] END ...............C=1000, gamma=0.01;, score=-0.160 total time=   0.0s\n",
      "[CV 4/5] END ...............C=1000, gamma=0.01;, score=-0.090 total time=   0.0s\n",
      "[CV 5/5] END ...............C=1000, gamma=0.01;, score=-0.199 total time=   0.0s\n",
      "[CV 1/5] END ................C=1000, gamma=0.1;, score=-0.109 total time=   0.0s\n",
      "[CV 2/5] END ................C=1000, gamma=0.1;, score=-0.191 total time=   0.0s\n",
      "[CV 3/5] END ................C=1000, gamma=0.1;, score=-0.158 total time=   0.0s\n",
      "[CV 4/5] END ................C=1000, gamma=0.1;, score=-0.089 total time=   0.0s\n",
      "[CV 5/5] END ................C=1000, gamma=0.1;, score=-0.197 total time=   0.0s\n",
      "[CV 1/5] END ...............C=1000, gamma=0.01;, score=-0.110 total time=   0.0s\n",
      "[CV 2/5] END ...............C=1000, gamma=0.01;, score=-0.192 total time=   0.0s\n",
      "[CV 3/5] END ...............C=1000, gamma=0.01;, score=-0.160 total time=   0.0s\n",
      "[CV 4/5] END ...............C=1000, gamma=0.01;, score=-0.090 total time=   0.0s\n",
      "[CV 5/5] END ...............C=1000, gamma=0.01;, score=-0.199 total time=   0.0s\n",
      "[CV 1/5] END ..............C=1000, gamma=0.001;, score=-0.111 total time=   0.0s\n",
      "[CV 2/5] END ..............C=1000, gamma=0.001;, score=-0.193 total time=   0.0s\n",
      "[CV 3/5] END ..............C=1000, gamma=0.001;, score=-0.161 total time=   0.0s\n",
      "[CV 4/5] END ..............C=1000, gamma=0.001;, score=-0.091 total time=   0.0s\n",
      "[CV 5/5] END ..............C=1000, gamma=0.001;, score=-0.200 total time=   0.0s\n",
      "[CV 1/5] END ..............C=1000, gamma=0.001;, score=-0.111 total time=   0.0s\n",
      "[CV 2/5] END ..............C=1000, gamma=0.001;, score=-0.193 total time=   0.0s\n",
      "[CV 3/5] END ..............C=1000, gamma=0.001;, score=-0.161 total time=   0.0s\n",
      "[CV 4/5] END ..............C=1000, gamma=0.001;, score=-0.091 total time=   0.0s\n",
      "[CV 5/5] END ..............C=1000, gamma=0.001;, score=-0.200 total time=   0.0s\n",
      "Support Vector Regression - R-squared tuned: -0.13820390484318246, Best Params: {'C': 1000, 'gamma': 0.1}\n"
     ]
    }
   ],
   "source": [
    "#Define models with their respective parameter grids for hyperparameter tuning\n",
    "models_with_tuning = [\n",
    "    ('Ridge Regression', Ridge(), {'alpha': [0.1, 1.0, 10]}),\n",
    "    ('Lasso Regression', Lasso(), {'alpha': [0.0001, 0.01, 1.0]}),\n",
    "    ('Support Vector Regression', SVR(), {'C': [0.01,0.1,1,10,100,1000], 'gamma': [0.01,0.1,0.01,0.001,0.001]})\n",
    "]\n",
    "\n",
    "#Train and evaluate each model using GridSearchCV\n",
    "for name, model, param_grid in models_with_tuning:\n",
    "    grid = GridSearchCV(model, param_grid, verbose =4)\n",
    "    grid.fit(X_standardised_train, y_train)\n",
    "    \n",
    "    best_model = grid.best_estimator_\n",
    "    y_pred = best_model.predict(X_standardised_test)\n",
    "    \n",
    "    mse = mean_squared_error(y_test, y_pred)\n",
    "    r2 = r2_score(y_test, y_pred)\n",
    "    \n",
    "    print(f\"{name} - R-squared tuned: {r2}, Best Params: {grid.best_params_}\")\n"
   ]
  },
  {
   "cell_type": "markdown",
   "id": "fcb87b03",
   "metadata": {},
   "source": [
    "# Regression Modelling using labeled encoded data for data using normalization "
   ]
  },
  {
   "cell_type": "code",
   "execution_count": 76,
   "id": "88426689",
   "metadata": {},
   "outputs": [],
   "source": [
    "from sklearn.preprocessing import MinMaxScaler\n",
    "\n",
    "#Create the minmaxscaler object\n",
    "scaler = MinMaxScaler()\n",
    "transport_data['Number of Flights Scaled'] = scaler.fit_transform(transport_data[['Number of Flights']])"
   ]
  },
  {
   "cell_type": "code",
   "execution_count": 77,
   "id": "66bdf87c",
   "metadata": {},
   "outputs": [
    {
     "name": "stdout",
     "output_type": "stream",
     "text": [
      "<class 'pandas.core.frame.DataFrame'>\n",
      "RangeIndex: 780 entries, 0 to 779\n",
      "Data columns (total 10 columns):\n",
      " #   Column                    Non-Null Count  Dtype  \n",
      "---  ------                    --------------  -----  \n",
      " 0   tra_cov                   780 non-null    object \n",
      " 1   aircraft                  780 non-null    object \n",
      " 2   distance                  780 non-null    object \n",
      " 3   TIME_PERIOD               780 non-null    int64  \n",
      " 4   Number of Passengers      780 non-null    int64  \n",
      " 5   Number of Flights         780 non-null    int64  \n",
      " 6   tracov_encoded            780 non-null    int32  \n",
      " 7   aircraft_encoded          780 non-null    int32  \n",
      " 8   distance_encoded          780 non-null    int32  \n",
      " 9   Number of Flights Scaled  780 non-null    float64\n",
      "dtypes: float64(1), int32(3), int64(3), object(3)\n",
      "memory usage: 51.9+ KB\n"
     ]
    }
   ],
   "source": [
    "transport_data.info()"
   ]
  },
  {
   "cell_type": "code",
   "execution_count": 78,
   "id": "b5e0dc2b",
   "metadata": {},
   "outputs": [],
   "source": [
    "#Split into dependent and independent variables\n",
    "y = transport_data.iloc[:, 4].values\n",
    "X = transport_data.drop(['Number of Passengers', 'tra_cov','aircraft','distance','Number of Flights'], axis=1).values\n",
    "\n",
    "\n",
    "#Split the data into features (X) and target variable (y)\n",
    "X_train, X_test, y_train, y_test = train_test_split(X, y, test_size=0.2)"
   ]
  },
  {
   "cell_type": "markdown",
   "id": "73f730bc",
   "metadata": {},
   "source": [
    "# Regression Modelling using labeled encoded data for normalized data"
   ]
  },
  {
   "cell_type": "code",
   "execution_count": 79,
   "id": "fc7095c0",
   "metadata": {},
   "outputs": [
    {
     "name": "stdout",
     "output_type": "stream",
     "text": [
      "Linear Regression - R-squared (normalised : 0.9224575420929496\n",
      "Decision_Regressor - R-squared (normalised : 0.9043041038268194\n",
      "Ridge Regression alpha=10 - R-squared (normalised : 0.8636268890238767\n",
      "Ridge Regression alpha=0.1 - R-squared (normalised : 0.9231755812668907\n",
      "Ridge Regression alpha=1 - R-squared (normalised : 0.927290619734585\n",
      "Lasso Regression alpha=1 - R-squared (normalised : 0.9224576513014997\n",
      "Lasso Regression alpha=0.01 - R-squared (normalised : 0.9224575431852318\n",
      "Lasso Regression alpha=0.0001 - R-squared (normalised : 0.9224575421038748\n",
      "ElasticNet Regression alpha = 0.01 - R-squared (normalised : 0.924470653530563\n",
      "Random Forest Regression - R-squared (normalised : 0.9925488766084806\n",
      "Support Vector Regression - R-squared (normalised : -0.14978232312419126\n",
      "K-Nearest Neighbors Regression - R-squared (normalised : 0.6825093029045598\n"
     ]
    }
   ],
   "source": [
    "#Define the models\n",
    "models_normalized = [\n",
    "    ('Linear Regression', LinearRegression()),\n",
    "    ('Decision_Regressor', DecisionTreeRegressor(max_depth=2, random_state=0)),\n",
    "    ('Ridge Regression alpha=10', Ridge(alpha=10)),\n",
    "    ('Ridge Regression alpha=0.1', Ridge(alpha=0.1)),\n",
    "    ('Ridge Regression alpha=1', Ridge(alpha=1)),    \n",
    "    ('Lasso Regression alpha=1', Lasso(alpha=1)),\n",
    "    ('Lasso Regression alpha=0.01', Lasso(alpha=0.01)),\n",
    "    ('Lasso Regression alpha=0.0001', Lasso(alpha=0.0001)),\n",
    "    ('ElasticNet Regression alpha = 0.01', ElasticNet(alpha = 0.01)),\n",
    "    ('Random Forest Regression', RandomForestRegressor(n_estimators=1000, random_state=0)),\n",
    "    ('Support Vector Regression', SVR()),\n",
    "    ('K-Nearest Neighbors Regression', KNeighborsRegressor(algorithm='auto', leaf_size=30,metric='minkowski',\n",
    "                                   metric_params=None, n_jobs=1, n_neighbors=5))\n",
    "]\n",
    "\n",
    "#Train and evaluate each model\n",
    "for name, model in models_normalized:\n",
    "    model.fit(X_train, y_train)\n",
    "    y_pred_normalised = model.predict(X_test)\n",
    "    r2_normalised = r2_score(y_test, y_pred_normalised)\n",
    "    print(f\"{name} - R-squared (normalised : {r2_normalised}\")\n",
    "    "
   ]
  },
  {
   "cell_type": "markdown",
   "id": "f145e778",
   "metadata": {},
   "source": [
    "# Regression Modelling using labeled encoded data for normalized data  using hyperparameter tuning"
   ]
  },
  {
   "cell_type": "code",
   "execution_count": 80,
   "id": "74dc5f3c",
   "metadata": {
    "scrolled": false
   },
   "outputs": [
    {
     "name": "stdout",
     "output_type": "stream",
     "text": [
      "Fitting 5 folds for each of 3 candidates, totalling 15 fits\n",
      "[CV 1/5] END .........................alpha=0.1;, score=0.911 total time=   0.0s\n",
      "[CV 2/5] END .........................alpha=0.1;, score=0.924 total time=   0.0s\n",
      "[CV 3/5] END .........................alpha=0.1;, score=0.947 total time=   0.0s\n",
      "[CV 4/5] END .........................alpha=0.1;, score=0.897 total time=   0.0s\n",
      "[CV 5/5] END .........................alpha=0.1;, score=0.913 total time=   0.0s\n",
      "[CV 1/5] END .........................alpha=1.0;, score=0.903 total time=   0.0s\n",
      "[CV 2/5] END .........................alpha=1.0;, score=0.921 total time=   0.0s\n",
      "[CV 3/5] END .........................alpha=1.0;, score=0.941 total time=   0.0s\n",
      "[CV 4/5] END .........................alpha=1.0;, score=0.895 total time=   0.0s\n",
      "[CV 5/5] END .........................alpha=1.0;, score=0.919 total time=   0.0s\n",
      "[CV 1/5] END ..........................alpha=10;, score=0.766 total time=   0.0s\n",
      "[CV 2/5] END ..........................alpha=10;, score=0.796 total time=   0.0s\n",
      "[CV 3/5] END ..........................alpha=10;, score=0.804 total time=   0.0s\n",
      "[CV 4/5] END ..........................alpha=10;, score=0.779 total time=   0.0s\n",
      "[CV 5/5] END ..........................alpha=10;, score=0.829 total time=   0.0s\n",
      "Ridge Regression - R-squared tuned: 0.9231755812668907, Best Params: {'alpha': 0.1}\n",
      "Fitting 5 folds for each of 3 candidates, totalling 15 fits\n",
      "[CV 1/5] END ......................alpha=0.0001;, score=0.912 total time=   0.0s\n",
      "[CV 2/5] END ......................alpha=0.0001;, score=0.924 total time=   0.0s\n",
      "[CV 3/5] END ......................alpha=0.0001;, score=0.948 total time=   0.0s\n",
      "[CV 4/5] END ......................alpha=0.0001;, score=0.897 total time=   0.0s\n",
      "[CV 5/5] END ......................alpha=0.0001;, score=0.912 total time=   0.0s\n",
      "[CV 1/5] END ........................alpha=0.01;, score=0.912 total time=   0.0s\n",
      "[CV 2/5] END ........................alpha=0.01;, score=0.924 total time=   0.0s\n",
      "[CV 3/5] END ........................alpha=0.01;, score=0.948 total time=   0.0s\n",
      "[CV 4/5] END ........................alpha=0.01;, score=0.897 total time=   0.0s\n",
      "[CV 5/5] END ........................alpha=0.01;, score=0.912 total time=   0.0s\n",
      "[CV 1/5] END .........................alpha=1.0;, score=0.912 total time=   0.0s\n",
      "[CV 2/5] END .........................alpha=1.0;, score=0.924 total time=   0.0s\n",
      "[CV 3/5] END .........................alpha=1.0;, score=0.948 total time=   0.0s\n",
      "[CV 4/5] END .........................alpha=1.0;, score=0.897 total time=   0.0s\n",
      "[CV 5/5] END .........................alpha=1.0;, score=0.912 total time=   0.0s\n",
      "Lasso Regression - R-squared tuned: 0.9224576513014997, Best Params: {'alpha': 1.0}\n",
      "Fitting 5 folds for each of 30 candidates, totalling 150 fits\n",
      "[CV 1/5] END ...............C=0.01, gamma=0.01;, score=-0.142 total time=   0.0s\n",
      "[CV 2/5] END ...............C=0.01, gamma=0.01;, score=-0.167 total time=   0.0s\n",
      "[CV 3/5] END ...............C=0.01, gamma=0.01;, score=-0.144 total time=   0.0s\n",
      "[CV 4/5] END ...............C=0.01, gamma=0.01;, score=-0.134 total time=   0.0s\n",
      "[CV 5/5] END ...............C=0.01, gamma=0.01;, score=-0.128 total time=   0.0s\n",
      "[CV 1/5] END ................C=0.01, gamma=0.1;, score=-0.142 total time=   0.0s\n",
      "[CV 2/5] END ................C=0.01, gamma=0.1;, score=-0.167 total time=   0.0s\n",
      "[CV 3/5] END ................C=0.01, gamma=0.1;, score=-0.144 total time=   0.0s\n",
      "[CV 4/5] END ................C=0.01, gamma=0.1;, score=-0.134 total time=   0.0s\n",
      "[CV 5/5] END ................C=0.01, gamma=0.1;, score=-0.128 total time=   0.0s\n",
      "[CV 1/5] END ...............C=0.01, gamma=0.01;, score=-0.142 total time=   0.0s\n",
      "[CV 2/5] END ...............C=0.01, gamma=0.01;, score=-0.167 total time=   0.0s\n",
      "[CV 3/5] END ...............C=0.01, gamma=0.01;, score=-0.144 total time=   0.0s\n",
      "[CV 4/5] END ...............C=0.01, gamma=0.01;, score=-0.134 total time=   0.0s\n",
      "[CV 5/5] END ...............C=0.01, gamma=0.01;, score=-0.128 total time=   0.0s\n",
      "[CV 1/5] END ..............C=0.01, gamma=0.001;, score=-0.142 total time=   0.0s\n",
      "[CV 2/5] END ..............C=0.01, gamma=0.001;, score=-0.167 total time=   0.0s\n",
      "[CV 3/5] END ..............C=0.01, gamma=0.001;, score=-0.144 total time=   0.0s\n",
      "[CV 4/5] END ..............C=0.01, gamma=0.001;, score=-0.134 total time=   0.0s\n",
      "[CV 5/5] END ..............C=0.01, gamma=0.001;, score=-0.128 total time=   0.0s\n",
      "[CV 1/5] END ..............C=0.01, gamma=0.001;, score=-0.142 total time=   0.0s\n",
      "[CV 2/5] END ..............C=0.01, gamma=0.001;, score=-0.167 total time=   0.0s\n",
      "[CV 3/5] END ..............C=0.01, gamma=0.001;, score=-0.144 total time=   0.0s\n",
      "[CV 4/5] END ..............C=0.01, gamma=0.001;, score=-0.134 total time=   0.0s\n",
      "[CV 5/5] END ..............C=0.01, gamma=0.001;, score=-0.128 total time=   0.0s\n",
      "[CV 1/5] END ................C=0.1, gamma=0.01;, score=-0.142 total time=   0.0s\n",
      "[CV 2/5] END ................C=0.1, gamma=0.01;, score=-0.167 total time=   0.0s\n",
      "[CV 3/5] END ................C=0.1, gamma=0.01;, score=-0.144 total time=   0.0s\n",
      "[CV 4/5] END ................C=0.1, gamma=0.01;, score=-0.134 total time=   0.0s\n",
      "[CV 5/5] END ................C=0.1, gamma=0.01;, score=-0.128 total time=   0.0s\n",
      "[CV 1/5] END .................C=0.1, gamma=0.1;, score=-0.142 total time=   0.0s\n",
      "[CV 2/5] END .................C=0.1, gamma=0.1;, score=-0.167 total time=   0.0s\n",
      "[CV 3/5] END .................C=0.1, gamma=0.1;, score=-0.144 total time=   0.0s\n",
      "[CV 4/5] END .................C=0.1, gamma=0.1;, score=-0.134 total time=   0.0s\n",
      "[CV 5/5] END .................C=0.1, gamma=0.1;, score=-0.128 total time=   0.0s\n",
      "[CV 1/5] END ................C=0.1, gamma=0.01;, score=-0.142 total time=   0.0s\n",
      "[CV 2/5] END ................C=0.1, gamma=0.01;, score=-0.167 total time=   0.0s\n",
      "[CV 3/5] END ................C=0.1, gamma=0.01;, score=-0.144 total time=   0.0s\n",
      "[CV 4/5] END ................C=0.1, gamma=0.01;, score=-0.134 total time=   0.0s\n",
      "[CV 5/5] END ................C=0.1, gamma=0.01;, score=-0.128 total time=   0.0s\n",
      "[CV 1/5] END ...............C=0.1, gamma=0.001;, score=-0.142 total time=   0.0s\n",
      "[CV 2/5] END ...............C=0.1, gamma=0.001;, score=-0.167 total time=   0.0s\n",
      "[CV 3/5] END ...............C=0.1, gamma=0.001;, score=-0.144 total time=   0.0s\n",
      "[CV 4/5] END ...............C=0.1, gamma=0.001;, score=-0.134 total time=   0.0s\n",
      "[CV 5/5] END ...............C=0.1, gamma=0.001;, score=-0.128 total time=   0.0s\n",
      "[CV 1/5] END ...............C=0.1, gamma=0.001;, score=-0.142 total time=   0.0s\n",
      "[CV 2/5] END ...............C=0.1, gamma=0.001;, score=-0.167 total time=   0.0s\n",
      "[CV 3/5] END ...............C=0.1, gamma=0.001;, score=-0.144 total time=   0.0s\n",
      "[CV 4/5] END ...............C=0.1, gamma=0.001;, score=-0.134 total time=   0.0s\n",
      "[CV 5/5] END ...............C=0.1, gamma=0.001;, score=-0.128 total time=   0.0s\n",
      "[CV 1/5] END ..................C=1, gamma=0.01;, score=-0.142 total time=   0.0s\n",
      "[CV 2/5] END ..................C=1, gamma=0.01;, score=-0.167 total time=   0.0s\n",
      "[CV 3/5] END ..................C=1, gamma=0.01;, score=-0.144 total time=   0.0s\n",
      "[CV 4/5] END ..................C=1, gamma=0.01;, score=-0.134 total time=   0.0s\n",
      "[CV 5/5] END ..................C=1, gamma=0.01;, score=-0.128 total time=   0.0s\n",
      "[CV 1/5] END ...................C=1, gamma=0.1;, score=-0.142 total time=   0.0s\n",
      "[CV 2/5] END ...................C=1, gamma=0.1;, score=-0.167 total time=   0.0s\n",
      "[CV 3/5] END ...................C=1, gamma=0.1;, score=-0.144 total time=   0.0s\n",
      "[CV 4/5] END ...................C=1, gamma=0.1;, score=-0.134 total time=   0.0s\n",
      "[CV 5/5] END ...................C=1, gamma=0.1;, score=-0.128 total time=   0.0s\n",
      "[CV 1/5] END ..................C=1, gamma=0.01;, score=-0.142 total time=   0.0s\n",
      "[CV 2/5] END ..................C=1, gamma=0.01;, score=-0.167 total time=   0.0s\n",
      "[CV 3/5] END ..................C=1, gamma=0.01;, score=-0.144 total time=   0.0s\n",
      "[CV 4/5] END ..................C=1, gamma=0.01;, score=-0.134 total time=   0.0s\n",
      "[CV 5/5] END ..................C=1, gamma=0.01;, score=-0.128 total time=   0.0s\n",
      "[CV 1/5] END .................C=1, gamma=0.001;, score=-0.142 total time=   0.0s\n",
      "[CV 2/5] END .................C=1, gamma=0.001;, score=-0.167 total time=   0.0s\n"
     ]
    },
    {
     "name": "stdout",
     "output_type": "stream",
     "text": [
      "[CV 3/5] END .................C=1, gamma=0.001;, score=-0.144 total time=   0.0s\n",
      "[CV 4/5] END .................C=1, gamma=0.001;, score=-0.134 total time=   0.0s\n",
      "[CV 5/5] END .................C=1, gamma=0.001;, score=-0.128 total time=   0.0s\n",
      "[CV 1/5] END .................C=1, gamma=0.001;, score=-0.142 total time=   0.0s\n",
      "[CV 2/5] END .................C=1, gamma=0.001;, score=-0.167 total time=   0.0s\n",
      "[CV 3/5] END .................C=1, gamma=0.001;, score=-0.144 total time=   0.0s\n",
      "[CV 4/5] END .................C=1, gamma=0.001;, score=-0.134 total time=   0.0s\n",
      "[CV 5/5] END .................C=1, gamma=0.001;, score=-0.128 total time=   0.0s\n",
      "[CV 1/5] END .................C=10, gamma=0.01;, score=-0.142 total time=   0.0s\n",
      "[CV 2/5] END .................C=10, gamma=0.01;, score=-0.167 total time=   0.0s\n",
      "[CV 3/5] END .................C=10, gamma=0.01;, score=-0.144 total time=   0.0s\n",
      "[CV 4/5] END .................C=10, gamma=0.01;, score=-0.134 total time=   0.0s\n",
      "[CV 5/5] END .................C=10, gamma=0.01;, score=-0.128 total time=   0.0s\n",
      "[CV 1/5] END ..................C=10, gamma=0.1;, score=-0.142 total time=   0.0s\n",
      "[CV 2/5] END ..................C=10, gamma=0.1;, score=-0.167 total time=   0.0s\n",
      "[CV 3/5] END ..................C=10, gamma=0.1;, score=-0.144 total time=   0.0s\n",
      "[CV 4/5] END ..................C=10, gamma=0.1;, score=-0.134 total time=   0.0s\n",
      "[CV 5/5] END ..................C=10, gamma=0.1;, score=-0.128 total time=   0.0s\n",
      "[CV 1/5] END .................C=10, gamma=0.01;, score=-0.142 total time=   0.0s\n",
      "[CV 2/5] END .................C=10, gamma=0.01;, score=-0.167 total time=   0.0s\n",
      "[CV 3/5] END .................C=10, gamma=0.01;, score=-0.144 total time=   0.0s\n",
      "[CV 4/5] END .................C=10, gamma=0.01;, score=-0.134 total time=   0.0s\n",
      "[CV 5/5] END .................C=10, gamma=0.01;, score=-0.128 total time=   0.0s\n",
      "[CV 1/5] END ................C=10, gamma=0.001;, score=-0.142 total time=   0.0s\n",
      "[CV 2/5] END ................C=10, gamma=0.001;, score=-0.167 total time=   0.0s\n",
      "[CV 3/5] END ................C=10, gamma=0.001;, score=-0.144 total time=   0.0s\n",
      "[CV 4/5] END ................C=10, gamma=0.001;, score=-0.134 total time=   0.0s\n",
      "[CV 5/5] END ................C=10, gamma=0.001;, score=-0.128 total time=   0.0s\n",
      "[CV 1/5] END ................C=10, gamma=0.001;, score=-0.142 total time=   0.0s\n",
      "[CV 2/5] END ................C=10, gamma=0.001;, score=-0.167 total time=   0.0s\n",
      "[CV 3/5] END ................C=10, gamma=0.001;, score=-0.144 total time=   0.0s\n",
      "[CV 4/5] END ................C=10, gamma=0.001;, score=-0.134 total time=   0.0s\n",
      "[CV 5/5] END ................C=10, gamma=0.001;, score=-0.128 total time=   0.0s\n",
      "[CV 1/5] END ................C=100, gamma=0.01;, score=-0.142 total time=   0.0s\n",
      "[CV 2/5] END ................C=100, gamma=0.01;, score=-0.167 total time=   0.0s\n",
      "[CV 3/5] END ................C=100, gamma=0.01;, score=-0.144 total time=   0.0s\n",
      "[CV 4/5] END ................C=100, gamma=0.01;, score=-0.134 total time=   0.0s\n",
      "[CV 5/5] END ................C=100, gamma=0.01;, score=-0.128 total time=   0.0s\n",
      "[CV 1/5] END .................C=100, gamma=0.1;, score=-0.143 total time=   0.0s\n",
      "[CV 2/5] END .................C=100, gamma=0.1;, score=-0.167 total time=   0.0s\n",
      "[CV 3/5] END .................C=100, gamma=0.1;, score=-0.144 total time=   0.0s\n",
      "[CV 4/5] END .................C=100, gamma=0.1;, score=-0.134 total time=   0.0s\n",
      "[CV 5/5] END .................C=100, gamma=0.1;, score=-0.128 total time=   0.0s\n",
      "[CV 1/5] END ................C=100, gamma=0.01;, score=-0.142 total time=   0.0s\n",
      "[CV 2/5] END ................C=100, gamma=0.01;, score=-0.167 total time=   0.0s\n",
      "[CV 3/5] END ................C=100, gamma=0.01;, score=-0.144 total time=   0.0s\n",
      "[CV 4/5] END ................C=100, gamma=0.01;, score=-0.134 total time=   0.0s\n",
      "[CV 5/5] END ................C=100, gamma=0.01;, score=-0.128 total time=   0.0s\n",
      "[CV 1/5] END ...............C=100, gamma=0.001;, score=-0.142 total time=   0.0s\n",
      "[CV 2/5] END ...............C=100, gamma=0.001;, score=-0.167 total time=   0.0s\n",
      "[CV 3/5] END ...............C=100, gamma=0.001;, score=-0.144 total time=   0.0s\n",
      "[CV 4/5] END ...............C=100, gamma=0.001;, score=-0.134 total time=   0.0s\n",
      "[CV 5/5] END ...............C=100, gamma=0.001;, score=-0.128 total time=   0.0s\n",
      "[CV 1/5] END ...............C=100, gamma=0.001;, score=-0.142 total time=   0.0s\n",
      "[CV 2/5] END ...............C=100, gamma=0.001;, score=-0.167 total time=   0.0s\n",
      "[CV 3/5] END ...............C=100, gamma=0.001;, score=-0.144 total time=   0.0s\n",
      "[CV 4/5] END ...............C=100, gamma=0.001;, score=-0.134 total time=   0.0s\n",
      "[CV 5/5] END ...............C=100, gamma=0.001;, score=-0.128 total time=   0.0s\n",
      "[CV 1/5] END ...............C=1000, gamma=0.01;, score=-0.143 total time=   0.0s\n",
      "[CV 2/5] END ...............C=1000, gamma=0.01;, score=-0.167 total time=   0.0s\n",
      "[CV 3/5] END ...............C=1000, gamma=0.01;, score=-0.144 total time=   0.0s\n",
      "[CV 4/5] END ...............C=1000, gamma=0.01;, score=-0.134 total time=   0.0s\n",
      "[CV 5/5] END ...............C=1000, gamma=0.01;, score=-0.129 total time=   0.0s\n",
      "[CV 1/5] END ................C=1000, gamma=0.1;, score=-0.143 total time=   0.0s\n",
      "[CV 2/5] END ................C=1000, gamma=0.1;, score=-0.167 total time=   0.0s\n",
      "[CV 3/5] END ................C=1000, gamma=0.1;, score=-0.144 total time=   0.0s\n",
      "[CV 4/5] END ................C=1000, gamma=0.1;, score=-0.134 total time=   0.0s\n",
      "[CV 5/5] END ................C=1000, gamma=0.1;, score=-0.128 total time=   0.0s\n",
      "[CV 1/5] END ...............C=1000, gamma=0.01;, score=-0.143 total time=   0.0s\n",
      "[CV 2/5] END ...............C=1000, gamma=0.01;, score=-0.167 total time=   0.0s\n",
      "[CV 3/5] END ...............C=1000, gamma=0.01;, score=-0.144 total time=   0.0s\n",
      "[CV 4/5] END ...............C=1000, gamma=0.01;, score=-0.134 total time=   0.0s\n",
      "[CV 5/5] END ...............C=1000, gamma=0.01;, score=-0.129 total time=   0.0s\n",
      "[CV 1/5] END ..............C=1000, gamma=0.001;, score=-0.142 total time=   0.0s\n",
      "[CV 2/5] END ..............C=1000, gamma=0.001;, score=-0.167 total time=   0.0s\n",
      "[CV 3/5] END ..............C=1000, gamma=0.001;, score=-0.144 total time=   0.0s\n",
      "[CV 4/5] END ..............C=1000, gamma=0.001;, score=-0.134 total time=   0.0s\n",
      "[CV 5/5] END ..............C=1000, gamma=0.001;, score=-0.128 total time=   0.0s\n",
      "[CV 1/5] END ..............C=1000, gamma=0.001;, score=-0.142 total time=   0.0s\n",
      "[CV 2/5] END ..............C=1000, gamma=0.001;, score=-0.167 total time=   0.0s\n",
      "[CV 3/5] END ..............C=1000, gamma=0.001;, score=-0.144 total time=   0.0s\n",
      "[CV 4/5] END ..............C=1000, gamma=0.001;, score=-0.134 total time=   0.0s\n",
      "[CV 5/5] END ..............C=1000, gamma=0.001;, score=-0.128 total time=   0.0s\n",
      "Support Vector Regression - R-squared tuned: -0.149782323153675, Best Params: {'C': 0.01, 'gamma': 0.001}\n"
     ]
    }
   ],
   "source": [
    "#Define models with their respective parameter grids for hyperparameter tuning\n",
    "models_with_tuning = [\n",
    "    ('Ridge Regression', Ridge(), {'alpha': [0.1, 1.0, 10]}),\n",
    "    ('Lasso Regression', Lasso(), {'alpha': [0.0001, 0.01, 1.0]}),\n",
    "    ('Support Vector Regression', SVR(), {'C': [0.01,0.1,1,10,100,1000], 'gamma': [0.01,0.1,0.01,0.001,0.001]})\n",
    "]\n",
    "\n",
    "#Train and evaluate each model using GridSearchCV\n",
    "for name, model, param_grid in models_with_tuning:\n",
    "    grid = GridSearchCV(model, param_grid, verbose =4)\n",
    "    grid.fit(X_train, y_train)\n",
    "    \n",
    "    best_model = grid.best_estimator_\n",
    "    y_pred = best_model.predict(X_test)\n",
    "    \n",
    "    mse = mean_squared_error(y_test, y_pred)\n",
    "    r2 = r2_score(y_test, y_pred)\n",
    "    \n",
    "    print(f\"{name} - R-squared tuned: {r2}, Best Params: {grid.best_params_}\")\n"
   ]
  },
  {
   "cell_type": "code",
   "execution_count": 81,
   "id": "f1ee7838",
   "metadata": {},
   "outputs": [],
   "source": [
    "#Split into dependent and independent variables\n",
    "y = transport_data.iloc[:, 4].values\n",
    "X = transport_data.drop(['Number of Passengers', 'tra_cov','aircraft','distance'], axis=1).values"
   ]
  },
  {
   "cell_type": "markdown",
   "id": "2de2aa13",
   "metadata": {},
   "source": [
    "# Creating a Dashboard "
   ]
  },
  {
   "cell_type": "code",
   "execution_count": 82,
   "id": "656775ab",
   "metadata": {},
   "outputs": [
    {
     "ename": "OSError",
     "evalue": "Address 'http://127.0.0.1:8050' already in use.\n    Try passing a different port to run_server.",
     "output_type": "error",
     "traceback": [
      "\u001b[1;31m---------------------------------------------------------------------------\u001b[0m",
      "\u001b[1;31mOSError\u001b[0m                                   Traceback (most recent call last)",
      "Cell \u001b[1;32mIn[82], line 105\u001b[0m\n\u001b[0;32m     63\u001b[0m app\u001b[38;5;241m.\u001b[39mlayout \u001b[38;5;241m=\u001b[39m html\u001b[38;5;241m.\u001b[39mDiv([\n\u001b[0;32m     64\u001b[0m     html\u001b[38;5;241m.\u001b[39mH1(\u001b[38;5;124m\"\u001b[39m\u001b[38;5;124mTransport Planning Dashboard\u001b[39m\u001b[38;5;124m\"\u001b[39m),\n\u001b[0;32m     65\u001b[0m     \n\u001b[1;32m   (...)\u001b[0m\n\u001b[0;32m    101\u001b[0m     ),\n\u001b[0;32m    102\u001b[0m ])\n\u001b[0;32m    104\u001b[0m \u001b[38;5;28;01mif\u001b[39;00m \u001b[38;5;18m__name__\u001b[39m \u001b[38;5;241m==\u001b[39m \u001b[38;5;124m'\u001b[39m\u001b[38;5;124m__main__\u001b[39m\u001b[38;5;124m'\u001b[39m:\n\u001b[1;32m--> 105\u001b[0m     app\u001b[38;5;241m.\u001b[39mrun_server(debug\u001b[38;5;241m=\u001b[39m\u001b[38;5;28;01mTrue\u001b[39;00m)\n",
      "File \u001b[1;32m~\\anaconda3\\Lib\\site-packages\\dash\\dash.py:2175\u001b[0m, in \u001b[0;36mDash.run_server\u001b[1;34m(self, *args, **kwargs)\u001b[0m\n\u001b[0;32m   2169\u001b[0m \u001b[38;5;28;01mdef\u001b[39;00m \u001b[38;5;21mrun_server\u001b[39m(\u001b[38;5;28mself\u001b[39m, \u001b[38;5;241m*\u001b[39margs, \u001b[38;5;241m*\u001b[39m\u001b[38;5;241m*\u001b[39mkwargs):\n\u001b[0;32m   2170\u001b[0m \u001b[38;5;250m    \u001b[39m\u001b[38;5;124;03m\"\"\"`run_server` is a deprecated alias of `run` and may be removed in a\u001b[39;00m\n\u001b[0;32m   2171\u001b[0m \u001b[38;5;124;03m    future version. We recommend using `app.run` instead.\u001b[39;00m\n\u001b[0;32m   2172\u001b[0m \n\u001b[0;32m   2173\u001b[0m \u001b[38;5;124;03m    See `app.run` for usage information.\u001b[39;00m\n\u001b[0;32m   2174\u001b[0m \u001b[38;5;124;03m    \"\"\"\u001b[39;00m\n\u001b[1;32m-> 2175\u001b[0m     \u001b[38;5;28mself\u001b[39m\u001b[38;5;241m.\u001b[39mrun(\u001b[38;5;241m*\u001b[39margs, \u001b[38;5;241m*\u001b[39m\u001b[38;5;241m*\u001b[39mkwargs)\n",
      "File \u001b[1;32m~\\anaconda3\\Lib\\site-packages\\dash\\dash.py:2066\u001b[0m, in \u001b[0;36mDash.run\u001b[1;34m(self, host, port, proxy, debug, jupyter_mode, jupyter_width, jupyter_height, jupyter_server_url, dev_tools_ui, dev_tools_props_check, dev_tools_serve_dev_bundles, dev_tools_hot_reload, dev_tools_hot_reload_interval, dev_tools_hot_reload_watch_interval, dev_tools_hot_reload_max_retry, dev_tools_silence_routes_logging, dev_tools_prune_errors, **flask_run_options)\u001b[0m\n\u001b[0;32m   2063\u001b[0m             extra_files\u001b[38;5;241m.\u001b[39mappend(path)\n\u001b[0;32m   2065\u001b[0m \u001b[38;5;28;01mif\u001b[39;00m jupyter_dash\u001b[38;5;241m.\u001b[39mactive:\n\u001b[1;32m-> 2066\u001b[0m     jupyter_dash\u001b[38;5;241m.\u001b[39mrun_app(\n\u001b[0;32m   2067\u001b[0m         \u001b[38;5;28mself\u001b[39m,\n\u001b[0;32m   2068\u001b[0m         mode\u001b[38;5;241m=\u001b[39mjupyter_mode,\n\u001b[0;32m   2069\u001b[0m         width\u001b[38;5;241m=\u001b[39mjupyter_width,\n\u001b[0;32m   2070\u001b[0m         height\u001b[38;5;241m=\u001b[39mjupyter_height,\n\u001b[0;32m   2071\u001b[0m         host\u001b[38;5;241m=\u001b[39mhost,\n\u001b[0;32m   2072\u001b[0m         port\u001b[38;5;241m=\u001b[39mport,\n\u001b[0;32m   2073\u001b[0m         server_url\u001b[38;5;241m=\u001b[39mjupyter_server_url,\n\u001b[0;32m   2074\u001b[0m     )\n\u001b[0;32m   2075\u001b[0m \u001b[38;5;28;01melse\u001b[39;00m:\n\u001b[0;32m   2076\u001b[0m     \u001b[38;5;28mself\u001b[39m\u001b[38;5;241m.\u001b[39mserver\u001b[38;5;241m.\u001b[39mrun(host\u001b[38;5;241m=\u001b[39mhost, port\u001b[38;5;241m=\u001b[39mport, debug\u001b[38;5;241m=\u001b[39mdebug, \u001b[38;5;241m*\u001b[39m\u001b[38;5;241m*\u001b[39mflask_run_options)\n",
      "File \u001b[1;32m~\\anaconda3\\Lib\\site-packages\\dash\\_jupyter.py:401\u001b[0m, in \u001b[0;36mJupyterDash.run_app\u001b[1;34m(self, app, mode, width, height, host, port, server_url)\u001b[0m\n\u001b[0;32m    399\u001b[0m     display(HTML(msg))\n\u001b[0;32m    400\u001b[0m \u001b[38;5;28;01melse\u001b[39;00m:\n\u001b[1;32m--> 401\u001b[0m     \u001b[38;5;28;01mraise\u001b[39;00m final_error\n",
      "File \u001b[1;32m~\\anaconda3\\Lib\\site-packages\\dash\\_jupyter.py:388\u001b[0m, in \u001b[0;36mJupyterDash.run_app\u001b[1;34m(self, app, mode, width, height, host, port, server_url)\u001b[0m\n\u001b[0;32m    385\u001b[0m         \u001b[38;5;28;01mraise\u001b[39;00m err\n\u001b[0;32m    387\u001b[0m \u001b[38;5;28;01mtry\u001b[39;00m:\n\u001b[1;32m--> 388\u001b[0m     wait_for_app()\n\u001b[0;32m    390\u001b[0m     \u001b[38;5;28;01mif\u001b[39;00m \u001b[38;5;28mself\u001b[39m\u001b[38;5;241m.\u001b[39min_colab:\n\u001b[0;32m    391\u001b[0m         JupyterDash\u001b[38;5;241m.\u001b[39m_display_in_colab(dashboard_url, port, mode, width, height)\n",
      "File \u001b[1;32m~\\anaconda3\\Lib\\site-packages\\retrying.py:56\u001b[0m, in \u001b[0;36mretry.<locals>.wrap.<locals>.wrapped_f\u001b[1;34m(*args, **kw)\u001b[0m\n\u001b[0;32m     54\u001b[0m \u001b[38;5;129m@six\u001b[39m\u001b[38;5;241m.\u001b[39mwraps(f)\n\u001b[0;32m     55\u001b[0m \u001b[38;5;28;01mdef\u001b[39;00m \u001b[38;5;21mwrapped_f\u001b[39m(\u001b[38;5;241m*\u001b[39margs, \u001b[38;5;241m*\u001b[39m\u001b[38;5;241m*\u001b[39mkw):\n\u001b[1;32m---> 56\u001b[0m     \u001b[38;5;28;01mreturn\u001b[39;00m Retrying(\u001b[38;5;241m*\u001b[39mdargs, \u001b[38;5;241m*\u001b[39m\u001b[38;5;241m*\u001b[39mdkw)\u001b[38;5;241m.\u001b[39mcall(f, \u001b[38;5;241m*\u001b[39margs, \u001b[38;5;241m*\u001b[39m\u001b[38;5;241m*\u001b[39mkw)\n",
      "File \u001b[1;32m~\\anaconda3\\Lib\\site-packages\\retrying.py:266\u001b[0m, in \u001b[0;36mRetrying.call\u001b[1;34m(self, fn, *args, **kwargs)\u001b[0m\n\u001b[0;32m    263\u001b[0m \u001b[38;5;28;01mif\u001b[39;00m \u001b[38;5;28mself\u001b[39m\u001b[38;5;241m.\u001b[39mstop(attempt_number, delay_since_first_attempt_ms):\n\u001b[0;32m    264\u001b[0m     \u001b[38;5;28;01mif\u001b[39;00m \u001b[38;5;129;01mnot\u001b[39;00m \u001b[38;5;28mself\u001b[39m\u001b[38;5;241m.\u001b[39m_wrap_exception \u001b[38;5;129;01mand\u001b[39;00m attempt\u001b[38;5;241m.\u001b[39mhas_exception:\n\u001b[0;32m    265\u001b[0m         \u001b[38;5;66;03m# get() on an attempt with an exception should cause it to be raised, but raise just in case\u001b[39;00m\n\u001b[1;32m--> 266\u001b[0m         \u001b[38;5;28;01mraise\u001b[39;00m attempt\u001b[38;5;241m.\u001b[39mget()\n\u001b[0;32m    267\u001b[0m     \u001b[38;5;28;01melse\u001b[39;00m:\n\u001b[0;32m    268\u001b[0m         \u001b[38;5;28;01mraise\u001b[39;00m RetryError(attempt)\n",
      "File \u001b[1;32m~\\anaconda3\\Lib\\site-packages\\retrying.py:301\u001b[0m, in \u001b[0;36mAttempt.get\u001b[1;34m(self, wrap_exception)\u001b[0m\n\u001b[0;32m    299\u001b[0m         \u001b[38;5;28;01mraise\u001b[39;00m RetryError(\u001b[38;5;28mself\u001b[39m)\n\u001b[0;32m    300\u001b[0m     \u001b[38;5;28;01melse\u001b[39;00m:\n\u001b[1;32m--> 301\u001b[0m         six\u001b[38;5;241m.\u001b[39mreraise(\u001b[38;5;28mself\u001b[39m\u001b[38;5;241m.\u001b[39mvalue[\u001b[38;5;241m0\u001b[39m], \u001b[38;5;28mself\u001b[39m\u001b[38;5;241m.\u001b[39mvalue[\u001b[38;5;241m1\u001b[39m], \u001b[38;5;28mself\u001b[39m\u001b[38;5;241m.\u001b[39mvalue[\u001b[38;5;241m2\u001b[39m])\n\u001b[0;32m    302\u001b[0m \u001b[38;5;28;01melse\u001b[39;00m:\n\u001b[0;32m    303\u001b[0m     \u001b[38;5;28;01mreturn\u001b[39;00m \u001b[38;5;28mself\u001b[39m\u001b[38;5;241m.\u001b[39mvalue\n",
      "File \u001b[1;32m~\\anaconda3\\Lib\\site-packages\\six.py:719\u001b[0m, in \u001b[0;36mreraise\u001b[1;34m(tp, value, tb)\u001b[0m\n\u001b[0;32m    717\u001b[0m     \u001b[38;5;28;01mif\u001b[39;00m value\u001b[38;5;241m.\u001b[39m__traceback__ \u001b[38;5;129;01mis\u001b[39;00m \u001b[38;5;129;01mnot\u001b[39;00m tb:\n\u001b[0;32m    718\u001b[0m         \u001b[38;5;28;01mraise\u001b[39;00m value\u001b[38;5;241m.\u001b[39mwith_traceback(tb)\n\u001b[1;32m--> 719\u001b[0m     \u001b[38;5;28;01mraise\u001b[39;00m value\n\u001b[0;32m    720\u001b[0m \u001b[38;5;28;01mfinally\u001b[39;00m:\n\u001b[0;32m    721\u001b[0m     value \u001b[38;5;241m=\u001b[39m \u001b[38;5;28;01mNone\u001b[39;00m\n",
      "File \u001b[1;32m~\\anaconda3\\Lib\\site-packages\\retrying.py:251\u001b[0m, in \u001b[0;36mRetrying.call\u001b[1;34m(self, fn, *args, **kwargs)\u001b[0m\n\u001b[0;32m    248\u001b[0m     \u001b[38;5;28mself\u001b[39m\u001b[38;5;241m.\u001b[39m_before_attempts(attempt_number)\n\u001b[0;32m    250\u001b[0m \u001b[38;5;28;01mtry\u001b[39;00m:\n\u001b[1;32m--> 251\u001b[0m     attempt \u001b[38;5;241m=\u001b[39m Attempt(fn(\u001b[38;5;241m*\u001b[39margs, \u001b[38;5;241m*\u001b[39m\u001b[38;5;241m*\u001b[39mkwargs), attempt_number, \u001b[38;5;28;01mFalse\u001b[39;00m)\n\u001b[0;32m    252\u001b[0m \u001b[38;5;28;01mexcept\u001b[39;00m:\n\u001b[0;32m    253\u001b[0m     tb \u001b[38;5;241m=\u001b[39m sys\u001b[38;5;241m.\u001b[39mexc_info()\n",
      "File \u001b[1;32m~\\anaconda3\\Lib\\site-packages\\dash\\_jupyter.py:379\u001b[0m, in \u001b[0;36mJupyterDash.run_app.<locals>.wait_for_app\u001b[1;34m()\u001b[0m\n\u001b[0;32m    377\u001b[0m     \u001b[38;5;28;01mif\u001b[39;00m res \u001b[38;5;241m!=\u001b[39m \u001b[38;5;124m\"\u001b[39m\u001b[38;5;124mAlive\u001b[39m\u001b[38;5;124m\"\u001b[39m:\n\u001b[0;32m    378\u001b[0m         url \u001b[38;5;241m=\u001b[39m \u001b[38;5;124mf\u001b[39m\u001b[38;5;124m\"\u001b[39m\u001b[38;5;124mhttp://\u001b[39m\u001b[38;5;132;01m{\u001b[39;00mhost\u001b[38;5;132;01m}\u001b[39;00m\u001b[38;5;124m:\u001b[39m\u001b[38;5;132;01m{\u001b[39;00mport\u001b[38;5;132;01m}\u001b[39;00m\u001b[38;5;124m\"\u001b[39m\n\u001b[1;32m--> 379\u001b[0m         \u001b[38;5;28;01mraise\u001b[39;00m \u001b[38;5;167;01mOSError\u001b[39;00m(\n\u001b[0;32m    380\u001b[0m             \u001b[38;5;124mf\u001b[39m\u001b[38;5;124m\"\u001b[39m\u001b[38;5;124mAddress \u001b[39m\u001b[38;5;124m'\u001b[39m\u001b[38;5;132;01m{\u001b[39;00murl\u001b[38;5;132;01m}\u001b[39;00m\u001b[38;5;124m'\u001b[39m\u001b[38;5;124m already in use.\u001b[39m\u001b[38;5;130;01m\\n\u001b[39;00m\u001b[38;5;124m\"\u001b[39m\n\u001b[0;32m    381\u001b[0m             \u001b[38;5;124m\"\u001b[39m\u001b[38;5;124m    Try passing a different port to run_server.\u001b[39m\u001b[38;5;124m\"\u001b[39m\n\u001b[0;32m    382\u001b[0m         )\n\u001b[0;32m    383\u001b[0m \u001b[38;5;28;01mexcept\u001b[39;00m requests\u001b[38;5;241m.\u001b[39mConnectionError \u001b[38;5;28;01mas\u001b[39;00m err:\n\u001b[0;32m    384\u001b[0m     _get_error()\n",
      "\u001b[1;31mOSError\u001b[0m: Address 'http://127.0.0.1:8050' already in use.\n    Try passing a different port to run_server."
     ]
    }
   ],
   "source": [
    "import dash\n",
    "from dash import html, dcc\n",
    "import plotly.express as px\n",
    "from sklearn.model_selection import train_test_split\n",
    "from sklearn.linear_model import Ridge, Lasso, ElasticNet\n",
    "from sklearn.ensemble import RandomForestRegressor\n",
    "from sklearn.neighbors import KNeighborsRegressor\n",
    "from sklearn.metrics import r2_score\n",
    "\n",
    "#Split the data into training and test sets\n",
    "X_train, X_test, y_train, y_test = train_test_split(X, y, test_size=0.2, random_state=42)\n",
    "\n",
    "#Define models with their respective hyperparameters\n",
    "models_labeled = [\n",
    "    ('Ridge Regression alpha=10', Ridge(alpha=10)),\n",
    "    ('Ridge Regression alpha=0.1', Ridge(alpha=0.1)),\n",
    "    ('Ridge Regression alpha=1.0', Ridge(alpha=1.0)),\n",
    "    ('Lasso Regression alpha=0.0001', Lasso(alpha=0.0001)),\n",
    "    ('Lasso Regression alpha=0.01', Lasso(alpha=0.01)),\n",
    "    ('Lasso Regression alpha=1.0', Lasso(alpha=1.0)),\n",
    "    ('ElasticNet Regression alpha = 0.01', ElasticNet(alpha=0.01)),\n",
    "    ('Random Forest Regression', RandomForestRegressor(n_estimators=1000, random_state=0)),\n",
    "    ('K-Nearest Neighbors Regression', KNeighborsRegressor(n_neighbors=5))\n",
    "]\n",
    "\n",
    "#Train and evaluate each model\n",
    "results = []\n",
    "for name, model in models_labeled:\n",
    "    model.fit(X_train, y_train)\n",
    "    y_pred = model.predict(X_test)\n",
    "    r2 = r2_score(y_test, y_pred)\n",
    "    results.append((name, r2))\n",
    "\n",
    "#Prepare results for visualization\n",
    "results_df = pd.DataFrame(results, columns=['Model', 'R-squared Score'])\n",
    "\n",
    "# Filter data for National travel coverage category\n",
    "flight_data_NAT = transport_data[transport_data['tra_cov'] == 'NAT']\n",
    "\n",
    "#Calculate the most common and least common aircraft for National Transport\n",
    "most_common_aircraft_nat = flight_data_NAT['aircraft'].value_counts().idxmax()\n",
    "least_common_aircraft_nat = flight_data_NAT['aircraft'].value_counts().idxmin()\n",
    "\n",
    "#Create the most and least common aircraft information for National Transport\n",
    "most_common_info_nat = flight_data_NAT[flight_data_NAT['aircraft'] == most_common_aircraft_nat]\n",
    "least_common_info_nat = flight_data_NAT[flight_data_NAT['aircraft'] == least_common_aircraft_nat]\n",
    "\n",
    "#Filter data for International Transport - travel coverage category\n",
    "flight_data_INT = transport_data[transport_data['tra_cov'] == 'INTL']\n",
    "\n",
    "#Calculate the most common and least common aircraft for International Transport\n",
    "most_common_aircraft_int = flight_data_INT['aircraft'].value_counts().idxmax()\n",
    "least_common_aircraft_int = flight_data_INT['aircraft'].value_counts().idxmin()\n",
    "\n",
    "#Create the most and least common aircraft information for International Transport\n",
    "most_common_info_int = flight_data_INT[flight_data_INT['aircraft'] == most_common_aircraft_int]\n",
    "least_common_info_int = flight_data_INT[flight_data_INT['aircraft'] == least_common_aircraft_int]\n",
    "\n",
    "#Create the Dash app\n",
    "app = dash.Dash(__name__)\n",
    "\n",
    "#Layout of the dashboard\n",
    "app.layout = html.Div([\n",
    "    html.H1(\"Transport Planning Dashboard\"),\n",
    "    \n",
    "    html.H2(\"Most Common Aircraft for National Transport:\"),\n",
    "    html.P(f\"{most_common_aircraft_nat}\"),\n",
    "    dcc.Graph(\n",
    "        figure=px.bar(most_common_info_nat, x='distance', y='Number of Flights',\n",
    "                      facet_col='aircraft', animation_frame='TIME_PERIOD',\n",
    "                      title=f'Trend for {most_common_aircraft_nat} - National Transport')\n",
    "    ),\n",
    "    \n",
    "    html.H2(\"Least Common Aircraft for National Transport:\"),\n",
    "    html.P(f\"{least_common_aircraft_nat}\"),\n",
    "    dcc.Graph(\n",
    "        figure=px.bar(least_common_info_nat, x='distance', y='Number of Flights',\n",
    "                      facet_col='aircraft', animation_frame='TIME_PERIOD',\n",
    "                      title=f'Trend for {least_common_aircraft_nat} - National Transport')\n",
    "    ),\n",
    "    \n",
    "    html.H2(\"Most Common Aircraft for International Transport:\"),\n",
    "    html.P(f\"{most_common_aircraft_int}\"),\n",
    "    dcc.Graph(\n",
    "        figure=px.bar(most_common_info_int, x='distance', y='Number of Flights',\n",
    "                      facet_col='aircraft', animation_frame='TIME_PERIOD',\n",
    "                      title=f'Trend for {most_common_aircraft_int} - International Transport')\n",
    "    ),\n",
    "    \n",
    "    html.H2(\"Least Common Aircraft for International Transport:\"),\n",
    "    html.P(f\"{least_common_aircraft_int}\"),\n",
    "    dcc.Graph(\n",
    "        figure=px.bar(least_common_info_int, x='distance', y='Number of Flights',\n",
    "                      facet_col='aircraft', animation_frame='TIME_PERIOD',\n",
    "                      title=f'Trend for {least_common_aircraft_int} - International Transport')\n",
    "    ),\n",
    "    \n",
    "    #Bar chart for model performance comparison\n",
    "    dcc.Graph(\n",
    "        figure=px.bar(results_df, x='Model', y='R-squared Score', title='Regression Model Performance Comparison for predicting Number of Air Passengers in Ireland')\n",
    "    ),\n",
    "])\n",
    "\n",
    "if __name__ == '__main__':\n",
    "    app.run_server(debug=True)"
   ]
  },
  {
   "cell_type": "code",
   "execution_count": null,
   "id": "85f88525",
   "metadata": {},
   "outputs": [],
   "source": []
  }
 ],
 "metadata": {
  "kernelspec": {
   "display_name": "Python 3 (ipykernel)",
   "language": "python",
   "name": "python3"
  },
  "language_info": {
   "codemirror_mode": {
    "name": "ipython",
    "version": 3
   },
   "file_extension": ".py",
   "mimetype": "text/x-python",
   "name": "python",
   "nbconvert_exporter": "python",
   "pygments_lexer": "ipython3",
   "version": "3.11.4"
  }
 },
 "nbformat": 4,
 "nbformat_minor": 5
}
