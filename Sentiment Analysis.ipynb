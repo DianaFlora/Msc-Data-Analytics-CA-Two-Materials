{
 "cells": [
  {
   "cell_type": "markdown",
   "id": "56df6bdc",
   "metadata": {},
   "source": [
    "# SENTIMENT ANALYSIS\n",
    "- sentimental analysis for public transport for producers and consumers point of view in Ireland"
   ]
  },
  {
   "cell_type": "markdown",
   "id": "d8a6f381",
   "metadata": {},
   "source": [
    "# Social Media Data\n",
    "Social media provides textual data like comments, posts. Reddit API is used to scrap text data on public transport for producers and consumers point of view in Ireland\n",
    "\n",
    "Keyword lists to collect posts/comments are shown as follows:\n",
    "\n",
    "- Consumer (Bus: bus, public transport, train/ rail, tram, luas)\n",
    "- Producer (I am a driver,driving my car, driving in ireland) "
   ]
  },
  {
   "cell_type": "markdown",
   "id": "b9e74d15",
   "metadata": {},
   "source": [
    "## Reddit Data\n",
    "In order to obtain data from Reddit these are the steps required:-\n",
    "\n",
    "a)Create an application\n",
    "\n",
    "b)Note down the personal use script and secret tokens\n",
    "\n",
    "c)Request a temporary OAuth token from Reddit using our user name and password\n",
    "\n",
    "d)Make Requests/ use PRAW\n",
    "\n",
    "e)Read the Data"
   ]
  },
  {
   "cell_type": "markdown",
   "id": "0dc7543d",
   "metadata": {},
   "source": [
    "## DATA SCRAPPING USING REDDIT"
   ]
  },
  {
   "cell_type": "code",
   "execution_count": 1,
   "id": "dcb4b078",
   "metadata": {},
   "outputs": [],
   "source": [
    "#Import all the necessary libraries\n",
    "from dotenv import load_dotenv\n",
    "from os import getenv\n",
    "import requests\n",
    "import json\n",
    "\n",
    "#!pip install praw\n",
    "import praw\n",
    "from datetime import datetime as dt\n",
    "import warnings\n",
    "warnings.filterwarnings('ignore')"
   ]
  },
  {
   "cell_type": "code",
   "execution_count": 2,
   "id": "6cdc6ff5",
   "metadata": {},
   "outputs": [],
   "source": [
    "#Load environment variables from .env file\n",
    "load_dotenv()\n",
    "\n",
    "#Reddit API credentials\n",
    "APP_NAME = getenv('APP_NAME')\n",
    "APP_ID = getenv(\"APP_ID\")\n",
    "APP_SECRET = getenv(\"APP_SECRET\")\n",
    "REDDIT_USERNAME = getenv('REDDIT_USERNAME')\n",
    "REDDIT_PASSWORD = getenv('REDDIT_PASSWORD')"
   ]
  },
  {
   "cell_type": "code",
   "execution_count": 3,
   "id": "77d44ffb",
   "metadata": {},
   "outputs": [
    {
     "name": "stdout",
     "output_type": "stream",
     "text": [
      "Success!\n"
     ]
    }
   ],
   "source": [
    "#Check the credentials are correct and successful\n",
    "if APP_NAME and APP_ID and APP_SECRET and REDDIT_USERNAME:\n",
    "    print(\"Success!\")"
   ]
  },
  {
   "cell_type": "code",
   "execution_count": 4,
   "id": "fc827236",
   "metadata": {},
   "outputs": [],
   "source": [
    "#set up a Reddit instance without user-specific authentication\n",
    "reddit = praw.Reddit(\n",
    "    client_id=getenv(\"APP_ID\"),\n",
    "    client_secret=getenv(\"APP_SECRET\"),\n",
    "    user_agent=f\"{getenv('APP_NAME')} u/{getenv('REDDIT_USERNAME')}\",\n",
    ")"
   ]
  },
  {
   "cell_type": "code",
   "execution_count": 5,
   "id": "1d6de1a9",
   "metadata": {},
   "outputs": [
    {
     "name": "stdout",
     "output_type": "stream",
     "text": [
      "True\n"
     ]
    }
   ],
   "source": [
    "#Print reddit.read_only\n",
    "print(reddit.read_only)"
   ]
  },
  {
   "cell_type": "code",
   "execution_count": 6,
   "id": "86051fe5",
   "metadata": {},
   "outputs": [
    {
     "name": "stdout",
     "output_type": "stream",
     "text": [
      "<praw.reddit.Reddit object at 0x000002C92F63AD50>\n"
     ]
    }
   ],
   "source": [
    "#Print the reddit instance information\n",
    "print(reddit)"
   ]
  },
  {
   "cell_type": "code",
   "execution_count": 7,
   "id": "6a6c625f",
   "metadata": {},
   "outputs": [],
   "source": [
    "#Access the subreddit named \"irishtourism\"\n",
    "subreddit = reddit.subreddit(\"irishtourism\")"
   ]
  },
  {
   "cell_type": "code",
   "execution_count": 8,
   "id": "e0b1735b",
   "metadata": {},
   "outputs": [
    {
     "name": "stdout",
     "output_type": "stream",
     "text": [
      "irishtourism\n"
     ]
    }
   ],
   "source": [
    "#Display the name of the Subreddit\n",
    "print(subreddit.display_name)"
   ]
  },
  {
   "cell_type": "code",
   "execution_count": 9,
   "id": "a626bdfa",
   "metadata": {},
   "outputs": [],
   "source": [
    "#Display the Reddit Title and Description\n",
    "#print(subreddit.title)\n",
    "#print(subreddit.description)"
   ]
  },
  {
   "cell_type": "code",
   "execution_count": 10,
   "id": "74380bad",
   "metadata": {},
   "outputs": [],
   "source": [
    "# Collects posts and comments related to transport in Ireland based on specified keyword\n",
    "keywords = [\"using the bus\",\"buses\",\"using the coach\",\"using the train\",\"use the train\",\n",
    "            \"use the dart\", \"using the dart\", \"I use the dart\",\"bike\",\n",
    "            \"rail\", \"bus eireann\", \"public transport\", \"tram\",\"luas\"]\n",
    "\n",
    "#Create Lists to store the data\n",
    "post_titles = []\n",
    "post_bodies = []\n",
    "comments = []\n",
    "\n",
    "#Loop through subreddit submissions based on the search query -transport in ireland\n",
    "for submission in subreddit.search(\"transport in ireland\", limit=None):\n",
    "    submission.comments.replace_more(limit=None)\n",
    "    post_title = submission.title\n",
    "    post_body = submission.selftext\n",
    "    #Iterate through comments in the submission\n",
    "    for comment in submission.comments.list():\n",
    "        #Check if any keyword is present in lowercase form in the comment body\n",
    "        if any(keyword.lower() in comment.body.lower() for keyword in keywords):\n",
    "            #If a relevant keyword is found, store the submission details and comment\n",
    "            post_titles.append(post_title)\n",
    "            post_bodies.append(post_body)\n",
    "            comments.append(comment.body)"
   ]
  },
  {
   "cell_type": "code",
   "execution_count": 11,
   "id": "e489a775",
   "metadata": {},
   "outputs": [],
   "source": [
    "#Calculate max length among lists\n",
    "max_length = max(len(post_titles), len(post_bodies), len(comments))\n",
    "\n",
    "#Padding shorter arrays with None values to match the length of the longest array\n",
    "post_titles += [None] * (max_length - len(post_titles))\n",
    "post_bodies += [None] * (max_length - len(post_bodies))\n",
    "comments += [None] * (max_length - len(comments))"
   ]
  },
  {
   "cell_type": "code",
   "execution_count": 12,
   "id": "5be6ba54",
   "metadata": {},
   "outputs": [],
   "source": [
    "#Create DataFrame for json\n",
    "ireland_df = {\n",
    "    \"Post Title\": post_titles,\n",
    "    \"Post Body\": post_bodies,\n",
    "    \"Comment\": comments\n",
    "}"
   ]
  },
  {
   "cell_type": "markdown",
   "id": "fed63b02",
   "metadata": {},
   "source": [
    "# Using Json DATA FOR SENTIMENT ANALYSIS OF IRELAND MODE OF PUBLIC TRANSPORT FROM CONSUMERS POINT OF VIEW USING VADER SENTIMENT ANALYSIS"
   ]
  },
  {
   "cell_type": "code",
   "execution_count": 13,
   "id": "69b351d6",
   "metadata": {},
   "outputs": [],
   "source": [
    "#Save the data as JSON\n",
    "with open('irishtourism_data.json', 'w') as outfile:\n",
    "    json.dump(ireland_df, outfile, indent=4)"
   ]
  },
  {
   "cell_type": "code",
   "execution_count": 14,
   "id": "a11f78fe",
   "metadata": {},
   "outputs": [
    {
     "name": "stdout",
     "output_type": "stream",
     "text": [
      "dict_keys(['Post Title', 'Post Body', 'Comment'])\n"
     ]
    }
   ],
   "source": [
    "#Check keys/fields in the JSON data\n",
    "print(ireland_df.keys())"
   ]
  },
  {
   "cell_type": "code",
   "execution_count": 15,
   "id": "8e9b38d0",
   "metadata": {},
   "outputs": [],
   "source": [
    "#Access specific elements eg post titles\n",
    "#print(ireland_df['Post Title'])"
   ]
  },
  {
   "cell_type": "code",
   "execution_count": 16,
   "id": "a8584b39",
   "metadata": {},
   "outputs": [],
   "source": [
    "import json\n",
    "from sklearn.feature_extraction.text import CountVectorizer\n",
    "from nltk.tokenize import RegexpTokenizer\n",
    "import nltk\n",
    "from nltk.sentiment.vader import SentimentIntensityAnalyzer\n",
    "from sklearn.model_selection import train_test_split"
   ]
  },
  {
   "cell_type": "code",
   "execution_count": 17,
   "id": "3f3013c1",
   "metadata": {},
   "outputs": [],
   "source": [
    "#Tokenize text using a regular expression tokenizer\n",
    "token = RegexpTokenizer(r'[a-zA-Z0-9]+')\n",
    "\n",
    "#Initialize CountVectorizer\n",
    "cv = CountVectorizer(stop_words='english', ngram_range=(1, 1), tokenizer=token.tokenize)\n",
    "\n",
    "#Load the JSON data\n",
    "with open('irishtourism_data.json', 'r') as file:\n",
    "    data = json.load(file)\n",
    "\n",
    "#Extract comments from JSON data\n",
    "comments = data['Comment']\n",
    "\n",
    "# Convert text data into a matrix of token counts\n",
    "text_counts = cv.fit_transform(comments)\n",
    "\n",
    "#Initialize VADER sentiment analyzer\n",
    "sid = SentimentIntensityAnalyzer()\n",
    "\n",
    "#Store comment sentiments and token counts in a list of dictionaries\n",
    "comment_info = []\n",
    "\n",
    "# Analyze sentiment for each comment\n",
    "for idx, comment in enumerate(comments):\n",
    "    comment_sentiment = sid.polarity_scores(comment)\n",
    "    \n",
    "    #Determine sentiment based on compound score\n",
    "    if comment_sentiment['compound'] >= 0.05:\n",
    "        sentiment = 'Positive'\n",
    "    elif comment_sentiment['compound'] <= -0.05:\n",
    "        sentiment = 'Negative'\n",
    "    else:\n",
    "        sentiment = 'Neutral'\n",
    "    \n",
    "    #Append sentiment and token counts to the list\n",
    "    comment_info.append({\n",
    "        'sentiment': sentiment,\n",
    "        'token_counts': text_counts[idx].toarray().tolist()  # Add token counts to sentiment info\n",
    "    })\n"
   ]
  },
  {
   "cell_type": "code",
   "execution_count": 18,
   "id": "a3c500b8",
   "metadata": {
    "scrolled": false
   },
   "outputs": [],
   "source": [
    "# Display sentiment and token counts for each comment\n",
    "#for idx, info in enumerate(comment_info, 1):\n",
    "    #print(f\"Comment {idx} Sentiment:\", info['sentiment'])\n",
    "    #print(\"Token Counts:\", info['token_counts'])\n",
    "    #print(\"----\")"
   ]
  },
  {
   "cell_type": "code",
   "execution_count": 19,
   "id": "d20e74b7",
   "metadata": {},
   "outputs": [],
   "source": [
    "#Extracting sentiment labels into a list\n",
    "sentiments = [info['sentiment'] for info in comment_info]\n",
    "\n",
    "#Splitting the data into training and testing sets\n",
    "X_train, X_test, Y_train, Y_test = train_test_split(text_counts, sentiments, test_size=0.20, random_state=0)\n"
   ]
  },
  {
   "cell_type": "code",
   "execution_count": 20,
   "id": "0f66fdd4",
   "metadata": {},
   "outputs": [
    {
     "name": "stdout",
     "output_type": "stream",
     "text": [
      "Accuracy Score:  0.7608695652173914\n"
     ]
    }
   ],
   "source": [
    "#Training the model\n",
    "from sklearn.naive_bayes import MultinomialNB\n",
    "MNB = MultinomialNB()\n",
    "MNB.fit(X_train, Y_train)\n",
    "\n",
    "#Calculate the accuracy score of the model\n",
    "from sklearn import metrics\n",
    "predicted = MNB.predict(X_test)\n",
    "accuracy_score = metrics.accuracy_score(predicted, Y_test)\n",
    "print(\"Accuracy Score: \",accuracy_score)"
   ]
  },
  {
   "cell_type": "markdown",
   "id": "a74b3862",
   "metadata": {},
   "source": [
    "# USING CSV"
   ]
  },
  {
   "cell_type": "code",
   "execution_count": 21,
   "id": "bef04243",
   "metadata": {},
   "outputs": [],
   "source": [
    "#Create DataFrame for csv\n",
    "ireland_df1 = {\n",
    "    \"Post Title\": post_titles,\n",
    "    \"Post Body\": post_bodies,\n",
    "    \"Comment\": comments\n",
    "}"
   ]
  },
  {
   "cell_type": "code",
   "execution_count": 22,
   "id": "6b9f10b6",
   "metadata": {},
   "outputs": [],
   "source": [
    "import pandas as pd\n",
    "#Convert dictionary to DataFrame\n",
    "ireland_df1 = pd.DataFrame.from_dict(ireland_df1)\n",
    "\n",
    "#Saving the DataFrame to a CSV file named 'Transport in ireland Reddit Posts.csv'\n",
    "ireland_df1.to_csv('Transport in ireland Reddit Posts.csv', index=False)\n"
   ]
  },
  {
   "cell_type": "markdown",
   "id": "adc4d09d",
   "metadata": {},
   "source": [
    "## USING TF-IDF FOR SENTIMENT ANALYSIS OF IRELAND PUBLIC TRANSPORT FROM CONSUMERS POINT OF VIEW"
   ]
  },
  {
   "cell_type": "code",
   "execution_count": 23,
   "id": "eb5f80d9",
   "metadata": {},
   "outputs": [],
   "source": [
    "#Import the transport_ireland1 Data\n",
    "transport_ireland1 = pd.read_csv(\"Transport in ireland Reddit Posts.csv\")"
   ]
  },
  {
   "cell_type": "code",
   "execution_count": 24,
   "id": "5a803315",
   "metadata": {},
   "outputs": [
    {
     "data": {
      "text/html": [
       "<div>\n",
       "<style scoped>\n",
       "    .dataframe tbody tr th:only-of-type {\n",
       "        vertical-align: middle;\n",
       "    }\n",
       "\n",
       "    .dataframe tbody tr th {\n",
       "        vertical-align: top;\n",
       "    }\n",
       "\n",
       "    .dataframe thead th {\n",
       "        text-align: right;\n",
       "    }\n",
       "</style>\n",
       "<table border=\"1\" class=\"dataframe\">\n",
       "  <thead>\n",
       "    <tr style=\"text-align: right;\">\n",
       "      <th></th>\n",
       "      <th>Post Title</th>\n",
       "      <th>Post Body</th>\n",
       "      <th>Comment</th>\n",
       "    </tr>\n",
       "  </thead>\n",
       "  <tbody>\n",
       "    <tr>\n",
       "      <th>0</th>\n",
       "      <td>Experiences using Public transport in Ireland</td>\n",
       "      <td>I’ve seen a lot of posts on this Reddit about ...</td>\n",
       "      <td>Bus eireann extremely unreliable Allow a lot o...</td>\n",
       "    </tr>\n",
       "    <tr>\n",
       "      <th>1</th>\n",
       "      <td>Experiences using Public transport in Ireland</td>\n",
       "      <td>I’ve seen a lot of posts on this Reddit about ...</td>\n",
       "      <td>Yeah even in towns like Athlone that got the n...</td>\n",
       "    </tr>\n",
       "    <tr>\n",
       "      <th>2</th>\n",
       "      <td>Experiences using Public transport in Ireland</td>\n",
       "      <td>I’ve seen a lot of posts on this Reddit about ...</td>\n",
       "      <td>Last year I was supposed to get a car service ...</td>\n",
       "    </tr>\n",
       "    <tr>\n",
       "      <th>3</th>\n",
       "      <td>Experiences using Public transport in Ireland</td>\n",
       "      <td>I’ve seen a lot of posts on this Reddit about ...</td>\n",
       "      <td>Irish Rail: Good but too overcrowded during pe...</td>\n",
       "    </tr>\n",
       "    <tr>\n",
       "      <th>4</th>\n",
       "      <td>Experiences using Public transport in Ireland</td>\n",
       "      <td>I’ve seen a lot of posts on this Reddit about ...</td>\n",
       "      <td>I've been staying in Maynooth for about 2 mont...</td>\n",
       "    </tr>\n",
       "  </tbody>\n",
       "</table>\n",
       "</div>"
      ],
      "text/plain": [
       "                                      Post Title  \\\n",
       "0  Experiences using Public transport in Ireland   \n",
       "1  Experiences using Public transport in Ireland   \n",
       "2  Experiences using Public transport in Ireland   \n",
       "3  Experiences using Public transport in Ireland   \n",
       "4  Experiences using Public transport in Ireland   \n",
       "\n",
       "                                           Post Body  \\\n",
       "0  I’ve seen a lot of posts on this Reddit about ...   \n",
       "1  I’ve seen a lot of posts on this Reddit about ...   \n",
       "2  I’ve seen a lot of posts on this Reddit about ...   \n",
       "3  I’ve seen a lot of posts on this Reddit about ...   \n",
       "4  I’ve seen a lot of posts on this Reddit about ...   \n",
       "\n",
       "                                             Comment  \n",
       "0  Bus eireann extremely unreliable Allow a lot o...  \n",
       "1  Yeah even in towns like Athlone that got the n...  \n",
       "2  Last year I was supposed to get a car service ...  \n",
       "3  Irish Rail: Good but too overcrowded during pe...  \n",
       "4  I've been staying in Maynooth for about 2 mont...  "
      ]
     },
     "execution_count": 24,
     "metadata": {},
     "output_type": "execute_result"
    }
   ],
   "source": [
    "#View the head of the dataset\n",
    "transport_ireland1.head()"
   ]
  },
  {
   "cell_type": "code",
   "execution_count": 25,
   "id": "e3261498",
   "metadata": {},
   "outputs": [
    {
     "data": {
      "text/html": [
       "<div>\n",
       "<style scoped>\n",
       "    .dataframe tbody tr th:only-of-type {\n",
       "        vertical-align: middle;\n",
       "    }\n",
       "\n",
       "    .dataframe tbody tr th {\n",
       "        vertical-align: top;\n",
       "    }\n",
       "\n",
       "    .dataframe thead th {\n",
       "        text-align: right;\n",
       "    }\n",
       "</style>\n",
       "<table border=\"1\" class=\"dataframe\">\n",
       "  <thead>\n",
       "    <tr style=\"text-align: right;\">\n",
       "      <th></th>\n",
       "      <th>Post Title</th>\n",
       "      <th>Post Body</th>\n",
       "      <th>Comment</th>\n",
       "    </tr>\n",
       "  </thead>\n",
       "  <tbody>\n",
       "    <tr>\n",
       "      <th>452</th>\n",
       "      <td>Christmas alone in Dublin</td>\n",
       "      <td>Because of... life, I need to go on a vacation...</td>\n",
       "      <td>99.9% of things are closed on Christmas day. P...</td>\n",
       "    </tr>\n",
       "    <tr>\n",
       "      <th>453</th>\n",
       "      <td>Christmas alone in Dublin</td>\n",
       "      <td>Because of... life, I need to go on a vacation...</td>\n",
       "      <td>Honestly, it's not a great time to visit if yo...</td>\n",
       "    </tr>\n",
       "    <tr>\n",
       "      <th>454</th>\n",
       "      <td>Christmas alone in Dublin</td>\n",
       "      <td>Because of... life, I need to go on a vacation...</td>\n",
       "      <td>I am not really worrying about eating (I can c...</td>\n",
       "    </tr>\n",
       "    <tr>\n",
       "      <th>455</th>\n",
       "      <td>Christmas alone in Dublin</td>\n",
       "      <td>Because of... life, I need to go on a vacation...</td>\n",
       "      <td>&gt; but about \"what to do\" as I won't be able to...</td>\n",
       "    </tr>\n",
       "    <tr>\n",
       "      <th>456</th>\n",
       "      <td>Transport - make your journey around the count...</td>\n",
       "      <td>**Bus**\\n\\n[Bus Eireann](http://www.buseireann...</td>\n",
       "      <td>That's pretty comprehensive. I won't asked wha...</td>\n",
       "    </tr>\n",
       "  </tbody>\n",
       "</table>\n",
       "</div>"
      ],
      "text/plain": [
       "                                            Post Title  \\\n",
       "452                          Christmas alone in Dublin   \n",
       "453                          Christmas alone in Dublin   \n",
       "454                          Christmas alone in Dublin   \n",
       "455                          Christmas alone in Dublin   \n",
       "456  Transport - make your journey around the count...   \n",
       "\n",
       "                                             Post Body  \\\n",
       "452  Because of... life, I need to go on a vacation...   \n",
       "453  Because of... life, I need to go on a vacation...   \n",
       "454  Because of... life, I need to go on a vacation...   \n",
       "455  Because of... life, I need to go on a vacation...   \n",
       "456  **Bus**\\n\\n[Bus Eireann](http://www.buseireann...   \n",
       "\n",
       "                                               Comment  \n",
       "452  99.9% of things are closed on Christmas day. P...  \n",
       "453  Honestly, it's not a great time to visit if yo...  \n",
       "454  I am not really worrying about eating (I can c...  \n",
       "455  > but about \"what to do\" as I won't be able to...  \n",
       "456  That's pretty comprehensive. I won't asked wha...  "
      ]
     },
     "execution_count": 25,
     "metadata": {},
     "output_type": "execute_result"
    }
   ],
   "source": [
    "#View the tail of the dataset\n",
    "transport_ireland1.tail()"
   ]
  },
  {
   "cell_type": "code",
   "execution_count": 26,
   "id": "2b1a1bb1",
   "metadata": {},
   "outputs": [
    {
     "data": {
      "text/plain": [
       "0"
      ]
     },
     "execution_count": 26,
     "metadata": {},
     "output_type": "execute_result"
    }
   ],
   "source": [
    "#Count duplicates in the 'Comment' variable\n",
    "comment_duplicates = transport_ireland1['Comment'].duplicated().sum()\n",
    "comment_duplicates"
   ]
  },
  {
   "cell_type": "code",
   "execution_count": 27,
   "id": "7723eb7b",
   "metadata": {},
   "outputs": [
    {
     "name": "stdout",
     "output_type": "stream",
     "text": [
      "Empty DataFrame\n",
      "Columns: [Post Title, Post Body, Comment]\n",
      "Index: []\n"
     ]
    }
   ],
   "source": [
    "#View the duplicate\n",
    "duplicate_comments = transport_ireland1[transport_ireland1['Comment'].duplicated(keep=False)]\n",
    "print(duplicate_comments)"
   ]
  },
  {
   "cell_type": "code",
   "execution_count": 28,
   "id": "2fe87c3f",
   "metadata": {
    "scrolled": true
   },
   "outputs": [
    {
     "data": {
      "text/html": [
       "<div>\n",
       "<style scoped>\n",
       "    .dataframe tbody tr th:only-of-type {\n",
       "        vertical-align: middle;\n",
       "    }\n",
       "\n",
       "    .dataframe tbody tr th {\n",
       "        vertical-align: top;\n",
       "    }\n",
       "\n",
       "    .dataframe thead th {\n",
       "        text-align: right;\n",
       "    }\n",
       "</style>\n",
       "<table border=\"1\" class=\"dataframe\">\n",
       "  <thead>\n",
       "    <tr style=\"text-align: right;\">\n",
       "      <th></th>\n",
       "      <th>Post Title</th>\n",
       "      <th>Post Body</th>\n",
       "      <th>Comment</th>\n",
       "    </tr>\n",
       "  </thead>\n",
       "  <tbody>\n",
       "    <tr>\n",
       "      <th>0</th>\n",
       "      <td>Experiences using Public transport in Ireland</td>\n",
       "      <td>I’ve seen a lot of posts on this Reddit about ...</td>\n",
       "      <td>Bus eireann extremely unreliable Allow a lot o...</td>\n",
       "    </tr>\n",
       "    <tr>\n",
       "      <th>1</th>\n",
       "      <td>Experiences using Public transport in Ireland</td>\n",
       "      <td>I’ve seen a lot of posts on this Reddit about ...</td>\n",
       "      <td>Yeah even in towns like Athlone that got the n...</td>\n",
       "    </tr>\n",
       "    <tr>\n",
       "      <th>2</th>\n",
       "      <td>Experiences using Public transport in Ireland</td>\n",
       "      <td>I’ve seen a lot of posts on this Reddit about ...</td>\n",
       "      <td>Last year I was supposed to get a car service ...</td>\n",
       "    </tr>\n",
       "    <tr>\n",
       "      <th>3</th>\n",
       "      <td>Experiences using Public transport in Ireland</td>\n",
       "      <td>I’ve seen a lot of posts on this Reddit about ...</td>\n",
       "      <td>Irish Rail: Good but too overcrowded during pe...</td>\n",
       "    </tr>\n",
       "    <tr>\n",
       "      <th>4</th>\n",
       "      <td>Experiences using Public transport in Ireland</td>\n",
       "      <td>I’ve seen a lot of posts on this Reddit about ...</td>\n",
       "      <td>I've been staying in Maynooth for about 2 mont...</td>\n",
       "    </tr>\n",
       "    <tr>\n",
       "      <th>...</th>\n",
       "      <td>...</td>\n",
       "      <td>...</td>\n",
       "      <td>...</td>\n",
       "    </tr>\n",
       "    <tr>\n",
       "      <th>452</th>\n",
       "      <td>Christmas alone in Dublin</td>\n",
       "      <td>Because of... life, I need to go on a vacation...</td>\n",
       "      <td>99.9% of things are closed on Christmas day. P...</td>\n",
       "    </tr>\n",
       "    <tr>\n",
       "      <th>453</th>\n",
       "      <td>Christmas alone in Dublin</td>\n",
       "      <td>Because of... life, I need to go on a vacation...</td>\n",
       "      <td>Honestly, it's not a great time to visit if yo...</td>\n",
       "    </tr>\n",
       "    <tr>\n",
       "      <th>454</th>\n",
       "      <td>Christmas alone in Dublin</td>\n",
       "      <td>Because of... life, I need to go on a vacation...</td>\n",
       "      <td>I am not really worrying about eating (I can c...</td>\n",
       "    </tr>\n",
       "    <tr>\n",
       "      <th>455</th>\n",
       "      <td>Christmas alone in Dublin</td>\n",
       "      <td>Because of... life, I need to go on a vacation...</td>\n",
       "      <td>&gt; but about \"what to do\" as I won't be able to...</td>\n",
       "    </tr>\n",
       "    <tr>\n",
       "      <th>456</th>\n",
       "      <td>Transport - make your journey around the count...</td>\n",
       "      <td>**Bus**\\n\\n[Bus Eireann](http://www.buseireann...</td>\n",
       "      <td>That's pretty comprehensive. I won't asked wha...</td>\n",
       "    </tr>\n",
       "  </tbody>\n",
       "</table>\n",
       "<p>457 rows × 3 columns</p>\n",
       "</div>"
      ],
      "text/plain": [
       "                                            Post Title  \\\n",
       "0        Experiences using Public transport in Ireland   \n",
       "1        Experiences using Public transport in Ireland   \n",
       "2        Experiences using Public transport in Ireland   \n",
       "3        Experiences using Public transport in Ireland   \n",
       "4        Experiences using Public transport in Ireland   \n",
       "..                                                 ...   \n",
       "452                          Christmas alone in Dublin   \n",
       "453                          Christmas alone in Dublin   \n",
       "454                          Christmas alone in Dublin   \n",
       "455                          Christmas alone in Dublin   \n",
       "456  Transport - make your journey around the count...   \n",
       "\n",
       "                                             Post Body  \\\n",
       "0    I’ve seen a lot of posts on this Reddit about ...   \n",
       "1    I’ve seen a lot of posts on this Reddit about ...   \n",
       "2    I’ve seen a lot of posts on this Reddit about ...   \n",
       "3    I’ve seen a lot of posts on this Reddit about ...   \n",
       "4    I’ve seen a lot of posts on this Reddit about ...   \n",
       "..                                                 ...   \n",
       "452  Because of... life, I need to go on a vacation...   \n",
       "453  Because of... life, I need to go on a vacation...   \n",
       "454  Because of... life, I need to go on a vacation...   \n",
       "455  Because of... life, I need to go on a vacation...   \n",
       "456  **Bus**\\n\\n[Bus Eireann](http://www.buseireann...   \n",
       "\n",
       "                                               Comment  \n",
       "0    Bus eireann extremely unreliable Allow a lot o...  \n",
       "1    Yeah even in towns like Athlone that got the n...  \n",
       "2    Last year I was supposed to get a car service ...  \n",
       "3    Irish Rail: Good but too overcrowded during pe...  \n",
       "4    I've been staying in Maynooth for about 2 mont...  \n",
       "..                                                 ...  \n",
       "452  99.9% of things are closed on Christmas day. P...  \n",
       "453  Honestly, it's not a great time to visit if yo...  \n",
       "454  I am not really worrying about eating (I can c...  \n",
       "455  > but about \"what to do\" as I won't be able to...  \n",
       "456  That's pretty comprehensive. I won't asked wha...  \n",
       "\n",
       "[457 rows x 3 columns]"
      ]
     },
     "execution_count": 28,
     "metadata": {},
     "output_type": "execute_result"
    }
   ],
   "source": [
    "#Drop the duplicated rows from transport_ireland based on the comment variable\n",
    "transport_ireland1 = transport_ireland1.drop_duplicates(subset=['Comment'])\n",
    "transport_ireland1"
   ]
  },
  {
   "cell_type": "code",
   "execution_count": 29,
   "id": "1dc8926d",
   "metadata": {},
   "outputs": [
    {
     "data": {
      "text/plain": [
       "0"
      ]
     },
     "execution_count": 29,
     "metadata": {},
     "output_type": "execute_result"
    }
   ],
   "source": [
    "#Check if the duplicates have been dropped\n",
    "comment_duplicates = transport_ireland1['Comment'].duplicated().sum()\n",
    "comment_duplicates"
   ]
  },
  {
   "cell_type": "code",
   "execution_count": 30,
   "id": "4a4534ef",
   "metadata": {},
   "outputs": [
    {
     "data": {
      "text/plain": [
       "(457, 3)"
      ]
     },
     "execution_count": 30,
     "metadata": {},
     "output_type": "execute_result"
    }
   ],
   "source": [
    "#Check the shape of the transport_ireland data\n",
    "transport_ireland1.shape"
   ]
  },
  {
   "cell_type": "markdown",
   "id": "91c3856d",
   "metadata": {},
   "source": [
    "## Preprocessing text"
   ]
  },
  {
   "cell_type": "code",
   "execution_count": 31,
   "id": "09be9793",
   "metadata": {},
   "outputs": [],
   "source": [
    "#Count the number of words in the comment\n",
    "transport_ireland1['word_count'] = transport_ireland1['Comment'].apply(lambda x: len(str(x).split(\" \")))"
   ]
  },
  {
   "cell_type": "code",
   "execution_count": 32,
   "id": "615dadc0",
   "metadata": {},
   "outputs": [
    {
     "data": {
      "text/html": [
       "<div>\n",
       "<style scoped>\n",
       "    .dataframe tbody tr th:only-of-type {\n",
       "        vertical-align: middle;\n",
       "    }\n",
       "\n",
       "    .dataframe tbody tr th {\n",
       "        vertical-align: top;\n",
       "    }\n",
       "\n",
       "    .dataframe thead th {\n",
       "        text-align: right;\n",
       "    }\n",
       "</style>\n",
       "<table border=\"1\" class=\"dataframe\">\n",
       "  <thead>\n",
       "    <tr style=\"text-align: right;\">\n",
       "      <th></th>\n",
       "      <th>Comment</th>\n",
       "      <th>word_count</th>\n",
       "    </tr>\n",
       "  </thead>\n",
       "  <tbody>\n",
       "    <tr>\n",
       "      <th>0</th>\n",
       "      <td>Bus eireann extremely unreliable Allow a lot o...</td>\n",
       "      <td>59</td>\n",
       "    </tr>\n",
       "    <tr>\n",
       "      <th>1</th>\n",
       "      <td>Yeah even in towns like Athlone that got the n...</td>\n",
       "      <td>83</td>\n",
       "    </tr>\n",
       "    <tr>\n",
       "      <th>2</th>\n",
       "      <td>Last year I was supposed to get a car service ...</td>\n",
       "      <td>189</td>\n",
       "    </tr>\n",
       "    <tr>\n",
       "      <th>3</th>\n",
       "      <td>Irish Rail: Good but too overcrowded during pe...</td>\n",
       "      <td>40</td>\n",
       "    </tr>\n",
       "    <tr>\n",
       "      <th>4</th>\n",
       "      <td>I've been staying in Maynooth for about 2 mont...</td>\n",
       "      <td>149</td>\n",
       "    </tr>\n",
       "  </tbody>\n",
       "</table>\n",
       "</div>"
      ],
      "text/plain": [
       "                                             Comment  word_count\n",
       "0  Bus eireann extremely unreliable Allow a lot o...          59\n",
       "1  Yeah even in towns like Athlone that got the n...          83\n",
       "2  Last year I was supposed to get a car service ...         189\n",
       "3  Irish Rail: Good but too overcrowded during pe...          40\n",
       "4  I've been staying in Maynooth for about 2 mont...         149"
      ]
     },
     "execution_count": 32,
     "metadata": {},
     "output_type": "execute_result"
    }
   ],
   "source": [
    "transport_ireland1[['Comment','word_count']].head()"
   ]
  },
  {
   "cell_type": "code",
   "execution_count": 33,
   "id": "00c4d6d7",
   "metadata": {},
   "outputs": [
    {
     "data": {
      "text/plain": [
       "940"
      ]
     },
     "execution_count": 33,
     "metadata": {},
     "output_type": "execute_result"
    }
   ],
   "source": [
    "#Find the maximum number of words in the 'word_count' variable of the 'transport_ireland1' DataFrame\n",
    "largest_word_count = transport_ireland1[\"word_count\"].max()\n",
    "largest_word_count"
   ]
  },
  {
   "cell_type": "code",
   "execution_count": 34,
   "id": "364c1f5d",
   "metadata": {},
   "outputs": [],
   "source": [
    "#Count the number of characters in the comment variable\n",
    "transport_ireland1['char_count'] = transport_ireland1['Comment'].str.len() "
   ]
  },
  {
   "cell_type": "code",
   "execution_count": 35,
   "id": "f312c992",
   "metadata": {
    "scrolled": true
   },
   "outputs": [
    {
     "data": {
      "text/html": [
       "<div>\n",
       "<style scoped>\n",
       "    .dataframe tbody tr th:only-of-type {\n",
       "        vertical-align: middle;\n",
       "    }\n",
       "\n",
       "    .dataframe tbody tr th {\n",
       "        vertical-align: top;\n",
       "    }\n",
       "\n",
       "    .dataframe thead th {\n",
       "        text-align: right;\n",
       "    }\n",
       "</style>\n",
       "<table border=\"1\" class=\"dataframe\">\n",
       "  <thead>\n",
       "    <tr style=\"text-align: right;\">\n",
       "      <th></th>\n",
       "      <th>Comment</th>\n",
       "      <th>char_count</th>\n",
       "    </tr>\n",
       "  </thead>\n",
       "  <tbody>\n",
       "    <tr>\n",
       "      <th>0</th>\n",
       "      <td>Bus eireann extremely unreliable Allow a lot o...</td>\n",
       "      <td>355</td>\n",
       "    </tr>\n",
       "    <tr>\n",
       "      <th>1</th>\n",
       "      <td>Yeah even in towns like Athlone that got the n...</td>\n",
       "      <td>431</td>\n",
       "    </tr>\n",
       "    <tr>\n",
       "      <th>2</th>\n",
       "      <td>Last year I was supposed to get a car service ...</td>\n",
       "      <td>958</td>\n",
       "    </tr>\n",
       "    <tr>\n",
       "      <th>3</th>\n",
       "      <td>Irish Rail: Good but too overcrowded during pe...</td>\n",
       "      <td>251</td>\n",
       "    </tr>\n",
       "    <tr>\n",
       "      <th>4</th>\n",
       "      <td>I've been staying in Maynooth for about 2 mont...</td>\n",
       "      <td>826</td>\n",
       "    </tr>\n",
       "  </tbody>\n",
       "</table>\n",
       "</div>"
      ],
      "text/plain": [
       "                                             Comment  char_count\n",
       "0  Bus eireann extremely unreliable Allow a lot o...         355\n",
       "1  Yeah even in towns like Athlone that got the n...         431\n",
       "2  Last year I was supposed to get a car service ...         958\n",
       "3  Irish Rail: Good but too overcrowded during pe...         251\n",
       "4  I've been staying in Maynooth for about 2 mont...         826"
      ]
     },
     "execution_count": 35,
     "metadata": {},
     "output_type": "execute_result"
    }
   ],
   "source": [
    "#View the head of the char_count and comment\n",
    "transport_ireland1[['Comment','char_count']].head()"
   ]
  },
  {
   "cell_type": "code",
   "execution_count": 36,
   "id": "f430a27b",
   "metadata": {},
   "outputs": [
    {
     "data": {
      "text/plain": [
       "5212"
      ]
     },
     "execution_count": 36,
     "metadata": {},
     "output_type": "execute_result"
    }
   ],
   "source": [
    "#Find the maximum number of characters in the 'char_count' variable of the 'transport_ireland1' DataFrame\n",
    "largest_word_count = transport_ireland1[\"char_count\"].max()\n",
    "largest_word_count"
   ]
  },
  {
   "cell_type": "code",
   "execution_count": 37,
   "id": "7f4f9220",
   "metadata": {},
   "outputs": [
    {
     "data": {
      "text/html": [
       "<div>\n",
       "<style scoped>\n",
       "    .dataframe tbody tr th:only-of-type {\n",
       "        vertical-align: middle;\n",
       "    }\n",
       "\n",
       "    .dataframe tbody tr th {\n",
       "        vertical-align: top;\n",
       "    }\n",
       "\n",
       "    .dataframe thead th {\n",
       "        text-align: right;\n",
       "    }\n",
       "</style>\n",
       "<table border=\"1\" class=\"dataframe\">\n",
       "  <thead>\n",
       "    <tr style=\"text-align: right;\">\n",
       "      <th></th>\n",
       "      <th>Post Title</th>\n",
       "      <th>Post Body</th>\n",
       "      <th>Comment</th>\n",
       "      <th>word_count</th>\n",
       "      <th>char_count</th>\n",
       "    </tr>\n",
       "  </thead>\n",
       "  <tbody>\n",
       "    <tr>\n",
       "      <th>0</th>\n",
       "      <td>Experiences using Public transport in Ireland</td>\n",
       "      <td>I’ve seen a lot of posts on this Reddit about ...</td>\n",
       "      <td>Bus eireann extremely unreliable Allow a lot o...</td>\n",
       "      <td>59</td>\n",
       "      <td>355</td>\n",
       "    </tr>\n",
       "    <tr>\n",
       "      <th>1</th>\n",
       "      <td>Experiences using Public transport in Ireland</td>\n",
       "      <td>I’ve seen a lot of posts on this Reddit about ...</td>\n",
       "      <td>Yeah even in towns like Athlone that got the n...</td>\n",
       "      <td>83</td>\n",
       "      <td>431</td>\n",
       "    </tr>\n",
       "    <tr>\n",
       "      <th>2</th>\n",
       "      <td>Experiences using Public transport in Ireland</td>\n",
       "      <td>I’ve seen a lot of posts on this Reddit about ...</td>\n",
       "      <td>Last year I was supposed to get a car service ...</td>\n",
       "      <td>189</td>\n",
       "      <td>958</td>\n",
       "    </tr>\n",
       "    <tr>\n",
       "      <th>3</th>\n",
       "      <td>Experiences using Public transport in Ireland</td>\n",
       "      <td>I’ve seen a lot of posts on this Reddit about ...</td>\n",
       "      <td>Irish Rail: Good but too overcrowded during pe...</td>\n",
       "      <td>40</td>\n",
       "      <td>251</td>\n",
       "    </tr>\n",
       "    <tr>\n",
       "      <th>4</th>\n",
       "      <td>Experiences using Public transport in Ireland</td>\n",
       "      <td>I’ve seen a lot of posts on this Reddit about ...</td>\n",
       "      <td>I've been staying in Maynooth for about 2 mont...</td>\n",
       "      <td>149</td>\n",
       "      <td>826</td>\n",
       "    </tr>\n",
       "  </tbody>\n",
       "</table>\n",
       "</div>"
      ],
      "text/plain": [
       "                                      Post Title  \\\n",
       "0  Experiences using Public transport in Ireland   \n",
       "1  Experiences using Public transport in Ireland   \n",
       "2  Experiences using Public transport in Ireland   \n",
       "3  Experiences using Public transport in Ireland   \n",
       "4  Experiences using Public transport in Ireland   \n",
       "\n",
       "                                           Post Body  \\\n",
       "0  I’ve seen a lot of posts on this Reddit about ...   \n",
       "1  I’ve seen a lot of posts on this Reddit about ...   \n",
       "2  I’ve seen a lot of posts on this Reddit about ...   \n",
       "3  I’ve seen a lot of posts on this Reddit about ...   \n",
       "4  I’ve seen a lot of posts on this Reddit about ...   \n",
       "\n",
       "                                             Comment  word_count  char_count  \n",
       "0  Bus eireann extremely unreliable Allow a lot o...          59         355  \n",
       "1  Yeah even in towns like Athlone that got the n...          83         431  \n",
       "2  Last year I was supposed to get a car service ...         189         958  \n",
       "3  Irish Rail: Good but too overcrowded during pe...          40         251  \n",
       "4  I've been staying in Maynooth for about 2 mont...         149         826  "
      ]
     },
     "execution_count": 37,
     "metadata": {},
     "output_type": "execute_result"
    }
   ],
   "source": [
    "#View the head of the transport_ireland1\n",
    "transport_ireland1.head(5)"
   ]
  },
  {
   "cell_type": "code",
   "execution_count": 38,
   "id": "1120640f",
   "metadata": {},
   "outputs": [],
   "source": [
    "#define a function to calculate the average length of words in a sentence\n",
    "def avg_word(sentence):\n",
    "  words = sentence.split()\n",
    "  return (sum(len(word) for word in words)/len(words))"
   ]
  },
  {
   "cell_type": "code",
   "execution_count": 39,
   "id": "afc5b378",
   "metadata": {},
   "outputs": [],
   "source": [
    "#Apply the avg_word function on comment\n",
    "transport_ireland1['avg_word'] = transport_ireland1['Comment'].apply(lambda x: avg_word(x))"
   ]
  },
  {
   "cell_type": "code",
   "execution_count": 40,
   "id": "dd2f18e9",
   "metadata": {},
   "outputs": [
    {
     "data": {
      "text/html": [
       "<div>\n",
       "<style scoped>\n",
       "    .dataframe tbody tr th:only-of-type {\n",
       "        vertical-align: middle;\n",
       "    }\n",
       "\n",
       "    .dataframe tbody tr th {\n",
       "        vertical-align: top;\n",
       "    }\n",
       "\n",
       "    .dataframe thead th {\n",
       "        text-align: right;\n",
       "    }\n",
       "</style>\n",
       "<table border=\"1\" class=\"dataframe\">\n",
       "  <thead>\n",
       "    <tr style=\"text-align: right;\">\n",
       "      <th></th>\n",
       "      <th>Comment</th>\n",
       "      <th>avg_word</th>\n",
       "    </tr>\n",
       "  </thead>\n",
       "  <tbody>\n",
       "    <tr>\n",
       "      <th>0</th>\n",
       "      <td>Bus eireann extremely unreliable Allow a lot o...</td>\n",
       "      <td>5.000000</td>\n",
       "    </tr>\n",
       "    <tr>\n",
       "      <th>1</th>\n",
       "      <td>Yeah even in towns like Athlone that got the n...</td>\n",
       "      <td>4.204819</td>\n",
       "    </tr>\n",
       "    <tr>\n",
       "      <th>2</th>\n",
       "      <td>Last year I was supposed to get a car service ...</td>\n",
       "      <td>4.327684</td>\n",
       "    </tr>\n",
       "    <tr>\n",
       "      <th>3</th>\n",
       "      <td>Irish Rail: Good but too overcrowded during pe...</td>\n",
       "      <td>4.727273</td>\n",
       "    </tr>\n",
       "    <tr>\n",
       "      <th>4</th>\n",
       "      <td>I've been staying in Maynooth for about 2 mont...</td>\n",
       "      <td>4.536913</td>\n",
       "    </tr>\n",
       "  </tbody>\n",
       "</table>\n",
       "</div>"
      ],
      "text/plain": [
       "                                             Comment  avg_word\n",
       "0  Bus eireann extremely unreliable Allow a lot o...  5.000000\n",
       "1  Yeah even in towns like Athlone that got the n...  4.204819\n",
       "2  Last year I was supposed to get a car service ...  4.327684\n",
       "3  Irish Rail: Good but too overcrowded during pe...  4.727273\n",
       "4  I've been staying in Maynooth for about 2 mont...  4.536913"
      ]
     },
     "execution_count": 40,
     "metadata": {},
     "output_type": "execute_result"
    }
   ],
   "source": [
    "#View comment and avg_word\n",
    "transport_ireland1[['Comment','avg_word']].head()"
   ]
  },
  {
   "cell_type": "code",
   "execution_count": 41,
   "id": "af0e752c",
   "metadata": {},
   "outputs": [
    {
     "name": "stderr",
     "output_type": "stream",
     "text": [
      "[nltk_data] Downloading package stopwords to\n",
      "[nltk_data]     C:\\Users\\Diana\\AppData\\Roaming\\nltk_data...\n",
      "[nltk_data]   Package stopwords is already up-to-date!\n"
     ]
    },
    {
     "data": {
      "text/plain": [
       "True"
      ]
     },
     "execution_count": 41,
     "metadata": {},
     "output_type": "execute_result"
    }
   ],
   "source": [
    "import nltk\n",
    "nltk.download('stopwords')"
   ]
  },
  {
   "cell_type": "code",
   "execution_count": 42,
   "id": "7c4436c5",
   "metadata": {},
   "outputs": [],
   "source": [
    "from nltk.corpus import stopwords\n",
    "stop = stopwords.words('english')"
   ]
  },
  {
   "cell_type": "code",
   "execution_count": 43,
   "id": "bc20d356",
   "metadata": {},
   "outputs": [
    {
     "data": {
      "text/html": [
       "<div>\n",
       "<style scoped>\n",
       "    .dataframe tbody tr th:only-of-type {\n",
       "        vertical-align: middle;\n",
       "    }\n",
       "\n",
       "    .dataframe tbody tr th {\n",
       "        vertical-align: top;\n",
       "    }\n",
       "\n",
       "    .dataframe thead th {\n",
       "        text-align: right;\n",
       "    }\n",
       "</style>\n",
       "<table border=\"1\" class=\"dataframe\">\n",
       "  <thead>\n",
       "    <tr style=\"text-align: right;\">\n",
       "      <th></th>\n",
       "      <th>Comment</th>\n",
       "      <th>stopwords</th>\n",
       "    </tr>\n",
       "  </thead>\n",
       "  <tbody>\n",
       "    <tr>\n",
       "      <th>0</th>\n",
       "      <td>Bus eireann extremely unreliable Allow a lot o...</td>\n",
       "      <td>21</td>\n",
       "    </tr>\n",
       "    <tr>\n",
       "      <th>1</th>\n",
       "      <td>Yeah even in towns like Athlone that got the n...</td>\n",
       "      <td>34</td>\n",
       "    </tr>\n",
       "    <tr>\n",
       "      <th>2</th>\n",
       "      <td>Last year I was supposed to get a car service ...</td>\n",
       "      <td>75</td>\n",
       "    </tr>\n",
       "    <tr>\n",
       "      <th>3</th>\n",
       "      <td>Irish Rail: Good but too overcrowded during pe...</td>\n",
       "      <td>13</td>\n",
       "    </tr>\n",
       "    <tr>\n",
       "      <th>4</th>\n",
       "      <td>I've been staying in Maynooth for about 2 mont...</td>\n",
       "      <td>65</td>\n",
       "    </tr>\n",
       "  </tbody>\n",
       "</table>\n",
       "</div>"
      ],
      "text/plain": [
       "                                             Comment  stopwords\n",
       "0  Bus eireann extremely unreliable Allow a lot o...         21\n",
       "1  Yeah even in towns like Athlone that got the n...         34\n",
       "2  Last year I was supposed to get a car service ...         75\n",
       "3  Irish Rail: Good but too overcrowded during pe...         13\n",
       "4  I've been staying in Maynooth for about 2 mont...         65"
      ]
     },
     "execution_count": 43,
     "metadata": {},
     "output_type": "execute_result"
    }
   ],
   "source": [
    "#count number of stopwords in each comment and store in a variable called stopwords\n",
    "transport_ireland1['stopwords'] = transport_ireland1['Comment'].apply(lambda x: len([x for x in x.split() if x in stop]))\n",
    "transport_ireland1[['Comment','stopwords']].head()"
   ]
  },
  {
   "cell_type": "code",
   "execution_count": 44,
   "id": "c1cbbbc1",
   "metadata": {},
   "outputs": [
    {
     "data": {
      "text/html": [
       "<div>\n",
       "<style scoped>\n",
       "    .dataframe tbody tr th:only-of-type {\n",
       "        vertical-align: middle;\n",
       "    }\n",
       "\n",
       "    .dataframe tbody tr th {\n",
       "        vertical-align: top;\n",
       "    }\n",
       "\n",
       "    .dataframe thead th {\n",
       "        text-align: right;\n",
       "    }\n",
       "</style>\n",
       "<table border=\"1\" class=\"dataframe\">\n",
       "  <thead>\n",
       "    <tr style=\"text-align: right;\">\n",
       "      <th></th>\n",
       "      <th>Comment</th>\n",
       "      <th>numerics</th>\n",
       "    </tr>\n",
       "  </thead>\n",
       "  <tbody>\n",
       "    <tr>\n",
       "      <th>0</th>\n",
       "      <td>Bus eireann extremely unreliable Allow a lot o...</td>\n",
       "      <td>0</td>\n",
       "    </tr>\n",
       "    <tr>\n",
       "      <th>1</th>\n",
       "      <td>Yeah even in towns like Athlone that got the n...</td>\n",
       "      <td>0</td>\n",
       "    </tr>\n",
       "    <tr>\n",
       "      <th>2</th>\n",
       "      <td>Last year I was supposed to get a car service ...</td>\n",
       "      <td>1</td>\n",
       "    </tr>\n",
       "    <tr>\n",
       "      <th>3</th>\n",
       "      <td>Irish Rail: Good but too overcrowded during pe...</td>\n",
       "      <td>0</td>\n",
       "    </tr>\n",
       "    <tr>\n",
       "      <th>4</th>\n",
       "      <td>I've been staying in Maynooth for about 2 mont...</td>\n",
       "      <td>1</td>\n",
       "    </tr>\n",
       "  </tbody>\n",
       "</table>\n",
       "</div>"
      ],
      "text/plain": [
       "                                             Comment  numerics\n",
       "0  Bus eireann extremely unreliable Allow a lot o...         0\n",
       "1  Yeah even in towns like Athlone that got the n...         0\n",
       "2  Last year I was supposed to get a car service ...         1\n",
       "3  Irish Rail: Good but too overcrowded during pe...         0\n",
       "4  I've been staying in Maynooth for about 2 mont...         1"
      ]
     },
     "execution_count": 44,
     "metadata": {},
     "output_type": "execute_result"
    }
   ],
   "source": [
    "#count number of numerics in the comment variable and store the value in a variable called numeric\n",
    "transport_ireland1['numerics'] = transport_ireland1['Comment'].apply(lambda x: len([x for x in x.split() if x.isdigit()]))\n",
    "transport_ireland1[['Comment','numerics']].head()"
   ]
  },
  {
   "cell_type": "code",
   "execution_count": 45,
   "id": "0feb2f33",
   "metadata": {},
   "outputs": [
    {
     "data": {
      "text/html": [
       "<div>\n",
       "<style scoped>\n",
       "    .dataframe tbody tr th:only-of-type {\n",
       "        vertical-align: middle;\n",
       "    }\n",
       "\n",
       "    .dataframe tbody tr th {\n",
       "        vertical-align: top;\n",
       "    }\n",
       "\n",
       "    .dataframe thead th {\n",
       "        text-align: right;\n",
       "    }\n",
       "</style>\n",
       "<table border=\"1\" class=\"dataframe\">\n",
       "  <thead>\n",
       "    <tr style=\"text-align: right;\">\n",
       "      <th></th>\n",
       "      <th>Comment</th>\n",
       "      <th>upper</th>\n",
       "    </tr>\n",
       "  </thead>\n",
       "  <tbody>\n",
       "    <tr>\n",
       "      <th>0</th>\n",
       "      <td>Bus eireann extremely unreliable Allow a lot o...</td>\n",
       "      <td>0</td>\n",
       "    </tr>\n",
       "    <tr>\n",
       "      <th>1</th>\n",
       "      <td>Yeah even in towns like Athlone that got the n...</td>\n",
       "      <td>0</td>\n",
       "    </tr>\n",
       "    <tr>\n",
       "      <th>2</th>\n",
       "      <td>Last year I was supposed to get a car service ...</td>\n",
       "      <td>8</td>\n",
       "    </tr>\n",
       "    <tr>\n",
       "      <th>3</th>\n",
       "      <td>Irish Rail: Good but too overcrowded during pe...</td>\n",
       "      <td>0</td>\n",
       "    </tr>\n",
       "    <tr>\n",
       "      <th>4</th>\n",
       "      <td>I've been staying in Maynooth for about 2 mont...</td>\n",
       "      <td>3</td>\n",
       "    </tr>\n",
       "  </tbody>\n",
       "</table>\n",
       "</div>"
      ],
      "text/plain": [
       "                                             Comment  upper\n",
       "0  Bus eireann extremely unreliable Allow a lot o...      0\n",
       "1  Yeah even in towns like Athlone that got the n...      0\n",
       "2  Last year I was supposed to get a car service ...      8\n",
       "3  Irish Rail: Good but too overcrowded during pe...      0\n",
       "4  I've been staying in Maynooth for about 2 mont...      3"
      ]
     },
     "execution_count": 45,
     "metadata": {},
     "output_type": "execute_result"
    }
   ],
   "source": [
    "#count number of uppercases in the comment variable and store the value in a variable called upper\n",
    "transport_ireland1['upper'] = transport_ireland1['Comment'].apply(lambda x: len([x for x in x.split() if x.isupper()]))\n",
    "transport_ireland1[['Comment','upper']].head()"
   ]
  },
  {
   "cell_type": "code",
   "execution_count": 46,
   "id": "add07a48",
   "metadata": {
    "scrolled": true
   },
   "outputs": [
    {
     "data": {
      "text/plain": [
       "0    bus eireann extremely unreliable allow a lot o...\n",
       "1    yeah even in towns like athlone that got the n...\n",
       "2    last year i was supposed to get a car service ...\n",
       "3    irish rail: good but too overcrowded during pe...\n",
       "4    i've been staying in maynooth for about 2 mont...\n",
       "Name: Comment, dtype: object"
      ]
     },
     "execution_count": 46,
     "metadata": {},
     "output_type": "execute_result"
    }
   ],
   "source": [
    "#Convert all uppercases to lowe cases\n",
    "transport_ireland1['Comment'] = transport_ireland1['Comment'].apply(lambda x: \" \".join(x.lower() for x in x.split()))\n",
    "transport_ireland1['Comment'].head()"
   ]
  },
  {
   "cell_type": "code",
   "execution_count": 47,
   "id": "30ffcffc",
   "metadata": {},
   "outputs": [
    {
     "data": {
      "text/plain": [
       "0    bus eireann extremely unreliable allow a lot o...\n",
       "1    yeah even in towns like athlone that got the n...\n",
       "2    last year i was supposed to get a car service ...\n",
       "3    irish rail good but too overcrowded during pea...\n",
       "4    ive been staying in maynooth for about 2 month...\n",
       "Name: Comment, dtype: object"
      ]
     },
     "execution_count": 47,
     "metadata": {},
     "output_type": "execute_result"
    }
   ],
   "source": [
    "#Remove all special characters\n",
    "transport_ireland1['Comment'] = transport_ireland1['Comment'].str.replace('[^\\w\\s]','')\n",
    "transport_ireland1['Comment'].head()"
   ]
  },
  {
   "cell_type": "code",
   "execution_count": 48,
   "id": "5ab39d09",
   "metadata": {},
   "outputs": [
    {
     "data": {
      "text/plain": [
       "0    bus eireann extremely unreliable allow lot ext...\n",
       "1    yeah even towns like athlone got new electric ...\n",
       "2    last year supposed get car service pickup dubl...\n",
       "3    irish rail good overcrowded peak hours dublin ...\n",
       "4    ive staying maynooth 2 months short study ive ...\n",
       "Name: Comment, dtype: object"
      ]
     },
     "execution_count": 48,
     "metadata": {},
     "output_type": "execute_result"
    }
   ],
   "source": [
    "#Remove all stopwords\n",
    "from nltk.corpus import stopwords\n",
    "stop = stopwords.words('english')\n",
    "transport_ireland1['Comment'] = transport_ireland1['Comment'].apply(lambda x: \" \".join(x for x in x.split() if x not in stop))\n",
    "transport_ireland1['Comment'].head()"
   ]
  },
  {
   "cell_type": "code",
   "execution_count": 49,
   "id": "73b3ba7c",
   "metadata": {},
   "outputs": [],
   "source": [
    "#list the 10 most frequent words\n",
    "#freq = pd.Series(' '.join(transport_ireland1['Comment']).split()).value_counts()[:10]\n",
    "#freq"
   ]
  },
  {
   "cell_type": "code",
   "execution_count": 50,
   "id": "04eae48c",
   "metadata": {},
   "outputs": [],
   "source": [
    "#freq = list(freq.index)\n",
    "#transport_ireland1['Comment'] = transport_ireland1['Comment'].apply(lambda x: \" \".join(x for x in x.split() if x not in freq))\n",
    "#transport_ireland1['Comment'].head()"
   ]
  },
  {
   "cell_type": "code",
   "execution_count": 51,
   "id": "6e9f99e5",
   "metadata": {},
   "outputs": [
    {
     "data": {
      "text/plain": [
       "0    bus eireann extremely reliable allow lot extra...\n",
       "1    yeah even towns like alone got new electric bu...\n",
       "2    last year supposed get car service picked dubl...\n",
       "3    irish rail good overcrowded peak hours dublin ...\n",
       "4    give staying maynooth 2 months short study giv...\n",
       "Name: Comment, dtype: object"
      ]
     },
     "execution_count": 51,
     "metadata": {},
     "output_type": "execute_result"
    }
   ],
   "source": [
    "#Apply text correction using TextBlob to the first 5 comments in the 'Comment'\n",
    "from textblob import TextBlob\n",
    "transport_ireland1['Comment'] [:5].apply(lambda x: str(TextBlob(x).correct()))"
   ]
  },
  {
   "cell_type": "code",
   "execution_count": 52,
   "id": "5d7c00c5",
   "metadata": {},
   "outputs": [
    {
     "name": "stderr",
     "output_type": "stream",
     "text": [
      "[nltk_data] Downloading package punkt to\n",
      "[nltk_data]     C:\\Users\\Diana\\AppData\\Roaming\\nltk_data...\n",
      "[nltk_data]   Package punkt is already up-to-date!\n"
     ]
    },
    {
     "data": {
      "text/plain": [
       "WordList(['yeah', 'even', 'towns', 'like', 'athlone', 'got', 'new', 'electric', 'buses', 'theres', 'town', 'bus', 'supposed', 'going', 'every', 'half', 'hour', 'yet', 'people', 'left', 'standing', 'rain', 'knowing', 'come', 'would', 'nice', 'could', 'least', 'announce', 'bus', 'route', 'cancellations', 'delays', 'people', 'could', 'chance', 'make', 'alternative', 'plans', 'rather', 'waiting', 'bus', 'thats', 'due', 'show', 'another', 'hour', 'two'])"
      ]
     },
     "execution_count": 52,
     "metadata": {},
     "output_type": "execute_result"
    }
   ],
   "source": [
    "#Use TextBlob to tokenize the words in the second comment in the 'Comment' column\n",
    "nltk.download('punkt')\n",
    "TextBlob(transport_ireland1['Comment'][1]).words"
   ]
  },
  {
   "cell_type": "code",
   "execution_count": 53,
   "id": "ac98000f",
   "metadata": {},
   "outputs": [
    {
     "data": {
      "text/plain": [
       "0    bu eireann extrem unreli allow lot extra time ...\n",
       "1    yeah even town like athlon got new electr buse...\n",
       "2    last year suppos get car servic pickup dublin ...\n",
       "3    irish rail good overcrowd peak hour dublin bu ...\n",
       "4    ive stay maynooth 2 month short studi ive gott...\n",
       "Name: Comment, dtype: object"
      ]
     },
     "execution_count": 53,
     "metadata": {},
     "output_type": "execute_result"
    }
   ],
   "source": [
    "#Appy word stemming using PorterStemmer to the first 5 comments in the 'Comment' column\n",
    "from nltk.stem import PorterStemmer\n",
    "st = PorterStemmer()\n",
    "transport_ireland1['Comment'][:5].apply(lambda x: \" \".join([st.stem(word) for word in x.split()]))"
   ]
  },
  {
   "cell_type": "code",
   "execution_count": 54,
   "id": "b29453e2",
   "metadata": {
    "scrolled": true
   },
   "outputs": [
    {
     "name": "stderr",
     "output_type": "stream",
     "text": [
      "[nltk_data] Downloading package wordnet to\n",
      "[nltk_data]     C:\\Users\\Diana\\AppData\\Roaming\\nltk_data...\n",
      "[nltk_data]   Package wordnet is already up-to-date!\n"
     ]
    },
    {
     "data": {
      "text/plain": [
       "0    bus eireann extremely unreliable allow lot ext...\n",
       "1    yeah even town like athlone got new electric b...\n",
       "2    last year supposed get car service pickup dubl...\n",
       "3    irish rail good overcrowded peak hour dublin b...\n",
       "4    ive staying maynooth 2 month short study ive g...\n",
       "Name: Comment, dtype: object"
      ]
     },
     "execution_count": 54,
     "metadata": {},
     "output_type": "execute_result"
    }
   ],
   "source": [
    "#Apply word lemmatizing using lemmatize to the 'Comment' column\n",
    "nltk.download('wordnet')\n",
    "from textblob import Word\n",
    "transport_ireland1['Comment'] = transport_ireland1['Comment'].apply(lambda x: \" \".join([Word(word).lemmatize() for word in x.split()]))\n",
    "transport_ireland1['Comment'].head()"
   ]
  },
  {
   "cell_type": "code",
   "execution_count": 55,
   "id": "061201ee",
   "metadata": {},
   "outputs": [
    {
     "data": {
      "text/plain": [
       "[WordList(['bus', 'eireann']),\n",
       " WordList(['eireann', 'extremely']),\n",
       " WordList(['extremely', 'unreliable']),\n",
       " WordList(['unreliable', 'allow']),\n",
       " WordList(['allow', 'lot']),\n",
       " WordList(['lot', 'extra']),\n",
       " WordList(['extra', 'time']),\n",
       " WordList(['time', 'need']),\n",
       " WordList(['need', 'time']),\n",
       " WordList(['time', 'avoid']),\n",
       " WordList(['avoid', 'intercounty']),\n",
       " WordList(['intercounty', 'travel']),\n",
       " WordList(['travel', 'slow']),\n",
       " WordList(['slow', 'private']),\n",
       " WordList(['private', 'bus']),\n",
       " WordList(['bus', 'dublin']),\n",
       " WordList(['dublin', 'oversubscribed']),\n",
       " WordList(['oversubscribed', 'aircoach']),\n",
       " WordList(['aircoach', 'gobus']),\n",
       " WordList(['gobus', 'etc']),\n",
       " WordList(['etc', 'need']),\n",
       " WordList(['need', 'booked']),\n",
       " WordList(['booked', 'advance']),\n",
       " WordList(['advance', 'expressway']),\n",
       " WordList(['expressway', 'really']),\n",
       " WordList(['really', 'overpriced']),\n",
       " WordList(['overpriced', 'luas']),\n",
       " WordList(['luas', 'dublin']),\n",
       " WordList(['dublin', 'bus']),\n",
       " WordList(['bus', 'dart']),\n",
       " WordList(['dart', 'irishrail']),\n",
       " WordList(['irishrail', 'decent']),\n",
       " WordList(['decent', 'irishrail']),\n",
       " WordList(['irishrail', 'dart']),\n",
       " WordList(['dart', 'bit']),\n",
       " WordList(['bit', 'outdated'])]"
      ]
     },
     "execution_count": 55,
     "metadata": {},
     "output_type": "execute_result"
    }
   ],
   "source": [
    "#Use TextBlob to generate bigrams for the first comment in the 'Comment' column\n",
    "TextBlob(transport_ireland1['Comment'][0]).ngrams(2)"
   ]
  },
  {
   "cell_type": "code",
   "execution_count": 56,
   "id": "a6351acc",
   "metadata": {},
   "outputs": [
    {
     "data": {
      "text/plain": [
       "0    (-0.0654761904761905, 0.48214285714285715)\n",
       "1     (0.02411616161616162, 0.3993686868686868)\n",
       "2                   (0.3925925925925926, 0.625)\n",
       "3    (0.27346938775510204, 0.39693877551020407)\n",
       "4     (0.06527056277056278, 0.3055546536796537)\n",
       "Name: Comment, dtype: object"
      ]
     },
     "execution_count": 56,
     "metadata": {},
     "output_type": "execute_result"
    }
   ],
   "source": [
    "#Apply sentiment analysis using TextBlob to the first 5 comments in the 'Comment' column\n",
    "transport_ireland1['Comment'][:5].apply(lambda x: TextBlob(x).sentiment)"
   ]
  },
  {
   "cell_type": "code",
   "execution_count": 57,
   "id": "e87e05f0",
   "metadata": {},
   "outputs": [
    {
     "data": {
      "text/html": [
       "<div>\n",
       "<style scoped>\n",
       "    .dataframe tbody tr th:only-of-type {\n",
       "        vertical-align: middle;\n",
       "    }\n",
       "\n",
       "    .dataframe tbody tr th {\n",
       "        vertical-align: top;\n",
       "    }\n",
       "\n",
       "    .dataframe thead th {\n",
       "        text-align: right;\n",
       "    }\n",
       "</style>\n",
       "<table border=\"1\" class=\"dataframe\">\n",
       "  <thead>\n",
       "    <tr style=\"text-align: right;\">\n",
       "      <th></th>\n",
       "      <th>Comment</th>\n",
       "      <th>sentiment</th>\n",
       "    </tr>\n",
       "  </thead>\n",
       "  <tbody>\n",
       "    <tr>\n",
       "      <th>0</th>\n",
       "      <td>bus eireann extremely unreliable allow lot ext...</td>\n",
       "      <td>-0.065476</td>\n",
       "    </tr>\n",
       "    <tr>\n",
       "      <th>1</th>\n",
       "      <td>yeah even town like athlone got new electric b...</td>\n",
       "      <td>0.024116</td>\n",
       "    </tr>\n",
       "    <tr>\n",
       "      <th>2</th>\n",
       "      <td>last year supposed get car service pickup dubl...</td>\n",
       "      <td>0.392593</td>\n",
       "    </tr>\n",
       "    <tr>\n",
       "      <th>3</th>\n",
       "      <td>irish rail good overcrowded peak hour dublin b...</td>\n",
       "      <td>0.273469</td>\n",
       "    </tr>\n",
       "    <tr>\n",
       "      <th>4</th>\n",
       "      <td>ive staying maynooth 2 month short study ive g...</td>\n",
       "      <td>0.065271</td>\n",
       "    </tr>\n",
       "  </tbody>\n",
       "</table>\n",
       "</div>"
      ],
      "text/plain": [
       "                                             Comment  sentiment\n",
       "0  bus eireann extremely unreliable allow lot ext...  -0.065476\n",
       "1  yeah even town like athlone got new electric b...   0.024116\n",
       "2  last year supposed get car service pickup dubl...   0.392593\n",
       "3  irish rail good overcrowded peak hour dublin b...   0.273469\n",
       "4  ive staying maynooth 2 month short study ive g...   0.065271"
      ]
     },
     "execution_count": 57,
     "metadata": {},
     "output_type": "execute_result"
    }
   ],
   "source": [
    "#Apply sentiment analysis using TextBlob to the 'Comment' column and storing the polarity score\n",
    "transport_ireland1['sentiment'] = transport_ireland1['Comment'].apply(lambda x: TextBlob(x).sentiment[0] )\n",
    "transport_ireland1[['Comment','sentiment']].head()"
   ]
  },
  {
   "cell_type": "code",
   "execution_count": 58,
   "id": "c4d22385",
   "metadata": {},
   "outputs": [
    {
     "data": {
      "text/html": [
       "<div>\n",
       "<style scoped>\n",
       "    .dataframe tbody tr th:only-of-type {\n",
       "        vertical-align: middle;\n",
       "    }\n",
       "\n",
       "    .dataframe tbody tr th {\n",
       "        vertical-align: top;\n",
       "    }\n",
       "\n",
       "    .dataframe thead th {\n",
       "        text-align: right;\n",
       "    }\n",
       "</style>\n",
       "<table border=\"1\" class=\"dataframe\">\n",
       "  <thead>\n",
       "    <tr style=\"text-align: right;\">\n",
       "      <th></th>\n",
       "      <th>Post Title</th>\n",
       "      <th>Post Body</th>\n",
       "      <th>Comment</th>\n",
       "      <th>word_count</th>\n",
       "      <th>char_count</th>\n",
       "      <th>avg_word</th>\n",
       "      <th>stopwords</th>\n",
       "      <th>numerics</th>\n",
       "      <th>upper</th>\n",
       "      <th>sentiment</th>\n",
       "    </tr>\n",
       "  </thead>\n",
       "  <tbody>\n",
       "    <tr>\n",
       "      <th>0</th>\n",
       "      <td>Experiences using Public transport in Ireland</td>\n",
       "      <td>I’ve seen a lot of posts on this Reddit about ...</td>\n",
       "      <td>bus eireann extremely unreliable allow lot ext...</td>\n",
       "      <td>59</td>\n",
       "      <td>355</td>\n",
       "      <td>5.000000</td>\n",
       "      <td>21</td>\n",
       "      <td>0</td>\n",
       "      <td>0</td>\n",
       "      <td>-0.065476</td>\n",
       "    </tr>\n",
       "    <tr>\n",
       "      <th>1</th>\n",
       "      <td>Experiences using Public transport in Ireland</td>\n",
       "      <td>I’ve seen a lot of posts on this Reddit about ...</td>\n",
       "      <td>yeah even town like athlone got new electric b...</td>\n",
       "      <td>83</td>\n",
       "      <td>431</td>\n",
       "      <td>4.204819</td>\n",
       "      <td>34</td>\n",
       "      <td>0</td>\n",
       "      <td>0</td>\n",
       "      <td>0.024116</td>\n",
       "    </tr>\n",
       "    <tr>\n",
       "      <th>2</th>\n",
       "      <td>Experiences using Public transport in Ireland</td>\n",
       "      <td>I’ve seen a lot of posts on this Reddit about ...</td>\n",
       "      <td>last year supposed get car service pickup dubl...</td>\n",
       "      <td>189</td>\n",
       "      <td>958</td>\n",
       "      <td>4.327684</td>\n",
       "      <td>75</td>\n",
       "      <td>1</td>\n",
       "      <td>8</td>\n",
       "      <td>0.392593</td>\n",
       "    </tr>\n",
       "    <tr>\n",
       "      <th>3</th>\n",
       "      <td>Experiences using Public transport in Ireland</td>\n",
       "      <td>I’ve seen a lot of posts on this Reddit about ...</td>\n",
       "      <td>irish rail good overcrowded peak hour dublin b...</td>\n",
       "      <td>40</td>\n",
       "      <td>251</td>\n",
       "      <td>4.727273</td>\n",
       "      <td>13</td>\n",
       "      <td>0</td>\n",
       "      <td>0</td>\n",
       "      <td>0.273469</td>\n",
       "    </tr>\n",
       "    <tr>\n",
       "      <th>4</th>\n",
       "      <td>Experiences using Public transport in Ireland</td>\n",
       "      <td>I’ve seen a lot of posts on this Reddit about ...</td>\n",
       "      <td>ive staying maynooth 2 month short study ive g...</td>\n",
       "      <td>149</td>\n",
       "      <td>826</td>\n",
       "      <td>4.536913</td>\n",
       "      <td>65</td>\n",
       "      <td>1</td>\n",
       "      <td>3</td>\n",
       "      <td>0.065271</td>\n",
       "    </tr>\n",
       "  </tbody>\n",
       "</table>\n",
       "</div>"
      ],
      "text/plain": [
       "                                      Post Title  \\\n",
       "0  Experiences using Public transport in Ireland   \n",
       "1  Experiences using Public transport in Ireland   \n",
       "2  Experiences using Public transport in Ireland   \n",
       "3  Experiences using Public transport in Ireland   \n",
       "4  Experiences using Public transport in Ireland   \n",
       "\n",
       "                                           Post Body  \\\n",
       "0  I’ve seen a lot of posts on this Reddit about ...   \n",
       "1  I’ve seen a lot of posts on this Reddit about ...   \n",
       "2  I’ve seen a lot of posts on this Reddit about ...   \n",
       "3  I’ve seen a lot of posts on this Reddit about ...   \n",
       "4  I’ve seen a lot of posts on this Reddit about ...   \n",
       "\n",
       "                                             Comment  word_count  char_count  \\\n",
       "0  bus eireann extremely unreliable allow lot ext...          59         355   \n",
       "1  yeah even town like athlone got new electric b...          83         431   \n",
       "2  last year supposed get car service pickup dubl...         189         958   \n",
       "3  irish rail good overcrowded peak hour dublin b...          40         251   \n",
       "4  ive staying maynooth 2 month short study ive g...         149         826   \n",
       "\n",
       "   avg_word  stopwords  numerics  upper  sentiment  \n",
       "0  5.000000         21         0      0  -0.065476  \n",
       "1  4.204819         34         0      0   0.024116  \n",
       "2  4.327684         75         1      8   0.392593  \n",
       "3  4.727273         13         0      0   0.273469  \n",
       "4  4.536913         65         1      3   0.065271  "
      ]
     },
     "execution_count": 58,
     "metadata": {},
     "output_type": "execute_result"
    }
   ],
   "source": [
    "#View the dataset\n",
    "transport_ireland1.head(5)"
   ]
  },
  {
   "cell_type": "code",
   "execution_count": 59,
   "id": "7879d328",
   "metadata": {},
   "outputs": [
    {
     "name": "stdout",
     "output_type": "stream",
     "text": [
      "                                             Comment sentiment\n",
      "0  bus eireann extremely unreliable allow lot ext...  Negative\n",
      "1  yeah even town like athlone got new electric b...  Positive\n",
      "2  last year supposed get car service pickup dubl...  Positive\n",
      "3  irish rail good overcrowded peak hour dublin b...  Positive\n",
      "4  ive staying maynooth 2 month short study ive g...  Positive\n"
     ]
    }
   ],
   "source": [
    "#classify the sentiments as negative, positive or neutral using polarity score\n",
    "from textblob import TextBlob\n",
    "\n",
    "#Function to categorize sentiment polarities\n",
    "def categorize_sentiment(polarity):\n",
    "    if polarity > 0:\n",
    "        return 'Positive'\n",
    "    elif polarity < 0:\n",
    "        return 'Negative'\n",
    "    else:\n",
    "        return 'Neutral'\n",
    "\n",
    "# Assuming 'transport_ireland1' is your DataFrame\n",
    "transport_ireland1['sentiment_polarity'] = transport_ireland1['Comment'].apply(lambda x: TextBlob(x).sentiment.polarity)\n",
    "transport_ireland1['sentiment'] = transport_ireland1['sentiment_polarity'].apply(categorize_sentiment)\n",
    "print(transport_ireland1[['Comment', 'sentiment']].head())"
   ]
  },
  {
   "cell_type": "code",
   "execution_count": 60,
   "id": "0af135b0",
   "metadata": {},
   "outputs": [
    {
     "data": {
      "text/html": [
       "<div>\n",
       "<style scoped>\n",
       "    .dataframe tbody tr th:only-of-type {\n",
       "        vertical-align: middle;\n",
       "    }\n",
       "\n",
       "    .dataframe tbody tr th {\n",
       "        vertical-align: top;\n",
       "    }\n",
       "\n",
       "    .dataframe thead th {\n",
       "        text-align: right;\n",
       "    }\n",
       "</style>\n",
       "<table border=\"1\" class=\"dataframe\">\n",
       "  <thead>\n",
       "    <tr style=\"text-align: right;\">\n",
       "      <th></th>\n",
       "      <th>Post Title</th>\n",
       "      <th>Post Body</th>\n",
       "      <th>Comment</th>\n",
       "      <th>word_count</th>\n",
       "      <th>char_count</th>\n",
       "      <th>avg_word</th>\n",
       "      <th>stopwords</th>\n",
       "      <th>numerics</th>\n",
       "      <th>upper</th>\n",
       "      <th>sentiment</th>\n",
       "      <th>sentiment_polarity</th>\n",
       "    </tr>\n",
       "  </thead>\n",
       "  <tbody>\n",
       "    <tr>\n",
       "      <th>0</th>\n",
       "      <td>Experiences using Public transport in Ireland</td>\n",
       "      <td>I’ve seen a lot of posts on this Reddit about ...</td>\n",
       "      <td>bus eireann extremely unreliable allow lot ext...</td>\n",
       "      <td>59</td>\n",
       "      <td>355</td>\n",
       "      <td>5.000000</td>\n",
       "      <td>21</td>\n",
       "      <td>0</td>\n",
       "      <td>0</td>\n",
       "      <td>Negative</td>\n",
       "      <td>-0.065476</td>\n",
       "    </tr>\n",
       "    <tr>\n",
       "      <th>1</th>\n",
       "      <td>Experiences using Public transport in Ireland</td>\n",
       "      <td>I’ve seen a lot of posts on this Reddit about ...</td>\n",
       "      <td>yeah even town like athlone got new electric b...</td>\n",
       "      <td>83</td>\n",
       "      <td>431</td>\n",
       "      <td>4.204819</td>\n",
       "      <td>34</td>\n",
       "      <td>0</td>\n",
       "      <td>0</td>\n",
       "      <td>Positive</td>\n",
       "      <td>0.024116</td>\n",
       "    </tr>\n",
       "    <tr>\n",
       "      <th>2</th>\n",
       "      <td>Experiences using Public transport in Ireland</td>\n",
       "      <td>I’ve seen a lot of posts on this Reddit about ...</td>\n",
       "      <td>last year supposed get car service pickup dubl...</td>\n",
       "      <td>189</td>\n",
       "      <td>958</td>\n",
       "      <td>4.327684</td>\n",
       "      <td>75</td>\n",
       "      <td>1</td>\n",
       "      <td>8</td>\n",
       "      <td>Positive</td>\n",
       "      <td>0.392593</td>\n",
       "    </tr>\n",
       "    <tr>\n",
       "      <th>3</th>\n",
       "      <td>Experiences using Public transport in Ireland</td>\n",
       "      <td>I’ve seen a lot of posts on this Reddit about ...</td>\n",
       "      <td>irish rail good overcrowded peak hour dublin b...</td>\n",
       "      <td>40</td>\n",
       "      <td>251</td>\n",
       "      <td>4.727273</td>\n",
       "      <td>13</td>\n",
       "      <td>0</td>\n",
       "      <td>0</td>\n",
       "      <td>Positive</td>\n",
       "      <td>0.273469</td>\n",
       "    </tr>\n",
       "    <tr>\n",
       "      <th>4</th>\n",
       "      <td>Experiences using Public transport in Ireland</td>\n",
       "      <td>I’ve seen a lot of posts on this Reddit about ...</td>\n",
       "      <td>ive staying maynooth 2 month short study ive g...</td>\n",
       "      <td>149</td>\n",
       "      <td>826</td>\n",
       "      <td>4.536913</td>\n",
       "      <td>65</td>\n",
       "      <td>1</td>\n",
       "      <td>3</td>\n",
       "      <td>Positive</td>\n",
       "      <td>0.065271</td>\n",
       "    </tr>\n",
       "  </tbody>\n",
       "</table>\n",
       "</div>"
      ],
      "text/plain": [
       "                                      Post Title  \\\n",
       "0  Experiences using Public transport in Ireland   \n",
       "1  Experiences using Public transport in Ireland   \n",
       "2  Experiences using Public transport in Ireland   \n",
       "3  Experiences using Public transport in Ireland   \n",
       "4  Experiences using Public transport in Ireland   \n",
       "\n",
       "                                           Post Body  \\\n",
       "0  I’ve seen a lot of posts on this Reddit about ...   \n",
       "1  I’ve seen a lot of posts on this Reddit about ...   \n",
       "2  I’ve seen a lot of posts on this Reddit about ...   \n",
       "3  I’ve seen a lot of posts on this Reddit about ...   \n",
       "4  I’ve seen a lot of posts on this Reddit about ...   \n",
       "\n",
       "                                             Comment  word_count  char_count  \\\n",
       "0  bus eireann extremely unreliable allow lot ext...          59         355   \n",
       "1  yeah even town like athlone got new electric b...          83         431   \n",
       "2  last year supposed get car service pickup dubl...         189         958   \n",
       "3  irish rail good overcrowded peak hour dublin b...          40         251   \n",
       "4  ive staying maynooth 2 month short study ive g...         149         826   \n",
       "\n",
       "   avg_word  stopwords  numerics  upper sentiment  sentiment_polarity  \n",
       "0  5.000000         21         0      0  Negative           -0.065476  \n",
       "1  4.204819         34         0      0  Positive            0.024116  \n",
       "2  4.327684         75         1      8  Positive            0.392593  \n",
       "3  4.727273         13         0      0  Positive            0.273469  \n",
       "4  4.536913         65         1      3  Positive            0.065271  "
      ]
     },
     "execution_count": 60,
     "metadata": {},
     "output_type": "execute_result"
    }
   ],
   "source": [
    "#View the Dataset\n",
    "transport_ireland1.head()"
   ]
  },
  {
   "cell_type": "code",
   "execution_count": 61,
   "id": "c87f237c",
   "metadata": {},
   "outputs": [],
   "source": [
    "#columns to drop before text classification\n",
    "columns_to_drop = ['Post Title','Post Body','word_count','char_count','avg_word','stopwords','numerics','upper','sentiment_polarity']\n",
    "transport_ireland1.drop(columns=columns_to_drop, inplace=True)"
   ]
  },
  {
   "cell_type": "code",
   "execution_count": 62,
   "id": "90da7357",
   "metadata": {},
   "outputs": [
    {
     "name": "stdout",
     "output_type": "stream",
     "text": [
      "<class 'pandas.core.frame.DataFrame'>\n",
      "Int64Index: 457 entries, 0 to 456\n",
      "Data columns (total 2 columns):\n",
      " #   Column     Non-Null Count  Dtype \n",
      "---  ------     --------------  ----- \n",
      " 0   Comment    457 non-null    object\n",
      " 1   sentiment  457 non-null    object\n",
      "dtypes: object(2)\n",
      "memory usage: 26.9+ KB\n"
     ]
    }
   ],
   "source": [
    "#View to check if they have been dropped\n",
    "transport_ireland1.info()"
   ]
  },
  {
   "cell_type": "markdown",
   "id": "8e94dd63",
   "metadata": {},
   "source": [
    "# Text Classification"
   ]
  },
  {
   "cell_type": "code",
   "execution_count": 63,
   "id": "c30a30e2",
   "metadata": {},
   "outputs": [
    {
     "name": "stdout",
     "output_type": "stream",
     "text": [
      "              precision    recall  f1-score   support\n",
      "\n",
      "    Negative       0.00      0.00      0.00        14\n",
      "     Neutral       0.00      0.00      0.00         8\n",
      "    Positive       0.76      1.00      0.86        70\n",
      "\n",
      "    accuracy                           0.76        92\n",
      "   macro avg       0.25      0.33      0.29        92\n",
      "weighted avg       0.58      0.76      0.66        92\n",
      "\n"
     ]
    }
   ],
   "source": [
    "from sklearn.feature_extraction.text import TfidfVectorizer\n",
    "from sklearn.model_selection import train_test_split\n",
    "from sklearn.naive_bayes import MultinomialNB\n",
    "from sklearn.metrics import classification_report\n",
    "\n",
    "#Vectorize the Text Data using TF-IDF\n",
    "tfidf = TfidfVectorizer(max_features=1000, lowercase=True, analyzer='word',\n",
    "                        stop_words='english', ngram_range=(1,1))\n",
    "X = tfidf.fit_transform(transport_ireland1['Comment'])\n",
    "y = transport_ireland1['sentiment']\n",
    "\n",
    "#Split the data into Train-Test\n",
    "X_train, X_test, y_train, y_test = train_test_split(X, y, test_size=0.2, random_state=42)\n",
    "\n",
    "#Create a classifier for MNB\n",
    "classifier = MultinomialNB()\n",
    "\n",
    "#Train the Classifier\n",
    "classifier.fit(X_train, y_train)\n",
    "\n",
    "#Evaluate the Model\n",
    "y_pred = classifier.predict(X_test)\n",
    "print(classification_report(y_test, y_pred))\n"
   ]
  },
  {
   "cell_type": "markdown",
   "id": "9c2d30f6",
   "metadata": {},
   "source": [
    "# SENTIMENT ANALYSIS OF IRELAND PUBLIC TRANSPORT FROM PRODUCERS POINT OF VIEW"
   ]
  },
  {
   "cell_type": "markdown",
   "id": "a2be7539",
   "metadata": {},
   "source": [
    "## DATA SCRAPPING FROM REDDIT"
   ]
  },
  {
   "cell_type": "code",
   "execution_count": 64,
   "id": "8f9136e7",
   "metadata": {},
   "outputs": [],
   "source": [
    "#Access the subreddit named \"irishtourism\"\n",
    "subreddit = reddit.subreddit(\"irishtourism\")"
   ]
  },
  {
   "cell_type": "code",
   "execution_count": null,
   "id": "5735dedf",
   "metadata": {},
   "outputs": [],
   "source": [
    "#List the keywords related to producer of mode of transport in ireland\n",
    "keywords = [\"driving in ireland\",\"driving the bus\",\"driving the tram/luas\",\"as a driver\",\"drive the bus\",\"i am a driver\", \"I drive\", \"my car\", \"my vehicle\", \"my company\", \"drive my car\",\"driving my car\"]\n",
    "\n",
    "#Create Lists to store the data\n",
    "post_titles = []\n",
    "post_bodies = []\n",
    "comments = []\n",
    "\n",
    "#Fetch posts/comments based on keywords\n",
    "for submission in subreddit.search(\"transport in ireland\", limit=None):\n",
    "    submission.comments.replace_more(limit=None)\n",
    "    post_title = submission.title\n",
    "    post_body = submission.selftext\n",
    "    for comment in submission.comments.list():\n",
    "        if any(keyword.lower() in comment.body.lower() for keyword in keywords):\n",
    "            post_titles.append(post_title)\n",
    "            post_bodies.append(post_body)\n",
    "            comments.append(comment.body)"
   ]
  },
  {
   "cell_type": "code",
   "execution_count": null,
   "id": "bb18cda9",
   "metadata": {},
   "outputs": [],
   "source": [
    "#Calculate max length among lists\n",
    "max_length = max(len(post_titles), len(post_bodies), len(comments))\n",
    "\n",
    "#Padding shorter arrays with None values to match the length of the longest array\n",
    "post_titles += [None] * (max_length - len(post_titles))\n",
    "post_bodies += [None] * (max_length - len(post_bodies))\n",
    "comments += [None] * (max_length - len(comments))"
   ]
  },
  {
   "cell_type": "code",
   "execution_count": null,
   "id": "a7048567",
   "metadata": {},
   "outputs": [],
   "source": [
    "#Create DataFrame\n",
    "ireland_producer = {\n",
    "    \"Post Title\": post_titles,\n",
    "    \"Post Body\": post_bodies,\n",
    "    \"Comment\": comments\n",
    "}\n",
    "\n",
    "ireland_producer = pd.DataFrame(ireland_producer)"
   ]
  },
  {
   "cell_type": "code",
   "execution_count": null,
   "id": "8b8b13b3",
   "metadata": {},
   "outputs": [],
   "source": [
    "#View the ireland_producer dataframe\n",
    "ireland_producer"
   ]
  },
  {
   "cell_type": "code",
   "execution_count": null,
   "id": "5e6494e1",
   "metadata": {},
   "outputs": [],
   "source": [
    "#save the DataFrame transport_ireland into a CSV\n",
    "ireland_producer.to_csv(\"Transport in ireland producer view Reddit Posts.csv\", index=False)"
   ]
  },
  {
   "cell_type": "markdown",
   "id": "37780bf1",
   "metadata": {},
   "source": [
    "# SENTIMENT ANALYSIS OF IRELAND PUBLIC TRANSPORT FROM PRODUCERS POINT OF VIEW"
   ]
  },
  {
   "cell_type": "code",
   "execution_count": null,
   "id": "a635f79d",
   "metadata": {},
   "outputs": [],
   "source": [
    "#Import the dataset after saving it as csv\n",
    "transport_producer = pd.read_csv(\"Transport in ireland producer view Reddit Posts.csv\")"
   ]
  },
  {
   "cell_type": "code",
   "execution_count": null,
   "id": "ac7b6017",
   "metadata": {},
   "outputs": [],
   "source": [
    "#View the head of the dataset\n",
    "transport_producer.head()"
   ]
  },
  {
   "cell_type": "code",
   "execution_count": null,
   "id": "b71ebcee",
   "metadata": {},
   "outputs": [],
   "source": [
    "#View the head of the dataset\n",
    "transport_producer.tail()"
   ]
  },
  {
   "cell_type": "code",
   "execution_count": null,
   "id": "60fd2651",
   "metadata": {},
   "outputs": [],
   "source": [
    "#View the info of the dataset\n",
    "transport_producer.info()"
   ]
  },
  {
   "cell_type": "code",
   "execution_count": null,
   "id": "78995fff",
   "metadata": {},
   "outputs": [],
   "source": [
    "#Check the characteristics\n",
    "transport_producer.describe()"
   ]
  },
  {
   "cell_type": "code",
   "execution_count": null,
   "id": "25ea3fba",
   "metadata": {},
   "outputs": [],
   "source": [
    "#Count duplicates in the 'Comment' variable\n",
    "comment_duplicates = transport_producer['Comment'].duplicated().sum()\n",
    "comment_duplicates"
   ]
  },
  {
   "cell_type": "code",
   "execution_count": null,
   "id": "b4486132",
   "metadata": {},
   "outputs": [],
   "source": [
    "#View the duplicate\n",
    "duplicate_comments = transport_producer[transport_producer['Comment'].duplicated(keep=False)]\n",
    "print(duplicate_comments)"
   ]
  },
  {
   "cell_type": "code",
   "execution_count": null,
   "id": "a3424a0a",
   "metadata": {},
   "outputs": [],
   "source": [
    "#Drop the duplicated rows from transport_ireland based on the comment variable\n",
    "transport_producer = transport_producer.drop_duplicates(subset=['Comment'])\n",
    "transport_producer"
   ]
  },
  {
   "cell_type": "code",
   "execution_count": null,
   "id": "11d754ae",
   "metadata": {},
   "outputs": [],
   "source": [
    "#Check if they have been dropped\n",
    "transport_producer['Comment'].duplicated().sum()"
   ]
  },
  {
   "cell_type": "code",
   "execution_count": null,
   "id": "8e9eeb64",
   "metadata": {},
   "outputs": [],
   "source": [
    "#Check for any missing data points from comment\n",
    "transport_producer['Comment'].isnull().sum()"
   ]
  },
  {
   "cell_type": "code",
   "execution_count": null,
   "id": "fb0bbb43",
   "metadata": {},
   "outputs": [],
   "source": [
    "#View the Data\n",
    "type(transport_producer)"
   ]
  },
  {
   "cell_type": "code",
   "execution_count": null,
   "id": "857168f3",
   "metadata": {},
   "outputs": [],
   "source": [
    "#View the shape of the data\n",
    "transport_producer.shape"
   ]
  },
  {
   "cell_type": "markdown",
   "id": "88113f34",
   "metadata": {},
   "source": [
    "## USING VADER SENTIMENT ANALYSIS"
   ]
  },
  {
   "cell_type": "code",
   "execution_count": null,
   "id": "38cb843c",
   "metadata": {},
   "outputs": [],
   "source": [
    "#Create a VADER SentimentIntensityAnalyzer instance\n",
    "transport_sentiment = SentimentIntensityAnalyzer()\n",
    "\n",
    "#Create a function to get compound sentiment score using VADER\n",
    "def get_sentiment_scores(text):\n",
    "    return transport_sentiment.polarity_scores(text)\n",
    "\n",
    "#Apply the function to get the compound scores and store the values in vader_sentiment\n",
    "transport_producer['vader_sentiment'] = transport_producer['Comment'].apply(get_sentiment_scores)\n",
    "\n",
    "#Extract the 'neg', 'neu', 'pos', 'compound' scores from 'vader_sentiment'\n",
    "transport_producer['vader_neg'] = transport_producer['vader_sentiment'].apply(lambda x: x['neg'])\n",
    "transport_producer['vader_neu'] = transport_producer['vader_sentiment'].apply(lambda x: x['neu'])\n",
    "transport_producer['vader_pos'] = transport_producer['vader_sentiment'].apply(lambda x: x['pos'])\n",
    "transport_producer['vader_compound'] = transport_producer['vader_sentiment'].apply(lambda x: x['compound'])\n",
    "\n",
    "#Create a function to categorize sentiments based on compound scores\n",
    "def categorize_sentiment(vader_compound):\n",
    "    if vader_compound >= 0.05:\n",
    "        return 'positive'\n",
    "    elif vader_compound <= -0.05:\n",
    "        return 'negative'\n",
    "    else:\n",
    "        return 'neutral'\n",
    "\n",
    "#Apply the categorization function to create the 'sentiment' column\n",
    "transport_producer['sentiment'] = transport_producer['vader_compound'].apply(categorize_sentiment)\n",
    "\n",
    "#Display the updated DataFrame with the 'sentiment' column\n",
    "print(transport_producer[['Comment','vader_compound','sentiment']])"
   ]
  },
  {
   "cell_type": "code",
   "execution_count": null,
   "id": "a66e51a1",
   "metadata": {},
   "outputs": [],
   "source": [
    "#View the head of the dataset\n",
    "transport_producer.head()"
   ]
  },
  {
   "cell_type": "code",
   "execution_count": null,
   "id": "f0c5d6ce",
   "metadata": {},
   "outputs": [],
   "source": [
    "#columns to drop\n",
    "columns_to_drop = ['Post Title','Post Body','vader_sentiment','vader_neg','vader_neu','vader_pos','vader_compound']\n",
    "transport_producer.drop(columns=columns_to_drop, inplace=True)"
   ]
  },
  {
   "cell_type": "code",
   "execution_count": null,
   "id": "76f62737",
   "metadata": {},
   "outputs": [],
   "source": [
    "#View the head of the dataset\n",
    "transport_producer.head()"
   ]
  },
  {
   "cell_type": "code",
   "execution_count": null,
   "id": "e9b24563",
   "metadata": {},
   "outputs": [],
   "source": [
    "#Pre-Processing using Count Vectorizer\n",
    "from sklearn.feature_extraction.text import CountVectorizer\n",
    "from nltk.tokenize import RegexpTokenizer\n",
    "\n",
    "token = RegexpTokenizer(r'[a-zA-Z0-9]+')\n",
    "cv    = CountVectorizer(stop_words = 'english',ngram_range = (1, 1),tokenizer = token.tokenize)\n",
    "text_counts = cv.fit_transform(transport_producer['Comment'])\n",
    "\n",
    "text_counts"
   ]
  },
  {
   "cell_type": "code",
   "execution_count": null,
   "id": "d5ca9137",
   "metadata": {},
   "outputs": [],
   "source": [
    "#Split the data into training and testing\n",
    "from sklearn.model_selection import train_test_split\n",
    "X_train, X_test, Y_train, Y_test = train_test_split(text_counts, transport_producer['sentiment'], test_size=0.25, random_state=5)"
   ]
  },
  {
   "cell_type": "code",
   "execution_count": null,
   "id": "7e13c4da",
   "metadata": {},
   "outputs": [],
   "source": [
    "#View shape of the splits\n",
    "text_counts.shape, X_train.shape, X_test.shape, Y_train.shape, Y_test.shape"
   ]
  },
  {
   "cell_type": "markdown",
   "id": "346981ea",
   "metadata": {},
   "source": [
    "# Text Classification"
   ]
  },
  {
   "cell_type": "code",
   "execution_count": null,
   "id": "46285ab8",
   "metadata": {},
   "outputs": [],
   "source": [
    "#Training the model\n",
    "from sklearn.naive_bayes import MultinomialNB\n",
    "MNB = MultinomialNB()\n",
    "MNB.fit(X_train, Y_train)\n",
    "\n",
    "#Caluclate the accuracy score of the model\n",
    "from sklearn import metrics\n",
    "predicted = MNB.predict(X_test)\n",
    "accuracy_score = metrics.accuracy_score(predicted, Y_test)\n",
    "print(\"Accuracuy Score: \",accuracy_score)"
   ]
  },
  {
   "cell_type": "markdown",
   "id": "76f8dfcb",
   "metadata": {},
   "source": [
    "## USING TF-IDF FOR SENTIMENT ANALYSIS OF IRELAND PUBLIC TRANSPORT FROM PRODUCERS POINT OF VIEW"
   ]
  },
  {
   "cell_type": "code",
   "execution_count": null,
   "id": "791d96d0",
   "metadata": {},
   "outputs": [],
   "source": [
    "#Import the dataset after saving it as csv\n",
    "transport_producer1 = pd.read_csv(\"Transport in ireland producer view Reddit Posts.csv\")"
   ]
  },
  {
   "cell_type": "code",
   "execution_count": null,
   "id": "49ae40ab",
   "metadata": {},
   "outputs": [],
   "source": [
    "#View the head of the dataset\n",
    "transport_producer1.head()"
   ]
  },
  {
   "cell_type": "code",
   "execution_count": null,
   "id": "cba7069a",
   "metadata": {},
   "outputs": [],
   "source": [
    "#View the tail of the dataset\n",
    "transport_producer1.tail()"
   ]
  },
  {
   "cell_type": "code",
   "execution_count": null,
   "id": "18859a69",
   "metadata": {},
   "outputs": [],
   "source": [
    "#Count duplicates in the 'Comment' variable\n",
    "comment_duplicates = transport_producer1['Comment'].duplicated().sum()\n",
    "comment_duplicates"
   ]
  },
  {
   "cell_type": "code",
   "execution_count": null,
   "id": "96914009",
   "metadata": {},
   "outputs": [],
   "source": [
    "#View the duplicate\n",
    "duplicate_comments = transport_producer1[transport_producer1['Comment'].duplicated(keep=False)]\n",
    "print(duplicate_comments)"
   ]
  },
  {
   "cell_type": "code",
   "execution_count": null,
   "id": "981a29db",
   "metadata": {},
   "outputs": [],
   "source": [
    "# Drop the duplicated rows from transport_ireland based on the comment variable\n",
    "transport_producer1 = transport_producer1.drop_duplicates(subset=['Comment'])\n",
    "transport_producer1"
   ]
  },
  {
   "cell_type": "code",
   "execution_count": null,
   "id": "9dd6316c",
   "metadata": {},
   "outputs": [],
   "source": [
    "#Check for duplicates\n",
    "comment_duplicates = transport_producer1['Comment'].duplicated().sum()\n",
    "comment_duplicates"
   ]
  },
  {
   "cell_type": "code",
   "execution_count": null,
   "id": "9cc72057",
   "metadata": {},
   "outputs": [],
   "source": [
    "#Check the shape of the dataset\n",
    "transport_producer1.shape"
   ]
  },
  {
   "cell_type": "markdown",
   "id": "afb50f63",
   "metadata": {},
   "source": [
    "## Preprocess text"
   ]
  },
  {
   "cell_type": "code",
   "execution_count": null,
   "id": "2ae55d7c",
   "metadata": {},
   "outputs": [],
   "source": [
    "#Count the number of words in the comment\n",
    "transport_producer1['word_count'] = transport_producer1['Comment'].apply(lambda x: len(str(x).split(\" \")))"
   ]
  },
  {
   "cell_type": "code",
   "execution_count": null,
   "id": "4e6b3dcf",
   "metadata": {},
   "outputs": [],
   "source": [
    "#View comment and word_count\n",
    "transport_producer1[['Comment','word_count']].head()"
   ]
  },
  {
   "cell_type": "code",
   "execution_count": null,
   "id": "531a4ed3",
   "metadata": {},
   "outputs": [],
   "source": [
    "#Count number of characterr\n",
    "transport_producer1['char_count'] = transport_producer1['Comment'].str.len() "
   ]
  },
  {
   "cell_type": "code",
   "execution_count": null,
   "id": "04eaae1a",
   "metadata": {},
   "outputs": [],
   "source": [
    "#View char_count and comment variables\n",
    "transport_producer1[['Comment','char_count']].head()"
   ]
  },
  {
   "cell_type": "code",
   "execution_count": null,
   "id": "b7a7a069",
   "metadata": {},
   "outputs": [],
   "source": [
    "#View 5 observation s of the dataset\n",
    "transport_producer1.head(5)"
   ]
  },
  {
   "cell_type": "code",
   "execution_count": null,
   "id": "888eb889",
   "metadata": {},
   "outputs": [],
   "source": [
    "#Create a function for average words in a sentence\n",
    "def avg_word(sentence):\n",
    "  words = sentence.split()\n",
    "  return (sum(len(word) for word in words)/len(words))"
   ]
  },
  {
   "cell_type": "code",
   "execution_count": null,
   "id": "a0e27f67",
   "metadata": {},
   "outputs": [],
   "source": [
    "#Calculate average words in a sentence and store in avg_word variable\n",
    "transport_producer1['avg_word'] = transport_producer1['Comment'].apply(lambda x: avg_word(x))"
   ]
  },
  {
   "cell_type": "code",
   "execution_count": null,
   "id": "9ec7dcab",
   "metadata": {},
   "outputs": [],
   "source": [
    "#View comment and avg_word\n",
    "transport_producer1[['Comment','avg_word']].head()"
   ]
  },
  {
   "cell_type": "code",
   "execution_count": null,
   "id": "88f50877",
   "metadata": {},
   "outputs": [],
   "source": [
    "#Create stopwords\n",
    "stop = stopwords.words('english')"
   ]
  },
  {
   "cell_type": "code",
   "execution_count": null,
   "id": "b3aa9abf",
   "metadata": {},
   "outputs": [],
   "source": [
    "#Count stopwords using stop and store value in stopwords variable\n",
    "transport_producer1['stopwords'] = transport_producer1['Comment'].apply(lambda x: len([x for x in x.split() if x in stop]))\n",
    "transport_producer1[['Comment','stopwords']].head()"
   ]
  },
  {
   "cell_type": "code",
   "execution_count": null,
   "id": "4b84e1bf",
   "metadata": {},
   "outputs": [],
   "source": [
    "#Count number of numeric in the comment and store in numerics then view the comment and numerics\n",
    "transport_producer1['numerics'] = transport_producer1['Comment'].apply(lambda x: len([x for x in x.split() if x.isdigit()]))\n",
    "transport_producer1[['Comment','numerics']].head()"
   ]
  },
  {
   "cell_type": "code",
   "execution_count": null,
   "id": "e550daf8",
   "metadata": {},
   "outputs": [],
   "source": [
    "#Count number of uppercase letters and store value in upper then view upper and comments\n",
    "transport_producer1['upper'] = transport_producer1['Comment'].apply(lambda x: len([x for x in x.split() if x.isupper()]))\n",
    "transport_producer1[['Comment','upper']].head()"
   ]
  },
  {
   "cell_type": "code",
   "execution_count": null,
   "id": "bc04d9c1",
   "metadata": {},
   "outputs": [],
   "source": [
    "#Change the upper cases to lower case\n",
    "transport_producer1['Comment'] = transport_producer1['Comment'].apply(lambda x: \" \".join(x.lower() for x in x.split()))\n",
    "transport_ireland1['Comment'].head()"
   ]
  },
  {
   "cell_type": "code",
   "execution_count": null,
   "id": "c071d281",
   "metadata": {},
   "outputs": [],
   "source": [
    "#Remove special characters\n",
    "transport_producer1['Comment'] = transport_producer1['Comment'].str.replace('[^\\w\\s]','')\n",
    "transport_producer1['Comment'].head()"
   ]
  },
  {
   "cell_type": "code",
   "execution_count": null,
   "id": "1ad76220",
   "metadata": {},
   "outputs": [],
   "source": [
    "#Remove stopwords\n",
    "stop = stopwords.words('english')\n",
    "transport_producer1['Comment'] = transport_producer1['Comment'].apply(lambda x: \" \".join(x for x in x.split() if x not in stop))\n",
    "transport_producer1['Comment'].head()"
   ]
  },
  {
   "cell_type": "code",
   "execution_count": null,
   "id": "46acd66f",
   "metadata": {},
   "outputs": [],
   "source": [
    "freq = pd.Series(' '.join(transport_producer1['Comment']).split()).value_counts()[:10]\n",
    "freq"
   ]
  },
  {
   "cell_type": "code",
   "execution_count": null,
   "id": "81b97adf",
   "metadata": {},
   "outputs": [],
   "source": [
    "#freq = list(freq.index)\n",
    "#transport_producer1['Comment'] = transport_producer1['Comment'].apply(lambda x: \" \".join(x for x in x.split() if x not in freq))\n",
    "#transport_producer1['Comment'].head()"
   ]
  },
  {
   "cell_type": "code",
   "execution_count": null,
   "id": "f9400b41",
   "metadata": {},
   "outputs": [],
   "source": [
    "TextBlob(transport_producer1['Comment'][1]).words"
   ]
  },
  {
   "cell_type": "code",
   "execution_count": null,
   "id": "b78abe9f",
   "metadata": {},
   "outputs": [],
   "source": [
    "st = PorterStemmer()\n",
    "transport_producer1['Comment'][:5].apply(lambda x: \" \".join([st.stem(word) for word in x.split()]))"
   ]
  },
  {
   "cell_type": "code",
   "execution_count": null,
   "id": "d33995d8",
   "metadata": {},
   "outputs": [],
   "source": [
    "transport_producer1['Comment'] = transport_producer1['Comment'].apply(lambda x: \" \".join([Word(word).lemmatize() for word in x.split()]))\n",
    "transport_producer1['Comment'].head()"
   ]
  },
  {
   "cell_type": "code",
   "execution_count": null,
   "id": "69198c27",
   "metadata": {},
   "outputs": [],
   "source": [
    "TextBlob(transport_producer1['Comment'][0]).ngrams(2)"
   ]
  },
  {
   "cell_type": "code",
   "execution_count": null,
   "id": "129dfbad",
   "metadata": {},
   "outputs": [],
   "source": [
    "transport_producer1['Comment'][:5].apply(lambda x: TextBlob(x).sentiment)"
   ]
  },
  {
   "cell_type": "code",
   "execution_count": null,
   "id": "c252376c",
   "metadata": {},
   "outputs": [],
   "source": [
    "transport_producer1['sentiment'] = transport_producer1['Comment'].apply(lambda x: TextBlob(x).sentiment[0] )\n",
    "transport_producer1[['Comment','sentiment']].head()"
   ]
  },
  {
   "cell_type": "code",
   "execution_count": null,
   "id": "3e99cc7d",
   "metadata": {},
   "outputs": [],
   "source": [
    "transport_producer1.head(5)"
   ]
  },
  {
   "cell_type": "code",
   "execution_count": null,
   "id": "cf56aae2",
   "metadata": {},
   "outputs": [],
   "source": [
    "from textblob import TextBlob\n",
    "\n",
    "# Function to categorize sentiment polarities\n",
    "def categorize_sentiment(polarity):\n",
    "    if polarity > 0:\n",
    "        return 'Positive'\n",
    "    elif polarity < 0:\n",
    "        return 'Negative'\n",
    "    else:\n",
    "        return 'Neutral'\n",
    "\n",
    "transport_producer1['sentiment_polarity'] = transport_producer1['Comment'].apply(lambda x: TextBlob(x).sentiment.polarity)\n",
    "transport_producer1['sentiment'] = transport_producer1['sentiment_polarity'].apply(categorize_sentiment)\n",
    "print(transport_producer1[['Comment', 'sentiment']].head())"
   ]
  },
  {
   "cell_type": "code",
   "execution_count": null,
   "id": "5ef15629",
   "metadata": {},
   "outputs": [],
   "source": [
    "transport_producer1.head(5)"
   ]
  },
  {
   "cell_type": "code",
   "execution_count": null,
   "id": "f1e248c8",
   "metadata": {},
   "outputs": [],
   "source": [
    "#columns to drop\n",
    "columns_to_drop = ['Post Title','Post Body','word_count','char_count','avg_word','stopwords','numerics','upper','sentiment_polarity']\n",
    "transport_producer1.drop(columns=columns_to_drop, inplace=True)"
   ]
  },
  {
   "cell_type": "code",
   "execution_count": null,
   "id": "e489759c",
   "metadata": {},
   "outputs": [],
   "source": [
    "from sklearn.feature_extraction.text import TfidfVectorizer\n",
    "from sklearn.model_selection import train_test_split\n",
    "from sklearn.naive_bayes import MultinomialNB\n",
    "from sklearn.metrics import classification_report\n",
    "\n",
    "#Vectorize the Text Data\n",
    "tfidf = TfidfVectorizer(max_features=1000, lowercase=True, analyzer='word',\n",
    "                        stop_words='english', ngram_range=(1,1))\n",
    "X = tfidf.fit_transform(transport_producer1['Comment'])\n",
    "y = transport_producer1['sentiment']\n",
    "\n",
    "#Train-Test Split\n",
    "X_train, X_test, y_train, y_test = train_test_split(X, y, test_size=0.2, random_state=42)\n",
    "\n",
    "#create a Classifier (Naive Bayes in this case)\n",
    "classifier = MultinomialNB()\n",
    "\n",
    "#Train the Classifier\n",
    "classifier.fit(X_train, y_train)\n",
    "\n",
    "#Evaluate the Model\n",
    "y_pred = classifier.predict(X_test)\n",
    "print(classification_report(y_test, y_pred))\n"
   ]
  }
 ],
 "metadata": {
  "kernelspec": {
   "display_name": "Python 3 (ipykernel)",
   "language": "python",
   "name": "python3"
  },
  "language_info": {
   "codemirror_mode": {
    "name": "ipython",
    "version": 3
   },
   "file_extension": ".py",
   "mimetype": "text/x-python",
   "name": "python",
   "nbconvert_exporter": "python",
   "pygments_lexer": "ipython3",
   "version": "3.11.4"
  }
 },
 "nbformat": 4,
 "nbformat_minor": 5
}
