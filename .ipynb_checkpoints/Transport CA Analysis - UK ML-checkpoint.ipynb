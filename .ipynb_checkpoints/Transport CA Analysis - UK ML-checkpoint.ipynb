{
 "cells": [
  {
   "cell_type": "markdown",
   "id": "28309d18",
   "metadata": {},
   "source": [
    "# Machine Learning For UK Data"
   ]
  },
  {
   "cell_type": "code",
   "execution_count": 1,
   "id": "171690bc",
   "metadata": {},
   "outputs": [],
   "source": [
    "#Setting up the environment for data analysis and visualization, configuring display settings, and handling warnings by importing all necessary libraries\n",
    "import pandas as pd\n",
    "import plotly.express as px\n",
    "import numpy as np\n",
    "import seaborn as sns\n",
    "import matplotlib.pyplot as plt\n",
    "%config InlineBackend.figure_format = 'retina'\n",
    "sns.set_context('talk')\n",
    "import warnings\n",
    "warnings.filterwarnings('ignore')"
   ]
  },
  {
   "cell_type": "markdown",
   "id": "f13d06db",
   "metadata": {},
   "source": [
    "# MACHINE LEARNING\n",
    "This process involves:\n",
    "- Encoding the categorical Variables\n",
    "- Creating the features and dependent variable objects\n",
    "- Standardising the data\n",
    "- Normalizing the data\n",
    "- splitting the data into training and Test set.\n",
    "- build various ML models\n",
    "- test the model on a test data set\n",
    "- Evaluate the model performance\n",
    "- Maximize the model performance\n",
    "- Hyperparameter tuning"
   ]
  },
  {
   "cell_type": "code",
   "execution_count": 87,
   "id": "3a61fc6a",
   "metadata": {},
   "outputs": [],
   "source": [
    "transport_data = transport_data[transport_data['geo'] == 'UK']\n",
    "\n",
    "# Reset index\n",
    "transport_data.reset_index(drop=True, inplace=True)\n"
   ]
  },
  {
   "cell_type": "code",
   "execution_count": 88,
   "id": "62e0c7a0",
   "metadata": {},
   "outputs": [
    {
     "data": {
      "text/plain": [
       "tra_cov                 0\n",
       "aircraft                0\n",
       "distance                0\n",
       "geo                     0\n",
       "TIME_PERIOD             0\n",
       "Number of Passengers    0\n",
       "Number of Flights       0\n",
       "dtype: int64"
      ]
     },
     "execution_count": 88,
     "metadata": {},
     "output_type": "execute_result"
    }
   ],
   "source": [
    "transport_data.isnull().sum()"
   ]
  },
  {
   "cell_type": "code",
   "execution_count": 89,
   "id": "6c8320db",
   "metadata": {},
   "outputs": [],
   "source": [
    "#Drop variables that will not be used in any analysis process\n",
    "column_to_drop = ['geo']\n",
    "transport_data.drop(column_to_drop, axis=1, inplace=True)"
   ]
  },
  {
   "cell_type": "code",
   "execution_count": 90,
   "id": "8d8c6ff1",
   "metadata": {},
   "outputs": [],
   "source": [
    "from keras.models import Sequential\n",
    "from keras.layers import Dense\n",
    "from scikeras.wrappers import KerasRegressor\n",
    "from sklearn.model_selection import cross_val_score\n",
    "from sklearn.model_selection import KFold\n",
    "from sklearn.preprocessing import StandardScaler\n",
    "from sklearn.pipeline import Pipeline\n",
    "from sklearn.preprocessing import OneHotEncoder\n",
    "from sklearn.model_selection import train_test_split  \n",
    "from sklearn.metrics import mean_squared_error, mean_absolute_error \n",
    "from sklearn import preprocessing"
   ]
  },
  {
   "cell_type": "markdown",
   "id": "a8750e0d",
   "metadata": {},
   "source": [
    "## Encoding Data Using One Hot Encoding"
   ]
  },
  {
   "cell_type": "code",
   "execution_count": 91,
   "id": "99f620ea",
   "metadata": {},
   "outputs": [
    {
     "name": "stdout",
     "output_type": "stream",
     "text": [
      "    tra_cov aircraft     distance  TIME_PERIOD  Number of Passengers  \\\n",
      "0      INTL    AC_JJ  KM1000-1499         2008                 62358   \n",
      "1      INTL    AC_JJ  KM1000-1499         2009                 31836   \n",
      "2      INTL    AC_JJ  KM1000-1499         2010                 12687   \n",
      "3      INTL    AC_JJ  KM1000-1499         2011                  9886   \n",
      "4      INTL    AC_JJ  KM1000-1499         2012                  8710   \n",
      "..      ...      ...          ...          ...                   ...   \n",
      "775     NAT    AC_WJ     KM_LT300         2016                     0   \n",
      "776     NAT    AC_WJ     KM_LT300         2017                   186   \n",
      "777     NAT    AC_WJ     KM_LT300         2018                  1103   \n",
      "778     NAT    AC_WJ     KM_LT300         2019                   707   \n",
      "779     NAT    AC_WJ     KM_LT300         2020                    70   \n",
      "\n",
      "     Number of Flights  tra_cov_NAT  aircraft_AC_NJ  aircraft_AC_RJ  \\\n",
      "0                  331          0.0             0.0             0.0   \n",
      "1                  175          0.0             0.0             0.0   \n",
      "2                   70          0.0             0.0             0.0   \n",
      "3                   53          0.0             0.0             0.0   \n",
      "4                   48          0.0             0.0             0.0   \n",
      "..                 ...          ...             ...             ...   \n",
      "775                  0          1.0             0.0             0.0   \n",
      "776                  1          1.0             0.0             0.0   \n",
      "777                  7          1.0             0.0             0.0   \n",
      "778                  4          1.0             0.0             0.0   \n",
      "779                  2          1.0             0.0             0.0   \n",
      "\n",
      "     aircraft_AC_RT  aircraft_AC_WJ  distance_KM1500-1999  distance_KM300-499  \\\n",
      "0               0.0             0.0                   0.0                 0.0   \n",
      "1               0.0             0.0                   0.0                 0.0   \n",
      "2               0.0             0.0                   0.0                 0.0   \n",
      "3               0.0             0.0                   0.0                 0.0   \n",
      "4               0.0             0.0                   0.0                 0.0   \n",
      "..              ...             ...                   ...                 ...   \n",
      "775             0.0             1.0                   0.0                 0.0   \n",
      "776             0.0             1.0                   0.0                 0.0   \n",
      "777             0.0             1.0                   0.0                 0.0   \n",
      "778             0.0             1.0                   0.0                 0.0   \n",
      "779             0.0             1.0                   0.0                 0.0   \n",
      "\n",
      "     distance_KM500-999  distance_KM_GE2000  distance_KM_LT300  \n",
      "0                   0.0                 0.0                0.0  \n",
      "1                   0.0                 0.0                0.0  \n",
      "2                   0.0                 0.0                0.0  \n",
      "3                   0.0                 0.0                0.0  \n",
      "4                   0.0                 0.0                0.0  \n",
      "..                  ...                 ...                ...  \n",
      "775                 0.0                 0.0                1.0  \n",
      "776                 0.0                 0.0                1.0  \n",
      "777                 0.0                 0.0                1.0  \n",
      "778                 0.0                 0.0                1.0  \n",
      "779                 0.0                 0.0                1.0  \n",
      "\n",
      "[780 rows x 16 columns]\n"
     ]
    }
   ],
   "source": [
    "#Apply OneHotEncoder to multiple columns\n",
    "encoder = OneHotEncoder(sparse=False, drop='first')  \n",
    "encoded = encoder.fit_transform(transport_data[['tra_cov', 'aircraft','distance']])\n",
    "\n",
    "#Create a DataFrame with the encoded variables\n",
    "encoded_df = pd.DataFrame(encoded, columns=encoder.get_feature_names_out(['tra_cov', 'aircraft','distance']))\n",
    "\n",
    "#Concatenate the encoded DataFrame with the original DataFrame\n",
    "result_df = pd.concat([transport_data, encoded_df], axis=1)\n",
    "\n",
    "#Display the result\n",
    "print(result_df)"
   ]
  },
  {
   "cell_type": "code",
   "execution_count": 92,
   "id": "99f58350",
   "metadata": {
    "scrolled": true
   },
   "outputs": [
    {
     "name": "stdout",
     "output_type": "stream",
     "text": [
      "<class 'pandas.core.frame.DataFrame'>\n",
      "RangeIndex: 780 entries, 0 to 779\n",
      "Data columns (total 16 columns):\n",
      " #   Column                Non-Null Count  Dtype  \n",
      "---  ------                --------------  -----  \n",
      " 0   tra_cov               780 non-null    object \n",
      " 1   aircraft              780 non-null    object \n",
      " 2   distance              780 non-null    object \n",
      " 3   TIME_PERIOD           780 non-null    int64  \n",
      " 4   Number of Passengers  780 non-null    int64  \n",
      " 5   Number of Flights     780 non-null    int64  \n",
      " 6   tra_cov_NAT           780 non-null    float64\n",
      " 7   aircraft_AC_NJ        780 non-null    float64\n",
      " 8   aircraft_AC_RJ        780 non-null    float64\n",
      " 9   aircraft_AC_RT        780 non-null    float64\n",
      " 10  aircraft_AC_WJ        780 non-null    float64\n",
      " 11  distance_KM1500-1999  780 non-null    float64\n",
      " 12  distance_KM300-499    780 non-null    float64\n",
      " 13  distance_KM500-999    780 non-null    float64\n",
      " 14  distance_KM_GE2000    780 non-null    float64\n",
      " 15  distance_KM_LT300     780 non-null    float64\n",
      "dtypes: float64(10), int64(3), object(3)\n",
      "memory usage: 97.6+ KB\n"
     ]
    }
   ],
   "source": [
    "#View the dataframe\n",
    "result_df.info()"
   ]
  },
  {
   "cell_type": "code",
   "execution_count": 93,
   "id": "73a3f56d",
   "metadata": {},
   "outputs": [],
   "source": [
    "#Create a list of features to drop\n",
    "column_to_drop = ['tra_cov', 'aircraft', 'distance']\n",
    "result_df.drop(column_to_drop, axis=1, inplace=True)"
   ]
  },
  {
   "cell_type": "code",
   "execution_count": 94,
   "id": "fc445509",
   "metadata": {},
   "outputs": [
    {
     "name": "stdout",
     "output_type": "stream",
     "text": [
      "<class 'pandas.core.frame.DataFrame'>\n",
      "RangeIndex: 780 entries, 0 to 779\n",
      "Data columns (total 13 columns):\n",
      " #   Column                Non-Null Count  Dtype  \n",
      "---  ------                --------------  -----  \n",
      " 0   TIME_PERIOD           780 non-null    int64  \n",
      " 1   Number of Passengers  780 non-null    int64  \n",
      " 2   Number of Flights     780 non-null    int64  \n",
      " 3   tra_cov_NAT           780 non-null    float64\n",
      " 4   aircraft_AC_NJ        780 non-null    float64\n",
      " 5   aircraft_AC_RJ        780 non-null    float64\n",
      " 6   aircraft_AC_RT        780 non-null    float64\n",
      " 7   aircraft_AC_WJ        780 non-null    float64\n",
      " 8   distance_KM1500-1999  780 non-null    float64\n",
      " 9   distance_KM300-499    780 non-null    float64\n",
      " 10  distance_KM500-999    780 non-null    float64\n",
      " 11  distance_KM_GE2000    780 non-null    float64\n",
      " 12  distance_KM_LT300     780 non-null    float64\n",
      "dtypes: float64(10), int64(3)\n",
      "memory usage: 79.3 KB\n"
     ]
    }
   ],
   "source": [
    "#View if the columns have been dropped\n",
    "result_df.info()"
   ]
  },
  {
   "cell_type": "markdown",
   "id": "6b2bd7a1",
   "metadata": {},
   "source": [
    "### Findings\n",
    "- The columns have been dropped"
   ]
  },
  {
   "cell_type": "markdown",
   "id": "8596b293",
   "metadata": {},
   "source": [
    "# Fitting Model without Feature Scaling"
   ]
  },
  {
   "cell_type": "code",
   "execution_count": 95,
   "id": "0a11a9ed",
   "metadata": {},
   "outputs": [],
   "source": [
    "#Split into dependent and independent variables\n",
    "y = result_df.iloc[:, 1].values\n",
    "X = result_df.drop(['Number of Passengers'], axis=1).values"
   ]
  },
  {
   "cell_type": "code",
   "execution_count": 96,
   "id": "c3d5a906",
   "metadata": {
    "scrolled": true
   },
   "outputs": [
    {
     "name": "stdout",
     "output_type": "stream",
     "text": [
      "[  62358   31836   12687    9886    8710    5367    5059    1817       0\n",
      "    3312     342    1095     529  126242   85643   11070    9828    3128\n",
      "    5873    4257    5479    5255    7682   51890  122966   19259    9754\n",
      "    2330     657    5110     960     736     598     399       0     565\n",
      "     162     345      96    1136    1287    2118    4298     706     312\n",
      "    1722    1789    1116    1466     212       0     776  741337  652758\n",
      "  489779  588820  493277  581847  840521  844419  880241  828701  782086\n",
      "  682512   18572     678      40    1027    1310     749     530     154\n",
      "      96     118       0      90       0      72 4432156 3872443 3530238\n",
      " 3560743 3764348 3955130 4222352 4795481 5167454 5388778 5930060 6125130\n",
      " 1176451 4871595 3778687 3785481 3696401 3823146 3920680 3995468 4414552\n",
      " 4988930 5265847 5428726 5928006 1305518 7587947 6362894 5557262 5519605\n",
      " 5302771 5388819 5650372 6305593 6886810 6988518 7129149 7234410 1739814\n",
      " 4571706 3684039 3772438 3834816 3906505 4041493 4225334 4779860 5165811\n",
      " 5168591 5456191 5722544 1386683 1891193 1477135 1425537 1613913 1556826\n",
      " 1642014 1745437 2004571 2246333 2727283 3187559 3663256  916763 1444673\n",
      " 1241598 1029557 1004957  996721  990283 1109622 1434060 1717173 1631914\n",
      " 1626088 1646605  411855   18038    8550   17413   32116   14304   10976\n",
      "    8324    8392   17093   16713    6507    5856    1299   16457   10971\n",
      "   10823   14007   12987   10530    3415    7138    2645    5905    2376\n",
      "    4008   17608  190811  195759  218545  216601  177933  166928  264329\n",
      "  368938  426959  494523  451602  412328   64145  387373  365818  327931\n",
      "  361760  316107  293871  300716  308406  334818  451626  461007  419877\n",
      "   77470    3489     686     574     563     541    4099    9860   42673\n",
      "   57881   48896   29601   27114   16399      91     996    3117    2584\n",
      "    1734    1774    2050    2119    1338     902    2537    3107      58\n",
      "    1899     777     434    1171     881     787     396     503     574\n",
      "     499     664     757     279     500      85     109     167     192\n",
      "      20     381       1       3      40       2    2069       2  359637\n",
      "  287555  438284  677866  733878  882843 1000324 1066827 1139304 1163748\n",
      " 1133818 1121827  191707  217073  100383  150552  132828  148907  162517\n",
      "  214763  130293  182430  197442  212073  152090   18009     180     122\n",
      "      72      29      12       2       0       1      12       6      74\n",
      "     107      47   75360   87675  165397  192909  185503  228595  287111\n",
      "  254550  338335  294147  283618  288417   51155   30921   12455    7366\n",
      "    3461    1763    8601    1186    4292    4079    2486    3290   46515\n",
      "    2463  149537  144864  132838  125090  131070  120766  138898  134789\n",
      "  126174  150099  139880  149159    5440    5260   13269    7402    2464\n",
      "    2468    1653    1511    2113    3033     668    2234   45383   72610\n",
      "    4338    6063   10105    3401    3787    4301    2748    3823    3756\n",
      "    2815    3816    6897    4004 1983041 1696486 1572267 1539701 1889341\n",
      " 2136280 2226296 2604581 2892799 3380495 3729640 3909365  679879    2665\n",
      "    2130     812     268     280     464     779     384       0       0\n",
      "    1190     358       0       0       0       0       0       0       0\n",
      "       0       0       0       0       0       0       0       0       0\n",
      "       0       0       0       0       0       0       0       0       0\n",
      "       0       0       0       0       0       0       0       0       0\n",
      "       0       0       0       0       0       0       0       0       0\n",
      "       0       0       0       0       0       0       0       0       0\n",
      "       0       0       0       0       0       0       0       0       0\n",
      "       0       0       0       0       0    2210       0     393       0\n",
      "      62     348       0     515     311     128     679     335       0\n",
      "       0       0       0       0       0       0       0       0       0\n",
      "       0       0       0       0       0       0       0       0       0\n",
      "       0       0       0       0       0       0       0       0       0\n",
      "       0       0       0       0       0       0       0       0       0\n",
      "       0       0       0       0       0       0       0       0       0\n",
      "       0       0       0       0       0       0       0       0       0\n",
      "       0       0       0       0       0       0       0       0       0\n",
      "       0       0  406076  408413  233012   63632    4346    9660    2513\n",
      "    9029    6184    3353    7043    4939       6       0       0       0\n",
      "       0       0       0       0       0       0       0       0       0\n",
      "       0       0       0       0       0       0       0       0       0\n",
      "       0       0       0       0       0       0       0       0       0\n",
      "       0       0       0       0       0       0       0       0       0\n",
      "       0       0       0       0       0       0       0       0       0\n",
      "       0       0       0       0       0       0       0       0       0\n",
      "       0       0       0       0       0       0       0       0    3846\n",
      "    1055    1090      80      21       0     103      46      14       0\n",
      "     237     349       1       0       0       0       0       0       0\n",
      "       0       0       0       0       0       0       0       0       0\n",
      "       0       0       0       0       0       0       0       0       0\n",
      "       0       0       0     185      15       0       0      76       0\n",
      "       0       0       0       0       0       0       0       0       0\n",
      "       0       0       0       0       0       0       0       0       0\n",
      "       0       0       0       0       0       0       0       0       0\n",
      "       0       0       0       0       0  352662  158348  111232   52542\n",
      "   51798   54859   59532   69119   80158   85295   94959   96163   31646\n",
      "       0       0       0       0       0       0       0       0       0\n",
      "       0       0       0       0       0       0       0       0       0\n",
      "       0       0       0       0       0       0       0       0       0\n",
      "       0       0       0       0       0       0       0       0       0\n",
      "       0       0       0       0       0       0       0       0       0\n",
      "       0       0       0       0       0       0       0       0       0\n",
      "       0       0       0       0       0       0       0       0       0\n",
      "       0       0  191605  110739   51801    9022    7894    6843    5739\n",
      "     814       0     186    1103     707      70]\n"
     ]
    }
   ],
   "source": [
    "#View the dependent variable\n",
    "print(y)"
   ]
  },
  {
   "cell_type": "code",
   "execution_count": 97,
   "id": "8ac3d002",
   "metadata": {},
   "outputs": [
    {
     "name": "stdout",
     "output_type": "stream",
     "text": [
      "[[2.008e+03 3.310e+02 0.000e+00 ... 0.000e+00 0.000e+00 0.000e+00]\n",
      " [2.009e+03 1.750e+02 0.000e+00 ... 0.000e+00 0.000e+00 0.000e+00]\n",
      " [2.010e+03 7.000e+01 0.000e+00 ... 0.000e+00 0.000e+00 0.000e+00]\n",
      " ...\n",
      " [2.018e+03 7.000e+00 1.000e+00 ... 0.000e+00 0.000e+00 1.000e+00]\n",
      " [2.019e+03 4.000e+00 1.000e+00 ... 0.000e+00 0.000e+00 1.000e+00]\n",
      " [2.020e+03 2.000e+00 1.000e+00 ... 0.000e+00 0.000e+00 1.000e+00]]\n"
     ]
    }
   ],
   "source": [
    "#View the independent variable\n",
    "print(X)"
   ]
  },
  {
   "cell_type": "code",
   "execution_count": 98,
   "id": "99afd3e0",
   "metadata": {},
   "outputs": [
    {
     "data": {
      "text/plain": [
       "((780, 12), (780,))"
      ]
     },
     "execution_count": 98,
     "metadata": {},
     "output_type": "execute_result"
    }
   ],
   "source": [
    "#View the shape of x and y\n",
    "X.shape, y.shape"
   ]
  },
  {
   "cell_type": "code",
   "execution_count": 99,
   "id": "6a99c32a",
   "metadata": {},
   "outputs": [],
   "source": [
    "#Split the data into features (X) and target variable (y)\n",
    "X_train, X_test, y_train, y_test = train_test_split(X, y, test_size=0.2)"
   ]
  },
  {
   "cell_type": "code",
   "execution_count": 100,
   "id": "d3965fef",
   "metadata": {},
   "outputs": [
    {
     "data": {
      "text/plain": [
       "((624, 12), (156, 12), (624,), (156,))"
      ]
     },
     "execution_count": 100,
     "metadata": {},
     "output_type": "execute_result"
    }
   ],
   "source": [
    "#View the shape of the split data\n",
    "X_train.shape, X_test.shape, y_train.shape, y_test.shape "
   ]
  },
  {
   "cell_type": "markdown",
   "id": "2572adf0",
   "metadata": {},
   "source": [
    "# Linear Regression"
   ]
  },
  {
   "cell_type": "code",
   "execution_count": 101,
   "id": "19ab4bf8",
   "metadata": {},
   "outputs": [
    {
     "name": "stdout",
     "output_type": "stream",
     "text": [
      "-----Training set statistics-----\n",
      "R-squared of the model in training set is: 0.9679649228707503\n",
      "-----Test set statistics-----\n",
      "R-squared of the model in test set is: 0.9010671685969577\n"
     ]
    }
   ],
   "source": [
    "#Import LinearRegression from sklearn library\n",
    "from sklearn.linear_model import LinearRegression\n",
    "\n",
    "#Initialise an object slr by calling a method named as 'LinearRegression()'\n",
    "mlr = LinearRegression()\n",
    "\n",
    "#Fitting the OLS model\n",
    "mlr.fit(X_train, y_train)\n",
    "\n",
    "# Predict the results for the training and testing\n",
    "y_train_pred = mlr.predict(X_train)\n",
    "y_test_pred = mlr.predict(X_test)\n",
    "\n",
    "#Print the R-squared values\n",
    "print(\"-----Training set statistics-----\")\n",
    "print(\"R-squared of the model in training set is: {}\".format(mlr.score(X_train, y_train)))\n",
    "\n",
    "print(\"-----Test set statistics-----\")\n",
    "print(\"R-squared of the model in test set is: {}\".format(mlr.score(X_test, y_test)))"
   ]
  },
  {
   "cell_type": "markdown",
   "id": "bf8edd66",
   "metadata": {},
   "source": [
    "### Coefficients of Independent variables"
   ]
  },
  {
   "cell_type": "code",
   "execution_count": 102,
   "id": "b4568f64",
   "metadata": {},
   "outputs": [
    {
     "name": "stdout",
     "output_type": "stream",
     "text": [
      "[ 3.33128125e+03  1.39083045e+02  3.38759361e+04  3.09798692e+04\n",
      " -6.59596969e+04 -2.37331405e+05  7.47011923e+04  5.37746448e+04\n",
      " -2.08923505e+05 -7.77891562e+04  1.10347975e+05 -1.08999117e+05]\n"
     ]
    }
   ],
   "source": [
    "#Print the coefficients of the independent variables\n",
    "print(mlr.coef_)"
   ]
  },
  {
   "cell_type": "markdown",
   "id": "0eb5581c",
   "metadata": {},
   "source": [
    "# Decision Tree Regression"
   ]
  },
  {
   "cell_type": "code",
   "execution_count": 103,
   "id": "4ea9cda0",
   "metadata": {},
   "outputs": [
    {
     "name": "stdout",
     "output_type": "stream",
     "text": [
      "-----Training set statistics-----\n",
      "R-squared of the model in training set is: 0.9535238695996443\n",
      "-----Test set statistics-----\n",
      "R-squared of the model in test set is: 0.8516579209204078\n"
     ]
    }
   ],
   "source": [
    "#Import DecisionTreeRegressor from the sklearn library\n",
    "from sklearn.tree import DecisionTreeRegressor\n",
    "\n",
    "#Initialise an object by calling a method DecisionTreeRegressor()\n",
    "decision_Regressor = DecisionTreeRegressor(max_depth=2, random_state=0)  # You can adjust max_depth as needed\n",
    "\n",
    "#Pass the training set through the decision_Regressor\n",
    "decision_Regressor.fit(X_train, y_train)\n",
    "\n",
    "#Predict the X_test values\n",
    "y_pred_decision=decision_Regressor.predict(X_test)\n",
    "\n",
    "#Print the R-squared values\n",
    "print(\"-----Training set statistics-----\")\n",
    "print(\"R-squared of the model in training set is: {}\".format(decision_Regressor.score(X_train, y_train)))\n",
    "\n",
    "print(\"-----Test set statistics-----\")\n",
    "print(\"R-squared of the model in test set is: {}\".format(decision_Regressor.score(X_test, y_test)))"
   ]
  },
  {
   "cell_type": "code",
   "execution_count": 104,
   "id": "fb6ffb26",
   "metadata": {
    "scrolled": true
   },
   "outputs": [
    {
     "data": {
      "image/png": "[encoded data removed]",
      "text/plain": [
       "<IPython.core.display.Image object>"
      ]
     },
     "execution_count": 104,
     "metadata": {},
     "output_type": "execute_result"
    }
   ],
   "source": [
    "#Visualize the Decision tree regressor\n",
    "from sklearn.tree import DecisionTreeRegressor\n",
    "from sklearn.tree import export_graphviz\n",
    "import pydotplus  # You need to import this library to work with Graphviz\n",
    "from IPython.display import Image\n",
    "from sklearn import tree\n",
    "from io import StringIO\n",
    "\n",
    "#Create a StringIO object to hold the visualization\n",
    "dot_data = StringIO()\n",
    "\n",
    "#Export the Decision Tree as a Graphviz dot file\n",
    "export_graphviz(decision_Regressor, out_file=dot_data, filled=True)\n",
    "\n",
    "#Use pydotplus to create an image from the dot file\n",
    "graph = pydotplus.graph_from_dot_data(dot_data.getvalue())\n",
    "\n",
    "#Create an Image from the graph\n",
    "Image(graph.create_png())"
   ]
  },
  {
   "cell_type": "markdown",
   "id": "511f48e9",
   "metadata": {},
   "source": [
    "# Random Forest Regression"
   ]
  },
  {
   "cell_type": "code",
   "execution_count": 105,
   "id": "a5bf86d5",
   "metadata": {},
   "outputs": [
    {
     "name": "stdout",
     "output_type": "stream",
     "text": [
      "-----Training set statistics-----\n",
      "R-squared of the model in training set is: 0.9983314346678154\n",
      "-----Test set statistics-----\n",
      "R-squared of the model in test set is: 0.9908691082892391\n"
     ]
    }
   ],
   "source": [
    "#Import RandomForestRegressor from sklearn\n",
    "from sklearn.ensemble import RandomForestRegressor\n",
    "\n",
    "#Create an object forest by calling a method RandomForestRegressor()\n",
    "forest_Regressor = RandomForestRegressor(n_estimators = 1000,random_state=0)\n",
    "\n",
    "#Train the Model by calling a fit() method\n",
    "forest_Regressor.fit(X_train, y_train)\n",
    "\n",
    "#Predict the Test Set\n",
    "y_pred_random = forest_Regressor.predict(X_test)\n",
    "\n",
    "#Print the R-squared values\n",
    "print(\"-----Training set statistics-----\")\n",
    "print(\"R-squared of the model in training set is: {}\".format(forest_Regressor.score(X_train, y_train)))\n",
    "print(\"-----Test set statistics-----\")\n",
    "print(\"R-squared of the model in test set is: {}\".format(forest_Regressor.score(X_test, y_test)))"
   ]
  },
  {
   "cell_type": "markdown",
   "id": "e5ddef0c",
   "metadata": {},
   "source": [
    "# Ridge Regression"
   ]
  },
  {
   "cell_type": "code",
   "execution_count": 106,
   "id": "911a87d9",
   "metadata": {},
   "outputs": [
    {
     "name": "stdout",
     "output_type": "stream",
     "text": [
      "-----Training set statistics-----\n",
      "Training set score: 0.97\n",
      "-----Test set statistics (ridge)-----\n",
      "R-squared of the model in test set is: 0.9011080937860133\n",
      "-----Training set statistics-----\n",
      "Training set score: 0.97\n",
      "-----Test set statistics (ridge_10)-----\n",
      "R-squared of the model in test set is: 0.9011398875625078\n",
      "-----Training set statistics-----\n",
      "Training set score: 0.97\n",
      "-----Test set statistics (ridge_01)-----\n",
      "R-squared of the model in test set is: 0.9010717471473001\n"
     ]
    }
   ],
   "source": [
    "#Import Ridge from sklearn library\n",
    "from sklearn.linear_model import Ridge\n",
    "\n",
    "#Train the Ridge() mode by calling a fit() method\n",
    "ridge = Ridge().fit(X_train, y_train)\n",
    "\n",
    "#Predict the Test Set\n",
    "y_pred_ridge = ridge.predict(X_test)\n",
    "\n",
    "\n",
    "#Display the score by using ridge object\n",
    "print(\"-----Training set statistics-----\")\n",
    "print(\"Training set score: {:.2f}\".format(ridge.score(X_train, y_train)))\n",
    "\n",
    "print(\"-----Test set statistics (ridge)-----\")\n",
    "print(\"R-squared of the model in test set is: {}\".format(ridge.score(X_test, y_test)))\n",
    "\n",
    "#Alpha = 10 is a parameter using a fit() method\n",
    "ridge_10 = Ridge(alpha = 10).fit(X_train, y_train)\n",
    "\n",
    "#Predict the Test Set\n",
    "y_pred_ridge_10 = ridge.predict(X_test)\n",
    "\n",
    "#Print the R-squared values\n",
    "print(\"-----Training set statistics-----\")\n",
    "print(\"Training set score: {:.2f}\".format(ridge_10.score(X_train, y_train)))\n",
    "\n",
    "print(\"-----Test set statistics (ridge_10)-----\")\n",
    "print(\"R-squared of the model in test set is: {}\".format(ridge_10.score(X_test, y_test)))\n",
    "\n",
    "\n",
    "#Alpha = 0.1 is a parameter using a fit() method\n",
    "ridge_01 = Ridge(alpha = 0.1).fit(X_train, y_train)\n",
    "\n",
    "#Predict the Test Set\n",
    "y_pred_ridge_01 = ridge.predict(X_test)\n",
    "\n",
    "#Print the R-squared values\n",
    "print(\"-----Training set statistics-----\")\n",
    "print(\"Training set score: {:.2f}\".format(ridge_01.score(X_train, y_train)))\n",
    "\n",
    "print(\"-----Test set statistics (ridge_01)-----\")\n",
    "print(\"R-squared of the model in test set is: {}\".format(ridge_01.score(X_test, y_test)))"
   ]
  },
  {
   "cell_type": "markdown",
   "id": "5b9445d9",
   "metadata": {},
   "source": [
    "# Using GridSearchCV for parameter optimization in Ridge Regression"
   ]
  },
  {
   "cell_type": "code",
   "execution_count": 107,
   "id": "9947fb7b",
   "metadata": {},
   "outputs": [
    {
     "name": "stdout",
     "output_type": "stream",
     "text": [
      "Fitting 5 folds for each of 3 candidates, totalling 15 fits\n",
      "-----Training set statistics-----\n",
      "R-squared of the model in training set is: 0.9679631695988611\n",
      "-----Test set statistics-----\n",
      "R-squared of the model in test set is: 0.9011080937860133\n"
     ]
    }
   ],
   "source": [
    "#Import GridSearchCV from sklearn library\n",
    "from sklearn.model_selection import GridSearchCV\n",
    "\n",
    "#Using GridSearch for parameter optimization\n",
    "ridgeregr = GridSearchCV(Ridge(),\n",
    "                    param_grid={\n",
    "                        'alpha': [0.01, 0.1, 1]\n",
    "                    }, verbose=1)\n",
    "\n",
    "ridgeregr.fit(X_train, y_train)\n",
    "\n",
    "ridge = ridgeregr.best_estimator_\n",
    "\n",
    "#Making the prediction for the test and training set \n",
    "y_train_pred = ridge.predict(X_train)\n",
    "y_test_pred_ridge = ridge.predict(X_test)\n",
    "\n",
    "#Print the R-squared values\n",
    "print(\"-----Training set statistics-----\")\n",
    "print(\"R-squared of the model in training set is: {}\".format(ridge.score(X_train, y_train)))\n",
    "print(\"-----Test set statistics-----\")\n",
    "print(\"R-squared of the model in test set is: {}\".format(ridge.score(X_test, y_test)))"
   ]
  },
  {
   "cell_type": "markdown",
   "id": "5a5d068d",
   "metadata": {},
   "source": [
    "# Lasso Regression"
   ]
  },
  {
   "cell_type": "code",
   "execution_count": 108,
   "id": "79bba08c",
   "metadata": {},
   "outputs": [
    {
     "name": "stdout",
     "output_type": "stream",
     "text": [
      "Training set score: 0.97\n",
      "Test set score: 0.90\n",
      "Number of features used: 12\n",
      "Training set score: 0.97\n",
      "Test set score: 0.90\n",
      "Number of features used: 12\n",
      "Training set score: 0.97\n",
      "Test set score: 0.90\n",
      "Number of features used: 12\n"
     ]
    }
   ],
   "source": [
    "#Import Lasso from sklearn library\n",
    "from sklearn.linear_model import Lasso\n",
    "lasso = Lasso().fit(X_train, y_train)\n",
    "\n",
    "#prediction the training and test values\n",
    "y_train_pred_lasso = lasso.predict(X_train)\n",
    "y_test_pred_lasso = lasso.predict(X_test)\n",
    "\n",
    "#Print the R-squared values\n",
    "print(\"Training set score: {:.2f}\".format(lasso.score(X_train, y_train)))\n",
    "print(\"Test set score: {:.2f}\".format(lasso.score(X_test, y_test)))\n",
    "print(\"Number of features used: {}\".format(np.sum(lasso.coef_ != 0)))\n",
    "\n",
    "#we increase the default setting of \"max_iter\",\n",
    "# otherwise the model would warn us that we should increase max_iter.\n",
    "lasso001 = Lasso(alpha=0.01).fit(X_train, y_train)\n",
    "\n",
    "#Print the R-squared values\n",
    "print(\"Training set score: {:.2f}\".format(lasso001.score(X_train, y_train)))\n",
    "print(\"Test set score: {:.2f}\".format(lasso001.score(X_test, y_test)))\n",
    "print(\"Number of features used: {}\".format(np.sum(lasso001.coef_ != 0)))\n",
    "\n",
    "#Print the R-squared values\n",
    "lasso00001 = Lasso(alpha=0.0001).fit(X_train, y_train)\n",
    "print(\"Training set score: {:.2f}\".format(lasso00001.score(X_train, y_train)))\n",
    "print(\"Test set score: {:.2f}\".format(lasso00001.score(X_test, y_test)))\n",
    "print(\"Number of features used: {}\".format(np.sum(lasso00001.coef_ != 0)))"
   ]
  },
  {
   "cell_type": "markdown",
   "id": "50837aa9",
   "metadata": {},
   "source": [
    "# Using GridSearch Parameter optimization in Lasso Regression"
   ]
  },
  {
   "cell_type": "code",
   "execution_count": 109,
   "id": "08e3dfbe",
   "metadata": {},
   "outputs": [
    {
     "name": "stdout",
     "output_type": "stream",
     "text": [
      "Fitting 5 folds for each of 3 candidates, totalling 15 fits\n",
      "-----Training set statistics-----\n",
      "R-squared of the model in training set is: 0.9679649228707504\n",
      "-----Test set statistics-----\n",
      "R-squared of the model in test set is: 0.9010671686116114\n"
     ]
    }
   ],
   "source": [
    "#Using GridSearch for parameter optimization\n",
    "lassoregr = GridSearchCV(Lasso(),\n",
    "                    param_grid={\n",
    "                        'alpha': [0.01, 0.0001, 1]\n",
    "                    }, verbose=1)\n",
    "\n",
    "lassoregr.fit(X_train, y_train)\n",
    "\n",
    "lasso = lassoregr.best_estimator_\n",
    "\n",
    "#Make predictions for test and training sets\n",
    "y_preds_train = lasso.predict(X_train)\n",
    "y_preds_test_lasso = lasso.predict(X_test)\n",
    "\n",
    "#Print the R-squared values\n",
    "print(\"-----Training set statistics-----\")\n",
    "print(\"R-squared of the model in training set is: {}\".format(lasso.score(X_train, y_train)))\n",
    "print(\"-----Test set statistics-----\")\n",
    "print(\"R-squared of the model in test set is: {}\".format(lasso.score(X_test, y_test)))"
   ]
  },
  {
   "cell_type": "markdown",
   "id": "7271d735",
   "metadata": {},
   "source": [
    "# ElasticNet Regression"
   ]
  },
  {
   "cell_type": "code",
   "execution_count": 110,
   "id": "325fbced",
   "metadata": {},
   "outputs": [
    {
     "name": "stdout",
     "output_type": "stream",
     "text": [
      "Mean Squared Error on test set 69936210524.54964\n",
      "[ 3.32386715e+03  1.38973164e+02  3.24699511e+04  3.61555422e+04\n",
      " -5.96597430e+04 -2.26867049e+05  7.73118856e+04  5.74290778e+04\n",
      " -1.97144234e+05 -6.98319932e+04  1.12189446e+05 -1.00778858e+05] -6673730.00014745\n",
      "-----Training set statistics-----\n",
      "R-squared of the model in training set is: 0.9679495808226607\n",
      "-----Test set statistics-----\n",
      "R-squared of the model in test set is: 0.9011636074595986\n"
     ]
    }
   ],
   "source": [
    "#Import ElasticNet from sklearn library\n",
    "from sklearn.linear_model import ElasticNet\n",
    "\n",
    "#Train the model\n",
    "e_net = ElasticNet(alpha = 0.01)\n",
    "\n",
    "#Fit the e_net model\n",
    "e_net.fit(X_train, y_train)\n",
    "\n",
    "#Calculate the prediction and mean square error\n",
    "y_pred_elastic = e_net.predict(X_test)\n",
    "mean_squared_error = np.mean((y_pred_elastic - y_test)**2)\n",
    "\n",
    "#Print the mean square error, the coefficients and the intercept\n",
    "print(\"Mean Squared Error on test set\", mean_squared_error)\n",
    "print(e_net.coef_, e_net.intercept_)\n",
    "\n",
    "#Print the R-squared values\n",
    "print(\"-----Training set statistics-----\")\n",
    "print(\"R-squared of the model in training set is: {}\".format(e_net.score(X_train, y_train)))\n",
    "print(\"-----Test set statistics-----\")\n",
    "print(\"R-squared of the model in test set is: {}\".format(e_net.score(X_test, y_test)))"
   ]
  },
  {
   "cell_type": "markdown",
   "id": "d1439681",
   "metadata": {},
   "source": [
    "# Support Vector Machine Regression"
   ]
  },
  {
   "cell_type": "code",
   "execution_count": 111,
   "id": "825ac68b",
   "metadata": {},
   "outputs": [
    {
     "name": "stdout",
     "output_type": "stream",
     "text": [
      "Training set score: -0.14\n",
      "Test set score: -0.09\n"
     ]
    }
   ],
   "source": [
    "#Import SVR from sklearn library\n",
    "from sklearn.svm import SVR\n",
    "svr= SVR()\n",
    "\n",
    "#fit the svr \n",
    "svr.fit(X_train, y_train)\n",
    "\n",
    "#Print the R-squared values\n",
    "print(\"Training set score: {:.2f}\".format(svr.score(X_train, y_train)))\n",
    "print(\"Test set score: {:.2f}\".format(svr.score(X_test, y_test)))"
   ]
  },
  {
   "cell_type": "markdown",
   "id": "b08c83b3",
   "metadata": {},
   "source": [
    "# Support Vector Machine Regression using GridSearchCV"
   ]
  },
  {
   "cell_type": "code",
   "execution_count": 112,
   "id": "92c2ef6c",
   "metadata": {
    "scrolled": false
   },
   "outputs": [
    {
     "name": "stdout",
     "output_type": "stream",
     "text": [
      "Fitting 5 folds for each of 36 candidates, totalling 180 fits\n",
      "[CV 1/5] END ...C=0.01, gamma=0.01, kernel=rbf;, score=-0.135 total time=   0.0s\n",
      "[CV 2/5] END ...C=0.01, gamma=0.01, kernel=rbf;, score=-0.113 total time=   0.0s\n",
      "[CV 3/5] END ...C=0.01, gamma=0.01, kernel=rbf;, score=-0.170 total time=   0.0s\n",
      "[CV 4/5] END ...C=0.01, gamma=0.01, kernel=rbf;, score=-0.122 total time=   0.0s\n",
      "[CV 5/5] END ...C=0.01, gamma=0.01, kernel=rbf;, score=-0.156 total time=   0.0s\n",
      "[CV 1/5] END ....C=0.01, gamma=0.1, kernel=rbf;, score=-0.135 total time=   0.0s\n",
      "[CV 2/5] END ....C=0.01, gamma=0.1, kernel=rbf;, score=-0.113 total time=   0.0s\n",
      "[CV 3/5] END ....C=0.01, gamma=0.1, kernel=rbf;, score=-0.170 total time=   0.0s\n",
      "[CV 4/5] END ....C=0.01, gamma=0.1, kernel=rbf;, score=-0.122 total time=   0.0s\n",
      "[CV 5/5] END ....C=0.01, gamma=0.1, kernel=rbf;, score=-0.156 total time=   0.0s\n",
      "[CV 1/5] END ...C=0.01, gamma=0.01, kernel=rbf;, score=-0.135 total time=   0.0s\n",
      "[CV 2/5] END ...C=0.01, gamma=0.01, kernel=rbf;, score=-0.113 total time=   0.0s\n",
      "[CV 3/5] END ...C=0.01, gamma=0.01, kernel=rbf;, score=-0.170 total time=   0.0s\n",
      "[CV 4/5] END ...C=0.01, gamma=0.01, kernel=rbf;, score=-0.122 total time=   0.0s\n",
      "[CV 5/5] END ...C=0.01, gamma=0.01, kernel=rbf;, score=-0.156 total time=   0.0s\n",
      "[CV 1/5] END ..C=0.01, gamma=0.001, kernel=rbf;, score=-0.135 total time=   0.0s\n",
      "[CV 2/5] END ..C=0.01, gamma=0.001, kernel=rbf;, score=-0.113 total time=   0.0s\n",
      "[CV 3/5] END ..C=0.01, gamma=0.001, kernel=rbf;, score=-0.170 total time=   0.0s\n",
      "[CV 4/5] END ..C=0.01, gamma=0.001, kernel=rbf;, score=-0.122 total time=   0.0s\n",
      "[CV 5/5] END ..C=0.01, gamma=0.001, kernel=rbf;, score=-0.156 total time=   0.0s\n",
      "[CV 1/5] END ..C=0.01, gamma=0.001, kernel=rbf;, score=-0.135 total time=   0.0s\n",
      "[CV 2/5] END ..C=0.01, gamma=0.001, kernel=rbf;, score=-0.113 total time=   0.0s\n",
      "[CV 3/5] END ..C=0.01, gamma=0.001, kernel=rbf;, score=-0.170 total time=   0.0s\n",
      "[CV 4/5] END ..C=0.01, gamma=0.001, kernel=rbf;, score=-0.122 total time=   0.0s\n",
      "[CV 5/5] END ..C=0.01, gamma=0.001, kernel=rbf;, score=-0.156 total time=   0.0s\n",
      "[CV 1/5] END ......C=0.01, gamma=1, kernel=rbf;, score=-0.135 total time=   0.0s\n",
      "[CV 2/5] END ......C=0.01, gamma=1, kernel=rbf;, score=-0.113 total time=   0.0s\n",
      "[CV 3/5] END ......C=0.01, gamma=1, kernel=rbf;, score=-0.170 total time=   0.0s\n",
      "[CV 4/5] END ......C=0.01, gamma=1, kernel=rbf;, score=-0.122 total time=   0.0s\n",
      "[CV 5/5] END ......C=0.01, gamma=1, kernel=rbf;, score=-0.156 total time=   0.0s\n",
      "[CV 1/5] END ......C=1, gamma=0.01, kernel=rbf;, score=-0.135 total time=   0.0s\n",
      "[CV 2/5] END ......C=1, gamma=0.01, kernel=rbf;, score=-0.113 total time=   0.0s\n",
      "[CV 3/5] END ......C=1, gamma=0.01, kernel=rbf;, score=-0.170 total time=   0.0s\n",
      "[CV 4/5] END ......C=1, gamma=0.01, kernel=rbf;, score=-0.122 total time=   0.0s\n",
      "[CV 5/5] END ......C=1, gamma=0.01, kernel=rbf;, score=-0.156 total time=   0.0s\n",
      "[CV 1/5] END .......C=1, gamma=0.1, kernel=rbf;, score=-0.135 total time=   0.0s\n",
      "[CV 2/5] END .......C=1, gamma=0.1, kernel=rbf;, score=-0.113 total time=   0.0s\n",
      "[CV 3/5] END .......C=1, gamma=0.1, kernel=rbf;, score=-0.170 total time=   0.0s\n",
      "[CV 4/5] END .......C=1, gamma=0.1, kernel=rbf;, score=-0.122 total time=   0.0s\n",
      "[CV 5/5] END .......C=1, gamma=0.1, kernel=rbf;, score=-0.156 total time=   0.0s\n",
      "[CV 1/5] END ......C=1, gamma=0.01, kernel=rbf;, score=-0.135 total time=   0.0s\n",
      "[CV 2/5] END ......C=1, gamma=0.01, kernel=rbf;, score=-0.113 total time=   0.0s\n",
      "[CV 3/5] END ......C=1, gamma=0.01, kernel=rbf;, score=-0.170 total time=   0.0s\n",
      "[CV 4/5] END ......C=1, gamma=0.01, kernel=rbf;, score=-0.122 total time=   0.0s\n",
      "[CV 5/5] END ......C=1, gamma=0.01, kernel=rbf;, score=-0.156 total time=   0.0s\n",
      "[CV 1/5] END .....C=1, gamma=0.001, kernel=rbf;, score=-0.135 total time=   0.0s\n",
      "[CV 2/5] END .....C=1, gamma=0.001, kernel=rbf;, score=-0.113 total time=   0.0s\n",
      "[CV 3/5] END .....C=1, gamma=0.001, kernel=rbf;, score=-0.170 total time=   0.0s\n",
      "[CV 4/5] END .....C=1, gamma=0.001, kernel=rbf;, score=-0.122 total time=   0.0s\n",
      "[CV 5/5] END .....C=1, gamma=0.001, kernel=rbf;, score=-0.156 total time=   0.0s\n",
      "[CV 1/5] END .....C=1, gamma=0.001, kernel=rbf;, score=-0.135 total time=   0.0s\n",
      "[CV 2/5] END .....C=1, gamma=0.001, kernel=rbf;, score=-0.113 total time=   0.0s\n",
      "[CV 3/5] END .....C=1, gamma=0.001, kernel=rbf;, score=-0.170 total time=   0.0s\n",
      "[CV 4/5] END .....C=1, gamma=0.001, kernel=rbf;, score=-0.122 total time=   0.0s\n",
      "[CV 5/5] END .....C=1, gamma=0.001, kernel=rbf;, score=-0.156 total time=   0.0s\n",
      "[CV 1/5] END .........C=1, gamma=1, kernel=rbf;, score=-0.135 total time=   0.0s\n",
      "[CV 2/5] END .........C=1, gamma=1, kernel=rbf;, score=-0.113 total time=   0.0s\n",
      "[CV 3/5] END .........C=1, gamma=1, kernel=rbf;, score=-0.170 total time=   0.0s\n",
      "[CV 4/5] END .........C=1, gamma=1, kernel=rbf;, score=-0.122 total time=   0.0s\n",
      "[CV 5/5] END .........C=1, gamma=1, kernel=rbf;, score=-0.156 total time=   0.0s\n",
      "[CV 1/5] END ....C=0.1, gamma=0.01, kernel=rbf;, score=-0.135 total time=   0.0s\n",
      "[CV 2/5] END ....C=0.1, gamma=0.01, kernel=rbf;, score=-0.113 total time=   0.0s\n",
      "[CV 3/5] END ....C=0.1, gamma=0.01, kernel=rbf;, score=-0.170 total time=   0.0s\n",
      "[CV 4/5] END ....C=0.1, gamma=0.01, kernel=rbf;, score=-0.122 total time=   0.0s\n",
      "[CV 5/5] END ....C=0.1, gamma=0.01, kernel=rbf;, score=-0.156 total time=   0.0s\n",
      "[CV 1/5] END .....C=0.1, gamma=0.1, kernel=rbf;, score=-0.135 total time=   0.0s\n",
      "[CV 2/5] END .....C=0.1, gamma=0.1, kernel=rbf;, score=-0.113 total time=   0.0s\n",
      "[CV 3/5] END .....C=0.1, gamma=0.1, kernel=rbf;, score=-0.170 total time=   0.0s\n",
      "[CV 4/5] END .....C=0.1, gamma=0.1, kernel=rbf;, score=-0.122 total time=   0.0s\n",
      "[CV 5/5] END .....C=0.1, gamma=0.1, kernel=rbf;, score=-0.156 total time=   0.0s\n",
      "[CV 1/5] END ....C=0.1, gamma=0.01, kernel=rbf;, score=-0.135 total time=   0.0s\n",
      "[CV 2/5] END ....C=0.1, gamma=0.01, kernel=rbf;, score=-0.113 total time=   0.0s\n",
      "[CV 3/5] END ....C=0.1, gamma=0.01, kernel=rbf;, score=-0.170 total time=   0.0s\n",
      "[CV 4/5] END ....C=0.1, gamma=0.01, kernel=rbf;, score=-0.122 total time=   0.0s\n",
      "[CV 5/5] END ....C=0.1, gamma=0.01, kernel=rbf;, score=-0.156 total time=   0.0s\n",
      "[CV 1/5] END ...C=0.1, gamma=0.001, kernel=rbf;, score=-0.135 total time=   0.0s\n",
      "[CV 2/5] END ...C=0.1, gamma=0.001, kernel=rbf;, score=-0.113 total time=   0.0s\n",
      "[CV 3/5] END ...C=0.1, gamma=0.001, kernel=rbf;, score=-0.170 total time=   0.0s\n",
      "[CV 4/5] END ...C=0.1, gamma=0.001, kernel=rbf;, score=-0.122 total time=   0.0s\n",
      "[CV 5/5] END ...C=0.1, gamma=0.001, kernel=rbf;, score=-0.156 total time=   0.0s\n",
      "[CV 1/5] END ...C=0.1, gamma=0.001, kernel=rbf;, score=-0.135 total time=   0.0s\n",
      "[CV 2/5] END ...C=0.1, gamma=0.001, kernel=rbf;, score=-0.113 total time=   0.0s\n",
      "[CV 3/5] END ...C=0.1, gamma=0.001, kernel=rbf;, score=-0.170 total time=   0.0s\n",
      "[CV 4/5] END ...C=0.1, gamma=0.001, kernel=rbf;, score=-0.122 total time=   0.0s\n",
      "[CV 5/5] END ...C=0.1, gamma=0.001, kernel=rbf;, score=-0.156 total time=   0.0s\n",
      "[CV 1/5] END .......C=0.1, gamma=1, kernel=rbf;, score=-0.135 total time=   0.0s\n",
      "[CV 2/5] END .......C=0.1, gamma=1, kernel=rbf;, score=-0.113 total time=   0.0s\n",
      "[CV 3/5] END .......C=0.1, gamma=1, kernel=rbf;, score=-0.170 total time=   0.0s\n",
      "[CV 4/5] END .......C=0.1, gamma=1, kernel=rbf;, score=-0.122 total time=   0.0s\n",
      "[CV 5/5] END .......C=0.1, gamma=1, kernel=rbf;, score=-0.156 total time=   0.0s\n",
      "[CV 1/5] END .....C=10, gamma=0.01, kernel=rbf;, score=-0.134 total time=   0.0s\n",
      "[CV 2/5] END .....C=10, gamma=0.01, kernel=rbf;, score=-0.112 total time=   0.0s\n",
      "[CV 3/5] END .....C=10, gamma=0.01, kernel=rbf;, score=-0.169 total time=   0.0s\n",
      "[CV 4/5] END .....C=10, gamma=0.01, kernel=rbf;, score=-0.121 total time=   0.0s\n",
      "[CV 5/5] END .....C=10, gamma=0.01, kernel=rbf;, score=-0.155 total time=   0.0s\n",
      "[CV 1/5] END ......C=10, gamma=0.1, kernel=rbf;, score=-0.135 total time=   0.0s\n",
      "[CV 2/5] END ......C=10, gamma=0.1, kernel=rbf;, score=-0.113 total time=   0.0s\n",
      "[CV 3/5] END ......C=10, gamma=0.1, kernel=rbf;, score=-0.169 total time=   0.0s\n",
      "[CV 4/5] END ......C=10, gamma=0.1, kernel=rbf;, score=-0.121 total time=   0.0s\n",
      "[CV 5/5] END ......C=10, gamma=0.1, kernel=rbf;, score=-0.156 total time=   0.0s\n",
      "[CV 1/5] END .....C=10, gamma=0.01, kernel=rbf;, score=-0.134 total time=   0.0s\n"
     ]
    },
    {
     "name": "stdout",
     "output_type": "stream",
     "text": [
      "[CV 2/5] END .....C=10, gamma=0.01, kernel=rbf;, score=-0.112 total time=   0.0s\n",
      "[CV 3/5] END .....C=10, gamma=0.01, kernel=rbf;, score=-0.169 total time=   0.0s\n",
      "[CV 4/5] END .....C=10, gamma=0.01, kernel=rbf;, score=-0.121 total time=   0.0s\n",
      "[CV 5/5] END .....C=10, gamma=0.01, kernel=rbf;, score=-0.155 total time=   0.0s\n",
      "[CV 1/5] END ....C=10, gamma=0.001, kernel=rbf;, score=-0.134 total time=   0.0s\n",
      "[CV 2/5] END ....C=10, gamma=0.001, kernel=rbf;, score=-0.112 total time=   0.0s\n",
      "[CV 3/5] END ....C=10, gamma=0.001, kernel=rbf;, score=-0.169 total time=   0.0s\n",
      "[CV 4/5] END ....C=10, gamma=0.001, kernel=rbf;, score=-0.121 total time=   0.0s\n",
      "[CV 5/5] END ....C=10, gamma=0.001, kernel=rbf;, score=-0.155 total time=   0.0s\n",
      "[CV 1/5] END ....C=10, gamma=0.001, kernel=rbf;, score=-0.134 total time=   0.0s\n",
      "[CV 2/5] END ....C=10, gamma=0.001, kernel=rbf;, score=-0.112 total time=   0.0s\n",
      "[CV 3/5] END ....C=10, gamma=0.001, kernel=rbf;, score=-0.169 total time=   0.0s\n",
      "[CV 4/5] END ....C=10, gamma=0.001, kernel=rbf;, score=-0.121 total time=   0.0s\n",
      "[CV 5/5] END ....C=10, gamma=0.001, kernel=rbf;, score=-0.155 total time=   0.0s\n",
      "[CV 1/5] END ........C=10, gamma=1, kernel=rbf;, score=-0.135 total time=   0.0s\n",
      "[CV 2/5] END ........C=10, gamma=1, kernel=rbf;, score=-0.113 total time=   0.0s\n",
      "[CV 3/5] END ........C=10, gamma=1, kernel=rbf;, score=-0.170 total time=   0.0s\n",
      "[CV 4/5] END ........C=10, gamma=1, kernel=rbf;, score=-0.122 total time=   0.0s\n",
      "[CV 5/5] END ........C=10, gamma=1, kernel=rbf;, score=-0.156 total time=   0.0s\n",
      "[CV 1/5] END ....C=100, gamma=0.01, kernel=rbf;, score=-0.130 total time=   0.0s\n",
      "[CV 2/5] END ....C=100, gamma=0.01, kernel=rbf;, score=-0.109 total time=   0.0s\n",
      "[CV 3/5] END ....C=100, gamma=0.01, kernel=rbf;, score=-0.166 total time=   0.0s\n",
      "[CV 4/5] END ....C=100, gamma=0.01, kernel=rbf;, score=-0.118 total time=   0.0s\n",
      "[CV 5/5] END ....C=100, gamma=0.01, kernel=rbf;, score=-0.152 total time=   0.0s\n",
      "[CV 1/5] END .....C=100, gamma=0.1, kernel=rbf;, score=-0.133 total time=   0.0s\n",
      "[CV 2/5] END .....C=100, gamma=0.1, kernel=rbf;, score=-0.111 total time=   0.0s\n",
      "[CV 3/5] END .....C=100, gamma=0.1, kernel=rbf;, score=-0.168 total time=   0.0s\n",
      "[CV 4/5] END .....C=100, gamma=0.1, kernel=rbf;, score=-0.120 total time=   0.0s\n",
      "[CV 5/5] END .....C=100, gamma=0.1, kernel=rbf;, score=-0.154 total time=   0.0s\n",
      "[CV 1/5] END ....C=100, gamma=0.01, kernel=rbf;, score=-0.130 total time=   0.0s\n",
      "[CV 2/5] END ....C=100, gamma=0.01, kernel=rbf;, score=-0.109 total time=   0.0s\n",
      "[CV 3/5] END ....C=100, gamma=0.01, kernel=rbf;, score=-0.166 total time=   0.0s\n",
      "[CV 4/5] END ....C=100, gamma=0.01, kernel=rbf;, score=-0.118 total time=   0.0s\n",
      "[CV 5/5] END ....C=100, gamma=0.01, kernel=rbf;, score=-0.152 total time=   0.0s\n",
      "[CV 1/5] END ...C=100, gamma=0.001, kernel=rbf;, score=-0.127 total time=   0.0s\n",
      "[CV 2/5] END ...C=100, gamma=0.001, kernel=rbf;, score=-0.107 total time=   0.0s\n",
      "[CV 3/5] END ...C=100, gamma=0.001, kernel=rbf;, score=-0.164 total time=   0.0s\n",
      "[CV 4/5] END ...C=100, gamma=0.001, kernel=rbf;, score=-0.116 total time=   0.0s\n",
      "[CV 5/5] END ...C=100, gamma=0.001, kernel=rbf;, score=-0.149 total time=   0.0s\n",
      "[CV 1/5] END ...C=100, gamma=0.001, kernel=rbf;, score=-0.127 total time=   0.0s\n",
      "[CV 2/5] END ...C=100, gamma=0.001, kernel=rbf;, score=-0.107 total time=   0.0s\n",
      "[CV 3/5] END ...C=100, gamma=0.001, kernel=rbf;, score=-0.164 total time=   0.0s\n",
      "[CV 4/5] END ...C=100, gamma=0.001, kernel=rbf;, score=-0.116 total time=   0.0s\n",
      "[CV 5/5] END ...C=100, gamma=0.001, kernel=rbf;, score=-0.149 total time=   0.0s\n",
      "[CV 1/5] END .......C=100, gamma=1, kernel=rbf;, score=-0.135 total time=   0.0s\n",
      "[CV 2/5] END .......C=100, gamma=1, kernel=rbf;, score=-0.113 total time=   0.0s\n",
      "[CV 3/5] END .......C=100, gamma=1, kernel=rbf;, score=-0.170 total time=   0.0s\n",
      "[CV 4/5] END .......C=100, gamma=1, kernel=rbf;, score=-0.122 total time=   0.0s\n",
      "[CV 5/5] END .......C=100, gamma=1, kernel=rbf;, score=-0.156 total time=   0.0s\n",
      "[CV 1/5] END ...C=1000, gamma=0.01, kernel=rbf;, score=-0.115 total time=   0.0s\n",
      "[CV 2/5] END ...C=1000, gamma=0.01, kernel=rbf;, score=-0.097 total time=   0.0s\n",
      "[CV 3/5] END ...C=1000, gamma=0.01, kernel=rbf;, score=-0.154 total time=   0.0s\n",
      "[CV 4/5] END ...C=1000, gamma=0.01, kernel=rbf;, score=-0.106 total time=   0.0s\n",
      "[CV 5/5] END ...C=1000, gamma=0.01, kernel=rbf;, score=-0.138 total time=   0.0s\n",
      "[CV 1/5] END ....C=1000, gamma=0.1, kernel=rbf;, score=-0.127 total time=   0.0s\n",
      "[CV 2/5] END ....C=1000, gamma=0.1, kernel=rbf;, score=-0.106 total time=   0.0s\n",
      "[CV 3/5] END ....C=1000, gamma=0.1, kernel=rbf;, score=-0.163 total time=   0.0s\n",
      "[CV 4/5] END ....C=1000, gamma=0.1, kernel=rbf;, score=-0.116 total time=   0.0s\n",
      "[CV 5/5] END ....C=1000, gamma=0.1, kernel=rbf;, score=-0.149 total time=   0.0s\n",
      "[CV 1/5] END ...C=1000, gamma=0.01, kernel=rbf;, score=-0.115 total time=   0.0s\n",
      "[CV 2/5] END ...C=1000, gamma=0.01, kernel=rbf;, score=-0.097 total time=   0.0s\n",
      "[CV 3/5] END ...C=1000, gamma=0.01, kernel=rbf;, score=-0.154 total time=   0.0s\n",
      "[CV 4/5] END ...C=1000, gamma=0.01, kernel=rbf;, score=-0.106 total time=   0.0s\n",
      "[CV 5/5] END ...C=1000, gamma=0.01, kernel=rbf;, score=-0.138 total time=   0.0s\n",
      "[CV 1/5] END ..C=1000, gamma=0.001, kernel=rbf;, score=-0.097 total time=   0.0s\n",
      "[CV 2/5] END ..C=1000, gamma=0.001, kernel=rbf;, score=-0.081 total time=   0.0s\n",
      "[CV 3/5] END ..C=1000, gamma=0.001, kernel=rbf;, score=-0.139 total time=   0.0s\n",
      "[CV 4/5] END ..C=1000, gamma=0.001, kernel=rbf;, score=-0.092 total time=   0.0s\n",
      "[CV 5/5] END ..C=1000, gamma=0.001, kernel=rbf;, score=-0.123 total time=   0.0s\n",
      "[CV 1/5] END ..C=1000, gamma=0.001, kernel=rbf;, score=-0.097 total time=   0.0s\n",
      "[CV 2/5] END ..C=1000, gamma=0.001, kernel=rbf;, score=-0.081 total time=   0.0s\n",
      "[CV 3/5] END ..C=1000, gamma=0.001, kernel=rbf;, score=-0.139 total time=   0.0s\n",
      "[CV 4/5] END ..C=1000, gamma=0.001, kernel=rbf;, score=-0.092 total time=   0.0s\n",
      "[CV 5/5] END ..C=1000, gamma=0.001, kernel=rbf;, score=-0.123 total time=   0.0s\n",
      "[CV 1/5] END ......C=1000, gamma=1, kernel=rbf;, score=-0.134 total time=   0.0s\n",
      "[CV 2/5] END ......C=1000, gamma=1, kernel=rbf;, score=-0.112 total time=   0.0s\n",
      "[CV 3/5] END ......C=1000, gamma=1, kernel=rbf;, score=-0.169 total time=   0.0s\n",
      "[CV 4/5] END ......C=1000, gamma=1, kernel=rbf;, score=-0.121 total time=   0.0s\n",
      "[CV 5/5] END ......C=1000, gamma=1, kernel=rbf;, score=-0.155 total time=   0.0s\n",
      "-----Training set statistics-----\n",
      "R-squared of the model in training set is: -0.10026843099658889\n",
      "-----Test set statistics-----\n",
      "R-squared of the model in test set is: -0.04376598771258777\n"
     ]
    }
   ],
   "source": [
    "#Find best hyper parameters\n",
    "from sklearn.model_selection import GridSearchCV\n",
    "param_grid = {'C':[0.01,1,0.1,10,100,1000],'gamma':[0.01,0.1,0.01,0.001,0.001, 1], 'kernel':['rbf']}\n",
    "grid = GridSearchCV(SVR(),param_grid,verbose = 4)\n",
    "grid.fit(X_train,y_train)\n",
    "grid.best_params_\n",
    "grid.best_estimator_\n",
    "grid_predictions = grid.predict(X_test)\n",
    "\n",
    "#Print the R-squared values\n",
    "print(\"-----Training set statistics-----\")\n",
    "print(\"R-squared of the model in training set is: {}\".format(grid.score(X_train, y_train)))\n",
    "print(\"-----Test set statistics-----\")\n",
    "print(\"R-squared of the model in test set is: {}\".format(grid.score(X_test, y_test)))"
   ]
  },
  {
   "cell_type": "markdown",
   "id": "6bb4787d",
   "metadata": {},
   "source": [
    "# K-Nearest Neighbors Regression"
   ]
  },
  {
   "cell_type": "code",
   "execution_count": 113,
   "id": "56615570",
   "metadata": {},
   "outputs": [
    {
     "name": "stdout",
     "output_type": "stream",
     "text": [
      "-----Training set statistics-----\n",
      "R-squared of the model in training set is: 0.975117590725714\n",
      "-----Test set statistics-----\n",
      "R-squared of the model in test set is: 0.8895401623353848\n"
     ]
    }
   ],
   "source": [
    "#Import KNeighborsRegressor from sklearn library\n",
    "from sklearn.neighbors import KNeighborsRegressor\n",
    "knn_Regressor = KNeighborsRegressor(algorithm='auto', leaf_size=30,metric='minkowski',\n",
    "                                   metric_params=None, n_jobs=1, n_neighbors=5)\n",
    "knn_Regressor.fit(X_train, y_train)\n",
    "\n",
    "#Print the R-squared values\n",
    "print(\"-----Training set statistics-----\")\n",
    "print(\"R-squared of the model in training set is: {}\".format(knn_Regressor.score(X_train, y_train)))\n",
    "print(\"-----Test set statistics-----\")\n",
    "print(\"R-squared of the model in test set is: {}\".format(knn_Regressor.score(X_test, y_test)))"
   ]
  },
  {
   "cell_type": "markdown",
   "id": "6c6794ae",
   "metadata": {},
   "source": [
    "# Fitting Data with Normalization"
   ]
  },
  {
   "cell_type": "code",
   "execution_count": 114,
   "id": "5aa589fe",
   "metadata": {},
   "outputs": [
    {
     "name": "stdout",
     "output_type": "stream",
     "text": [
      "<class 'pandas.core.frame.DataFrame'>\n",
      "RangeIndex: 780 entries, 0 to 779\n",
      "Data columns (total 13 columns):\n",
      " #   Column                Non-Null Count  Dtype  \n",
      "---  ------                --------------  -----  \n",
      " 0   TIME_PERIOD           780 non-null    int64  \n",
      " 1   Number of Passengers  780 non-null    int64  \n",
      " 2   Number of Flights     780 non-null    int64  \n",
      " 3   tra_cov_NAT           780 non-null    float64\n",
      " 4   aircraft_AC_NJ        780 non-null    float64\n",
      " 5   aircraft_AC_RJ        780 non-null    float64\n",
      " 6   aircraft_AC_RT        780 non-null    float64\n",
      " 7   aircraft_AC_WJ        780 non-null    float64\n",
      " 8   distance_KM1500-1999  780 non-null    float64\n",
      " 9   distance_KM300-499    780 non-null    float64\n",
      " 10  distance_KM500-999    780 non-null    float64\n",
      " 11  distance_KM_GE2000    780 non-null    float64\n",
      " 12  distance_KM_LT300     780 non-null    float64\n",
      "dtypes: float64(10), int64(3)\n",
      "memory usage: 79.3 KB\n"
     ]
    }
   ],
   "source": [
    "#View the Data\n",
    "result_df.info()"
   ]
  },
  {
   "cell_type": "markdown",
   "id": "bb74db3b",
   "metadata": {},
   "source": [
    "Normalize the X variable Number of Flights"
   ]
  },
  {
   "cell_type": "code",
   "execution_count": 115,
   "id": "4e8ba87a",
   "metadata": {},
   "outputs": [],
   "source": [
    "from sklearn.preprocessing import MinMaxScaler\n",
    "\n",
    "#Create the minmaxscaler object\n",
    "scaler = MinMaxScaler()\n",
    "result_df['Number of Flights Scaled'] = scaler.fit_transform(result_df[['Number of Flights']])"
   ]
  },
  {
   "cell_type": "code",
   "execution_count": 116,
   "id": "a9cb8a9c",
   "metadata": {},
   "outputs": [
    {
     "name": "stdout",
     "output_type": "stream",
     "text": [
      "<class 'pandas.core.frame.DataFrame'>\n",
      "RangeIndex: 780 entries, 0 to 779\n",
      "Data columns (total 14 columns):\n",
      " #   Column                    Non-Null Count  Dtype  \n",
      "---  ------                    --------------  -----  \n",
      " 0   TIME_PERIOD               780 non-null    int64  \n",
      " 1   Number of Passengers      780 non-null    int64  \n",
      " 2   Number of Flights         780 non-null    int64  \n",
      " 3   tra_cov_NAT               780 non-null    float64\n",
      " 4   aircraft_AC_NJ            780 non-null    float64\n",
      " 5   aircraft_AC_RJ            780 non-null    float64\n",
      " 6   aircraft_AC_RT            780 non-null    float64\n",
      " 7   aircraft_AC_WJ            780 non-null    float64\n",
      " 8   distance_KM1500-1999      780 non-null    float64\n",
      " 9   distance_KM300-499        780 non-null    float64\n",
      " 10  distance_KM500-999        780 non-null    float64\n",
      " 11  distance_KM_GE2000        780 non-null    float64\n",
      " 12  distance_KM_LT300         780 non-null    float64\n",
      " 13  Number of Flights Scaled  780 non-null    float64\n",
      "dtypes: float64(11), int64(3)\n",
      "memory usage: 85.4 KB\n"
     ]
    }
   ],
   "source": [
    "#View Result_df\n",
    "result_df.info()"
   ]
  },
  {
   "cell_type": "code",
   "execution_count": 117,
   "id": "54d6b6b4",
   "metadata": {},
   "outputs": [],
   "source": [
    "#Create dependent and independent variables from normalized data\n",
    "y_minmax = result_df.iloc[:, 1].values\n",
    "X_minmax = result_df.drop(['Number of Passengers','Number of Flights'], axis=1).values"
   ]
  },
  {
   "cell_type": "code",
   "execution_count": 118,
   "id": "40a10183",
   "metadata": {},
   "outputs": [
    {
     "name": "stdout",
     "output_type": "stream",
     "text": [
      "[  62358   31836   12687    9886    8710    5367    5059    1817       0\n",
      "    3312     342    1095     529  126242   85643   11070    9828    3128\n",
      "    5873    4257    5479    5255    7682   51890  122966   19259    9754\n",
      "    2330     657    5110     960     736     598     399       0     565\n",
      "     162     345      96    1136    1287    2118    4298     706     312\n",
      "    1722    1789    1116    1466     212       0     776  741337  652758\n",
      "  489779  588820  493277  581847  840521  844419  880241  828701  782086\n",
      "  682512   18572     678      40    1027    1310     749     530     154\n",
      "      96     118       0      90       0      72 4432156 3872443 3530238\n",
      " 3560743 3764348 3955130 4222352 4795481 5167454 5388778 5930060 6125130\n",
      " 1176451 4871595 3778687 3785481 3696401 3823146 3920680 3995468 4414552\n",
      " 4988930 5265847 5428726 5928006 1305518 7587947 6362894 5557262 5519605\n",
      " 5302771 5388819 5650372 6305593 6886810 6988518 7129149 7234410 1739814\n",
      " 4571706 3684039 3772438 3834816 3906505 4041493 4225334 4779860 5165811\n",
      " 5168591 5456191 5722544 1386683 1891193 1477135 1425537 1613913 1556826\n",
      " 1642014 1745437 2004571 2246333 2727283 3187559 3663256  916763 1444673\n",
      " 1241598 1029557 1004957  996721  990283 1109622 1434060 1717173 1631914\n",
      " 1626088 1646605  411855   18038    8550   17413   32116   14304   10976\n",
      "    8324    8392   17093   16713    6507    5856    1299   16457   10971\n",
      "   10823   14007   12987   10530    3415    7138    2645    5905    2376\n",
      "    4008   17608  190811  195759  218545  216601  177933  166928  264329\n",
      "  368938  426959  494523  451602  412328   64145  387373  365818  327931\n",
      "  361760  316107  293871  300716  308406  334818  451626  461007  419877\n",
      "   77470    3489     686     574     563     541    4099    9860   42673\n",
      "   57881   48896   29601   27114   16399      91     996    3117    2584\n",
      "    1734    1774    2050    2119    1338     902    2537    3107      58\n",
      "    1899     777     434    1171     881     787     396     503     574\n",
      "     499     664     757     279     500      85     109     167     192\n",
      "      20     381       1       3      40       2    2069       2  359637\n",
      "  287555  438284  677866  733878  882843 1000324 1066827 1139304 1163748\n",
      " 1133818 1121827  191707  217073  100383  150552  132828  148907  162517\n",
      "  214763  130293  182430  197442  212073  152090   18009     180     122\n",
      "      72      29      12       2       0       1      12       6      74\n",
      "     107      47   75360   87675  165397  192909  185503  228595  287111\n",
      "  254550  338335  294147  283618  288417   51155   30921   12455    7366\n",
      "    3461    1763    8601    1186    4292    4079    2486    3290   46515\n",
      "    2463  149537  144864  132838  125090  131070  120766  138898  134789\n",
      "  126174  150099  139880  149159    5440    5260   13269    7402    2464\n",
      "    2468    1653    1511    2113    3033     668    2234   45383   72610\n",
      "    4338    6063   10105    3401    3787    4301    2748    3823    3756\n",
      "    2815    3816    6897    4004 1983041 1696486 1572267 1539701 1889341\n",
      " 2136280 2226296 2604581 2892799 3380495 3729640 3909365  679879    2665\n",
      "    2130     812     268     280     464     779     384       0       0\n",
      "    1190     358       0       0       0       0       0       0       0\n",
      "       0       0       0       0       0       0       0       0       0\n",
      "       0       0       0       0       0       0       0       0       0\n",
      "       0       0       0       0       0       0       0       0       0\n",
      "       0       0       0       0       0       0       0       0       0\n",
      "       0       0       0       0       0       0       0       0       0\n",
      "       0       0       0       0       0       0       0       0       0\n",
      "       0       0       0       0       0    2210       0     393       0\n",
      "      62     348       0     515     311     128     679     335       0\n",
      "       0       0       0       0       0       0       0       0       0\n",
      "       0       0       0       0       0       0       0       0       0\n",
      "       0       0       0       0       0       0       0       0       0\n",
      "       0       0       0       0       0       0       0       0       0\n",
      "       0       0       0       0       0       0       0       0       0\n",
      "       0       0       0       0       0       0       0       0       0\n",
      "       0       0       0       0       0       0       0       0       0\n",
      "       0       0  406076  408413  233012   63632    4346    9660    2513\n",
      "    9029    6184    3353    7043    4939       6       0       0       0\n",
      "       0       0       0       0       0       0       0       0       0\n",
      "       0       0       0       0       0       0       0       0       0\n",
      "       0       0       0       0       0       0       0       0       0\n",
      "       0       0       0       0       0       0       0       0       0\n",
      "       0       0       0       0       0       0       0       0       0\n",
      "       0       0       0       0       0       0       0       0       0\n",
      "       0       0       0       0       0       0       0       0    3846\n",
      "    1055    1090      80      21       0     103      46      14       0\n",
      "     237     349       1       0       0       0       0       0       0\n",
      "       0       0       0       0       0       0       0       0       0\n",
      "       0       0       0       0       0       0       0       0       0\n",
      "       0       0       0     185      15       0       0      76       0\n",
      "       0       0       0       0       0       0       0       0       0\n",
      "       0       0       0       0       0       0       0       0       0\n",
      "       0       0       0       0       0       0       0       0       0\n",
      "       0       0       0       0       0  352662  158348  111232   52542\n",
      "   51798   54859   59532   69119   80158   85295   94959   96163   31646\n",
      "       0       0       0       0       0       0       0       0       0\n",
      "       0       0       0       0       0       0       0       0       0\n",
      "       0       0       0       0       0       0       0       0       0\n",
      "       0       0       0       0       0       0       0       0       0\n",
      "       0       0       0       0       0       0       0       0       0\n",
      "       0       0       0       0       0       0       0       0       0\n",
      "       0       0       0       0       0       0       0       0       0\n",
      "       0       0  191605  110739   51801    9022    7894    6843    5739\n",
      "     814       0     186    1103     707      70]\n"
     ]
    }
   ],
   "source": [
    "#View the y_minmax variable \n",
    "print(y_minmax)"
   ]
  },
  {
   "cell_type": "code",
   "execution_count": 119,
   "id": "7c678d0c",
   "metadata": {},
   "outputs": [
    {
     "name": "stdout",
     "output_type": "stream",
     "text": [
      "[[2.00800000e+03 0.00000000e+00 0.00000000e+00 ... 0.00000000e+00\n",
      "  0.00000000e+00 5.45646368e-03]\n",
      " [2.00900000e+03 0.00000000e+00 0.00000000e+00 ... 0.00000000e+00\n",
      "  0.00000000e+00 2.88483730e-03]\n",
      " [2.01000000e+03 0.00000000e+00 0.00000000e+00 ... 0.00000000e+00\n",
      "  0.00000000e+00 1.15393492e-03]\n",
      " ...\n",
      " [2.01800000e+03 1.00000000e+00 0.00000000e+00 ... 0.00000000e+00\n",
      "  1.00000000e+00 1.15393492e-04]\n",
      " [2.01900000e+03 1.00000000e+00 0.00000000e+00 ... 0.00000000e+00\n",
      "  1.00000000e+00 6.59391382e-05]\n",
      " [2.02000000e+03 1.00000000e+00 0.00000000e+00 ... 0.00000000e+00\n",
      "  1.00000000e+00 3.29695691e-05]]\n"
     ]
    }
   ],
   "source": [
    "#View the X_minmax variable\n",
    "print(X_minmax)"
   ]
  },
  {
   "cell_type": "code",
   "execution_count": 120,
   "id": "d8768c3a",
   "metadata": {},
   "outputs": [
    {
     "data": {
      "text/plain": [
       "((780, 12), (780,))"
      ]
     },
     "execution_count": 120,
     "metadata": {},
     "output_type": "execute_result"
    }
   ],
   "source": [
    "#View the shape of X_minmax and y_minmax\n",
    "X_minmax.shape, y_minmax.shape"
   ]
  },
  {
   "cell_type": "code",
   "execution_count": 121,
   "id": "d5c9930e",
   "metadata": {},
   "outputs": [],
   "source": [
    "#Split the data into features (X_minmax) and target variable (y_minmax)\n",
    "X_minmax_train, X_minmax_test, y_minmax_train, y_minmax_test = train_test_split(X_minmax, y_minmax, test_size=0.2)"
   ]
  },
  {
   "cell_type": "code",
   "execution_count": 122,
   "id": "2f27a920",
   "metadata": {},
   "outputs": [
    {
     "data": {
      "text/plain": [
       "((624, 12), (156, 12), (624,), (156,))"
      ]
     },
     "execution_count": 122,
     "metadata": {},
     "output_type": "execute_result"
    }
   ],
   "source": [
    "#View the shapes of the split data\n",
    "X_minmax_train.shape, X_minmax_test.shape, y_minmax_train.shape, y_minmax_test.shape"
   ]
  },
  {
   "cell_type": "markdown",
   "id": "5dd08374",
   "metadata": {},
   "source": [
    "# Fit the Regression Models using normalized Data"
   ]
  },
  {
   "cell_type": "markdown",
   "id": "7e284094",
   "metadata": {},
   "source": [
    "# Linear Regression Model"
   ]
  },
  {
   "cell_type": "code",
   "execution_count": 123,
   "id": "e6aea23c",
   "metadata": {},
   "outputs": [
    {
     "name": "stdout",
     "output_type": "stream",
     "text": [
      "-----Training set statistics-----\n",
      "R-squared of the model in training set is: 0.9554139724721892\n",
      "-----Test set statistics-----\n",
      "R-squared of the model in test set is: 0.9814578757991271\n"
     ]
    }
   ],
   "source": [
    "#Import LinearRegression from sklearn library\n",
    "from sklearn.linear_model import LinearRegression\n",
    "\n",
    "#Initialise an object slr by calling a method named as 'LinearRegression()'\n",
    "mlr = LinearRegression()\n",
    "\n",
    "#Fitting the OLS model\n",
    "mlr.fit(X_minmax_train, y_minmax_train)\n",
    "\n",
    "# Predict the results for the training and testing\n",
    "y_train_pred = mlr.predict(X_minmax_train)\n",
    "y_test_pred = mlr.predict(X_minmax_test)\n",
    "\n",
    "#Print the R-squared values\n",
    "print(\"-----Training set statistics-----\")\n",
    "print(\"R-squared of the model in training set is: {}\".format(mlr.score(X_minmax_train, y_minmax_train)))\n",
    "\n",
    "print(\"-----Test set statistics-----\")\n",
    "print(\"R-squared of the model in test set is: {}\".format(mlr.score(X_minmax_test, y_minmax_test)))"
   ]
  },
  {
   "cell_type": "markdown",
   "id": "0a5dcc89",
   "metadata": {},
   "source": [
    "# Decision Tree Regression (Normalized Data)"
   ]
  },
  {
   "cell_type": "code",
   "execution_count": 124,
   "id": "f2b17086",
   "metadata": {},
   "outputs": [
    {
     "name": "stdout",
     "output_type": "stream",
     "text": [
      "-----Training set statistics-----\n",
      "R-squared of the model in training set is: 0.9471808534644136\n",
      "-----Test set statistics-----\n",
      "R-squared of the model in test set is: 0.9205494043914126\n"
     ]
    }
   ],
   "source": [
    "#Import DecisionTreeRegressor from the sklearn library\n",
    "from sklearn.tree import DecisionTreeRegressor\n",
    "\n",
    "#Initialise an object by calling a method DecisionTreeRegressor()\n",
    "decision_Regressor = DecisionTreeRegressor(max_depth=2, random_state=0)  # You can adjust max_depth as needed\n",
    "\n",
    "#Pass the training set through the decision_Regressor\n",
    "decision_Regressor.fit(X_minmax_train, y_minmax_train)\n",
    "\n",
    "#Predict the X_test values\n",
    "y_pred_decision=decision_Regressor.predict(X_minmax_test)\n",
    "\n",
    "#Print the R-squared values\n",
    "print(\"-----Training set statistics-----\")\n",
    "print(\"R-squared of the model in training set is: {}\".format(decision_Regressor.score(X_minmax_train, y_minmax_train)))\n",
    "\n",
    "print(\"-----Test set statistics-----\")\n",
    "print(\"R-squared of the model in test set is: {}\".format(decision_Regressor.score(X_minmax_test, y_minmax_test)))"
   ]
  },
  {
   "cell_type": "code",
   "execution_count": 125,
   "id": "ae522e4a",
   "metadata": {},
   "outputs": [
    {
     "data": {
      "image/png": "[encoded data removed]",
      "text/plain": [
       "<IPython.core.display.Image object>"
      ]
     },
     "execution_count": 125,
     "metadata": {},
     "output_type": "execute_result"
    }
   ],
   "source": [
    "#Visualize the Decision tree regressor\n",
    "from sklearn.tree import DecisionTreeRegressor\n",
    "from sklearn.tree import export_graphviz\n",
    "import pydotplus  # You need to import this library to work with Graphviz\n",
    "from IPython.display import Image\n",
    "from sklearn import tree\n",
    "from io import StringIO\n",
    "\n",
    "#Create a StringIO object to hold the visualization\n",
    "dot_data = StringIO()\n",
    "\n",
    "#Export the Decision Tree as a Graphviz dot file\n",
    "export_graphviz(decision_Regressor, out_file=dot_data, filled=True)\n",
    "\n",
    "#Use pydotplus to create an image from the dot file\n",
    "graph = pydotplus.graph_from_dot_data(dot_data.getvalue())\n",
    "\n",
    "#Create an Image from the graph\n",
    "Image(graph.create_png())"
   ]
  },
  {
   "cell_type": "markdown",
   "id": "fd1c9e64",
   "metadata": {},
   "source": [
    "# Random Forest (Normalized Data)"
   ]
  },
  {
   "cell_type": "code",
   "execution_count": 126,
   "id": "84974380",
   "metadata": {},
   "outputs": [
    {
     "name": "stdout",
     "output_type": "stream",
     "text": [
      "-----Training set statistics-----\n",
      "R-squared of the model in training set is: 0.998762275379187\n",
      "-----Test set statistics-----\n",
      "R-squared of the model in test set is: 0.99178329482895\n"
     ]
    }
   ],
   "source": [
    "#Import RandomForestRegressor from sklearn\n",
    "from sklearn.ensemble import RandomForestRegressor\n",
    "\n",
    "#Create an object forest by calling a method RandomForestRegressor()\n",
    "forest_Regressor = RandomForestRegressor(n_estimators = 1000,random_state=0)\n",
    "\n",
    "#Train the Model by calling a fit() method\n",
    "forest_Regressor.fit(X_minmax_train, y_minmax_train)\n",
    "\n",
    "#Predict the Test Set\n",
    "y_pred_random = forest_Regressor.predict(X_minmax_test)\n",
    "\n",
    "#Print the R-squared values\n",
    "print(\"-----Training set statistics-----\")\n",
    "print(\"R-squared of the model in training set is: {}\".format(forest_Regressor.score(X_minmax_train, y_minmax_train)))\n",
    "print(\"-----Test set statistics-----\")\n",
    "print(\"R-squared of the model in test set is: {}\".format(forest_Regressor.score(X_minmax_test, y_minmax_test)))"
   ]
  },
  {
   "cell_type": "markdown",
   "id": "71773d94",
   "metadata": {},
   "source": [
    "# Ridge Regression with Normalized Data"
   ]
  },
  {
   "cell_type": "code",
   "execution_count": 127,
   "id": "ec3c6639",
   "metadata": {},
   "outputs": [
    {
     "name": "stdout",
     "output_type": "stream",
     "text": [
      "-----Training set statistics-----\n",
      "Training set score: 0.95\n",
      "-----Test set statistics (ridge)-----\n",
      "R-squared of the model in test set is: 0.9705795260405463\n",
      "-----Training set statistics-----\n",
      "Training set score: 0.78\n",
      "-----Test set statistics (ridge_10)-----\n",
      "R-squared of the model in test set is: 0.7986971498322075\n",
      "-----Training set statistics-----\n",
      "Training set score: 0.96\n",
      "-----Test set statistics (ridge_01)-----\n",
      "R-squared of the model in test set is: 0.9809878329982316\n"
     ]
    }
   ],
   "source": [
    "#Import Ridge from sklearn library\n",
    "from sklearn.linear_model import Ridge\n",
    "\n",
    "#Train the Ridge() mode by calling a fit() method\n",
    "ridge = Ridge().fit(X_minmax_train, y_minmax_train)\n",
    "\n",
    "#Predict the Test Set\n",
    "y_pred_ridge = ridge.predict(X_minmax_test)\n",
    "\n",
    "\n",
    "#Display the score by using ridge object\n",
    "print(\"-----Training set statistics-----\")\n",
    "print(\"Training set score: {:.2f}\".format(ridge.score(X_minmax_train, y_minmax_train)))\n",
    "\n",
    "print(\"-----Test set statistics (ridge)-----\")\n",
    "print(\"R-squared of the model in test set is: {}\".format(ridge.score(X_minmax_test, y_minmax_test)))\n",
    "\n",
    "#Alpha = 10 is a parameter using a fit() method\n",
    "ridge_10 = Ridge(alpha = 10).fit(X_minmax_train, y_minmax_train)\n",
    "\n",
    "#Predict the Test Set\n",
    "y_pred_ridge_10 = ridge.predict(X_minmax_test)\n",
    "\n",
    "#Print the R-squared values\n",
    "print(\"-----Training set statistics-----\")\n",
    "print(\"Training set score: {:.2f}\".format(ridge_10.score(X_minmax_train, y_minmax_train)))\n",
    "\n",
    "print(\"-----Test set statistics (ridge_10)-----\")\n",
    "print(\"R-squared of the model in test set is: {}\".format(ridge_10.score(X_minmax_test, y_minmax_test)))\n",
    "\n",
    "\n",
    "#Alpha = 0.1 is a parameter using a fit() method\n",
    "ridge_01 = Ridge(alpha = 0.1).fit(X_minmax_train, y_minmax_train)\n",
    "\n",
    "#Predict the Test Set\n",
    "y_pred_ridge_01 = ridge.predict(X_minmax_test)\n",
    "\n",
    "#Print the R-squared values\n",
    "print(\"-----Training set statistics-----\")\n",
    "print(\"Training set score: {:.2f}\".format(ridge_01.score(X_minmax_train, y_minmax_train)))\n",
    "\n",
    "print(\"-----Test set statistics (ridge_01)-----\")\n",
    "print(\"R-squared of the model in test set is: {}\".format(ridge_01.score(X_minmax_test, y_minmax_test)))"
   ]
  },
  {
   "cell_type": "markdown",
   "id": "8961dcad",
   "metadata": {},
   "source": [
    "# using GridSearchCV for parameter optimization in Ridge Regression for normalized data"
   ]
  },
  {
   "cell_type": "code",
   "execution_count": 128,
   "id": "cf6871e9",
   "metadata": {},
   "outputs": [
    {
     "name": "stdout",
     "output_type": "stream",
     "text": [
      "Fitting 5 folds for each of 3 candidates, totalling 15 fits\n",
      "-----Training set statistics-----\n",
      "R-squared of the model in training set is: 0.955311849778582\n",
      "-----Test set statistics-----\n",
      "R-squared of the model in test set is: 0.9809878329982316\n"
     ]
    }
   ],
   "source": [
    "#Import GridSearchCV from sklearn library\n",
    "from sklearn.model_selection import GridSearchCV\n",
    "\n",
    "#Using GridSearch for parameter optimization\n",
    "ridgeregr = GridSearchCV(Ridge(),\n",
    "                    param_grid={\n",
    "                        'alpha': [10, 0.1, 1]\n",
    "                    }, verbose=1)\n",
    "\n",
    "ridgeregr.fit(X_minmax_train, y_minmax_train)\n",
    "\n",
    "ridge = ridgeregr.best_estimator_\n",
    "\n",
    "#Making the prediction for the test and training set \n",
    "yminmax_train_pred = ridge.predict(X_minmax_train)\n",
    "yminmax_test_pred_ridge = ridge.predict(X_minmax_test)\n",
    "\n",
    "#Print the R-squared values\n",
    "print(\"-----Training set statistics-----\")\n",
    "print(\"R-squared of the model in training set is: {}\".format(ridge.score(X_minmax_train, y_minmax_train)))\n",
    "print(\"-----Test set statistics-----\")\n",
    "print(\"R-squared of the model in test set is: {}\".format(ridge.score(X_minmax_test, y_minmax_test)))"
   ]
  },
  {
   "cell_type": "markdown",
   "id": "2e2f4a7c",
   "metadata": {},
   "source": [
    "# Lasso Regression "
   ]
  },
  {
   "cell_type": "code",
   "execution_count": 129,
   "id": "afe18a99",
   "metadata": {},
   "outputs": [
    {
     "name": "stdout",
     "output_type": "stream",
     "text": [
      "Training set score: 0.96\n",
      "Test set score: 0.98\n",
      "Number of features used: 12\n",
      "Training set score: 0.96\n",
      "Test set score: 0.98\n",
      "Number of features used: 12\n",
      "Training set score: 0.96\n",
      "Test set score: 0.98\n",
      "Number of features used: 12\n"
     ]
    }
   ],
   "source": [
    "#Import Lasso from sklearn library\n",
    "from sklearn.linear_model import Lasso\n",
    "lasso = Lasso().fit(X_minmax_train, y_minmax_train)\n",
    "\n",
    "#prediction the training and test values\n",
    "y_train_pred_lasso = lasso.predict(X_minmax_train)\n",
    "y_test_pred_lasso = lasso.predict(X_minmax_test)\n",
    "\n",
    "#Print the R-squared values\n",
    "print(\"Training set score: {:.2f}\".format(lasso.score(X_minmax_train, y_minmax_train)))\n",
    "print(\"Test set score: {:.2f}\".format(lasso.score(X_minmax_test, y_minmax_test)))\n",
    "print(\"Number of features used: {}\".format(np.sum(lasso.coef_ != 0)))\n",
    "\n",
    "#we increase the default setting of \"max_iter\",\n",
    "# otherwise the model would warn us that we should increase max_iter.\n",
    "lasso001 = Lasso(alpha=0.01).fit(X_minmax_train, y_minmax_train)\n",
    "\n",
    "#Print the R-squared values\n",
    "print(\"Training set score: {:.2f}\".format(lasso001.score(X_minmax_train, y_minmax_train)))\n",
    "print(\"Test set score: {:.2f}\".format(lasso001.score(X_minmax_test, y_minmax_test)))\n",
    "print(\"Number of features used: {}\".format(np.sum(lasso001.coef_ != 0)))\n",
    "\n",
    "#Print the R-squared values\n",
    "lasso00001 = Lasso(alpha=0.0001).fit(X_minmax_train, y_minmax_train)\n",
    "print(\"Training set score: {:.2f}\".format(lasso00001.score(X_minmax_train, y_minmax_train)))\n",
    "print(\"Test set score: {:.2f}\".format(lasso00001.score(X_minmax_test, y_minmax_test)))\n",
    "print(\"Number of features used: {}\".format(np.sum(lasso00001.coef_ != 0)))"
   ]
  },
  {
   "cell_type": "markdown",
   "id": "5b2d0b0d",
   "metadata": {},
   "source": [
    "# Using GridseachCV parameter optimization in Lasso Regression for Normalized data"
   ]
  },
  {
   "cell_type": "code",
   "execution_count": 130,
   "id": "efa6e7d7",
   "metadata": {},
   "outputs": [
    {
     "name": "stdout",
     "output_type": "stream",
     "text": [
      "Fitting 5 folds for each of 3 candidates, totalling 15 fits\n",
      "-----Training set statistics-----\n",
      "R-squared of the model in training set is: 0.9554139723691789\n",
      "-----Test set statistics-----\n",
      "R-squared of the model in test set is: 0.9814577682551159\n"
     ]
    }
   ],
   "source": [
    "#Using GridSearch for parameter optimization\n",
    "lassoregr = GridSearchCV(Lasso(),\n",
    "                    param_grid={\n",
    "                        'alpha': [0.0001, 0.01, 1]\n",
    "                    }, verbose=1)\n",
    "\n",
    "lassoregr.fit(X_minmax_train, y_minmax_train)\n",
    "\n",
    "lasso = lassoregr.best_estimator_\n",
    "\n",
    "#Make predictions for test and training sets\n",
    "y_preds_train = lasso.predict(X_minmax_train)\n",
    "y_preds_test_lasso = lasso.predict(X_minmax_test)\n",
    "\n",
    "#Print the R-squared values\n",
    "print(\"-----Training set statistics-----\")\n",
    "print(\"R-squared of the model in training set is: {}\".format(lasso.score(X_minmax_train, y_minmax_train)))\n",
    "print(\"-----Test set statistics-----\")\n",
    "print(\"R-squared of the model in test set is: {}\".format(lasso.score(X_minmax_test, y_minmax_test)))"
   ]
  },
  {
   "cell_type": "markdown",
   "id": "b601b459",
   "metadata": {},
   "source": [
    "# Elastic Net Regression using Normalized Data"
   ]
  },
  {
   "cell_type": "code",
   "execution_count": 131,
   "id": "f91cfc31",
   "metadata": {},
   "outputs": [
    {
     "name": "stdout",
     "output_type": "stream",
     "text": [
      "Mean Squared Error on test set 157213098274.88895\n",
      "[ 4.08941329e+03 -2.36541668e+05  5.21793866e+05 -4.65036192e+04\n",
      " -1.58431625e+05  9.56654320e+04  3.54081686e+04 -8.03910552e+04\n",
      " -5.49645153e+04  9.87818657e+04 -1.51737738e+05  5.84149382e+06] -8060709.508035589\n",
      "-----Training set statistics-----\n",
      "R-squared of the model in training set is: 0.9075175862031916\n",
      "-----Test set statistics-----\n",
      "R-squared of the model in test set is: 0.9276087151614584\n"
     ]
    }
   ],
   "source": [
    "#Import ElasticNet from sklearn library\n",
    "from sklearn.linear_model import ElasticNet\n",
    "\n",
    "#Train the model\n",
    "e_net = ElasticNet(alpha = 0.01)\n",
    "\n",
    "#Fit the e_net model\n",
    "e_net.fit(X_minmax_train,y_minmax_train)\n",
    "\n",
    "#Calculate the prediction and mean square error\n",
    "y_pred_elastic = e_net.predict(X_minmax_test)\n",
    "mean_squared_error = np.mean((y_pred_elastic - y_minmax_test)**2)\n",
    "\n",
    "#Print the mean square error, the coefficients and the intercept\n",
    "print(\"Mean Squared Error on test set\", mean_squared_error)\n",
    "print(e_net.coef_, e_net.intercept_)\n",
    "\n",
    "#Print the R-squared values\n",
    "print(\"-----Training set statistics-----\")\n",
    "print(\"R-squared of the model in training set is: {}\".format(e_net.score(X_minmax_train, y_minmax_train)))\n",
    "print(\"-----Test set statistics-----\")\n",
    "print(\"R-squared of the model in test set is: {}\".format(e_net.score(X_minmax_test, y_minmax_test)))"
   ]
  },
  {
   "cell_type": "markdown",
   "id": "9564cbda",
   "metadata": {},
   "source": [
    "# Support Vector Machine Regression for Normalized Data"
   ]
  },
  {
   "cell_type": "code",
   "execution_count": 132,
   "id": "7bf27670",
   "metadata": {},
   "outputs": [
    {
     "name": "stdout",
     "output_type": "stream",
     "text": [
      "Training set score: -0.13\n",
      "Test set score: -0.12\n"
     ]
    }
   ],
   "source": [
    "#Import SVR from sklearn library\n",
    "from sklearn.svm import SVR\n",
    "svr= SVR()\n",
    "\n",
    "#fit the svr \n",
    "svr.fit(X_minmax_train,y_minmax_train)\n",
    "\n",
    "#Print the R-squared values\n",
    "print(\"Training set score: {:.2f}\".format(svr.score(X_minmax_train,y_minmax_train)))\n",
    "print(\"Test set score: {:.2f}\".format(svr.score(X_minmax_test,y_minmax_test)))"
   ]
  },
  {
   "cell_type": "markdown",
   "id": "7467cc9b",
   "metadata": {},
   "source": [
    "# Support Vector Machine Regression using GridSearchCV for normalized data"
   ]
  },
  {
   "cell_type": "code",
   "execution_count": 133,
   "id": "b3bb9ae7",
   "metadata": {},
   "outputs": [
    {
     "name": "stdout",
     "output_type": "stream",
     "text": [
      "Fitting 5 folds for each of 25 candidates, totalling 125 fits\n",
      "[CV 1/5] END ...C=0.01, gamma=0.01, kernel=rbf;, score=-0.138 total time=   0.0s\n",
      "[CV 2/5] END ...C=0.01, gamma=0.01, kernel=rbf;, score=-0.095 total time=   0.0s\n",
      "[CV 3/5] END ...C=0.01, gamma=0.01, kernel=rbf;, score=-0.116 total time=   0.0s\n",
      "[CV 4/5] END ...C=0.01, gamma=0.01, kernel=rbf;, score=-0.134 total time=   0.0s\n",
      "[CV 5/5] END ...C=0.01, gamma=0.01, kernel=rbf;, score=-0.193 total time=   0.0s\n",
      "[CV 1/5] END ....C=0.01, gamma=0.1, kernel=rbf;, score=-0.138 total time=   0.0s\n",
      "[CV 2/5] END ....C=0.01, gamma=0.1, kernel=rbf;, score=-0.095 total time=   0.0s\n",
      "[CV 3/5] END ....C=0.01, gamma=0.1, kernel=rbf;, score=-0.116 total time=   0.0s\n",
      "[CV 4/5] END ....C=0.01, gamma=0.1, kernel=rbf;, score=-0.134 total time=   0.0s\n",
      "[CV 5/5] END ....C=0.01, gamma=0.1, kernel=rbf;, score=-0.193 total time=   0.0s\n",
      "[CV 1/5] END ...C=0.01, gamma=0.01, kernel=rbf;, score=-0.138 total time=   0.0s\n",
      "[CV 2/5] END ...C=0.01, gamma=0.01, kernel=rbf;, score=-0.095 total time=   0.0s\n",
      "[CV 3/5] END ...C=0.01, gamma=0.01, kernel=rbf;, score=-0.116 total time=   0.0s\n",
      "[CV 4/5] END ...C=0.01, gamma=0.01, kernel=rbf;, score=-0.134 total time=   0.0s\n",
      "[CV 5/5] END ...C=0.01, gamma=0.01, kernel=rbf;, score=-0.193 total time=   0.0s\n",
      "[CV 1/5] END ..C=0.01, gamma=0.001, kernel=rbf;, score=-0.138 total time=   0.0s\n",
      "[CV 2/5] END ..C=0.01, gamma=0.001, kernel=rbf;, score=-0.095 total time=   0.0s\n",
      "[CV 3/5] END ..C=0.01, gamma=0.001, kernel=rbf;, score=-0.116 total time=   0.0s\n",
      "[CV 4/5] END ..C=0.01, gamma=0.001, kernel=rbf;, score=-0.134 total time=   0.0s\n",
      "[CV 5/5] END ..C=0.01, gamma=0.001, kernel=rbf;, score=-0.193 total time=   0.0s\n",
      "[CV 1/5] END ..C=0.01, gamma=0.001, kernel=rbf;, score=-0.138 total time=   0.0s\n",
      "[CV 2/5] END ..C=0.01, gamma=0.001, kernel=rbf;, score=-0.095 total time=   0.0s\n",
      "[CV 3/5] END ..C=0.01, gamma=0.001, kernel=rbf;, score=-0.116 total time=   0.0s\n",
      "[CV 4/5] END ..C=0.01, gamma=0.001, kernel=rbf;, score=-0.134 total time=   0.0s\n",
      "[CV 5/5] END ..C=0.01, gamma=0.001, kernel=rbf;, score=-0.193 total time=   0.0s\n",
      "[CV 1/5] END ....C=0.1, gamma=0.01, kernel=rbf;, score=-0.138 total time=   0.0s\n",
      "[CV 2/5] END ....C=0.1, gamma=0.01, kernel=rbf;, score=-0.095 total time=   0.0s\n",
      "[CV 3/5] END ....C=0.1, gamma=0.01, kernel=rbf;, score=-0.116 total time=   0.0s\n",
      "[CV 4/5] END ....C=0.1, gamma=0.01, kernel=rbf;, score=-0.134 total time=   0.0s\n",
      "[CV 5/5] END ....C=0.1, gamma=0.01, kernel=rbf;, score=-0.193 total time=   0.0s\n",
      "[CV 1/5] END .....C=0.1, gamma=0.1, kernel=rbf;, score=-0.138 total time=   0.0s\n",
      "[CV 2/5] END .....C=0.1, gamma=0.1, kernel=rbf;, score=-0.095 total time=   0.0s\n",
      "[CV 3/5] END .....C=0.1, gamma=0.1, kernel=rbf;, score=-0.116 total time=   0.0s\n",
      "[CV 4/5] END .....C=0.1, gamma=0.1, kernel=rbf;, score=-0.134 total time=   0.0s\n",
      "[CV 5/5] END .....C=0.1, gamma=0.1, kernel=rbf;, score=-0.193 total time=   0.0s\n",
      "[CV 1/5] END ....C=0.1, gamma=0.01, kernel=rbf;, score=-0.138 total time=   0.0s\n",
      "[CV 2/5] END ....C=0.1, gamma=0.01, kernel=rbf;, score=-0.095 total time=   0.0s\n",
      "[CV 3/5] END ....C=0.1, gamma=0.01, kernel=rbf;, score=-0.116 total time=   0.0s\n",
      "[CV 4/5] END ....C=0.1, gamma=0.01, kernel=rbf;, score=-0.134 total time=   0.0s\n",
      "[CV 5/5] END ....C=0.1, gamma=0.01, kernel=rbf;, score=-0.193 total time=   0.0s\n",
      "[CV 1/5] END ...C=0.1, gamma=0.001, kernel=rbf;, score=-0.138 total time=   0.0s\n",
      "[CV 2/5] END ...C=0.1, gamma=0.001, kernel=rbf;, score=-0.095 total time=   0.0s\n",
      "[CV 3/5] END ...C=0.1, gamma=0.001, kernel=rbf;, score=-0.116 total time=   0.0s\n",
      "[CV 4/5] END ...C=0.1, gamma=0.001, kernel=rbf;, score=-0.134 total time=   0.0s\n",
      "[CV 5/5] END ...C=0.1, gamma=0.001, kernel=rbf;, score=-0.193 total time=   0.0s\n",
      "[CV 1/5] END ...C=0.1, gamma=0.001, kernel=rbf;, score=-0.138 total time=   0.0s\n",
      "[CV 2/5] END ...C=0.1, gamma=0.001, kernel=rbf;, score=-0.095 total time=   0.0s\n",
      "[CV 3/5] END ...C=0.1, gamma=0.001, kernel=rbf;, score=-0.116 total time=   0.0s\n",
      "[CV 4/5] END ...C=0.1, gamma=0.001, kernel=rbf;, score=-0.134 total time=   0.0s\n",
      "[CV 5/5] END ...C=0.1, gamma=0.001, kernel=rbf;, score=-0.193 total time=   0.0s\n",
      "[CV 1/5] END .....C=10, gamma=0.01, kernel=rbf;, score=-0.138 total time=   0.0s\n",
      "[CV 2/5] END .....C=10, gamma=0.01, kernel=rbf;, score=-0.095 total time=   0.0s\n",
      "[CV 3/5] END .....C=10, gamma=0.01, kernel=rbf;, score=-0.116 total time=   0.0s\n",
      "[CV 4/5] END .....C=10, gamma=0.01, kernel=rbf;, score=-0.134 total time=   0.0s\n",
      "[CV 5/5] END .....C=10, gamma=0.01, kernel=rbf;, score=-0.193 total time=   0.0s\n",
      "[CV 1/5] END ......C=10, gamma=0.1, kernel=rbf;, score=-0.138 total time=   0.0s\n",
      "[CV 2/5] END ......C=10, gamma=0.1, kernel=rbf;, score=-0.095 total time=   0.0s\n",
      "[CV 3/5] END ......C=10, gamma=0.1, kernel=rbf;, score=-0.116 total time=   0.0s\n",
      "[CV 4/5] END ......C=10, gamma=0.1, kernel=rbf;, score=-0.134 total time=   0.0s\n",
      "[CV 5/5] END ......C=10, gamma=0.1, kernel=rbf;, score=-0.193 total time=   0.0s\n",
      "[CV 1/5] END .....C=10, gamma=0.01, kernel=rbf;, score=-0.138 total time=   0.0s\n",
      "[CV 2/5] END .....C=10, gamma=0.01, kernel=rbf;, score=-0.095 total time=   0.0s\n",
      "[CV 3/5] END .....C=10, gamma=0.01, kernel=rbf;, score=-0.116 total time=   0.0s\n",
      "[CV 4/5] END .....C=10, gamma=0.01, kernel=rbf;, score=-0.134 total time=   0.0s\n",
      "[CV 5/5] END .....C=10, gamma=0.01, kernel=rbf;, score=-0.193 total time=   0.0s\n",
      "[CV 1/5] END ....C=10, gamma=0.001, kernel=rbf;, score=-0.138 total time=   0.0s\n",
      "[CV 2/5] END ....C=10, gamma=0.001, kernel=rbf;, score=-0.095 total time=   0.0s\n",
      "[CV 3/5] END ....C=10, gamma=0.001, kernel=rbf;, score=-0.116 total time=   0.0s\n",
      "[CV 4/5] END ....C=10, gamma=0.001, kernel=rbf;, score=-0.134 total time=   0.0s\n",
      "[CV 5/5] END ....C=10, gamma=0.001, kernel=rbf;, score=-0.193 total time=   0.0s\n",
      "[CV 1/5] END ....C=10, gamma=0.001, kernel=rbf;, score=-0.138 total time=   0.0s\n",
      "[CV 2/5] END ....C=10, gamma=0.001, kernel=rbf;, score=-0.095 total time=   0.0s\n",
      "[CV 3/5] END ....C=10, gamma=0.001, kernel=rbf;, score=-0.116 total time=   0.0s\n",
      "[CV 4/5] END ....C=10, gamma=0.001, kernel=rbf;, score=-0.134 total time=   0.0s\n",
      "[CV 5/5] END ....C=10, gamma=0.001, kernel=rbf;, score=-0.193 total time=   0.0s\n",
      "[CV 1/5] END ....C=100, gamma=0.01, kernel=rbf;, score=-0.138 total time=   0.0s\n",
      "[CV 2/5] END ....C=100, gamma=0.01, kernel=rbf;, score=-0.095 total time=   0.0s\n",
      "[CV 3/5] END ....C=100, gamma=0.01, kernel=rbf;, score=-0.116 total time=   0.0s\n",
      "[CV 4/5] END ....C=100, gamma=0.01, kernel=rbf;, score=-0.133 total time=   0.0s\n",
      "[CV 5/5] END ....C=100, gamma=0.01, kernel=rbf;, score=-0.193 total time=   0.0s\n",
      "[CV 1/5] END .....C=100, gamma=0.1, kernel=rbf;, score=-0.138 total time=   0.0s\n",
      "[CV 2/5] END .....C=100, gamma=0.1, kernel=rbf;, score=-0.095 total time=   0.0s\n",
      "[CV 3/5] END .....C=100, gamma=0.1, kernel=rbf;, score=-0.116 total time=   0.0s\n",
      "[CV 4/5] END .....C=100, gamma=0.1, kernel=rbf;, score=-0.133 total time=   0.0s\n",
      "[CV 5/5] END .....C=100, gamma=0.1, kernel=rbf;, score=-0.193 total time=   0.0s\n",
      "[CV 1/5] END ....C=100, gamma=0.01, kernel=rbf;, score=-0.138 total time=   0.0s\n",
      "[CV 2/5] END ....C=100, gamma=0.01, kernel=rbf;, score=-0.095 total time=   0.0s\n",
      "[CV 3/5] END ....C=100, gamma=0.01, kernel=rbf;, score=-0.116 total time=   0.0s\n",
      "[CV 4/5] END ....C=100, gamma=0.01, kernel=rbf;, score=-0.133 total time=   0.0s\n",
      "[CV 5/5] END ....C=100, gamma=0.01, kernel=rbf;, score=-0.193 total time=   0.0s\n",
      "[CV 1/5] END ...C=100, gamma=0.001, kernel=rbf;, score=-0.138 total time=   0.0s\n",
      "[CV 2/5] END ...C=100, gamma=0.001, kernel=rbf;, score=-0.095 total time=   0.0s\n",
      "[CV 3/5] END ...C=100, gamma=0.001, kernel=rbf;, score=-0.116 total time=   0.0s\n",
      "[CV 4/5] END ...C=100, gamma=0.001, kernel=rbf;, score=-0.134 total time=   0.0s\n",
      "[CV 5/5] END ...C=100, gamma=0.001, kernel=rbf;, score=-0.193 total time=   0.0s\n",
      "[CV 1/5] END ...C=100, gamma=0.001, kernel=rbf;, score=-0.138 total time=   0.0s\n",
      "[CV 2/5] END ...C=100, gamma=0.001, kernel=rbf;, score=-0.095 total time=   0.0s\n",
      "[CV 3/5] END ...C=100, gamma=0.001, kernel=rbf;, score=-0.116 total time=   0.0s\n",
      "[CV 4/5] END ...C=100, gamma=0.001, kernel=rbf;, score=-0.134 total time=   0.0s\n",
      "[CV 5/5] END ...C=100, gamma=0.001, kernel=rbf;, score=-0.193 total time=   0.0s\n",
      "[CV 1/5] END ...C=1000, gamma=0.01, kernel=rbf;, score=-0.136 total time=   0.0s\n"
     ]
    },
    {
     "name": "stdout",
     "output_type": "stream",
     "text": [
      "[CV 2/5] END ...C=1000, gamma=0.01, kernel=rbf;, score=-0.094 total time=   0.0s\n",
      "[CV 3/5] END ...C=1000, gamma=0.01, kernel=rbf;, score=-0.115 total time=   0.0s\n",
      "[CV 4/5] END ...C=1000, gamma=0.01, kernel=rbf;, score=-0.133 total time=   0.0s\n",
      "[CV 5/5] END ...C=1000, gamma=0.01, kernel=rbf;, score=-0.192 total time=   0.0s\n",
      "[CV 1/5] END ....C=1000, gamma=0.1, kernel=rbf;, score=-0.134 total time=   0.0s\n",
      "[CV 2/5] END ....C=1000, gamma=0.1, kernel=rbf;, score=-0.092 total time=   0.0s\n",
      "[CV 3/5] END ....C=1000, gamma=0.1, kernel=rbf;, score=-0.113 total time=   0.0s\n",
      "[CV 4/5] END ....C=1000, gamma=0.1, kernel=rbf;, score=-0.131 total time=   0.0s\n",
      "[CV 5/5] END ....C=1000, gamma=0.1, kernel=rbf;, score=-0.191 total time=   0.0s\n",
      "[CV 1/5] END ...C=1000, gamma=0.01, kernel=rbf;, score=-0.136 total time=   0.0s\n",
      "[CV 2/5] END ...C=1000, gamma=0.01, kernel=rbf;, score=-0.094 total time=   0.0s\n",
      "[CV 3/5] END ...C=1000, gamma=0.01, kernel=rbf;, score=-0.115 total time=   0.0s\n",
      "[CV 4/5] END ...C=1000, gamma=0.01, kernel=rbf;, score=-0.133 total time=   0.0s\n",
      "[CV 5/5] END ...C=1000, gamma=0.01, kernel=rbf;, score=-0.192 total time=   0.0s\n",
      "[CV 1/5] END ..C=1000, gamma=0.001, kernel=rbf;, score=-0.138 total time=   0.0s\n",
      "[CV 2/5] END ..C=1000, gamma=0.001, kernel=rbf;, score=-0.095 total time=   0.0s\n",
      "[CV 3/5] END ..C=1000, gamma=0.001, kernel=rbf;, score=-0.116 total time=   0.0s\n",
      "[CV 4/5] END ..C=1000, gamma=0.001, kernel=rbf;, score=-0.133 total time=   0.0s\n",
      "[CV 5/5] END ..C=1000, gamma=0.001, kernel=rbf;, score=-0.193 total time=   0.0s\n",
      "[CV 1/5] END ..C=1000, gamma=0.001, kernel=rbf;, score=-0.138 total time=   0.0s\n",
      "[CV 2/5] END ..C=1000, gamma=0.001, kernel=rbf;, score=-0.095 total time=   0.0s\n",
      "[CV 3/5] END ..C=1000, gamma=0.001, kernel=rbf;, score=-0.116 total time=   0.0s\n",
      "[CV 4/5] END ..C=1000, gamma=0.001, kernel=rbf;, score=-0.133 total time=   0.0s\n",
      "[CV 5/5] END ..C=1000, gamma=0.001, kernel=rbf;, score=-0.193 total time=   0.0s\n",
      "-----Training set statistics-----\n",
      "R-squared of the model in training set is: -0.1254745693131314\n",
      "-----Test set statistics-----\n",
      "R-squared of the model in test set is: -0.11693375319261534\n"
     ]
    }
   ],
   "source": [
    "#Find best hyper parameters\n",
    "param_grid = {'C':[0.01,0.1,10,100,1000],'gamma':[0.01,0.1,0.01,0.001,0.001], 'kernel':['rbf']}\n",
    "grid = GridSearchCV(SVR(),param_grid,verbose = 4)\n",
    "grid.fit(X_minmax_train,y_minmax_train)\n",
    "grid.best_params_\n",
    "grid.best_estimator_\n",
    "grid_predictions = grid.predict(X_minmax_test)\n",
    "\n",
    "#Print the R-squared values\n",
    "print(\"-----Training set statistics-----\")\n",
    "print(\"R-squared of the model in training set is: {}\".format(grid.score(X_minmax_train, y_minmax_train)))\n",
    "print(\"-----Test set statistics-----\")\n",
    "print(\"R-squared of the model in test set is: {}\".format(grid.score(X_minmax_test, y_minmax_test)))"
   ]
  },
  {
   "cell_type": "markdown",
   "id": "55902289",
   "metadata": {},
   "source": [
    "# K-NN (Normalized Data)"
   ]
  },
  {
   "cell_type": "code",
   "execution_count": 134,
   "id": "3255e0bb",
   "metadata": {},
   "outputs": [
    {
     "name": "stdout",
     "output_type": "stream",
     "text": [
      "-----Training set statistics-----\n",
      "R-squared of the model in training set is: 0.8705412209125801\n",
      "-----Test set statistics-----\n",
      "R-squared of the model in test set is: 0.8254806863184425\n"
     ]
    }
   ],
   "source": [
    "#Import KNeighborsRegressor from sklearn library\n",
    "from sklearn.neighbors import KNeighborsRegressor\n",
    "knn_Regressor = KNeighborsRegressor(algorithm='auto', leaf_size=30,metric='minkowski',\n",
    "                                   metric_params=None, n_jobs=1, n_neighbors=5)\n",
    "knn_Regressor.fit(X_minmax_train, y_minmax_train)\n",
    "\n",
    "#Print the R-squared values\n",
    "print(\"-----Training set statistics-----\")\n",
    "print(\"R-squared of the model in training set is: {}\".format(knn_Regressor.score(X_minmax_train, y_minmax_train)))\n",
    "print(\"-----Test set statistics-----\")\n",
    "print(\"R-squared of the model in test set is: {}\".format(knn_Regressor.score(X_minmax_test, y_minmax_test)))"
   ]
  },
  {
   "cell_type": "markdown",
   "id": "771d08d8",
   "metadata": {},
   "source": [
    "# Fitting Regression Models Using Standard scaler"
   ]
  },
  {
   "cell_type": "code",
   "execution_count": 135,
   "id": "c1ad4b45",
   "metadata": {},
   "outputs": [
    {
     "name": "stdout",
     "output_type": "stream",
     "text": [
      "<class 'pandas.core.frame.DataFrame'>\n",
      "RangeIndex: 780 entries, 0 to 779\n",
      "Data columns (total 14 columns):\n",
      " #   Column                    Non-Null Count  Dtype  \n",
      "---  ------                    --------------  -----  \n",
      " 0   TIME_PERIOD               780 non-null    int64  \n",
      " 1   Number of Passengers      780 non-null    int64  \n",
      " 2   Number of Flights         780 non-null    int64  \n",
      " 3   tra_cov_NAT               780 non-null    float64\n",
      " 4   aircraft_AC_NJ            780 non-null    float64\n",
      " 5   aircraft_AC_RJ            780 non-null    float64\n",
      " 6   aircraft_AC_RT            780 non-null    float64\n",
      " 7   aircraft_AC_WJ            780 non-null    float64\n",
      " 8   distance_KM1500-1999      780 non-null    float64\n",
      " 9   distance_KM300-499        780 non-null    float64\n",
      " 10  distance_KM500-999        780 non-null    float64\n",
      " 11  distance_KM_GE2000        780 non-null    float64\n",
      " 12  distance_KM_LT300         780 non-null    float64\n",
      " 13  Number of Flights Scaled  780 non-null    float64\n",
      "dtypes: float64(11), int64(3)\n",
      "memory usage: 85.4 KB\n"
     ]
    }
   ],
   "source": [
    "result_df.info()"
   ]
  },
  {
   "cell_type": "code",
   "execution_count": 136,
   "id": "658ce359",
   "metadata": {},
   "outputs": [],
   "source": [
    "from sklearn.preprocessing import StandardScaler\n",
    "\n",
    "#Create the standardscaler object\n",
    "scaler = StandardScaler()\n",
    "result_df['Number of Flights standardised'] = scaler.fit_transform(result_df[['Number of Flights']])"
   ]
  },
  {
   "cell_type": "code",
   "execution_count": 137,
   "id": "c1c0e97c",
   "metadata": {},
   "outputs": [
    {
     "name": "stdout",
     "output_type": "stream",
     "text": [
      "<class 'pandas.core.frame.DataFrame'>\n",
      "RangeIndex: 780 entries, 0 to 779\n",
      "Data columns (total 15 columns):\n",
      " #   Column                          Non-Null Count  Dtype  \n",
      "---  ------                          --------------  -----  \n",
      " 0   TIME_PERIOD                     780 non-null    int64  \n",
      " 1   Number of Passengers            780 non-null    int64  \n",
      " 2   Number of Flights               780 non-null    int64  \n",
      " 3   tra_cov_NAT                     780 non-null    float64\n",
      " 4   aircraft_AC_NJ                  780 non-null    float64\n",
      " 5   aircraft_AC_RJ                  780 non-null    float64\n",
      " 6   aircraft_AC_RT                  780 non-null    float64\n",
      " 7   aircraft_AC_WJ                  780 non-null    float64\n",
      " 8   distance_KM1500-1999            780 non-null    float64\n",
      " 9   distance_KM300-499              780 non-null    float64\n",
      " 10  distance_KM500-999              780 non-null    float64\n",
      " 11  distance_KM_GE2000              780 non-null    float64\n",
      " 12  distance_KM_LT300               780 non-null    float64\n",
      " 13  Number of Flights Scaled        780 non-null    float64\n",
      " 14  Number of Flights standardised  780 non-null    float64\n",
      "dtypes: float64(12), int64(3)\n",
      "memory usage: 91.5 KB\n"
     ]
    }
   ],
   "source": [
    "#View the dataset to check the new standardised variable has been created\n",
    "result_df.info()"
   ]
  },
  {
   "cell_type": "code",
   "execution_count": 138,
   "id": "1a1af332",
   "metadata": {},
   "outputs": [],
   "source": [
    "#Split the data into dependent and independent variable\n",
    "y_standardised = result_df.iloc[:, 1].values\n",
    "X_standardised = result_df.drop(['Number of Passengers','Number of Flights', \"Number of Flights Scaled\"], axis=1).values"
   ]
  },
  {
   "cell_type": "code",
   "execution_count": 139,
   "id": "cdf1d636",
   "metadata": {},
   "outputs": [
    {
     "name": "stdout",
     "output_type": "stream",
     "text": [
      "[  62358   31836   12687    9886    8710    5367    5059    1817       0\n",
      "    3312     342    1095     529  126242   85643   11070    9828    3128\n",
      "    5873    4257    5479    5255    7682   51890  122966   19259    9754\n",
      "    2330     657    5110     960     736     598     399       0     565\n",
      "     162     345      96    1136    1287    2118    4298     706     312\n",
      "    1722    1789    1116    1466     212       0     776  741337  652758\n",
      "  489779  588820  493277  581847  840521  844419  880241  828701  782086\n",
      "  682512   18572     678      40    1027    1310     749     530     154\n",
      "      96     118       0      90       0      72 4432156 3872443 3530238\n",
      " 3560743 3764348 3955130 4222352 4795481 5167454 5388778 5930060 6125130\n",
      " 1176451 4871595 3778687 3785481 3696401 3823146 3920680 3995468 4414552\n",
      " 4988930 5265847 5428726 5928006 1305518 7587947 6362894 5557262 5519605\n",
      " 5302771 5388819 5650372 6305593 6886810 6988518 7129149 7234410 1739814\n",
      " 4571706 3684039 3772438 3834816 3906505 4041493 4225334 4779860 5165811\n",
      " 5168591 5456191 5722544 1386683 1891193 1477135 1425537 1613913 1556826\n",
      " 1642014 1745437 2004571 2246333 2727283 3187559 3663256  916763 1444673\n",
      " 1241598 1029557 1004957  996721  990283 1109622 1434060 1717173 1631914\n",
      " 1626088 1646605  411855   18038    8550   17413   32116   14304   10976\n",
      "    8324    8392   17093   16713    6507    5856    1299   16457   10971\n",
      "   10823   14007   12987   10530    3415    7138    2645    5905    2376\n",
      "    4008   17608  190811  195759  218545  216601  177933  166928  264329\n",
      "  368938  426959  494523  451602  412328   64145  387373  365818  327931\n",
      "  361760  316107  293871  300716  308406  334818  451626  461007  419877\n",
      "   77470    3489     686     574     563     541    4099    9860   42673\n",
      "   57881   48896   29601   27114   16399      91     996    3117    2584\n",
      "    1734    1774    2050    2119    1338     902    2537    3107      58\n",
      "    1899     777     434    1171     881     787     396     503     574\n",
      "     499     664     757     279     500      85     109     167     192\n",
      "      20     381       1       3      40       2    2069       2  359637\n",
      "  287555  438284  677866  733878  882843 1000324 1066827 1139304 1163748\n",
      " 1133818 1121827  191707  217073  100383  150552  132828  148907  162517\n",
      "  214763  130293  182430  197442  212073  152090   18009     180     122\n",
      "      72      29      12       2       0       1      12       6      74\n",
      "     107      47   75360   87675  165397  192909  185503  228595  287111\n",
      "  254550  338335  294147  283618  288417   51155   30921   12455    7366\n",
      "    3461    1763    8601    1186    4292    4079    2486    3290   46515\n",
      "    2463  149537  144864  132838  125090  131070  120766  138898  134789\n",
      "  126174  150099  139880  149159    5440    5260   13269    7402    2464\n",
      "    2468    1653    1511    2113    3033     668    2234   45383   72610\n",
      "    4338    6063   10105    3401    3787    4301    2748    3823    3756\n",
      "    2815    3816    6897    4004 1983041 1696486 1572267 1539701 1889341\n",
      " 2136280 2226296 2604581 2892799 3380495 3729640 3909365  679879    2665\n",
      "    2130     812     268     280     464     779     384       0       0\n",
      "    1190     358       0       0       0       0       0       0       0\n",
      "       0       0       0       0       0       0       0       0       0\n",
      "       0       0       0       0       0       0       0       0       0\n",
      "       0       0       0       0       0       0       0       0       0\n",
      "       0       0       0       0       0       0       0       0       0\n",
      "       0       0       0       0       0       0       0       0       0\n",
      "       0       0       0       0       0       0       0       0       0\n",
      "       0       0       0       0       0    2210       0     393       0\n",
      "      62     348       0     515     311     128     679     335       0\n",
      "       0       0       0       0       0       0       0       0       0\n",
      "       0       0       0       0       0       0       0       0       0\n",
      "       0       0       0       0       0       0       0       0       0\n",
      "       0       0       0       0       0       0       0       0       0\n",
      "       0       0       0       0       0       0       0       0       0\n",
      "       0       0       0       0       0       0       0       0       0\n",
      "       0       0       0       0       0       0       0       0       0\n",
      "       0       0  406076  408413  233012   63632    4346    9660    2513\n",
      "    9029    6184    3353    7043    4939       6       0       0       0\n",
      "       0       0       0       0       0       0       0       0       0\n",
      "       0       0       0       0       0       0       0       0       0\n",
      "       0       0       0       0       0       0       0       0       0\n",
      "       0       0       0       0       0       0       0       0       0\n",
      "       0       0       0       0       0       0       0       0       0\n",
      "       0       0       0       0       0       0       0       0       0\n",
      "       0       0       0       0       0       0       0       0    3846\n",
      "    1055    1090      80      21       0     103      46      14       0\n",
      "     237     349       1       0       0       0       0       0       0\n",
      "       0       0       0       0       0       0       0       0       0\n",
      "       0       0       0       0       0       0       0       0       0\n",
      "       0       0       0     185      15       0       0      76       0\n",
      "       0       0       0       0       0       0       0       0       0\n",
      "       0       0       0       0       0       0       0       0       0\n",
      "       0       0       0       0       0       0       0       0       0\n",
      "       0       0       0       0       0  352662  158348  111232   52542\n",
      "   51798   54859   59532   69119   80158   85295   94959   96163   31646\n",
      "       0       0       0       0       0       0       0       0       0\n",
      "       0       0       0       0       0       0       0       0       0\n",
      "       0       0       0       0       0       0       0       0       0\n",
      "       0       0       0       0       0       0       0       0       0\n",
      "       0       0       0       0       0       0       0       0       0\n",
      "       0       0       0       0       0       0       0       0       0\n",
      "       0       0       0       0       0       0       0       0       0\n",
      "       0       0  191605  110739   51801    9022    7894    6843    5739\n",
      "     814       0     186    1103     707      70]\n"
     ]
    }
   ],
   "source": [
    "#View the y_standardised variable\n",
    "print(y_standardised)"
   ]
  },
  {
   "cell_type": "code",
   "execution_count": 140,
   "id": "35b398d1",
   "metadata": {},
   "outputs": [
    {
     "name": "stdout",
     "output_type": "stream",
     "text": [
      "[[ 2.00800000e+03  0.00000000e+00  0.00000000e+00 ...  0.00000000e+00\n",
      "   0.00000000e+00 -3.52533938e-01]\n",
      " [ 2.00900000e+03  0.00000000e+00  0.00000000e+00 ...  0.00000000e+00\n",
      "   0.00000000e+00 -3.69845462e-01]\n",
      " [ 2.01000000e+03  0.00000000e+00  0.00000000e+00 ...  0.00000000e+00\n",
      "   0.00000000e+00 -3.81497449e-01]\n",
      " ...\n",
      " [ 2.01800000e+03  1.00000000e+00  0.00000000e+00 ...  0.00000000e+00\n",
      "   1.00000000e+00 -3.88488642e-01]\n",
      " [ 2.01900000e+03  1.00000000e+00  0.00000000e+00 ...  0.00000000e+00\n",
      "   1.00000000e+00 -3.88821556e-01]\n",
      " [ 2.02000000e+03  1.00000000e+00  0.00000000e+00 ...  0.00000000e+00\n",
      "   1.00000000e+00 -3.89043498e-01]]\n"
     ]
    }
   ],
   "source": [
    "#View the x_standardised variable\n",
    "print(X_standardised)"
   ]
  },
  {
   "cell_type": "code",
   "execution_count": 141,
   "id": "eae034d1",
   "metadata": {},
   "outputs": [
    {
     "data": {
      "text/plain": [
       "((780, 12), (780,))"
      ]
     },
     "execution_count": 141,
     "metadata": {},
     "output_type": "execute_result"
    }
   ],
   "source": [
    "#View the shape of X_standardised and y_standardised\n",
    "X_standardised.shape, y_standardised.shape"
   ]
  },
  {
   "cell_type": "code",
   "execution_count": 142,
   "id": "9e141a69",
   "metadata": {},
   "outputs": [],
   "source": [
    "# Split the data into features (X_standardised) and target variable (y_standardised)\n",
    "X_standardised_train, X_standardised_test, y_standardised_train, y_standardised_test = train_test_split(X_standardised, y_standardised, test_size=0.2)"
   ]
  },
  {
   "cell_type": "markdown",
   "id": "8e9a99bc",
   "metadata": {},
   "source": [
    "### Fit Regression using standardised data"
   ]
  },
  {
   "cell_type": "code",
   "execution_count": 143,
   "id": "2277724d",
   "metadata": {
    "scrolled": true
   },
   "outputs": [
    {
     "name": "stdout",
     "output_type": "stream",
     "text": [
      "Linear Regression - R-squared (standardised scaled): 0.9819295952168127\n",
      "Decision_Regressor - R-squared (standardised scaled): 0.946908630302572\n",
      "Ridge Regression alpha=10 - R-squared (standardised scaled): 0.9801537561878345\n",
      "Ridge Regression alpha=0.1 - R-squared (standardised scaled): 0.9819146939387818\n",
      "Ridge Regression alpha=1.0 - R-squared (standardised scaled): 0.9817777811000727\n",
      "Lasso Regression alpha=0.01 - R-squared (standardised scaled): 0.9819295941444807\n",
      "Lasso Regression alpha=1.0 - R-squared (standardised scaled): 0.9819295845399125\n",
      "Lasso Regression alpha=0.001 - R-squared (standardised scaled): 0.9819295951100998\n",
      "ElasticNet Regression alpha = 0.01 - R-squared (standardised scaled): 0.9748980863583377\n",
      "Random Forest Regression - R-squared (standardised scaled): 0.9929116067070823\n",
      "Support Vector Regression - R-squared (standardised scaled): -0.14835386237885717\n",
      "K-Nearest Neighbors Regression - R-squared (standardised scaled): 0.9764119433560187\n"
     ]
    }
   ],
   "source": [
    "from sklearn.metrics import mean_squared_error, r2_score\n",
    "from sklearn.preprocessing import StandardScaler\n",
    "\n",
    "#Create a StandardScaler instance\n",
    "scaler = StandardScaler()\n",
    "\n",
    "# Scale the training and test data\n",
    "X_standardised_train = scaler.fit_transform(X_standardised_train)\n",
    "X_standardised_test = scaler.transform(X_standardised_test)\n",
    "\n",
    "#Define models with their respective hyperparameters\n",
    "models_standardised = [\n",
    "    ('Linear Regression', LinearRegression()),\n",
    "    ('Decision_Regressor', DecisionTreeRegressor(max_depth=2, random_state=0)),\n",
    "    ('Ridge Regression alpha=10', Ridge(alpha=10)),\n",
    "    ('Ridge Regression alpha=0.1', Ridge(alpha=0.1)),\n",
    "    ('Ridge Regression alpha=1.0', Ridge(alpha=1.0)),\n",
    "    ('Lasso Regression alpha=0.01', Lasso(alpha=0.01)),\n",
    "    ('Lasso Regression alpha=1.0', Lasso(alpha=0.10)),\n",
    "    ('Lasso Regression alpha=0.001', Lasso(alpha=0.001)),\n",
    "    ('ElasticNet Regression alpha = 0.01', ElasticNet(alpha = 0.1)),\n",
    "    ('Random Forest Regression', RandomForestRegressor(n_estimators=1000, random_state=0)),\n",
    "    ('Support Vector Regression', SVR()),\n",
    "    ('K-Nearest Neighbors Regression', KNeighborsRegressor(algorithm='auto', leaf_size=30,metric='minkowski',\n",
    "                                   metric_params=None, n_jobs=1, n_neighbors=5))\n",
    "]\n",
    "\n",
    "#Train and evaluate each model\n",
    "for name, model in models_standardised:\n",
    "    model.fit(X_standardised_train, y_standardised_train)\n",
    "    y_pred_standardised = model.predict(X_standardised_test)\n",
    "    r2_standardised = r2_score(y_standardised_test, y_pred_standardised)\n",
    "    print(f\"{name} - R-squared (standardised scaled): {r2_standardised}\")\n",
    "    "
   ]
  },
  {
   "cell_type": "markdown",
   "id": "a64c5f07",
   "metadata": {},
   "source": [
    "## Hyperparameter tuning using gridsearchCV for standardised data"
   ]
  },
  {
   "cell_type": "code",
   "execution_count": 144,
   "id": "28970326",
   "metadata": {},
   "outputs": [
    {
     "name": "stdout",
     "output_type": "stream",
     "text": [
      "Fitting 5 folds for each of 3 candidates, totalling 15 fits\n",
      "[CV 1/5] END .........................alpha=0.1;, score=0.950 total time=   0.0s\n",
      "[CV 2/5] END .........................alpha=0.1;, score=0.967 total time=   0.0s\n",
      "[CV 3/5] END .........................alpha=0.1;, score=0.970 total time=   0.0s\n",
      "[CV 4/5] END .........................alpha=0.1;, score=0.925 total time=   0.0s\n",
      "[CV 5/5] END .........................alpha=0.1;, score=0.958 total time=   0.0s\n",
      "[CV 1/5] END .........................alpha=1.0;, score=0.950 total time=   0.0s\n",
      "[CV 2/5] END .........................alpha=1.0;, score=0.967 total time=   0.0s\n",
      "[CV 3/5] END .........................alpha=1.0;, score=0.970 total time=   0.0s\n",
      "[CV 4/5] END .........................alpha=1.0;, score=0.925 total time=   0.0s\n",
      "[CV 5/5] END .........................alpha=1.0;, score=0.958 total time=   0.0s\n",
      "[CV 1/5] END ........................alpha=10.0;, score=0.951 total time=   0.0s\n",
      "[CV 2/5] END ........................alpha=10.0;, score=0.964 total time=   0.0s\n",
      "[CV 3/5] END ........................alpha=10.0;, score=0.969 total time=   0.0s\n",
      "[CV 4/5] END ........................alpha=10.0;, score=0.924 total time=   0.0s\n",
      "[CV 5/5] END ........................alpha=10.0;, score=0.959 total time=   0.0s\n",
      "Ridge Regression - R-squared tuned(standardised): 0.9819146939387818, Best Params: {'alpha': 0.1}\n",
      "Fitting 5 folds for each of 3 candidates, totalling 15 fits\n",
      "[CV 1/5] END ........................alpha=0.01;, score=0.950 total time=   0.0s\n",
      "[CV 2/5] END ........................alpha=0.01;, score=0.967 total time=   0.0s\n",
      "[CV 3/5] END ........................alpha=0.01;, score=0.970 total time=   0.0s\n",
      "[CV 4/5] END ........................alpha=0.01;, score=0.925 total time=   0.0s\n",
      "[CV 5/5] END ........................alpha=0.01;, score=0.958 total time=   0.0s\n",
      "[CV 1/5] END .........................alpha=1.0;, score=0.950 total time=   0.0s\n",
      "[CV 2/5] END .........................alpha=1.0;, score=0.967 total time=   0.0s\n",
      "[CV 3/5] END .........................alpha=1.0;, score=0.970 total time=   0.0s\n",
      "[CV 4/5] END .........................alpha=1.0;, score=0.925 total time=   0.0s\n",
      "[CV 5/5] END .........................alpha=1.0;, score=0.958 total time=   0.0s\n",
      "[CV 1/5] END ......................alpha=0.0001;, score=0.950 total time=   0.0s\n",
      "[CV 2/5] END ......................alpha=0.0001;, score=0.967 total time=   0.0s\n",
      "[CV 3/5] END ......................alpha=0.0001;, score=0.970 total time=   0.0s\n",
      "[CV 4/5] END ......................alpha=0.0001;, score=0.925 total time=   0.0s\n",
      "[CV 5/5] END ......................alpha=0.0001;, score=0.958 total time=   0.0s\n",
      "Lasso Regression - R-squared tuned(standardised): 0.9819294878542258, Best Params: {'alpha': 1.0}\n",
      "Fitting 5 folds for each of 30 candidates, totalling 150 fits\n",
      "[CV 1/5] END ...............C=0.01, gamma=0.01;, score=-0.123 total time=   0.0s\n",
      "[CV 2/5] END ...............C=0.01, gamma=0.01;, score=-0.152 total time=   0.0s\n",
      "[CV 3/5] END ...............C=0.01, gamma=0.01;, score=-0.113 total time=   0.0s\n",
      "[CV 4/5] END ...............C=0.01, gamma=0.01;, score=-0.098 total time=   0.0s\n",
      "[CV 5/5] END ...............C=0.01, gamma=0.01;, score=-0.124 total time=   0.0s\n",
      "[CV 1/5] END ................C=0.01, gamma=0.1;, score=-0.123 total time=   0.0s\n",
      "[CV 2/5] END ................C=0.01, gamma=0.1;, score=-0.152 total time=   0.0s\n",
      "[CV 3/5] END ................C=0.01, gamma=0.1;, score=-0.113 total time=   0.0s\n",
      "[CV 4/5] END ................C=0.01, gamma=0.1;, score=-0.098 total time=   0.0s\n",
      "[CV 5/5] END ................C=0.01, gamma=0.1;, score=-0.124 total time=   0.0s\n",
      "[CV 1/5] END ...............C=0.01, gamma=0.01;, score=-0.123 total time=   0.0s\n",
      "[CV 2/5] END ...............C=0.01, gamma=0.01;, score=-0.152 total time=   0.0s\n",
      "[CV 3/5] END ...............C=0.01, gamma=0.01;, score=-0.113 total time=   0.0s\n",
      "[CV 4/5] END ...............C=0.01, gamma=0.01;, score=-0.098 total time=   0.0s\n",
      "[CV 5/5] END ...............C=0.01, gamma=0.01;, score=-0.124 total time=   0.0s\n",
      "[CV 1/5] END ..............C=0.01, gamma=0.001;, score=-0.123 total time=   0.0s\n",
      "[CV 2/5] END ..............C=0.01, gamma=0.001;, score=-0.152 total time=   0.0s\n",
      "[CV 3/5] END ..............C=0.01, gamma=0.001;, score=-0.113 total time=   0.0s\n",
      "[CV 4/5] END ..............C=0.01, gamma=0.001;, score=-0.098 total time=   0.0s\n",
      "[CV 5/5] END ..............C=0.01, gamma=0.001;, score=-0.124 total time=   0.0s\n",
      "[CV 1/5] END ..............C=0.01, gamma=0.001;, score=-0.123 total time=   0.0s\n",
      "[CV 2/5] END ..............C=0.01, gamma=0.001;, score=-0.152 total time=   0.0s\n",
      "[CV 3/5] END ..............C=0.01, gamma=0.001;, score=-0.113 total time=   0.0s\n",
      "[CV 4/5] END ..............C=0.01, gamma=0.001;, score=-0.098 total time=   0.0s\n",
      "[CV 5/5] END ..............C=0.01, gamma=0.001;, score=-0.124 total time=   0.0s\n",
      "[CV 1/5] END ................C=0.1, gamma=0.01;, score=-0.123 total time=   0.0s\n",
      "[CV 2/5] END ................C=0.1, gamma=0.01;, score=-0.152 total time=   0.0s\n",
      "[CV 3/5] END ................C=0.1, gamma=0.01;, score=-0.113 total time=   0.0s\n",
      "[CV 4/5] END ................C=0.1, gamma=0.01;, score=-0.098 total time=   0.0s\n",
      "[CV 5/5] END ................C=0.1, gamma=0.01;, score=-0.124 total time=   0.0s\n",
      "[CV 1/5] END .................C=0.1, gamma=0.1;, score=-0.123 total time=   0.0s\n",
      "[CV 2/5] END .................C=0.1, gamma=0.1;, score=-0.152 total time=   0.0s\n",
      "[CV 3/5] END .................C=0.1, gamma=0.1;, score=-0.113 total time=   0.0s\n",
      "[CV 4/5] END .................C=0.1, gamma=0.1;, score=-0.098 total time=   0.0s\n",
      "[CV 5/5] END .................C=0.1, gamma=0.1;, score=-0.124 total time=   0.0s\n",
      "[CV 1/5] END ................C=0.1, gamma=0.01;, score=-0.123 total time=   0.0s\n",
      "[CV 2/5] END ................C=0.1, gamma=0.01;, score=-0.152 total time=   0.0s\n",
      "[CV 3/5] END ................C=0.1, gamma=0.01;, score=-0.113 total time=   0.0s\n",
      "[CV 4/5] END ................C=0.1, gamma=0.01;, score=-0.098 total time=   0.0s\n",
      "[CV 5/5] END ................C=0.1, gamma=0.01;, score=-0.124 total time=   0.0s\n",
      "[CV 1/5] END ...............C=0.1, gamma=0.001;, score=-0.123 total time=   0.0s\n",
      "[CV 2/5] END ...............C=0.1, gamma=0.001;, score=-0.152 total time=   0.0s\n",
      "[CV 3/5] END ...............C=0.1, gamma=0.001;, score=-0.113 total time=   0.0s\n",
      "[CV 4/5] END ...............C=0.1, gamma=0.001;, score=-0.098 total time=   0.0s\n",
      "[CV 5/5] END ...............C=0.1, gamma=0.001;, score=-0.124 total time=   0.0s\n",
      "[CV 1/5] END ...............C=0.1, gamma=0.001;, score=-0.123 total time=   0.0s\n",
      "[CV 2/5] END ...............C=0.1, gamma=0.001;, score=-0.152 total time=   0.0s\n",
      "[CV 3/5] END ...............C=0.1, gamma=0.001;, score=-0.113 total time=   0.0s\n",
      "[CV 4/5] END ...............C=0.1, gamma=0.001;, score=-0.098 total time=   0.0s\n",
      "[CV 5/5] END ...............C=0.1, gamma=0.001;, score=-0.124 total time=   0.0s\n",
      "[CV 1/5] END ..................C=1, gamma=0.01;, score=-0.123 total time=   0.0s\n",
      "[CV 2/5] END ..................C=1, gamma=0.01;, score=-0.152 total time=   0.0s\n",
      "[CV 3/5] END ..................C=1, gamma=0.01;, score=-0.113 total time=   0.0s\n",
      "[CV 4/5] END ..................C=1, gamma=0.01;, score=-0.098 total time=   0.0s\n",
      "[CV 5/5] END ..................C=1, gamma=0.01;, score=-0.124 total time=   0.0s\n",
      "[CV 1/5] END ...................C=1, gamma=0.1;, score=-0.123 total time=   0.0s\n",
      "[CV 2/5] END ...................C=1, gamma=0.1;, score=-0.152 total time=   0.0s\n",
      "[CV 3/5] END ...................C=1, gamma=0.1;, score=-0.113 total time=   0.0s\n",
      "[CV 4/5] END ...................C=1, gamma=0.1;, score=-0.098 total time=   0.0s\n",
      "[CV 5/5] END ...................C=1, gamma=0.1;, score=-0.124 total time=   0.0s\n",
      "[CV 1/5] END ..................C=1, gamma=0.01;, score=-0.123 total time=   0.0s\n",
      "[CV 2/5] END ..................C=1, gamma=0.01;, score=-0.152 total time=   0.0s\n",
      "[CV 3/5] END ..................C=1, gamma=0.01;, score=-0.113 total time=   0.0s\n",
      "[CV 4/5] END ..................C=1, gamma=0.01;, score=-0.098 total time=   0.0s\n",
      "[CV 5/5] END ..................C=1, gamma=0.01;, score=-0.124 total time=   0.0s\n",
      "[CV 1/5] END .................C=1, gamma=0.001;, score=-0.123 total time=   0.0s\n",
      "[CV 2/5] END .................C=1, gamma=0.001;, score=-0.152 total time=   0.0s\n",
      "[CV 3/5] END .................C=1, gamma=0.001;, score=-0.113 total time=   0.0s\n",
      "[CV 4/5] END .................C=1, gamma=0.001;, score=-0.098 total time=   0.0s\n",
      "[CV 5/5] END .................C=1, gamma=0.001;, score=-0.124 total time=   0.0s\n"
     ]
    },
    {
     "name": "stdout",
     "output_type": "stream",
     "text": [
      "[CV 1/5] END .................C=1, gamma=0.001;, score=-0.123 total time=   0.0s\n",
      "[CV 2/5] END .................C=1, gamma=0.001;, score=-0.152 total time=   0.0s\n",
      "[CV 3/5] END .................C=1, gamma=0.001;, score=-0.113 total time=   0.0s\n",
      "[CV 4/5] END .................C=1, gamma=0.001;, score=-0.098 total time=   0.0s\n",
      "[CV 5/5] END .................C=1, gamma=0.001;, score=-0.124 total time=   0.0s\n",
      "[CV 1/5] END .................C=10, gamma=0.01;, score=-0.123 total time=   0.0s\n",
      "[CV 2/5] END .................C=10, gamma=0.01;, score=-0.152 total time=   0.0s\n",
      "[CV 3/5] END .................C=10, gamma=0.01;, score=-0.113 total time=   0.0s\n",
      "[CV 4/5] END .................C=10, gamma=0.01;, score=-0.098 total time=   0.0s\n",
      "[CV 5/5] END .................C=10, gamma=0.01;, score=-0.124 total time=   0.0s\n",
      "[CV 1/5] END ..................C=10, gamma=0.1;, score=-0.123 total time=   0.0s\n",
      "[CV 2/5] END ..................C=10, gamma=0.1;, score=-0.152 total time=   0.0s\n",
      "[CV 3/5] END ..................C=10, gamma=0.1;, score=-0.113 total time=   0.0s\n",
      "[CV 4/5] END ..................C=10, gamma=0.1;, score=-0.098 total time=   0.0s\n",
      "[CV 5/5] END ..................C=10, gamma=0.1;, score=-0.124 total time=   0.0s\n",
      "[CV 1/5] END .................C=10, gamma=0.01;, score=-0.123 total time=   0.0s\n",
      "[CV 2/5] END .................C=10, gamma=0.01;, score=-0.152 total time=   0.0s\n",
      "[CV 3/5] END .................C=10, gamma=0.01;, score=-0.113 total time=   0.0s\n",
      "[CV 4/5] END .................C=10, gamma=0.01;, score=-0.098 total time=   0.0s\n",
      "[CV 5/5] END .................C=10, gamma=0.01;, score=-0.124 total time=   0.0s\n",
      "[CV 1/5] END ................C=10, gamma=0.001;, score=-0.123 total time=   0.0s\n",
      "[CV 2/5] END ................C=10, gamma=0.001;, score=-0.152 total time=   0.0s\n",
      "[CV 3/5] END ................C=10, gamma=0.001;, score=-0.113 total time=   0.0s\n",
      "[CV 4/5] END ................C=10, gamma=0.001;, score=-0.098 total time=   0.0s\n",
      "[CV 5/5] END ................C=10, gamma=0.001;, score=-0.124 total time=   0.0s\n",
      "[CV 1/5] END ................C=10, gamma=0.001;, score=-0.123 total time=   0.0s\n",
      "[CV 2/5] END ................C=10, gamma=0.001;, score=-0.152 total time=   0.0s\n",
      "[CV 3/5] END ................C=10, gamma=0.001;, score=-0.113 total time=   0.0s\n",
      "[CV 4/5] END ................C=10, gamma=0.001;, score=-0.098 total time=   0.0s\n",
      "[CV 5/5] END ................C=10, gamma=0.001;, score=-0.124 total time=   0.0s\n",
      "[CV 1/5] END ................C=100, gamma=0.01;, score=-0.122 total time=   0.0s\n",
      "[CV 2/5] END ................C=100, gamma=0.01;, score=-0.151 total time=   0.0s\n",
      "[CV 3/5] END ................C=100, gamma=0.01;, score=-0.113 total time=   0.0s\n",
      "[CV 4/5] END ................C=100, gamma=0.01;, score=-0.097 total time=   0.0s\n",
      "[CV 5/5] END ................C=100, gamma=0.01;, score=-0.123 total time=   0.0s\n",
      "[CV 1/5] END .................C=100, gamma=0.1;, score=-0.122 total time=   0.0s\n",
      "[CV 2/5] END .................C=100, gamma=0.1;, score=-0.150 total time=   0.0s\n",
      "[CV 3/5] END .................C=100, gamma=0.1;, score=-0.112 total time=   0.0s\n",
      "[CV 4/5] END .................C=100, gamma=0.1;, score=-0.097 total time=   0.0s\n",
      "[CV 5/5] END .................C=100, gamma=0.1;, score=-0.123 total time=   0.0s\n",
      "[CV 1/5] END ................C=100, gamma=0.01;, score=-0.122 total time=   0.0s\n",
      "[CV 2/5] END ................C=100, gamma=0.01;, score=-0.151 total time=   0.0s\n",
      "[CV 3/5] END ................C=100, gamma=0.01;, score=-0.113 total time=   0.0s\n",
      "[CV 4/5] END ................C=100, gamma=0.01;, score=-0.097 total time=   0.0s\n",
      "[CV 5/5] END ................C=100, gamma=0.01;, score=-0.123 total time=   0.0s\n",
      "[CV 1/5] END ...............C=100, gamma=0.001;, score=-0.123 total time=   0.0s\n",
      "[CV 2/5] END ...............C=100, gamma=0.001;, score=-0.152 total time=   0.0s\n",
      "[CV 3/5] END ...............C=100, gamma=0.001;, score=-0.113 total time=   0.0s\n",
      "[CV 4/5] END ...............C=100, gamma=0.001;, score=-0.098 total time=   0.0s\n",
      "[CV 5/5] END ...............C=100, gamma=0.001;, score=-0.124 total time=   0.0s\n",
      "[CV 1/5] END ...............C=100, gamma=0.001;, score=-0.123 total time=   0.0s\n",
      "[CV 2/5] END ...............C=100, gamma=0.001;, score=-0.152 total time=   0.0s\n",
      "[CV 3/5] END ...............C=100, gamma=0.001;, score=-0.113 total time=   0.0s\n",
      "[CV 4/5] END ...............C=100, gamma=0.001;, score=-0.098 total time=   0.0s\n",
      "[CV 5/5] END ...............C=100, gamma=0.001;, score=-0.124 total time=   0.0s\n",
      "[CV 1/5] END ...............C=1000, gamma=0.01;, score=-0.116 total time=   0.0s\n",
      "[CV 2/5] END ...............C=1000, gamma=0.01;, score=-0.144 total time=   0.0s\n",
      "[CV 3/5] END ...............C=1000, gamma=0.01;, score=-0.106 total time=   0.0s\n",
      "[CV 4/5] END ...............C=1000, gamma=0.01;, score=-0.091 total time=   0.0s\n",
      "[CV 5/5] END ...............C=1000, gamma=0.01;, score=-0.117 total time=   0.0s\n",
      "[CV 1/5] END ................C=1000, gamma=0.1;, score=-0.115 total time=   0.0s\n",
      "[CV 2/5] END ................C=1000, gamma=0.1;, score=-0.140 total time=   0.0s\n",
      "[CV 3/5] END ................C=1000, gamma=0.1;, score=-0.104 total time=   0.0s\n",
      "[CV 4/5] END ................C=1000, gamma=0.1;, score=-0.089 total time=   0.0s\n",
      "[CV 5/5] END ................C=1000, gamma=0.1;, score=-0.116 total time=   0.0s\n",
      "[CV 1/5] END ...............C=1000, gamma=0.01;, score=-0.116 total time=   0.0s\n",
      "[CV 2/5] END ...............C=1000, gamma=0.01;, score=-0.144 total time=   0.0s\n",
      "[CV 3/5] END ...............C=1000, gamma=0.01;, score=-0.106 total time=   0.0s\n",
      "[CV 4/5] END ...............C=1000, gamma=0.01;, score=-0.091 total time=   0.0s\n",
      "[CV 5/5] END ...............C=1000, gamma=0.01;, score=-0.117 total time=   0.0s\n",
      "[CV 1/5] END ..............C=1000, gamma=0.001;, score=-0.122 total time=   0.0s\n",
      "[CV 2/5] END ..............C=1000, gamma=0.001;, score=-0.150 total time=   0.0s\n",
      "[CV 3/5] END ..............C=1000, gamma=0.001;, score=-0.112 total time=   0.0s\n",
      "[CV 4/5] END ..............C=1000, gamma=0.001;, score=-0.097 total time=   0.0s\n",
      "[CV 5/5] END ..............C=1000, gamma=0.001;, score=-0.123 total time=   0.0s\n",
      "[CV 1/5] END ..............C=1000, gamma=0.001;, score=-0.122 total time=   0.0s\n",
      "[CV 2/5] END ..............C=1000, gamma=0.001;, score=-0.150 total time=   0.0s\n",
      "[CV 3/5] END ..............C=1000, gamma=0.001;, score=-0.112 total time=   0.0s\n",
      "[CV 4/5] END ..............C=1000, gamma=0.001;, score=-0.097 total time=   0.0s\n",
      "[CV 5/5] END ..............C=1000, gamma=0.001;, score=-0.123 total time=   0.0s\n",
      "Support Vector Regression - R-squared tuned(standardised): -0.13666593431140583, Best Params: {'C': 1000, 'gamma': 0.1}\n"
     ]
    }
   ],
   "source": [
    "#Define models with their respective parameter grids for hyperparameter tuning\n",
    "models_with_tuning = [\n",
    "    ('Ridge Regression', Ridge(), {'alpha': [0.1, 1.0, 10.0]}),\n",
    "    ('Lasso Regression', Lasso(), {'alpha': [0.01, 1.0, 0.0001]}),\n",
    "    ('Support Vector Regression', SVR(), {'C': [0.01,0.1,1,10,100,1000], 'gamma': [0.01,0.1,0.01,0.001,0.001]})\n",
    "]\n",
    "\n",
    "#Train and evaluate each model using GridSearchCV\n",
    "for name, model, param_grid in models_with_tuning:\n",
    "    grid = GridSearchCV(model, param_grid, verbose =4)\n",
    "    grid.fit(X_standardised_train, y_standardised_train)\n",
    "    \n",
    "    best_model = grid.best_estimator_\n",
    "    y_pred_standardised = best_model.predict(X_standardised_test)\n",
    "    \n",
    "    r2_standardised = r2_score(y_standardised_test, y_pred_standardised)\n",
    "    \n",
    "    print(f\"{name} - R-squared tuned(standardised): {r2_standardised}, Best Params: {grid.best_params_}\")\n"
   ]
  },
  {
   "cell_type": "markdown",
   "id": "aa8631c2",
   "metadata": {},
   "source": [
    "# Building regressions Model using Label Encoder"
   ]
  },
  {
   "cell_type": "markdown",
   "id": "95d19777",
   "metadata": {},
   "source": [
    "## For Label encoded with no feature scaling"
   ]
  },
  {
   "cell_type": "code",
   "execution_count": 145,
   "id": "c13a06bf",
   "metadata": {},
   "outputs": [
    {
     "name": "stdout",
     "output_type": "stream",
     "text": [
      "<class 'pandas.core.frame.DataFrame'>\n",
      "RangeIndex: 780 entries, 0 to 779\n",
      "Data columns (total 6 columns):\n",
      " #   Column                Non-Null Count  Dtype \n",
      "---  ------                --------------  ----- \n",
      " 0   tra_cov               780 non-null    object\n",
      " 1   aircraft              780 non-null    object\n",
      " 2   distance              780 non-null    object\n",
      " 3   TIME_PERIOD           780 non-null    int64 \n",
      " 4   Number of Passengers  780 non-null    int64 \n",
      " 5   Number of Flights     780 non-null    int64 \n",
      "dtypes: int64(3), object(3)\n",
      "memory usage: 36.7+ KB\n"
     ]
    }
   ],
   "source": [
    "transport_data.info()"
   ]
  },
  {
   "cell_type": "code",
   "execution_count": 146,
   "id": "46cc3a78",
   "metadata": {},
   "outputs": [
    {
     "name": "stdout",
     "output_type": "stream",
     "text": [
      "    tra_cov aircraft     distance  TIME_PERIOD  Number of Passengers  \\\n",
      "0      INTL    AC_JJ  KM1000-1499         2008                 62358   \n",
      "1      INTL    AC_JJ  KM1000-1499         2009                 31836   \n",
      "2      INTL    AC_JJ  KM1000-1499         2010                 12687   \n",
      "3      INTL    AC_JJ  KM1000-1499         2011                  9886   \n",
      "4      INTL    AC_JJ  KM1000-1499         2012                  8710   \n",
      "..      ...      ...          ...          ...                   ...   \n",
      "775     NAT    AC_WJ     KM_LT300         2016                     0   \n",
      "776     NAT    AC_WJ     KM_LT300         2017                   186   \n",
      "777     NAT    AC_WJ     KM_LT300         2018                  1103   \n",
      "778     NAT    AC_WJ     KM_LT300         2019                   707   \n",
      "779     NAT    AC_WJ     KM_LT300         2020                    70   \n",
      "\n",
      "     Number of Flights  tracov_encoded  aircraft_encoded  distance_encoded  \n",
      "0                  331               0                 0                 0  \n",
      "1                  175               0                 0                 0  \n",
      "2                   70               0                 0                 0  \n",
      "3                   53               0                 0                 0  \n",
      "4                   48               0                 0                 0  \n",
      "..                 ...             ...               ...               ...  \n",
      "775                  0               1                 4                 5  \n",
      "776                  1               1                 4                 5  \n",
      "777                  7               1                 4                 5  \n",
      "778                  4               1                 4                 5  \n",
      "779                  2               1                 4                 5  \n",
      "\n",
      "[780 rows x 9 columns]\n"
     ]
    }
   ],
   "source": [
    "from sklearn.preprocessing import LabelEncoder\n",
    "\n",
    "#Initialize LabelEncoder\n",
    "label_encoder = LabelEncoder()\n",
    "\n",
    "#Fit and transform the categorical columns\n",
    "transport_data['tracov_encoded'] = label_encoder.fit_transform(transport_data['tra_cov'])\n",
    "transport_data['aircraft_encoded'] = label_encoder.fit_transform(transport_data['aircraft'])\n",
    "transport_data['distance_encoded'] = label_encoder.fit_transform(transport_data['distance'])\n",
    "\n",
    "\n",
    "#Display the transformed data\n",
    "print(transport_data)\n"
   ]
  },
  {
   "cell_type": "code",
   "execution_count": 147,
   "id": "08900c46",
   "metadata": {},
   "outputs": [
    {
     "name": "stdout",
     "output_type": "stream",
     "text": [
      "<class 'pandas.core.frame.DataFrame'>\n",
      "RangeIndex: 780 entries, 0 to 779\n",
      "Data columns (total 9 columns):\n",
      " #   Column                Non-Null Count  Dtype \n",
      "---  ------                --------------  ----- \n",
      " 0   tra_cov               780 non-null    object\n",
      " 1   aircraft              780 non-null    object\n",
      " 2   distance              780 non-null    object\n",
      " 3   TIME_PERIOD           780 non-null    int64 \n",
      " 4   Number of Passengers  780 non-null    int64 \n",
      " 5   Number of Flights     780 non-null    int64 \n",
      " 6   tracov_encoded        780 non-null    int32 \n",
      " 7   aircraft_encoded      780 non-null    int32 \n",
      " 8   distance_encoded      780 non-null    int32 \n",
      "dtypes: int32(3), int64(3), object(3)\n",
      "memory usage: 45.8+ KB\n"
     ]
    }
   ],
   "source": [
    "#View the transport data to check if the categorical variables with label encoders have been created\n",
    "transport_data.info()"
   ]
  },
  {
   "cell_type": "code",
   "execution_count": 148,
   "id": "f4534e8e",
   "metadata": {},
   "outputs": [],
   "source": [
    "#Split into dependent and independent variables\n",
    "y = transport_data.iloc[:, 4].values\n",
    "X = transport_data.drop(['Number of Passengers', 'tra_cov','aircraft','distance'], axis=1).values\n",
    "\n",
    "\n",
    "# Split the data into features (X) and target variable (y)\n",
    "X_train, X_test, y_train, y_test = train_test_split(X, y, test_size=0.2)"
   ]
  },
  {
   "cell_type": "code",
   "execution_count": 149,
   "id": "55111405",
   "metadata": {},
   "outputs": [
    {
     "data": {
      "text/plain": [
       "((780, 5), (780,))"
      ]
     },
     "execution_count": 149,
     "metadata": {},
     "output_type": "execute_result"
    }
   ],
   "source": [
    "#View the shpe of X and Y\n",
    "X.shape, y.shape"
   ]
  },
  {
   "cell_type": "code",
   "execution_count": 150,
   "id": "6b46cfc7",
   "metadata": {},
   "outputs": [
    {
     "name": "stdout",
     "output_type": "stream",
     "text": [
      "[[ 2020  4788     0     4     4]\n",
      " [ 2017     0     0     4     5]\n",
      " [ 2015  5912     0     2     2]\n",
      " ...\n",
      " [ 2020     0     1     1     4]\n",
      " [ 2015 20278     0     3     2]\n",
      " [ 2015    29     0     2     5]]\n"
     ]
    }
   ],
   "source": [
    "#Print X_train\n",
    "print(X_train)"
   ]
  },
  {
   "cell_type": "code",
   "execution_count": 151,
   "id": "14d952ae",
   "metadata": {},
   "outputs": [
    {
     "name": "stdout",
     "output_type": "stream",
     "text": [
      "[ 679879       0  368938 5388778   14304       0       0       2       0\n",
      "       0 5165811    8710       0       0       0 1539701       0       0\n",
      "       0   54859       0  840521      80       0   17413       0  882843\n",
      "       0       0     192       0       6 1745437  228595    1466       0\n",
      "   10530     776   10105 5456191  494523     345   57881     598 6125130\n",
      " 1004957       0    4004       0       0 5650372 1176451       0      12\n",
      "       0    1095 1983041   31646       0     574    1774       0    3787\n",
      "      29   51155  197442 1642014 1029557       0       0     779       0\n",
      "    1511 1891193       0  134789       0       0    2815       0       0\n",
      " 1434060       0 3764348 3834816       0     464     499 2136280   18009\n",
      "    7682     348    1310       0       0       0      85   10971      76\n",
      " 4779860       0   32116       0       0       0  233012 1696486  677866\n",
      "       0   16399     541 1425537       0     664       0       0   10976\n",
      "       0       0       0    5739   11070  216601       0       0    2376\n",
      "      70       0       0    2130    9660  682512     342    1817       0\n",
      "       0       0  782086       0       1 1477135       0       0       0\n",
      "  828701       0       0       0  150552       0       0 3909365      96\n",
      "       0 5168591   51801    2665  287111       0     960    5255       0\n",
      "  990283       0       0       0  338335 3560743       0       0       0\n",
      "  327931   30921   48896  139880       0       0       0       0       0\n",
      "       0    7894 4225334 1444673 1386683       0       0    8324 5557262\n",
      "  451626       0       0       0  406076 6886810    3823       0    4338\n",
      "   75360       0       0       0 2892799 3823146  120766       0       0\n",
      "    1299     154      40    1055   19259       0    1734    1090       0\n",
      "       0       0       0       0  158348       0       0 1121827       0\n",
      "       0       0       0       0       0       0       0       0       0\n",
      "       0    4079  152090       0      96       0  334818       0    4346\n",
      "       0       0 3380495       0       0     335       0   69119     757\n",
      "    3107    3846   59532 1717173       0  131070 1631914       0     384\n",
      " 5302771    3033       0     530    3401   94959 1163748   45383       0\n",
      "       0 7234410  365818      40       0       0       0       0     565\n",
      "  144864   62358      74       0    3816   72610   12687       0     749\n",
      "       0       0    2069 5722544       0 2004571    2210       0    1789\n",
      "   51890       0     280    8550    9029       0  308406   63632    5905\n",
      "    6063  880241     399  191707    3461 7129149    1103       0       0\n",
      " 5519605       0 3785481     186 1572267       0       0     237       0\n",
      "     268  438284       0       0     118    2468       2    1171     279\n",
      "       0       0       0       0    7366  191605       0       1  264329\n",
      "     107       0    1186       0   85643    1136       0     503  195759\n",
      "   18572     167    4257  254550  132838    6897       0  844419   46515\n",
      " 3772438    6184       0  218545       0    1653  588820  166928 1305518\n",
      "  190811     515  426959 6362894       0       0  132828   16713 7587947\n",
      "   12987       0    2050       0  110739   42673       0       0       0\n",
      "       0    3353 3530238       0       0     881  288417       0  126174\n",
      "       0       0       0      46    5367   10823  214763       0   31836\n",
      "       0  149159   29601       0       0       0       0  733878       0\n",
      "    4939       0  581847       0       0       0     686       0  996721\n",
      "    2234       1       0    4099  217073    2464     787       6     393\n",
      "       0     668       0    4292       0       0    9860 1139304       0\n",
      "   77470       0       0    7043       0       0       0    9754  300716\n",
      "       0 1109622       0    1338    1763       0       0  408413       0\n",
      "       0       0 2727283       0       0  316107      91       0       0\n",
      "      62       0       0       0       0       0    3756       0       0\n",
      " 3778687     574       0  652758       0       0    5856       0     128\n",
      "    3312      72       0    3290       0       0       0       0 3696401\n",
      "     679   27114       0     814     122  100383       0     777       0\n",
      "    5110   96163   17608 6305593       0       0  192909 1889341    2330\n",
      "  294147       0  165397    3489   80158     180       3      58     678\n",
      "  185503    3117   87675  138898     381       0       0     657       0\n",
      "       0  182430  148907   85295  177933    1027  287555       0      12\n",
      "    5479       0 1626088     902    4008       0  212073       0       0\n",
      "       0       0       0       0      20 4222352       0       0 3995468\n",
      "       0       0  741337       0       0 5928006       0       0       0\n",
      "       0       0       0       0       0 3684039 4432156     706       0\n",
      "    8392 1133818 5167454    1190       0    2513       0  125090   13269\n",
      "     707       0    1722       0       0     529       0       0       0\n",
      "       0       0       0 1241598       0    2118       0      90 5388819\n",
      "       0       0     500 3906505       0 3729640    2537       0 1613913\n",
      " 5265847    4301   17093  419877      15    2486     996   12455       0\n",
      "       0 1066827    2119]\n"
     ]
    }
   ],
   "source": [
    "#Print y_train\n",
    "print(y_train)"
   ]
  },
  {
   "cell_type": "markdown",
   "id": "1eb7e03e",
   "metadata": {},
   "source": [
    "# Regression Modelling using labeled encoded data for data with no feature scaling"
   ]
  },
  {
   "cell_type": "code",
   "execution_count": 152,
   "id": "06b09b6b",
   "metadata": {
    "scrolled": false
   },
   "outputs": [
    {
     "name": "stdout",
     "output_type": "stream",
     "text": [
      "Linear Regression -  R-squared: 0.9499580057243076\n",
      "Decision_Regressor -  R-squared: 0.9339129946021276\n",
      "Ridge Regression alpha=10 -  R-squared: 0.9499670824925586\n",
      "Ridge Regression alpha=0.1 -  R-squared: 0.9499581102076086\n",
      "Ridge Regression alpha=1.0 -  R-squared: 0.9499590369562368\n",
      "Lasso Regression alpha=0.0001 -  R-squared: 0.9499580057234484\n",
      "Lasso Regression alpha=0.01 -  R-squared: 0.9499580056386121\n",
      "Lasso Regression alpha=1.0 -  R-squared: 0.9499579971524734\n",
      "ElasticNet Regression alpha = 0.01 -  R-squared: 0.9499611261284895\n",
      "Random Forest Regression -  R-squared: 0.9852042834290611\n",
      "Support Vector Regression -  R-squared: -0.15567195707968584\n",
      "K-Nearest Neighbors Regression -  R-squared: 0.9328002532823814\n"
     ]
    }
   ],
   "source": [
    "#Define models with their respective hyperparameters\n",
    "models_labeled = [\n",
    "    ('Linear Regression', LinearRegression()),\n",
    "    ('Decision_Regressor', DecisionTreeRegressor(max_depth=2, random_state=0)),\n",
    "    ('Ridge Regression alpha=10', Ridge(alpha=10)),\n",
    "    ('Ridge Regression alpha=0.1', Ridge(alpha=0.1)),\n",
    "    ('Ridge Regression alpha=1.0', Ridge(alpha=1.0)),\n",
    "    ('Lasso Regression alpha=0.0001', Lasso(alpha=0.0001)),\n",
    "    ('Lasso Regression alpha=0.01', Lasso(alpha=0.01)),\n",
    "    ('Lasso Regression alpha=1.0', Lasso(alpha=1.0)),\n",
    "    ('ElasticNet Regression alpha = 0.01', ElasticNet(alpha = 0.01)),\n",
    "    ('Random Forest Regression', RandomForestRegressor(n_estimators=1000, random_state=0)),\n",
    "    ('Support Vector Regression', SVR()),\n",
    "    ('K-Nearest Neighbors Regression', KNeighborsRegressor(algorithm='auto', leaf_size=30,metric='minkowski',\n",
    "                                   metric_params=None, n_jobs=1, n_neighbors=5))\n",
    "]\n",
    "\n",
    "#Train and evaluate each model\n",
    "for name, model in models_labeled:\n",
    "    model.fit(X_train, y_train)\n",
    "    y_pred = model.predict(X_test)\n",
    "    mse = mean_squared_error(y_test, y_pred)\n",
    "    r2 = r2_score(y_test, y_pred)\n",
    "    print(f\"{name} -  R-squared: {r2}\")"
   ]
  },
  {
   "cell_type": "markdown",
   "id": "d7ac0d4a",
   "metadata": {},
   "source": [
    "## Visualize the Decision Tree Regression"
   ]
  },
  {
   "cell_type": "code",
   "execution_count": 153,
   "id": "5709320b",
   "metadata": {},
   "outputs": [
    {
     "data": {
      "text/html": [
       "<style>#sk-container-id-1 {color: black;}#sk-container-id-1 pre{padding: 0;}#sk-container-id-1 div.sk-toggleable {background-color: white;}#sk-container-id-1 label.sk-toggleable__label {cursor: pointer;display: block;width: 100%;margin-bottom: 0;padding: 0.3em;box-sizing: border-box;text-align: center;}#sk-container-id-1 label.sk-toggleable__label-arrow:before {content: \"▸\";float: left;margin-right: 0.25em;color: #696969;}#sk-container-id-1 label.sk-toggleable__label-arrow:hover:before {color: black;}#sk-container-id-1 div.sk-estimator:hover label.sk-toggleable__label-arrow:before {color: black;}#sk-container-id-1 div.sk-toggleable__content {max-height: 0;max-width: 0;overflow: hidden;text-align: left;background-color: #f0f8ff;}#sk-container-id-1 div.sk-toggleable__content pre {margin: 0.2em;color: black;border-radius: 0.25em;background-color: #f0f8ff;}#sk-container-id-1 input.sk-toggleable__control:checked~div.sk-toggleable__content {max-height: 200px;max-width: 100%;overflow: auto;}#sk-container-id-1 input.sk-toggleable__control:checked~label.sk-toggleable__label-arrow:before {content: \"▾\";}#sk-container-id-1 div.sk-estimator input.sk-toggleable__control:checked~label.sk-toggleable__label {background-color: #d4ebff;}#sk-container-id-1 div.sk-label input.sk-toggleable__control:checked~label.sk-toggleable__label {background-color: #d4ebff;}#sk-container-id-1 input.sk-hidden--visually {border: 0;clip: rect(1px 1px 1px 1px);clip: rect(1px, 1px, 1px, 1px);height: 1px;margin: -1px;overflow: hidden;padding: 0;position: absolute;width: 1px;}#sk-container-id-1 div.sk-estimator {font-family: monospace;background-color: #f0f8ff;border: 1px dotted black;border-radius: 0.25em;box-sizing: border-box;margin-bottom: 0.5em;}#sk-container-id-1 div.sk-estimator:hover {background-color: #d4ebff;}#sk-container-id-1 div.sk-parallel-item::after {content: \"\";width: 100%;border-bottom: 1px solid gray;flex-grow: 1;}#sk-container-id-1 div.sk-label:hover label.sk-toggleable__label {background-color: #d4ebff;}#sk-container-id-1 div.sk-serial::before {content: \"\";position: absolute;border-left: 1px solid gray;box-sizing: border-box;top: 0;bottom: 0;left: 50%;z-index: 0;}#sk-container-id-1 div.sk-serial {display: flex;flex-direction: column;align-items: center;background-color: white;padding-right: 0.2em;padding-left: 0.2em;position: relative;}#sk-container-id-1 div.sk-item {position: relative;z-index: 1;}#sk-container-id-1 div.sk-parallel {display: flex;align-items: stretch;justify-content: center;background-color: white;position: relative;}#sk-container-id-1 div.sk-item::before, #sk-container-id-1 div.sk-parallel-item::before {content: \"\";position: absolute;border-left: 1px solid gray;box-sizing: border-box;top: 0;bottom: 0;left: 50%;z-index: -1;}#sk-container-id-1 div.sk-parallel-item {display: flex;flex-direction: column;z-index: 1;position: relative;background-color: white;}#sk-container-id-1 div.sk-parallel-item:first-child::after {align-self: flex-end;width: 50%;}#sk-container-id-1 div.sk-parallel-item:last-child::after {align-self: flex-start;width: 50%;}#sk-container-id-1 div.sk-parallel-item:only-child::after {width: 0;}#sk-container-id-1 div.sk-dashed-wrapped {border: 1px dashed gray;margin: 0 0.4em 0.5em 0.4em;box-sizing: border-box;padding-bottom: 0.4em;background-color: white;}#sk-container-id-1 div.sk-label label {font-family: monospace;font-weight: bold;display: inline-block;line-height: 1.2em;}#sk-container-id-1 div.sk-label-container {text-align: center;}#sk-container-id-1 div.sk-container {/* jupyter's `normalize.less` sets `[hidden] { display: none; }` but bootstrap.min.css set `[hidden] { display: none !important; }` so we also need the `!important` here to be able to override the default hidden behavior on the sphinx rendered scikit-learn.org. See: https://github.com/scikit-learn/scikit-learn/issues/21755 */display: inline-block !important;position: relative;}#sk-container-id-1 div.sk-text-repr-fallback {display: none;}</style><div id=\"sk-container-id-1\" class=\"sk-top-container\"><div class=\"sk-text-repr-fallback\"><pre>DecisionTreeRegressor(max_depth=2, random_state=0)</pre><b>In a Jupyter environment, please rerun this cell to show the HTML representation or trust the notebook. <br />On GitHub, the HTML representation is unable to render, please try loading this page with nbviewer.org.</b></div><div class=\"sk-container\" hidden><div class=\"sk-item\"><div class=\"sk-estimator sk-toggleable\"><input class=\"sk-toggleable__control sk-hidden--visually\" id=\"sk-estimator-id-1\" type=\"checkbox\" checked><label for=\"sk-estimator-id-1\" class=\"sk-toggleable__label sk-toggleable__label-arrow\">DecisionTreeRegressor</label><div class=\"sk-toggleable__content\"><pre>DecisionTreeRegressor(max_depth=2, random_state=0)</pre></div></div></div></div></div>"
      ],
      "text/plain": [
       "DecisionTreeRegressor(max_depth=2, random_state=0)"
      ]
     },
     "execution_count": 153,
     "metadata": {},
     "output_type": "execute_result"
    }
   ],
   "source": [
    "#Create the Decision Tree Regressor\n",
    "from sklearn.tree import DecisionTreeRegressor\n",
    "from sklearn.datasets import make_regression\n",
    "from sklearn.model_selection import train_test_split\n",
    "Decision_Regressor = DecisionTreeRegressor(max_depth=2, random_state=0)\n",
    "# Fit the model\n",
    "Decision_Regressor.fit(X_train, y_train)\n",
    "\n",
    "# Assuming 'Decision_Regressor' is your trained DecisionTreeRegressor\n",
    "Decision_Regressor.fit(X_train, y_train)"
   ]
  },
  {
   "cell_type": "code",
   "execution_count": 154,
   "id": "8614e4bd",
   "metadata": {},
   "outputs": [
    {
     "data": {
      "image/png": "[encoded data removed]",
      "text/plain": [
       "<IPython.core.display.Image object>"
      ]
     },
     "execution_count": 154,
     "metadata": {},
     "output_type": "execute_result"
    }
   ],
   "source": [
    "#Visualize the Decision tree regressor\n",
    "from sklearn.tree import DecisionTreeRegressor\n",
    "from sklearn.tree import export_graphviz\n",
    "import pydotplus  # You need to import this library to work with Graphviz\n",
    "from IPython.display import Image\n",
    "from sklearn import tree\n",
    "from io import StringIO\n",
    "\n",
    "#Create a StringIO object to hold the visualization\n",
    "dot_data = StringIO()\n",
    "\n",
    "#Export the Decision Tree as a Graphviz dot file\n",
    "export_graphviz(Decision_Regressor, out_file=dot_data, filled=True)\n",
    "\n",
    "#Use pydotplus to create an image from the dot file\n",
    "graph = pydotplus.graph_from_dot_data(dot_data.getvalue())\n",
    "\n",
    "#Create an Image from the graph\n",
    "Image(graph.create_png())"
   ]
  },
  {
   "cell_type": "markdown",
   "id": "d37e29d4",
   "metadata": {},
   "source": [
    "# Regression Modelling using labeled encoded data for data with no feature scaling using hyperparameter tuning"
   ]
  },
  {
   "cell_type": "code",
   "execution_count": 155,
   "id": "0ac7a4d8",
   "metadata": {
    "scrolled": true
   },
   "outputs": [
    {
     "name": "stdout",
     "output_type": "stream",
     "text": [
      "Fitting 5 folds for each of 3 candidates, totalling 15 fits\n",
      "[CV 1/5] END .........................alpha=0.1;, score=0.954 total time=   0.0s\n",
      "[CV 2/5] END .........................alpha=0.1;, score=0.924 total time=   0.0s\n",
      "[CV 3/5] END .........................alpha=0.1;, score=0.971 total time=   0.0s\n",
      "[CV 4/5] END .........................alpha=0.1;, score=0.929 total time=   0.0s\n",
      "[CV 5/5] END .........................alpha=0.1;, score=0.939 total time=   0.0s\n",
      "[CV 1/5] END .........................alpha=1.0;, score=0.954 total time=   0.0s\n",
      "[CV 2/5] END .........................alpha=1.0;, score=0.924 total time=   0.0s\n",
      "[CV 3/5] END .........................alpha=1.0;, score=0.971 total time=   0.0s\n",
      "[CV 4/5] END .........................alpha=1.0;, score=0.929 total time=   0.0s\n",
      "[CV 5/5] END .........................alpha=1.0;, score=0.939 total time=   0.0s\n",
      "[CV 1/5] END ..........................alpha=10;, score=0.954 total time=   0.0s\n",
      "[CV 2/5] END ..........................alpha=10;, score=0.924 total time=   0.0s\n",
      "[CV 3/5] END ..........................alpha=10;, score=0.971 total time=   0.0s\n",
      "[CV 4/5] END ..........................alpha=10;, score=0.929 total time=   0.0s\n",
      "[CV 5/5] END ..........................alpha=10;, score=0.939 total time=   0.0s\n",
      "Ridge Regression - R-squared tuned: 0.9499670824925586, Best Params: {'alpha': 10}\n",
      "Fitting 5 folds for each of 3 candidates, totalling 15 fits\n",
      "[CV 1/5] END ......................alpha=0.0001;, score=0.954 total time=   0.0s\n",
      "[CV 2/5] END ......................alpha=0.0001;, score=0.924 total time=   0.0s\n",
      "[CV 3/5] END ......................alpha=0.0001;, score=0.971 total time=   0.0s\n",
      "[CV 4/5] END ......................alpha=0.0001;, score=0.929 total time=   0.0s\n",
      "[CV 5/5] END ......................alpha=0.0001;, score=0.939 total time=   0.0s\n",
      "[CV 1/5] END ........................alpha=0.01;, score=0.954 total time=   0.0s\n",
      "[CV 2/5] END ........................alpha=0.01;, score=0.924 total time=   0.0s\n",
      "[CV 3/5] END ........................alpha=0.01;, score=0.971 total time=   0.0s\n",
      "[CV 4/5] END ........................alpha=0.01;, score=0.929 total time=   0.0s\n",
      "[CV 5/5] END ........................alpha=0.01;, score=0.939 total time=   0.0s\n",
      "[CV 1/5] END .........................alpha=1.0;, score=0.954 total time=   0.0s\n",
      "[CV 2/5] END .........................alpha=1.0;, score=0.924 total time=   0.0s\n",
      "[CV 3/5] END .........................alpha=1.0;, score=0.971 total time=   0.0s\n",
      "[CV 4/5] END .........................alpha=1.0;, score=0.929 total time=   0.0s\n",
      "[CV 5/5] END .........................alpha=1.0;, score=0.939 total time=   0.0s\n",
      "Lasso Regression - R-squared tuned: 0.9499580057234484, Best Params: {'alpha': 0.0001}\n",
      "Fitting 5 folds for each of 30 candidates, totalling 150 fits\n",
      "[CV 1/5] END ...............C=0.01, gamma=0.01;, score=-0.159 total time=   0.0s\n",
      "[CV 2/5] END ...............C=0.01, gamma=0.01;, score=-0.120 total time=   0.0s\n",
      "[CV 3/5] END ...............C=0.01, gamma=0.01;, score=-0.118 total time=   0.0s\n",
      "[CV 4/5] END ...............C=0.01, gamma=0.01;, score=-0.065 total time=   0.0s\n",
      "[CV 5/5] END ...............C=0.01, gamma=0.01;, score=-0.142 total time=   0.0s\n",
      "[CV 1/5] END ................C=0.01, gamma=0.1;, score=-0.159 total time=   0.0s\n",
      "[CV 2/5] END ................C=0.01, gamma=0.1;, score=-0.120 total time=   0.0s\n",
      "[CV 3/5] END ................C=0.01, gamma=0.1;, score=-0.118 total time=   0.0s\n",
      "[CV 4/5] END ................C=0.01, gamma=0.1;, score=-0.065 total time=   0.0s\n",
      "[CV 5/5] END ................C=0.01, gamma=0.1;, score=-0.142 total time=   0.0s\n",
      "[CV 1/5] END ...............C=0.01, gamma=0.01;, score=-0.159 total time=   0.0s\n",
      "[CV 2/5] END ...............C=0.01, gamma=0.01;, score=-0.120 total time=   0.0s\n",
      "[CV 3/5] END ...............C=0.01, gamma=0.01;, score=-0.118 total time=   0.0s\n",
      "[CV 4/5] END ...............C=0.01, gamma=0.01;, score=-0.065 total time=   0.0s\n",
      "[CV 5/5] END ...............C=0.01, gamma=0.01;, score=-0.142 total time=   0.0s\n",
      "[CV 1/5] END ..............C=0.01, gamma=0.001;, score=-0.159 total time=   0.0s\n",
      "[CV 2/5] END ..............C=0.01, gamma=0.001;, score=-0.120 total time=   0.0s\n",
      "[CV 3/5] END ..............C=0.01, gamma=0.001;, score=-0.118 total time=   0.0s\n",
      "[CV 4/5] END ..............C=0.01, gamma=0.001;, score=-0.065 total time=   0.0s\n",
      "[CV 5/5] END ..............C=0.01, gamma=0.001;, score=-0.142 total time=   0.0s\n",
      "[CV 1/5] END ..............C=0.01, gamma=0.001;, score=-0.159 total time=   0.0s\n",
      "[CV 2/5] END ..............C=0.01, gamma=0.001;, score=-0.120 total time=   0.0s\n",
      "[CV 3/5] END ..............C=0.01, gamma=0.001;, score=-0.118 total time=   0.0s\n",
      "[CV 4/5] END ..............C=0.01, gamma=0.001;, score=-0.065 total time=   0.0s\n",
      "[CV 5/5] END ..............C=0.01, gamma=0.001;, score=-0.142 total time=   0.0s\n",
      "[CV 1/5] END ................C=0.1, gamma=0.01;, score=-0.159 total time=   0.0s\n",
      "[CV 2/5] END ................C=0.1, gamma=0.01;, score=-0.120 total time=   0.0s\n",
      "[CV 3/5] END ................C=0.1, gamma=0.01;, score=-0.118 total time=   0.0s\n",
      "[CV 4/5] END ................C=0.1, gamma=0.01;, score=-0.065 total time=   0.0s\n",
      "[CV 5/5] END ................C=0.1, gamma=0.01;, score=-0.142 total time=   0.0s\n",
      "[CV 1/5] END .................C=0.1, gamma=0.1;, score=-0.159 total time=   0.0s\n",
      "[CV 2/5] END .................C=0.1, gamma=0.1;, score=-0.120 total time=   0.0s\n",
      "[CV 3/5] END .................C=0.1, gamma=0.1;, score=-0.118 total time=   0.0s\n",
      "[CV 4/5] END .................C=0.1, gamma=0.1;, score=-0.065 total time=   0.0s\n",
      "[CV 5/5] END .................C=0.1, gamma=0.1;, score=-0.142 total time=   0.0s\n",
      "[CV 1/5] END ................C=0.1, gamma=0.01;, score=-0.159 total time=   0.0s\n",
      "[CV 2/5] END ................C=0.1, gamma=0.01;, score=-0.120 total time=   0.0s\n",
      "[CV 3/5] END ................C=0.1, gamma=0.01;, score=-0.118 total time=   0.0s\n",
      "[CV 4/5] END ................C=0.1, gamma=0.01;, score=-0.065 total time=   0.0s\n",
      "[CV 5/5] END ................C=0.1, gamma=0.01;, score=-0.142 total time=   0.0s\n",
      "[CV 1/5] END ...............C=0.1, gamma=0.001;, score=-0.159 total time=   0.0s\n",
      "[CV 2/5] END ...............C=0.1, gamma=0.001;, score=-0.120 total time=   0.0s\n",
      "[CV 3/5] END ...............C=0.1, gamma=0.001;, score=-0.118 total time=   0.0s\n",
      "[CV 4/5] END ...............C=0.1, gamma=0.001;, score=-0.065 total time=   0.0s\n",
      "[CV 5/5] END ...............C=0.1, gamma=0.001;, score=-0.142 total time=   0.0s\n",
      "[CV 1/5] END ...............C=0.1, gamma=0.001;, score=-0.159 total time=   0.0s\n",
      "[CV 2/5] END ...............C=0.1, gamma=0.001;, score=-0.120 total time=   0.0s\n",
      "[CV 3/5] END ...............C=0.1, gamma=0.001;, score=-0.118 total time=   0.0s\n",
      "[CV 4/5] END ...............C=0.1, gamma=0.001;, score=-0.065 total time=   0.0s\n",
      "[CV 5/5] END ...............C=0.1, gamma=0.001;, score=-0.142 total time=   0.0s\n",
      "[CV 1/5] END ..................C=1, gamma=0.01;, score=-0.159 total time=   0.0s\n",
      "[CV 2/5] END ..................C=1, gamma=0.01;, score=-0.120 total time=   0.0s\n",
      "[CV 3/5] END ..................C=1, gamma=0.01;, score=-0.118 total time=   0.0s\n",
      "[CV 4/5] END ..................C=1, gamma=0.01;, score=-0.065 total time=   0.0s\n",
      "[CV 5/5] END ..................C=1, gamma=0.01;, score=-0.142 total time=   0.0s\n",
      "[CV 1/5] END ...................C=1, gamma=0.1;, score=-0.159 total time=   0.0s\n",
      "[CV 2/5] END ...................C=1, gamma=0.1;, score=-0.120 total time=   0.0s\n",
      "[CV 3/5] END ...................C=1, gamma=0.1;, score=-0.118 total time=   0.0s\n",
      "[CV 4/5] END ...................C=1, gamma=0.1;, score=-0.065 total time=   0.0s\n",
      "[CV 5/5] END ...................C=1, gamma=0.1;, score=-0.142 total time=   0.0s\n",
      "[CV 1/5] END ..................C=1, gamma=0.01;, score=-0.159 total time=   0.0s\n",
      "[CV 2/5] END ..................C=1, gamma=0.01;, score=-0.120 total time=   0.0s\n",
      "[CV 3/5] END ..................C=1, gamma=0.01;, score=-0.118 total time=   0.0s\n",
      "[CV 4/5] END ..................C=1, gamma=0.01;, score=-0.065 total time=   0.0s\n",
      "[CV 5/5] END ..................C=1, gamma=0.01;, score=-0.142 total time=   0.0s\n",
      "[CV 1/5] END .................C=1, gamma=0.001;, score=-0.159 total time=   0.0s\n",
      "[CV 2/5] END .................C=1, gamma=0.001;, score=-0.120 total time=   0.0s\n"
     ]
    },
    {
     "name": "stdout",
     "output_type": "stream",
     "text": [
      "[CV 3/5] END .................C=1, gamma=0.001;, score=-0.118 total time=   0.0s\n",
      "[CV 4/5] END .................C=1, gamma=0.001;, score=-0.065 total time=   0.0s\n",
      "[CV 5/5] END .................C=1, gamma=0.001;, score=-0.142 total time=   0.0s\n",
      "[CV 1/5] END .................C=1, gamma=0.001;, score=-0.159 total time=   0.0s\n",
      "[CV 2/5] END .................C=1, gamma=0.001;, score=-0.120 total time=   0.0s\n",
      "[CV 3/5] END .................C=1, gamma=0.001;, score=-0.118 total time=   0.0s\n",
      "[CV 4/5] END .................C=1, gamma=0.001;, score=-0.065 total time=   0.0s\n",
      "[CV 5/5] END .................C=1, gamma=0.001;, score=-0.142 total time=   0.0s\n",
      "[CV 1/5] END .................C=10, gamma=0.01;, score=-0.158 total time=   0.0s\n",
      "[CV 2/5] END .................C=10, gamma=0.01;, score=-0.119 total time=   0.0s\n",
      "[CV 3/5] END .................C=10, gamma=0.01;, score=-0.117 total time=   0.0s\n",
      "[CV 4/5] END .................C=10, gamma=0.01;, score=-0.064 total time=   0.0s\n",
      "[CV 5/5] END .................C=10, gamma=0.01;, score=-0.142 total time=   0.0s\n",
      "[CV 1/5] END ..................C=10, gamma=0.1;, score=-0.159 total time=   0.0s\n",
      "[CV 2/5] END ..................C=10, gamma=0.1;, score=-0.120 total time=   0.0s\n",
      "[CV 3/5] END ..................C=10, gamma=0.1;, score=-0.118 total time=   0.0s\n",
      "[CV 4/5] END ..................C=10, gamma=0.1;, score=-0.065 total time=   0.0s\n",
      "[CV 5/5] END ..................C=10, gamma=0.1;, score=-0.142 total time=   0.0s\n",
      "[CV 1/5] END .................C=10, gamma=0.01;, score=-0.158 total time=   0.0s\n",
      "[CV 2/5] END .................C=10, gamma=0.01;, score=-0.119 total time=   0.0s\n",
      "[CV 3/5] END .................C=10, gamma=0.01;, score=-0.117 total time=   0.0s\n",
      "[CV 4/5] END .................C=10, gamma=0.01;, score=-0.064 total time=   0.0s\n",
      "[CV 5/5] END .................C=10, gamma=0.01;, score=-0.142 total time=   0.0s\n",
      "[CV 1/5] END ................C=10, gamma=0.001;, score=-0.158 total time=   0.0s\n",
      "[CV 2/5] END ................C=10, gamma=0.001;, score=-0.119 total time=   0.0s\n",
      "[CV 3/5] END ................C=10, gamma=0.001;, score=-0.117 total time=   0.0s\n",
      "[CV 4/5] END ................C=10, gamma=0.001;, score=-0.064 total time=   0.0s\n",
      "[CV 5/5] END ................C=10, gamma=0.001;, score=-0.142 total time=   0.0s\n",
      "[CV 1/5] END ................C=10, gamma=0.001;, score=-0.158 total time=   0.0s\n",
      "[CV 2/5] END ................C=10, gamma=0.001;, score=-0.119 total time=   0.0s\n",
      "[CV 3/5] END ................C=10, gamma=0.001;, score=-0.117 total time=   0.0s\n",
      "[CV 4/5] END ................C=10, gamma=0.001;, score=-0.064 total time=   0.0s\n",
      "[CV 5/5] END ................C=10, gamma=0.001;, score=-0.142 total time=   0.0s\n",
      "[CV 1/5] END ................C=100, gamma=0.01;, score=-0.155 total time=   0.0s\n",
      "[CV 2/5] END ................C=100, gamma=0.01;, score=-0.116 total time=   0.0s\n",
      "[CV 3/5] END ................C=100, gamma=0.01;, score=-0.115 total time=   0.0s\n",
      "[CV 4/5] END ................C=100, gamma=0.01;, score=-0.061 total time=   0.0s\n",
      "[CV 5/5] END ................C=100, gamma=0.01;, score=-0.139 total time=   0.0s\n",
      "[CV 1/5] END .................C=100, gamma=0.1;, score=-0.158 total time=   0.0s\n",
      "[CV 2/5] END .................C=100, gamma=0.1;, score=-0.119 total time=   0.0s\n",
      "[CV 3/5] END .................C=100, gamma=0.1;, score=-0.117 total time=   0.0s\n",
      "[CV 4/5] END .................C=100, gamma=0.1;, score=-0.064 total time=   0.0s\n",
      "[CV 5/5] END .................C=100, gamma=0.1;, score=-0.141 total time=   0.0s\n",
      "[CV 1/5] END ................C=100, gamma=0.01;, score=-0.155 total time=   0.0s\n",
      "[CV 2/5] END ................C=100, gamma=0.01;, score=-0.116 total time=   0.0s\n",
      "[CV 3/5] END ................C=100, gamma=0.01;, score=-0.115 total time=   0.0s\n",
      "[CV 4/5] END ................C=100, gamma=0.01;, score=-0.061 total time=   0.0s\n",
      "[CV 5/5] END ................C=100, gamma=0.01;, score=-0.139 total time=   0.0s\n",
      "[CV 1/5] END ...............C=100, gamma=0.001;, score=-0.152 total time=   0.0s\n",
      "[CV 2/5] END ...............C=100, gamma=0.001;, score=-0.113 total time=   0.0s\n",
      "[CV 3/5] END ...............C=100, gamma=0.001;, score=-0.113 total time=   0.0s\n",
      "[CV 4/5] END ...............C=100, gamma=0.001;, score=-0.058 total time=   0.0s\n",
      "[CV 5/5] END ...............C=100, gamma=0.001;, score=-0.136 total time=   0.0s\n",
      "[CV 1/5] END ...............C=100, gamma=0.001;, score=-0.152 total time=   0.0s\n",
      "[CV 2/5] END ...............C=100, gamma=0.001;, score=-0.113 total time=   0.0s\n",
      "[CV 3/5] END ...............C=100, gamma=0.001;, score=-0.113 total time=   0.0s\n",
      "[CV 4/5] END ...............C=100, gamma=0.001;, score=-0.058 total time=   0.0s\n",
      "[CV 5/5] END ...............C=100, gamma=0.001;, score=-0.136 total time=   0.0s\n",
      "[CV 1/5] END ...............C=1000, gamma=0.01;, score=-0.143 total time=   0.0s\n",
      "[CV 2/5] END ...............C=1000, gamma=0.01;, score=-0.105 total time=   0.0s\n",
      "[CV 3/5] END ...............C=1000, gamma=0.01;, score=-0.106 total time=   0.0s\n",
      "[CV 4/5] END ...............C=1000, gamma=0.01;, score=-0.048 total time=   0.0s\n",
      "[CV 5/5] END ...............C=1000, gamma=0.01;, score=-0.128 total time=   0.0s\n",
      "[CV 1/5] END ................C=1000, gamma=0.1;, score=-0.155 total time=   0.0s\n",
      "[CV 2/5] END ................C=1000, gamma=0.1;, score=-0.115 total time=   0.0s\n",
      "[CV 3/5] END ................C=1000, gamma=0.1;, score=-0.114 total time=   0.0s\n",
      "[CV 4/5] END ................C=1000, gamma=0.1;, score=-0.061 total time=   0.0s\n",
      "[CV 5/5] END ................C=1000, gamma=0.1;, score=-0.138 total time=   0.0s\n",
      "[CV 1/5] END ...............C=1000, gamma=0.01;, score=-0.143 total time=   0.0s\n",
      "[CV 2/5] END ...............C=1000, gamma=0.01;, score=-0.105 total time=   0.0s\n",
      "[CV 3/5] END ...............C=1000, gamma=0.01;, score=-0.106 total time=   0.0s\n",
      "[CV 4/5] END ...............C=1000, gamma=0.01;, score=-0.048 total time=   0.0s\n",
      "[CV 5/5] END ...............C=1000, gamma=0.01;, score=-0.128 total time=   0.0s\n",
      "[CV 1/5] END ..............C=1000, gamma=0.001;, score=-0.124 total time=   0.0s\n",
      "[CV 2/5] END ..............C=1000, gamma=0.001;, score=-0.088 total time=   0.0s\n",
      "[CV 3/5] END ..............C=1000, gamma=0.001;, score=-0.093 total time=   0.0s\n",
      "[CV 4/5] END ..............C=1000, gamma=0.001;, score=-0.031 total time=   0.0s\n",
      "[CV 5/5] END ..............C=1000, gamma=0.001;, score=-0.114 total time=   0.0s\n",
      "[CV 1/5] END ..............C=1000, gamma=0.001;, score=-0.124 total time=   0.0s\n",
      "[CV 2/5] END ..............C=1000, gamma=0.001;, score=-0.088 total time=   0.0s\n",
      "[CV 3/5] END ..............C=1000, gamma=0.001;, score=-0.093 total time=   0.0s\n",
      "[CV 4/5] END ..............C=1000, gamma=0.001;, score=-0.031 total time=   0.0s\n",
      "[CV 5/5] END ..............C=1000, gamma=0.001;, score=-0.114 total time=   0.0s\n",
      "Support Vector Regression - R-squared tuned: -0.1192354755906484, Best Params: {'C': 1000, 'gamma': 0.001}\n"
     ]
    }
   ],
   "source": [
    "#Define models with their respective parameter grids for hyperparameter tuning\n",
    "models_with_tuning = [\n",
    "    ('Ridge Regression', Ridge(), {'alpha': [0.1, 1.0, 10]}),\n",
    "    ('Lasso Regression', Lasso(), {'alpha': [0.0001, 0.01, 1.0]}),\n",
    "    ('Support Vector Regression', SVR(), {'C': [0.01,0.1,1,10,100,1000], 'gamma': [0.01,0.1,0.01,0.001,0.001]})\n",
    "]\n",
    "\n",
    "#Train and evaluate each model using GridSearchCV\n",
    "for name, model, param_grid in models_with_tuning:\n",
    "    grid = GridSearchCV(model, param_grid, verbose =4)\n",
    "    grid.fit(X_train, y_train)\n",
    "    \n",
    "    best_model = grid.best_estimator_\n",
    "    y_pred = best_model.predict(X_test)\n",
    "    \n",
    "    mse = mean_squared_error(y_test, y_pred)\n",
    "    r2 = r2_score(y_test, y_pred)\n",
    "    \n",
    "    print(f\"{name} - R-squared tuned: {r2}, Best Params: {grid.best_params_}\")\n"
   ]
  },
  {
   "cell_type": "markdown",
   "id": "84f1539d",
   "metadata": {},
   "source": [
    "# Regression Modelling using labeled encoded data for data with standardization"
   ]
  },
  {
   "cell_type": "code",
   "execution_count": 156,
   "id": "c58c7ca9",
   "metadata": {},
   "outputs": [],
   "source": [
    "#Split into dependent and independent variables\n",
    "y = transport_data.iloc[:, 4].values\n",
    "X = transport_data.drop(['Number of Passengers', 'tra_cov','aircraft','distance'], axis=1).values\n",
    "\n",
    "\n",
    "# Split the data into features (X) and target variable (y)\n",
    "X_train, X_test, y_train, y_test = train_test_split(X, y, test_size=0.2)"
   ]
  },
  {
   "cell_type": "code",
   "execution_count": 157,
   "id": "a98e467f",
   "metadata": {},
   "outputs": [],
   "source": [
    "from sklearn.metrics import mean_squared_error, r2_score\n",
    "from sklearn.preprocessing import StandardScaler\n",
    "\n",
    "#Creating a StandardScaler instance\n",
    "scaler = StandardScaler()\n",
    "\n",
    "#Scaling your training and test data\n",
    "X_standardised_train = scaler.fit_transform(X_train)\n",
    "X_standardised_test = scaler.transform(X_test)"
   ]
  },
  {
   "cell_type": "markdown",
   "id": "ecb0e5c8",
   "metadata": {},
   "source": [
    "# Regression Modelling using labeled encoded data for standardised data"
   ]
  },
  {
   "cell_type": "code",
   "execution_count": 158,
   "id": "f18221e0",
   "metadata": {
    "scrolled": false
   },
   "outputs": [
    {
     "name": "stdout",
     "output_type": "stream",
     "text": [
      "Linear Regression - R-squared (standardised scaled): 0.9444201109363513\n",
      "Decision_Regressor - R-squared (standardised scaled): 0.9367072267222285\n",
      "Ridge Regression alpha=10 - R-squared (standardised scaled): 0.9462428629214963\n",
      "Ridge Regression alpha=0.1 - R-squared (standardised scaled): 0.9444419804160538\n",
      "Ridge Regression alpha=1 - R-squared (standardised scaled): 0.9446353686433533\n",
      "Lasso Regression alpha=1 - R-squared (standardised scaled): 0.9444202152911556\n",
      "Lasso Regression alpha=0.01 - R-squared (standardised scaled): 0.9444201120113176\n",
      "Lasso Regression alpha=0.0001 - R-squared (standardised scaled): 0.9444201109468282\n",
      "ElasticNet Regression alpha = 0.01 - R-squared (standardised scaled): 0.9450667740431284\n",
      "Random Forest Regression - R-squared (standardised scaled): 0.9911793512014511\n",
      "Support Vector Regression - R-squared (standardised scaled): -0.132953478465494\n",
      "K-Nearest Neighbors Regression - R-squared (standardised scaled): 0.9792238026820428\n"
     ]
    }
   ],
   "source": [
    "#Define the models\n",
    "models_standardised = [\n",
    "    ('Linear Regression', LinearRegression()),\n",
    "    ('Decision_Regressor', DecisionTreeRegressor(max_depth=2, random_state=0)),\n",
    "    ('Ridge Regression alpha=10', Ridge(alpha=10)),\n",
    "    ('Ridge Regression alpha=0.1', Ridge(alpha=0.1)),\n",
    "    ('Ridge Regression alpha=1', Ridge(alpha=1)),    \n",
    "    ('Lasso Regression alpha=1', Lasso(alpha=1)),\n",
    "    ('Lasso Regression alpha=0.01', Lasso(alpha=0.01)),\n",
    "    ('Lasso Regression alpha=0.0001', Lasso(alpha=0.0001)),\n",
    "    ('ElasticNet Regression alpha = 0.01', ElasticNet(alpha = 0.01)),\n",
    "    ('Random Forest Regression', RandomForestRegressor(n_estimators=1000, random_state=0)),\n",
    "    ('Support Vector Regression', SVR()),\n",
    "    ('K-Nearest Neighbors Regression', KNeighborsRegressor(algorithm='auto', leaf_size=30,metric='minkowski',\n",
    "                                   metric_params=None, n_jobs=1, n_neighbors=5))\n",
    "]\n",
    "\n",
    "#Train and evaluate each model\n",
    "for name, model in models_standardised:\n",
    "    model.fit(X_standardised_train, y_train)\n",
    "    y_pred_standardised = model.predict(X_standardised_test)\n",
    "    r2_standardised = r2_score(y_test, y_pred_standardised)\n",
    "    print(f\"{name} - R-squared (standardised scaled): {r2_standardised}\")"
   ]
  },
  {
   "cell_type": "markdown",
   "id": "54c44a32",
   "metadata": {},
   "source": [
    "# Regression Modelling using labeled encoded data for standardised data  using hyperparameter tuning"
   ]
  },
  {
   "cell_type": "code",
   "execution_count": 159,
   "id": "e28c54c6",
   "metadata": {},
   "outputs": [
    {
     "name": "stdout",
     "output_type": "stream",
     "text": [
      "Fitting 5 folds for each of 3 candidates, totalling 15 fits\n",
      "[CV 1/5] END .........................alpha=0.1;, score=0.931 total time=   0.0s\n",
      "[CV 2/5] END .........................alpha=0.1;, score=0.969 total time=   0.0s\n",
      "[CV 3/5] END .........................alpha=0.1;, score=0.813 total time=   0.0s\n",
      "[CV 4/5] END .........................alpha=0.1;, score=0.944 total time=   0.0s\n",
      "[CV 5/5] END .........................alpha=0.1;, score=0.966 total time=   0.0s\n",
      "[CV 1/5] END .........................alpha=1.0;, score=0.930 total time=   0.0s\n",
      "[CV 2/5] END .........................alpha=1.0;, score=0.969 total time=   0.0s\n",
      "[CV 3/5] END .........................alpha=1.0;, score=0.813 total time=   0.0s\n",
      "[CV 4/5] END .........................alpha=1.0;, score=0.944 total time=   0.0s\n",
      "[CV 5/5] END .........................alpha=1.0;, score=0.966 total time=   0.0s\n",
      "[CV 1/5] END ..........................alpha=10;, score=0.929 total time=   0.0s\n",
      "[CV 2/5] END ..........................alpha=10;, score=0.968 total time=   0.0s\n",
      "[CV 3/5] END ..........................alpha=10;, score=0.814 total time=   0.0s\n",
      "[CV 4/5] END ..........................alpha=10;, score=0.945 total time=   0.0s\n",
      "[CV 5/5] END ..........................alpha=10;, score=0.964 total time=   0.0s\n",
      "Ridge Regression - R-squared tuned: 0.9446353686433533, Best Params: {'alpha': 1.0}\n",
      "Fitting 5 folds for each of 3 candidates, totalling 15 fits\n",
      "[CV 1/5] END ......................alpha=0.0001;, score=0.931 total time=   0.0s\n",
      "[CV 2/5] END ......................alpha=0.0001;, score=0.969 total time=   0.0s\n",
      "[CV 3/5] END ......................alpha=0.0001;, score=0.813 total time=   0.0s\n",
      "[CV 4/5] END ......................alpha=0.0001;, score=0.944 total time=   0.0s\n",
      "[CV 5/5] END ......................alpha=0.0001;, score=0.966 total time=   0.0s\n",
      "[CV 1/5] END ........................alpha=0.01;, score=0.931 total time=   0.0s\n",
      "[CV 2/5] END ........................alpha=0.01;, score=0.969 total time=   0.0s\n",
      "[CV 3/5] END ........................alpha=0.01;, score=0.813 total time=   0.0s\n",
      "[CV 4/5] END ........................alpha=0.01;, score=0.944 total time=   0.0s\n",
      "[CV 5/5] END ........................alpha=0.01;, score=0.966 total time=   0.0s\n",
      "[CV 1/5] END .........................alpha=1.0;, score=0.931 total time=   0.0s\n",
      "[CV 2/5] END .........................alpha=1.0;, score=0.969 total time=   0.0s\n",
      "[CV 3/5] END .........................alpha=1.0;, score=0.813 total time=   0.0s\n",
      "[CV 4/5] END .........................alpha=1.0;, score=0.944 total time=   0.0s\n",
      "[CV 5/5] END .........................alpha=1.0;, score=0.966 total time=   0.0s\n",
      "Lasso Regression - R-squared tuned: 0.9444202152911556, Best Params: {'alpha': 1.0}\n",
      "Fitting 5 folds for each of 30 candidates, totalling 150 fits\n",
      "[CV 1/5] END ...............C=0.01, gamma=0.01;, score=-0.108 total time=   0.0s\n",
      "[CV 2/5] END ...............C=0.01, gamma=0.01;, score=-0.166 total time=   0.0s\n",
      "[CV 3/5] END ...............C=0.01, gamma=0.01;, score=-0.098 total time=   0.0s\n",
      "[CV 4/5] END ...............C=0.01, gamma=0.01;, score=-0.110 total time=   0.0s\n",
      "[CV 5/5] END ...............C=0.01, gamma=0.01;, score=-0.171 total time=   0.0s\n",
      "[CV 1/5] END ................C=0.01, gamma=0.1;, score=-0.108 total time=   0.0s\n",
      "[CV 2/5] END ................C=0.01, gamma=0.1;, score=-0.166 total time=   0.0s\n",
      "[CV 3/5] END ................C=0.01, gamma=0.1;, score=-0.098 total time=   0.0s\n",
      "[CV 4/5] END ................C=0.01, gamma=0.1;, score=-0.110 total time=   0.0s\n",
      "[CV 5/5] END ................C=0.01, gamma=0.1;, score=-0.171 total time=   0.0s\n",
      "[CV 1/5] END ...............C=0.01, gamma=0.01;, score=-0.108 total time=   0.0s\n",
      "[CV 2/5] END ...............C=0.01, gamma=0.01;, score=-0.166 total time=   0.0s\n",
      "[CV 3/5] END ...............C=0.01, gamma=0.01;, score=-0.098 total time=   0.0s\n",
      "[CV 4/5] END ...............C=0.01, gamma=0.01;, score=-0.110 total time=   0.0s\n",
      "[CV 5/5] END ...............C=0.01, gamma=0.01;, score=-0.171 total time=   0.0s\n",
      "[CV 1/5] END ..............C=0.01, gamma=0.001;, score=-0.108 total time=   0.0s\n",
      "[CV 2/5] END ..............C=0.01, gamma=0.001;, score=-0.166 total time=   0.0s\n",
      "[CV 3/5] END ..............C=0.01, gamma=0.001;, score=-0.098 total time=   0.0s\n",
      "[CV 4/5] END ..............C=0.01, gamma=0.001;, score=-0.110 total time=   0.0s\n",
      "[CV 5/5] END ..............C=0.01, gamma=0.001;, score=-0.171 total time=   0.0s\n",
      "[CV 1/5] END ..............C=0.01, gamma=0.001;, score=-0.108 total time=   0.0s\n",
      "[CV 2/5] END ..............C=0.01, gamma=0.001;, score=-0.166 total time=   0.0s\n",
      "[CV 3/5] END ..............C=0.01, gamma=0.001;, score=-0.098 total time=   0.0s\n",
      "[CV 4/5] END ..............C=0.01, gamma=0.001;, score=-0.110 total time=   0.0s\n",
      "[CV 5/5] END ..............C=0.01, gamma=0.001;, score=-0.171 total time=   0.0s\n",
      "[CV 1/5] END ................C=0.1, gamma=0.01;, score=-0.108 total time=   0.0s\n",
      "[CV 2/5] END ................C=0.1, gamma=0.01;, score=-0.166 total time=   0.0s\n",
      "[CV 3/5] END ................C=0.1, gamma=0.01;, score=-0.098 total time=   0.0s\n",
      "[CV 4/5] END ................C=0.1, gamma=0.01;, score=-0.110 total time=   0.0s\n",
      "[CV 5/5] END ................C=0.1, gamma=0.01;, score=-0.171 total time=   0.0s\n",
      "[CV 1/5] END .................C=0.1, gamma=0.1;, score=-0.108 total time=   0.0s\n",
      "[CV 2/5] END .................C=0.1, gamma=0.1;, score=-0.166 total time=   0.0s\n",
      "[CV 3/5] END .................C=0.1, gamma=0.1;, score=-0.098 total time=   0.0s\n",
      "[CV 4/5] END .................C=0.1, gamma=0.1;, score=-0.110 total time=   0.0s\n",
      "[CV 5/5] END .................C=0.1, gamma=0.1;, score=-0.171 total time=   0.0s\n",
      "[CV 1/5] END ................C=0.1, gamma=0.01;, score=-0.108 total time=   0.0s\n",
      "[CV 2/5] END ................C=0.1, gamma=0.01;, score=-0.166 total time=   0.0s\n",
      "[CV 3/5] END ................C=0.1, gamma=0.01;, score=-0.098 total time=   0.0s\n",
      "[CV 4/5] END ................C=0.1, gamma=0.01;, score=-0.110 total time=   0.0s\n",
      "[CV 5/5] END ................C=0.1, gamma=0.01;, score=-0.171 total time=   0.0s\n",
      "[CV 1/5] END ...............C=0.1, gamma=0.001;, score=-0.108 total time=   0.0s\n",
      "[CV 2/5] END ...............C=0.1, gamma=0.001;, score=-0.166 total time=   0.0s\n",
      "[CV 3/5] END ...............C=0.1, gamma=0.001;, score=-0.098 total time=   0.0s\n",
      "[CV 4/5] END ...............C=0.1, gamma=0.001;, score=-0.110 total time=   0.0s\n",
      "[CV 5/5] END ...............C=0.1, gamma=0.001;, score=-0.171 total time=   0.0s\n",
      "[CV 1/5] END ...............C=0.1, gamma=0.001;, score=-0.108 total time=   0.0s\n",
      "[CV 2/5] END ...............C=0.1, gamma=0.001;, score=-0.166 total time=   0.0s\n",
      "[CV 3/5] END ...............C=0.1, gamma=0.001;, score=-0.098 total time=   0.0s\n",
      "[CV 4/5] END ...............C=0.1, gamma=0.001;, score=-0.110 total time=   0.0s\n",
      "[CV 5/5] END ...............C=0.1, gamma=0.001;, score=-0.171 total time=   0.0s\n",
      "[CV 1/5] END ..................C=1, gamma=0.01;, score=-0.108 total time=   0.0s\n",
      "[CV 2/5] END ..................C=1, gamma=0.01;, score=-0.166 total time=   0.0s\n",
      "[CV 3/5] END ..................C=1, gamma=0.01;, score=-0.098 total time=   0.0s\n",
      "[CV 4/5] END ..................C=1, gamma=0.01;, score=-0.110 total time=   0.0s\n",
      "[CV 5/5] END ..................C=1, gamma=0.01;, score=-0.171 total time=   0.0s\n",
      "[CV 1/5] END ...................C=1, gamma=0.1;, score=-0.108 total time=   0.0s\n",
      "[CV 2/5] END ...................C=1, gamma=0.1;, score=-0.166 total time=   0.0s\n",
      "[CV 3/5] END ...................C=1, gamma=0.1;, score=-0.098 total time=   0.0s\n",
      "[CV 4/5] END ...................C=1, gamma=0.1;, score=-0.110 total time=   0.0s\n",
      "[CV 5/5] END ...................C=1, gamma=0.1;, score=-0.171 total time=   0.0s\n",
      "[CV 1/5] END ..................C=1, gamma=0.01;, score=-0.108 total time=   0.0s\n",
      "[CV 2/5] END ..................C=1, gamma=0.01;, score=-0.166 total time=   0.0s\n",
      "[CV 3/5] END ..................C=1, gamma=0.01;, score=-0.098 total time=   0.0s\n",
      "[CV 4/5] END ..................C=1, gamma=0.01;, score=-0.110 total time=   0.0s\n",
      "[CV 5/5] END ..................C=1, gamma=0.01;, score=-0.171 total time=   0.0s\n",
      "[CV 1/5] END .................C=1, gamma=0.001;, score=-0.108 total time=   0.0s\n",
      "[CV 2/5] END .................C=1, gamma=0.001;, score=-0.166 total time=   0.0s\n",
      "[CV 3/5] END .................C=1, gamma=0.001;, score=-0.098 total time=   0.0s\n"
     ]
    },
    {
     "name": "stdout",
     "output_type": "stream",
     "text": [
      "[CV 4/5] END .................C=1, gamma=0.001;, score=-0.110 total time=   0.0s\n",
      "[CV 5/5] END .................C=1, gamma=0.001;, score=-0.171 total time=   0.0s\n",
      "[CV 1/5] END .................C=1, gamma=0.001;, score=-0.108 total time=   0.0s\n",
      "[CV 2/5] END .................C=1, gamma=0.001;, score=-0.166 total time=   0.0s\n",
      "[CV 3/5] END .................C=1, gamma=0.001;, score=-0.098 total time=   0.0s\n",
      "[CV 4/5] END .................C=1, gamma=0.001;, score=-0.110 total time=   0.0s\n",
      "[CV 5/5] END .................C=1, gamma=0.001;, score=-0.171 total time=   0.0s\n",
      "[CV 1/5] END .................C=10, gamma=0.01;, score=-0.108 total time=   0.0s\n",
      "[CV 2/5] END .................C=10, gamma=0.01;, score=-0.166 total time=   0.0s\n",
      "[CV 3/5] END .................C=10, gamma=0.01;, score=-0.098 total time=   0.0s\n",
      "[CV 4/5] END .................C=10, gamma=0.01;, score=-0.110 total time=   0.0s\n",
      "[CV 5/5] END .................C=10, gamma=0.01;, score=-0.171 total time=   0.0s\n",
      "[CV 1/5] END ..................C=10, gamma=0.1;, score=-0.108 total time=   0.0s\n",
      "[CV 2/5] END ..................C=10, gamma=0.1;, score=-0.166 total time=   0.0s\n",
      "[CV 3/5] END ..................C=10, gamma=0.1;, score=-0.097 total time=   0.0s\n",
      "[CV 4/5] END ..................C=10, gamma=0.1;, score=-0.110 total time=   0.0s\n",
      "[CV 5/5] END ..................C=10, gamma=0.1;, score=-0.171 total time=   0.0s\n",
      "[CV 1/5] END .................C=10, gamma=0.01;, score=-0.108 total time=   0.0s\n",
      "[CV 2/5] END .................C=10, gamma=0.01;, score=-0.166 total time=   0.0s\n",
      "[CV 3/5] END .................C=10, gamma=0.01;, score=-0.098 total time=   0.0s\n",
      "[CV 4/5] END .................C=10, gamma=0.01;, score=-0.110 total time=   0.0s\n",
      "[CV 5/5] END .................C=10, gamma=0.01;, score=-0.171 total time=   0.0s\n",
      "[CV 1/5] END ................C=10, gamma=0.001;, score=-0.108 total time=   0.0s\n",
      "[CV 2/5] END ................C=10, gamma=0.001;, score=-0.166 total time=   0.0s\n",
      "[CV 3/5] END ................C=10, gamma=0.001;, score=-0.098 total time=   0.0s\n",
      "[CV 4/5] END ................C=10, gamma=0.001;, score=-0.110 total time=   0.0s\n",
      "[CV 5/5] END ................C=10, gamma=0.001;, score=-0.171 total time=   0.0s\n",
      "[CV 1/5] END ................C=10, gamma=0.001;, score=-0.108 total time=   0.0s\n",
      "[CV 2/5] END ................C=10, gamma=0.001;, score=-0.166 total time=   0.0s\n",
      "[CV 3/5] END ................C=10, gamma=0.001;, score=-0.098 total time=   0.0s\n",
      "[CV 4/5] END ................C=10, gamma=0.001;, score=-0.110 total time=   0.0s\n",
      "[CV 5/5] END ................C=10, gamma=0.001;, score=-0.171 total time=   0.0s\n",
      "[CV 1/5] END ................C=100, gamma=0.01;, score=-0.107 total time=   0.0s\n",
      "[CV 2/5] END ................C=100, gamma=0.01;, score=-0.165 total time=   0.0s\n",
      "[CV 3/5] END ................C=100, gamma=0.01;, score=-0.096 total time=   0.0s\n",
      "[CV 4/5] END ................C=100, gamma=0.01;, score=-0.109 total time=   0.0s\n",
      "[CV 5/5] END ................C=100, gamma=0.01;, score=-0.170 total time=   0.0s\n",
      "[CV 1/5] END .................C=100, gamma=0.1;, score=-0.106 total time=   0.0s\n",
      "[CV 2/5] END .................C=100, gamma=0.1;, score=-0.163 total time=   0.0s\n",
      "[CV 3/5] END .................C=100, gamma=0.1;, score=-0.093 total time=   0.0s\n",
      "[CV 4/5] END .................C=100, gamma=0.1;, score=-0.108 total time=   0.0s\n",
      "[CV 5/5] END .................C=100, gamma=0.1;, score=-0.169 total time=   0.0s\n",
      "[CV 1/5] END ................C=100, gamma=0.01;, score=-0.107 total time=   0.0s\n",
      "[CV 2/5] END ................C=100, gamma=0.01;, score=-0.165 total time=   0.0s\n",
      "[CV 3/5] END ................C=100, gamma=0.01;, score=-0.096 total time=   0.0s\n",
      "[CV 4/5] END ................C=100, gamma=0.01;, score=-0.109 total time=   0.0s\n",
      "[CV 5/5] END ................C=100, gamma=0.01;, score=-0.170 total time=   0.0s\n",
      "[CV 1/5] END ...............C=100, gamma=0.001;, score=-0.108 total time=   0.0s\n",
      "[CV 2/5] END ...............C=100, gamma=0.001;, score=-0.166 total time=   0.0s\n",
      "[CV 3/5] END ...............C=100, gamma=0.001;, score=-0.098 total time=   0.0s\n",
      "[CV 4/5] END ...............C=100, gamma=0.001;, score=-0.110 total time=   0.0s\n",
      "[CV 5/5] END ...............C=100, gamma=0.001;, score=-0.171 total time=   0.0s\n",
      "[CV 1/5] END ...............C=100, gamma=0.001;, score=-0.108 total time=   0.0s\n",
      "[CV 2/5] END ...............C=100, gamma=0.001;, score=-0.166 total time=   0.0s\n",
      "[CV 3/5] END ...............C=100, gamma=0.001;, score=-0.098 total time=   0.0s\n",
      "[CV 4/5] END ...............C=100, gamma=0.001;, score=-0.110 total time=   0.0s\n",
      "[CV 5/5] END ...............C=100, gamma=0.001;, score=-0.171 total time=   0.0s\n",
      "[CV 1/5] END ...............C=1000, gamma=0.01;, score=-0.100 total time=   0.0s\n",
      "[CV 2/5] END ...............C=1000, gamma=0.01;, score=-0.158 total time=   0.0s\n",
      "[CV 3/5] END ...............C=1000, gamma=0.01;, score=-0.088 total time=   0.0s\n",
      "[CV 4/5] END ...............C=1000, gamma=0.01;, score=-0.102 total time=   0.0s\n",
      "[CV 5/5] END ...............C=1000, gamma=0.01;, score=-0.164 total time=   0.0s\n",
      "[CV 1/5] END ................C=1000, gamma=0.1;, score=-0.090 total time=   0.0s\n",
      "[CV 2/5] END ................C=1000, gamma=0.1;, score=-0.147 total time=   0.0s\n",
      "[CV 3/5] END ................C=1000, gamma=0.1;, score=-0.071 total time=   0.0s\n",
      "[CV 4/5] END ................C=1000, gamma=0.1;, score=-0.093 total time=   0.0s\n",
      "[CV 5/5] END ................C=1000, gamma=0.1;, score=-0.154 total time=   0.0s\n",
      "[CV 1/5] END ...............C=1000, gamma=0.01;, score=-0.100 total time=   0.0s\n",
      "[CV 2/5] END ...............C=1000, gamma=0.01;, score=-0.158 total time=   0.0s\n",
      "[CV 3/5] END ...............C=1000, gamma=0.01;, score=-0.088 total time=   0.0s\n",
      "[CV 4/5] END ...............C=1000, gamma=0.01;, score=-0.102 total time=   0.0s\n",
      "[CV 5/5] END ...............C=1000, gamma=0.01;, score=-0.164 total time=   0.0s\n",
      "[CV 1/5] END ..............C=1000, gamma=0.001;, score=-0.107 total time=   0.0s\n",
      "[CV 2/5] END ..............C=1000, gamma=0.001;, score=-0.165 total time=   0.0s\n",
      "[CV 3/5] END ..............C=1000, gamma=0.001;, score=-0.096 total time=   0.0s\n",
      "[CV 4/5] END ..............C=1000, gamma=0.001;, score=-0.109 total time=   0.0s\n",
      "[CV 5/5] END ..............C=1000, gamma=0.001;, score=-0.170 total time=   0.0s\n",
      "[CV 1/5] END ..............C=1000, gamma=0.001;, score=-0.107 total time=   0.0s\n",
      "[CV 2/5] END ..............C=1000, gamma=0.001;, score=-0.165 total time=   0.0s\n",
      "[CV 3/5] END ..............C=1000, gamma=0.001;, score=-0.096 total time=   0.0s\n",
      "[CV 4/5] END ..............C=1000, gamma=0.001;, score=-0.109 total time=   0.0s\n",
      "[CV 5/5] END ..............C=1000, gamma=0.001;, score=-0.170 total time=   0.0s\n",
      "Support Vector Regression - R-squared tuned: -0.11013512477875453, Best Params: {'C': 1000, 'gamma': 0.1}\n"
     ]
    }
   ],
   "source": [
    "#Define models with their respective parameter grids for hyperparameter tuning\n",
    "models_with_tuning = [\n",
    "    ('Ridge Regression', Ridge(), {'alpha': [0.1, 1.0, 10]}),\n",
    "    ('Lasso Regression', Lasso(), {'alpha': [0.0001, 0.01, 1.0]}),\n",
    "    ('Support Vector Regression', SVR(), {'C': [0.01,0.1,1,10,100,1000], 'gamma': [0.01,0.1,0.01,0.001,0.001]})\n",
    "]\n",
    "\n",
    "#Train and evaluate each model using GridSearchCV\n",
    "for name, model, param_grid in models_with_tuning:\n",
    "    grid = GridSearchCV(model, param_grid, verbose =4)\n",
    "    grid.fit(X_standardised_train, y_train)\n",
    "    \n",
    "    best_model = grid.best_estimator_\n",
    "    y_pred = best_model.predict(X_standardised_test)\n",
    "    \n",
    "    mse = mean_squared_error(y_test, y_pred)\n",
    "    r2 = r2_score(y_test, y_pred)\n",
    "    \n",
    "    print(f\"{name} - R-squared tuned: {r2}, Best Params: {grid.best_params_}\")\n"
   ]
  },
  {
   "cell_type": "markdown",
   "id": "fcb87b03",
   "metadata": {},
   "source": [
    "# Regression Modelling using labeled encoded data for data using normalization "
   ]
  },
  {
   "cell_type": "code",
   "execution_count": 160,
   "id": "88426689",
   "metadata": {},
   "outputs": [],
   "source": [
    "from sklearn.preprocessing import MinMaxScaler\n",
    "\n",
    "#Create the minmaxscaler object\n",
    "scaler = MinMaxScaler()\n",
    "transport_data['Number of Flights Scaled'] = scaler.fit_transform(transport_data[['Number of Flights']])"
   ]
  },
  {
   "cell_type": "code",
   "execution_count": 161,
   "id": "66bdf87c",
   "metadata": {},
   "outputs": [
    {
     "name": "stdout",
     "output_type": "stream",
     "text": [
      "<class 'pandas.core.frame.DataFrame'>\n",
      "RangeIndex: 780 entries, 0 to 779\n",
      "Data columns (total 10 columns):\n",
      " #   Column                    Non-Null Count  Dtype  \n",
      "---  ------                    --------------  -----  \n",
      " 0   tra_cov                   780 non-null    object \n",
      " 1   aircraft                  780 non-null    object \n",
      " 2   distance                  780 non-null    object \n",
      " 3   TIME_PERIOD               780 non-null    int64  \n",
      " 4   Number of Passengers      780 non-null    int64  \n",
      " 5   Number of Flights         780 non-null    int64  \n",
      " 6   tracov_encoded            780 non-null    int32  \n",
      " 7   aircraft_encoded          780 non-null    int32  \n",
      " 8   distance_encoded          780 non-null    int32  \n",
      " 9   Number of Flights Scaled  780 non-null    float64\n",
      "dtypes: float64(1), int32(3), int64(3), object(3)\n",
      "memory usage: 51.9+ KB\n"
     ]
    }
   ],
   "source": [
    "transport_data.info()"
   ]
  },
  {
   "cell_type": "code",
   "execution_count": 162,
   "id": "b5e0dc2b",
   "metadata": {},
   "outputs": [],
   "source": [
    "#Split into dependent and independent variables\n",
    "y = transport_data.iloc[:, 4].values\n",
    "X = transport_data.drop(['Number of Passengers', 'tra_cov','aircraft','distance','Number of Flights'], axis=1).values\n",
    "\n",
    "\n",
    "#Split the data into features (X) and target variable (y)\n",
    "X_train, X_test, y_train, y_test = train_test_split(X, y, test_size=0.2)"
   ]
  },
  {
   "cell_type": "markdown",
   "id": "73f730bc",
   "metadata": {},
   "source": [
    "# Regression Modelling using labeled encoded data for normalized data"
   ]
  },
  {
   "cell_type": "code",
   "execution_count": 163,
   "id": "fc7095c0",
   "metadata": {},
   "outputs": [
    {
     "name": "stdout",
     "output_type": "stream",
     "text": [
      "Linear Regression - R-squared (normalised : 0.9386723214644722\n",
      "Decision_Regressor - R-squared (normalised : 0.9329405578627503\n",
      "Ridge Regression alpha=10 - R-squared (normalised : 0.7634578516924766\n",
      "Ridge Regression alpha=0.1 - R-squared (normalised : 0.9394343381389899\n",
      "Ridge Regression alpha=1 - R-squared (normalised : 0.9392136196181997\n",
      "Lasso Regression alpha=1 - R-squared (normalised : 0.9386729201740119\n",
      "Lasso Regression alpha=0.01 - R-squared (normalised : 0.9386723274365009\n",
      "Lasso Regression alpha=0.0001 - R-squared (normalised : 0.9386723215243195\n",
      "ElasticNet Regression alpha = 0.01 - R-squared (normalised : 0.9095850819528706\n",
      "Random Forest Regression - R-squared (normalised : 0.9924451111083763\n",
      "Support Vector Regression - R-squared (normalised : -0.1502793817700563\n",
      "K-Nearest Neighbors Regression - R-squared (normalised : 0.7316973654855394\n"
     ]
    }
   ],
   "source": [
    "#Define the models\n",
    "models_normalized = [\n",
    "    ('Linear Regression', LinearRegression()),\n",
    "    ('Decision_Regressor', DecisionTreeRegressor(max_depth=2, random_state=0)),\n",
    "    ('Ridge Regression alpha=10', Ridge(alpha=10)),\n",
    "    ('Ridge Regression alpha=0.1', Ridge(alpha=0.1)),\n",
    "    ('Ridge Regression alpha=1', Ridge(alpha=1)),    \n",
    "    ('Lasso Regression alpha=1', Lasso(alpha=1)),\n",
    "    ('Lasso Regression alpha=0.01', Lasso(alpha=0.01)),\n",
    "    ('Lasso Regression alpha=0.0001', Lasso(alpha=0.0001)),\n",
    "    ('ElasticNet Regression alpha = 0.01', ElasticNet(alpha = 0.01)),\n",
    "    ('Random Forest Regression', RandomForestRegressor(n_estimators=1000, random_state=0)),\n",
    "    ('Support Vector Regression', SVR()),\n",
    "    ('K-Nearest Neighbors Regression', KNeighborsRegressor(algorithm='auto', leaf_size=30,metric='minkowski',\n",
    "                                   metric_params=None, n_jobs=1, n_neighbors=5))\n",
    "]\n",
    "\n",
    "#Train and evaluate each model\n",
    "for name, model in models_normalized:\n",
    "    model.fit(X_train, y_train)\n",
    "    y_pred_normalised = model.predict(X_test)\n",
    "    r2_normalised = r2_score(y_test, y_pred_normalised)\n",
    "    print(f\"{name} - R-squared (normalised : {r2_normalised}\")\n",
    "    "
   ]
  },
  {
   "cell_type": "markdown",
   "id": "f145e778",
   "metadata": {},
   "source": [
    "# Regression Modelling using labeled encoded data for normalized data  using hyperparameter tuning"
   ]
  },
  {
   "cell_type": "code",
   "execution_count": 164,
   "id": "74dc5f3c",
   "metadata": {
    "scrolled": false
   },
   "outputs": [
    {
     "name": "stdout",
     "output_type": "stream",
     "text": [
      "Fitting 5 folds for each of 3 candidates, totalling 15 fits\n",
      "[CV 1/5] END .........................alpha=0.1;, score=0.943 total time=   0.0s\n",
      "[CV 2/5] END .........................alpha=0.1;, score=0.958 total time=   0.0s\n",
      "[CV 3/5] END .........................alpha=0.1;, score=0.977 total time=   0.0s\n",
      "[CV 4/5] END .........................alpha=0.1;, score=0.948 total time=   0.0s\n",
      "[CV 5/5] END .........................alpha=0.1;, score=0.912 total time=   0.0s\n",
      "[CV 1/5] END .........................alpha=1.0;, score=0.942 total time=   0.0s\n",
      "[CV 2/5] END .........................alpha=1.0;, score=0.941 total time=   0.0s\n",
      "[CV 3/5] END .........................alpha=1.0;, score=0.965 total time=   0.0s\n",
      "[CV 4/5] END .........................alpha=1.0;, score=0.931 total time=   0.0s\n",
      "[CV 5/5] END .........................alpha=1.0;, score=0.913 total time=   0.0s\n",
      "[CV 1/5] END ..........................alpha=10;, score=0.722 total time=   0.0s\n",
      "[CV 2/5] END ..........................alpha=10;, score=0.681 total time=   0.0s\n",
      "[CV 3/5] END ..........................alpha=10;, score=0.708 total time=   0.0s\n",
      "[CV 4/5] END ..........................alpha=10;, score=0.681 total time=   0.0s\n",
      "[CV 5/5] END ..........................alpha=10;, score=0.705 total time=   0.0s\n",
      "Ridge Regression - R-squared tuned: 0.9394343381389899, Best Params: {'alpha': 0.1}\n",
      "Fitting 5 folds for each of 3 candidates, totalling 15 fits\n",
      "[CV 1/5] END ......................alpha=0.0001;, score=0.942 total time=   0.0s\n",
      "[CV 2/5] END ......................alpha=0.0001;, score=0.959 total time=   0.0s\n",
      "[CV 3/5] END ......................alpha=0.0001;, score=0.977 total time=   0.0s\n",
      "[CV 4/5] END ......................alpha=0.0001;, score=0.949 total time=   0.0s\n",
      "[CV 5/5] END ......................alpha=0.0001;, score=0.911 total time=   0.0s\n",
      "[CV 1/5] END ........................alpha=0.01;, score=0.942 total time=   0.0s\n",
      "[CV 2/5] END ........................alpha=0.01;, score=0.959 total time=   0.0s\n",
      "[CV 3/5] END ........................alpha=0.01;, score=0.977 total time=   0.0s\n",
      "[CV 4/5] END ........................alpha=0.01;, score=0.949 total time=   0.0s\n",
      "[CV 5/5] END ........................alpha=0.01;, score=0.911 total time=   0.0s\n",
      "[CV 1/5] END .........................alpha=1.0;, score=0.942 total time=   0.0s\n",
      "[CV 2/5] END .........................alpha=1.0;, score=0.959 total time=   0.0s\n",
      "[CV 3/5] END .........................alpha=1.0;, score=0.977 total time=   0.0s\n",
      "[CV 4/5] END .........................alpha=1.0;, score=0.949 total time=   0.0s\n",
      "[CV 5/5] END .........................alpha=1.0;, score=0.911 total time=   0.0s\n",
      "Lasso Regression - R-squared tuned: 0.9386729201740119, Best Params: {'alpha': 1.0}\n",
      "Fitting 5 folds for each of 30 candidates, totalling 150 fits\n",
      "[CV 1/5] END ...............C=0.01, gamma=0.01;, score=-0.142 total time=   0.0s\n",
      "[CV 2/5] END ...............C=0.01, gamma=0.01;, score=-0.117 total time=   0.0s\n",
      "[CV 3/5] END ...............C=0.01, gamma=0.01;, score=-0.096 total time=   0.0s\n",
      "[CV 4/5] END ...............C=0.01, gamma=0.01;, score=-0.168 total time=   0.0s\n",
      "[CV 5/5] END ...............C=0.01, gamma=0.01;, score=-0.090 total time=   0.0s\n",
      "[CV 1/5] END ................C=0.01, gamma=0.1;, score=-0.142 total time=   0.0s\n",
      "[CV 2/5] END ................C=0.01, gamma=0.1;, score=-0.117 total time=   0.0s\n",
      "[CV 3/5] END ................C=0.01, gamma=0.1;, score=-0.096 total time=   0.0s\n",
      "[CV 4/5] END ................C=0.01, gamma=0.1;, score=-0.168 total time=   0.0s\n",
      "[CV 5/5] END ................C=0.01, gamma=0.1;, score=-0.090 total time=   0.0s\n",
      "[CV 1/5] END ...............C=0.01, gamma=0.01;, score=-0.142 total time=   0.0s\n",
      "[CV 2/5] END ...............C=0.01, gamma=0.01;, score=-0.117 total time=   0.0s\n",
      "[CV 3/5] END ...............C=0.01, gamma=0.01;, score=-0.096 total time=   0.0s\n",
      "[CV 4/5] END ...............C=0.01, gamma=0.01;, score=-0.168 total time=   0.0s\n",
      "[CV 5/5] END ...............C=0.01, gamma=0.01;, score=-0.090 total time=   0.0s\n",
      "[CV 1/5] END ..............C=0.01, gamma=0.001;, score=-0.142 total time=   0.0s\n",
      "[CV 2/5] END ..............C=0.01, gamma=0.001;, score=-0.117 total time=   0.0s\n",
      "[CV 3/5] END ..............C=0.01, gamma=0.001;, score=-0.096 total time=   0.0s\n",
      "[CV 4/5] END ..............C=0.01, gamma=0.001;, score=-0.168 total time=   0.0s\n",
      "[CV 5/5] END ..............C=0.01, gamma=0.001;, score=-0.090 total time=   0.0s\n",
      "[CV 1/5] END ..............C=0.01, gamma=0.001;, score=-0.142 total time=   0.0s\n",
      "[CV 2/5] END ..............C=0.01, gamma=0.001;, score=-0.117 total time=   0.0s\n",
      "[CV 3/5] END ..............C=0.01, gamma=0.001;, score=-0.096 total time=   0.0s\n",
      "[CV 4/5] END ..............C=0.01, gamma=0.001;, score=-0.168 total time=   0.0s\n",
      "[CV 5/5] END ..............C=0.01, gamma=0.001;, score=-0.090 total time=   0.0s\n",
      "[CV 1/5] END ................C=0.1, gamma=0.01;, score=-0.142 total time=   0.0s\n",
      "[CV 2/5] END ................C=0.1, gamma=0.01;, score=-0.117 total time=   0.0s\n",
      "[CV 3/5] END ................C=0.1, gamma=0.01;, score=-0.096 total time=   0.0s\n",
      "[CV 4/5] END ................C=0.1, gamma=0.01;, score=-0.168 total time=   0.0s\n",
      "[CV 5/5] END ................C=0.1, gamma=0.01;, score=-0.090 total time=   0.0s\n",
      "[CV 1/5] END .................C=0.1, gamma=0.1;, score=-0.142 total time=   0.0s\n",
      "[CV 2/5] END .................C=0.1, gamma=0.1;, score=-0.117 total time=   0.0s\n",
      "[CV 3/5] END .................C=0.1, gamma=0.1;, score=-0.096 total time=   0.0s\n",
      "[CV 4/5] END .................C=0.1, gamma=0.1;, score=-0.168 total time=   0.0s\n",
      "[CV 5/5] END .................C=0.1, gamma=0.1;, score=-0.090 total time=   0.0s\n",
      "[CV 1/5] END ................C=0.1, gamma=0.01;, score=-0.142 total time=   0.0s\n",
      "[CV 2/5] END ................C=0.1, gamma=0.01;, score=-0.117 total time=   0.0s\n",
      "[CV 3/5] END ................C=0.1, gamma=0.01;, score=-0.096 total time=   0.0s\n",
      "[CV 4/5] END ................C=0.1, gamma=0.01;, score=-0.168 total time=   0.0s\n",
      "[CV 5/5] END ................C=0.1, gamma=0.01;, score=-0.090 total time=   0.0s\n",
      "[CV 1/5] END ...............C=0.1, gamma=0.001;, score=-0.142 total time=   0.0s\n",
      "[CV 2/5] END ...............C=0.1, gamma=0.001;, score=-0.117 total time=   0.0s\n",
      "[CV 3/5] END ...............C=0.1, gamma=0.001;, score=-0.096 total time=   0.0s\n",
      "[CV 4/5] END ...............C=0.1, gamma=0.001;, score=-0.168 total time=   0.0s\n",
      "[CV 5/5] END ...............C=0.1, gamma=0.001;, score=-0.090 total time=   0.0s\n",
      "[CV 1/5] END ...............C=0.1, gamma=0.001;, score=-0.142 total time=   0.0s\n",
      "[CV 2/5] END ...............C=0.1, gamma=0.001;, score=-0.117 total time=   0.0s\n",
      "[CV 3/5] END ...............C=0.1, gamma=0.001;, score=-0.096 total time=   0.0s\n",
      "[CV 4/5] END ...............C=0.1, gamma=0.001;, score=-0.168 total time=   0.0s\n",
      "[CV 5/5] END ...............C=0.1, gamma=0.001;, score=-0.090 total time=   0.0s\n",
      "[CV 1/5] END ..................C=1, gamma=0.01;, score=-0.142 total time=   0.0s\n",
      "[CV 2/5] END ..................C=1, gamma=0.01;, score=-0.117 total time=   0.0s\n",
      "[CV 3/5] END ..................C=1, gamma=0.01;, score=-0.096 total time=   0.0s\n",
      "[CV 4/5] END ..................C=1, gamma=0.01;, score=-0.168 total time=   0.0s\n",
      "[CV 5/5] END ..................C=1, gamma=0.01;, score=-0.090 total time=   0.0s\n",
      "[CV 1/5] END ...................C=1, gamma=0.1;, score=-0.142 total time=   0.0s\n",
      "[CV 2/5] END ...................C=1, gamma=0.1;, score=-0.117 total time=   0.0s\n",
      "[CV 3/5] END ...................C=1, gamma=0.1;, score=-0.096 total time=   0.0s\n",
      "[CV 4/5] END ...................C=1, gamma=0.1;, score=-0.168 total time=   0.0s\n",
      "[CV 5/5] END ...................C=1, gamma=0.1;, score=-0.090 total time=   0.0s\n",
      "[CV 1/5] END ..................C=1, gamma=0.01;, score=-0.142 total time=   0.0s\n",
      "[CV 2/5] END ..................C=1, gamma=0.01;, score=-0.117 total time=   0.0s\n",
      "[CV 3/5] END ..................C=1, gamma=0.01;, score=-0.096 total time=   0.0s\n",
      "[CV 4/5] END ..................C=1, gamma=0.01;, score=-0.168 total time=   0.0s\n",
      "[CV 5/5] END ..................C=1, gamma=0.01;, score=-0.090 total time=   0.0s\n",
      "[CV 1/5] END .................C=1, gamma=0.001;, score=-0.142 total time=   0.0s\n",
      "[CV 2/5] END .................C=1, gamma=0.001;, score=-0.117 total time=   0.0s\n",
      "[CV 3/5] END .................C=1, gamma=0.001;, score=-0.096 total time=   0.0s\n"
     ]
    },
    {
     "name": "stdout",
     "output_type": "stream",
     "text": [
      "[CV 4/5] END .................C=1, gamma=0.001;, score=-0.168 total time=   0.0s\n",
      "[CV 5/5] END .................C=1, gamma=0.001;, score=-0.090 total time=   0.0s\n",
      "[CV 1/5] END .................C=1, gamma=0.001;, score=-0.142 total time=   0.0s\n",
      "[CV 2/5] END .................C=1, gamma=0.001;, score=-0.117 total time=   0.0s\n",
      "[CV 3/5] END .................C=1, gamma=0.001;, score=-0.096 total time=   0.0s\n",
      "[CV 4/5] END .................C=1, gamma=0.001;, score=-0.168 total time=   0.0s\n",
      "[CV 5/5] END .................C=1, gamma=0.001;, score=-0.090 total time=   0.0s\n",
      "[CV 1/5] END .................C=10, gamma=0.01;, score=-0.142 total time=   0.0s\n",
      "[CV 2/5] END .................C=10, gamma=0.01;, score=-0.117 total time=   0.0s\n",
      "[CV 3/5] END .................C=10, gamma=0.01;, score=-0.096 total time=   0.0s\n",
      "[CV 4/5] END .................C=10, gamma=0.01;, score=-0.168 total time=   0.0s\n",
      "[CV 5/5] END .................C=10, gamma=0.01;, score=-0.090 total time=   0.0s\n",
      "[CV 1/5] END ..................C=10, gamma=0.1;, score=-0.142 total time=   0.0s\n",
      "[CV 2/5] END ..................C=10, gamma=0.1;, score=-0.117 total time=   0.0s\n",
      "[CV 3/5] END ..................C=10, gamma=0.1;, score=-0.096 total time=   0.0s\n",
      "[CV 4/5] END ..................C=10, gamma=0.1;, score=-0.168 total time=   0.0s\n",
      "[CV 5/5] END ..................C=10, gamma=0.1;, score=-0.090 total time=   0.0s\n",
      "[CV 1/5] END .................C=10, gamma=0.01;, score=-0.142 total time=   0.0s\n",
      "[CV 2/5] END .................C=10, gamma=0.01;, score=-0.117 total time=   0.0s\n",
      "[CV 3/5] END .................C=10, gamma=0.01;, score=-0.096 total time=   0.0s\n",
      "[CV 4/5] END .................C=10, gamma=0.01;, score=-0.168 total time=   0.0s\n",
      "[CV 5/5] END .................C=10, gamma=0.01;, score=-0.090 total time=   0.0s\n",
      "[CV 1/5] END ................C=10, gamma=0.001;, score=-0.142 total time=   0.0s\n",
      "[CV 2/5] END ................C=10, gamma=0.001;, score=-0.117 total time=   0.0s\n",
      "[CV 3/5] END ................C=10, gamma=0.001;, score=-0.096 total time=   0.0s\n",
      "[CV 4/5] END ................C=10, gamma=0.001;, score=-0.168 total time=   0.0s\n",
      "[CV 5/5] END ................C=10, gamma=0.001;, score=-0.090 total time=   0.0s\n",
      "[CV 1/5] END ................C=10, gamma=0.001;, score=-0.142 total time=   0.0s\n",
      "[CV 2/5] END ................C=10, gamma=0.001;, score=-0.117 total time=   0.0s\n",
      "[CV 3/5] END ................C=10, gamma=0.001;, score=-0.096 total time=   0.0s\n",
      "[CV 4/5] END ................C=10, gamma=0.001;, score=-0.168 total time=   0.0s\n",
      "[CV 5/5] END ................C=10, gamma=0.001;, score=-0.090 total time=   0.0s\n",
      "[CV 1/5] END ................C=100, gamma=0.01;, score=-0.142 total time=   0.0s\n",
      "[CV 2/5] END ................C=100, gamma=0.01;, score=-0.117 total time=   0.0s\n",
      "[CV 3/5] END ................C=100, gamma=0.01;, score=-0.095 total time=   0.0s\n",
      "[CV 4/5] END ................C=100, gamma=0.01;, score=-0.168 total time=   0.0s\n",
      "[CV 5/5] END ................C=100, gamma=0.01;, score=-0.090 total time=   0.0s\n",
      "[CV 1/5] END .................C=100, gamma=0.1;, score=-0.142 total time=   0.0s\n",
      "[CV 2/5] END .................C=100, gamma=0.1;, score=-0.117 total time=   0.0s\n",
      "[CV 3/5] END .................C=100, gamma=0.1;, score=-0.095 total time=   0.0s\n",
      "[CV 4/5] END .................C=100, gamma=0.1;, score=-0.168 total time=   0.0s\n",
      "[CV 5/5] END .................C=100, gamma=0.1;, score=-0.089 total time=   0.0s\n",
      "[CV 1/5] END ................C=100, gamma=0.01;, score=-0.142 total time=   0.0s\n",
      "[CV 2/5] END ................C=100, gamma=0.01;, score=-0.117 total time=   0.0s\n",
      "[CV 3/5] END ................C=100, gamma=0.01;, score=-0.095 total time=   0.0s\n",
      "[CV 4/5] END ................C=100, gamma=0.01;, score=-0.168 total time=   0.0s\n",
      "[CV 5/5] END ................C=100, gamma=0.01;, score=-0.090 total time=   0.0s\n",
      "[CV 1/5] END ...............C=100, gamma=0.001;, score=-0.142 total time=   0.0s\n",
      "[CV 2/5] END ...............C=100, gamma=0.001;, score=-0.117 total time=   0.0s\n",
      "[CV 3/5] END ...............C=100, gamma=0.001;, score=-0.096 total time=   0.0s\n",
      "[CV 4/5] END ...............C=100, gamma=0.001;, score=-0.168 total time=   0.0s\n",
      "[CV 5/5] END ...............C=100, gamma=0.001;, score=-0.090 total time=   0.0s\n",
      "[CV 1/5] END ...............C=100, gamma=0.001;, score=-0.142 total time=   0.0s\n",
      "[CV 2/5] END ...............C=100, gamma=0.001;, score=-0.117 total time=   0.0s\n",
      "[CV 3/5] END ...............C=100, gamma=0.001;, score=-0.096 total time=   0.0s\n",
      "[CV 4/5] END ...............C=100, gamma=0.001;, score=-0.168 total time=   0.0s\n",
      "[CV 5/5] END ...............C=100, gamma=0.001;, score=-0.090 total time=   0.0s\n",
      "[CV 1/5] END ...............C=1000, gamma=0.01;, score=-0.141 total time=   0.0s\n",
      "[CV 2/5] END ...............C=1000, gamma=0.01;, score=-0.116 total time=   0.0s\n",
      "[CV 3/5] END ...............C=1000, gamma=0.01;, score=-0.095 total time=   0.0s\n",
      "[CV 4/5] END ...............C=1000, gamma=0.01;, score=-0.167 total time=   0.0s\n",
      "[CV 5/5] END ...............C=1000, gamma=0.01;, score=-0.089 total time=   0.0s\n",
      "[CV 1/5] END ................C=1000, gamma=0.1;, score=-0.140 total time=   0.0s\n",
      "[CV 2/5] END ................C=1000, gamma=0.1;, score=-0.115 total time=   0.0s\n",
      "[CV 3/5] END ................C=1000, gamma=0.1;, score=-0.093 total time=   0.0s\n",
      "[CV 4/5] END ................C=1000, gamma=0.1;, score=-0.166 total time=   0.0s\n",
      "[CV 5/5] END ................C=1000, gamma=0.1;, score=-0.087 total time=   0.0s\n",
      "[CV 1/5] END ...............C=1000, gamma=0.01;, score=-0.141 total time=   0.0s\n",
      "[CV 2/5] END ...............C=1000, gamma=0.01;, score=-0.116 total time=   0.0s\n",
      "[CV 3/5] END ...............C=1000, gamma=0.01;, score=-0.095 total time=   0.0s\n",
      "[CV 4/5] END ...............C=1000, gamma=0.01;, score=-0.167 total time=   0.0s\n",
      "[CV 5/5] END ...............C=1000, gamma=0.01;, score=-0.089 total time=   0.0s\n",
      "[CV 1/5] END ..............C=1000, gamma=0.001;, score=-0.142 total time=   0.0s\n",
      "[CV 2/5] END ..............C=1000, gamma=0.001;, score=-0.117 total time=   0.0s\n",
      "[CV 3/5] END ..............C=1000, gamma=0.001;, score=-0.095 total time=   0.0s\n",
      "[CV 4/5] END ..............C=1000, gamma=0.001;, score=-0.168 total time=   0.0s\n",
      "[CV 5/5] END ..............C=1000, gamma=0.001;, score=-0.090 total time=   0.0s\n",
      "[CV 1/5] END ..............C=1000, gamma=0.001;, score=-0.142 total time=   0.0s\n",
      "[CV 2/5] END ..............C=1000, gamma=0.001;, score=-0.117 total time=   0.0s\n",
      "[CV 3/5] END ..............C=1000, gamma=0.001;, score=-0.095 total time=   0.0s\n",
      "[CV 4/5] END ..............C=1000, gamma=0.001;, score=-0.168 total time=   0.0s\n",
      "[CV 5/5] END ..............C=1000, gamma=0.001;, score=-0.090 total time=   0.0s\n",
      "Support Vector Regression - R-squared tuned: -0.14785537835235796, Best Params: {'C': 1000, 'gamma': 0.1}\n"
     ]
    }
   ],
   "source": [
    "#Define models with their respective parameter grids for hyperparameter tuning\n",
    "models_with_tuning = [\n",
    "    ('Ridge Regression', Ridge(), {'alpha': [0.1, 1.0, 10]}),\n",
    "    ('Lasso Regression', Lasso(), {'alpha': [0.0001, 0.01, 1.0]}),\n",
    "    ('Support Vector Regression', SVR(), {'C': [0.01,0.1,1,10,100,1000], 'gamma': [0.01,0.1,0.01,0.001,0.001]})\n",
    "]\n",
    "\n",
    "#Train and evaluate each model using GridSearchCV\n",
    "for name, model, param_grid in models_with_tuning:\n",
    "    grid = GridSearchCV(model, param_grid, verbose =4)\n",
    "    grid.fit(X_train, y_train)\n",
    "    \n",
    "    best_model = grid.best_estimator_\n",
    "    y_pred = best_model.predict(X_test)\n",
    "    \n",
    "    mse = mean_squared_error(y_test, y_pred)\n",
    "    r2 = r2_score(y_test, y_pred)\n",
    "    \n",
    "    print(f\"{name} - R-squared tuned: {r2}, Best Params: {grid.best_params_}\")\n"
   ]
  },
  {
   "cell_type": "code",
   "execution_count": 165,
   "id": "f1ee7838",
   "metadata": {},
   "outputs": [],
   "source": [
    "#Split into dependent and independent variables\n",
    "y = transport_data.iloc[:, 4].values\n",
    "X = transport_data.drop(['Number of Passengers', 'tra_cov','aircraft','distance'], axis=1).values"
   ]
  },
  {
   "cell_type": "markdown",
   "id": "2de2aa13",
   "metadata": {},
   "source": [
    "# Creating a Dashboard "
   ]
  },
  {
   "cell_type": "code",
   "execution_count": 1,
   "id": "656775ab",
   "metadata": {},
   "outputs": [
    {
     "ename": "NameError",
     "evalue": "name 'X' is not defined",
     "output_type": "error",
     "traceback": [
      "\u001b[1;31m---------------------------------------------------------------------------\u001b[0m",
      "\u001b[1;31mNameError\u001b[0m                                 Traceback (most recent call last)",
      "Cell \u001b[1;32mIn[1], line 11\u001b[0m\n\u001b[0;32m      8\u001b[0m \u001b[38;5;28;01mfrom\u001b[39;00m \u001b[38;5;21;01msklearn\u001b[39;00m\u001b[38;5;21;01m.\u001b[39;00m\u001b[38;5;21;01mmetrics\u001b[39;00m \u001b[38;5;28;01mimport\u001b[39;00m r2_score\n\u001b[0;32m     10\u001b[0m \u001b[38;5;66;03m#Split the data into training and test sets\u001b[39;00m\n\u001b[1;32m---> 11\u001b[0m X_train, X_test, y_train, y_test \u001b[38;5;241m=\u001b[39m train_test_split(X, y, test_size\u001b[38;5;241m=\u001b[39m\u001b[38;5;241m0.2\u001b[39m, random_state\u001b[38;5;241m=\u001b[39m\u001b[38;5;241m42\u001b[39m)\n\u001b[0;32m     13\u001b[0m \u001b[38;5;66;03m#Define models with their respective hyperparameters\u001b[39;00m\n\u001b[0;32m     14\u001b[0m models_labeled \u001b[38;5;241m=\u001b[39m [\n\u001b[0;32m     15\u001b[0m     (\u001b[38;5;124m'\u001b[39m\u001b[38;5;124mRidge Regression alpha=10\u001b[39m\u001b[38;5;124m'\u001b[39m, Ridge(alpha\u001b[38;5;241m=\u001b[39m\u001b[38;5;241m10\u001b[39m)),\n\u001b[0;32m     16\u001b[0m     (\u001b[38;5;124m'\u001b[39m\u001b[38;5;124mRidge Regression alpha=0.1\u001b[39m\u001b[38;5;124m'\u001b[39m, Ridge(alpha\u001b[38;5;241m=\u001b[39m\u001b[38;5;241m0.1\u001b[39m)),\n\u001b[1;32m   (...)\u001b[0m\n\u001b[0;32m     23\u001b[0m     (\u001b[38;5;124m'\u001b[39m\u001b[38;5;124mK-Nearest Neighbors Regression\u001b[39m\u001b[38;5;124m'\u001b[39m, KNeighborsRegressor(n_neighbors\u001b[38;5;241m=\u001b[39m\u001b[38;5;241m5\u001b[39m))\n\u001b[0;32m     24\u001b[0m ]\n",
      "\u001b[1;31mNameError\u001b[0m: name 'X' is not defined"
     ]
    }
   ],
   "source": [
    "import dash\n",
    "from dash import html, dcc\n",
    "import plotly.express as px\n",
    "from sklearn.model_selection import train_test_split\n",
    "from sklearn.linear_model import Ridge, Lasso, ElasticNet\n",
    "from sklearn.ensemble import RandomForestRegressor\n",
    "from sklearn.neighbors import KNeighborsRegressor\n",
    "from sklearn.metrics import r2_score\n",
    "\n",
    "#Split the data into training and test sets\n",
    "X_train, X_test, y_train, y_test = train_test_split(X, y, test_size=0.2, random_state=42)\n",
    "\n",
    "#Define models with their respective hyperparameters\n",
    "models_labeled = [\n",
    "    ('Ridge Regression alpha=10', Ridge(alpha=10)),\n",
    "    ('Ridge Regression alpha=0.1', Ridge(alpha=0.1)),\n",
    "    ('Ridge Regression alpha=1.0', Ridge(alpha=1.0)),\n",
    "    ('Lasso Regression alpha=0.0001', Lasso(alpha=0.0001)),\n",
    "    ('Lasso Regression alpha=0.01', Lasso(alpha=0.01)),\n",
    "    ('Lasso Regression alpha=1.0', Lasso(alpha=1.0)),\n",
    "    ('ElasticNet Regression alpha = 0.01', ElasticNet(alpha=0.01)),\n",
    "    ('Random Forest Regression', RandomForestRegressor(n_estimators=1000, random_state=0)),\n",
    "    ('K-Nearest Neighbors Regression', KNeighborsRegressor(n_neighbors=5))\n",
    "]\n",
    "\n",
    "#Train and evaluate each model\n",
    "results = []\n",
    "for name, model in models_labeled:\n",
    "    model.fit(X_train, y_train)\n",
    "    y_pred = model.predict(X_test)\n",
    "    r2 = r2_score(y_test, y_pred)\n",
    "    results.append((name, r2))\n",
    "\n",
    "#Prepare results for visualization\n",
    "results_df = pd.DataFrame(results, columns=['Model', 'R-squared Score'])\n",
    "\n",
    "# Filter data for National travel coverage category\n",
    "flight_data_NAT = transport_data[transport_data['tra_cov'] == 'NAT']\n",
    "\n",
    "#Calculate the most common and least common aircraft for National Transport\n",
    "most_common_aircraft_nat = flight_data_NAT['aircraft'].value_counts().idxmax()\n",
    "least_common_aircraft_nat = flight_data_NAT['aircraft'].value_counts().idxmin()\n",
    "\n",
    "#Create the most and least common aircraft information for National Transport\n",
    "most_common_info_nat = flight_data_NAT[flight_data_NAT['aircraft'] == most_common_aircraft_nat]\n",
    "least_common_info_nat = flight_data_NAT[flight_data_NAT['aircraft'] == least_common_aircraft_nat]\n",
    "\n",
    "#Filter data for International Transport - travel coverage category\n",
    "flight_data_INT = transport_data[transport_data['tra_cov'] == 'INTL']\n",
    "\n",
    "#Calculate the most common and least common aircraft for International Transport\n",
    "most_common_aircraft_int = flight_data_INT['aircraft'].value_counts().idxmax()\n",
    "least_common_aircraft_int = flight_data_INT['aircraft'].value_counts().idxmin()\n",
    "\n",
    "#Create the most and least common aircraft information for International Transport\n",
    "most_common_info_int = flight_data_INT[flight_data_INT['aircraft'] == most_common_aircraft_int]\n",
    "least_common_info_int = flight_data_INT[flight_data_INT['aircraft'] == least_common_aircraft_int]\n",
    "\n",
    "#Create the Dash app\n",
    "app = dash.Dash(__name__)\n",
    "\n",
    "#Layout of the dashboard\n",
    "app.layout = html.Div([\n",
    "    html.H1(\"Transport Planning Dashboard\"),\n",
    "    \n",
    "    html.H2(\"Most Common Aircraft for National Transport:\"),\n",
    "    html.P(f\"{most_common_aircraft_nat}\"),\n",
    "    dcc.Graph(\n",
    "        figure=px.bar(most_common_info_nat, x='distance', y='Number of Flights',\n",
    "                      facet_col='aircraft', animation_frame='TIME_PERIOD',\n",
    "                      title=f'Trend for {most_common_aircraft_nat} - National Transport')\n",
    "    ),\n",
    "    \n",
    "    html.H2(\"Least Common Aircraft for National Transport:\"),\n",
    "    html.P(f\"{least_common_aircraft_nat}\"),\n",
    "    dcc.Graph(\n",
    "        figure=px.bar(least_common_info_nat, x='distance', y='Number of Flights',\n",
    "                      facet_col='aircraft', animation_frame='TIME_PERIOD',\n",
    "                      title=f'Trend for {least_common_aircraft_nat} - National Transport')\n",
    "    ),\n",
    "    \n",
    "    html.H2(\"Most Common Aircraft for International Transport:\"),\n",
    "    html.P(f\"{most_common_aircraft_int}\"),\n",
    "    dcc.Graph(\n",
    "        figure=px.bar(most_common_info_int, x='distance', y='Number of Flights',\n",
    "                      facet_col='aircraft', animation_frame='TIME_PERIOD',\n",
    "                      title=f'Trend for {most_common_aircraft_int} - International Transport')\n",
    "    ),\n",
    "    \n",
    "    html.H2(\"Least Common Aircraft for International Transport:\"),\n",
    "    html.P(f\"{least_common_aircraft_int}\"),\n",
    "    dcc.Graph(\n",
    "        figure=px.bar(least_common_info_int, x='distance', y='Number of Flights',\n",
    "                      facet_col='aircraft', animation_frame='TIME_PERIOD',\n",
    "                      title=f'Trend for {least_common_aircraft_int} - International Transport')\n",
    "    ),\n",
    "    \n",
    "    #Bar chart for model performance comparison\n",
    "    dcc.Graph(\n",
    "        figure=px.bar(results_df, x='Model', y='R-squared Score', title='Regression Model Performance Comparison for predicting Number of Air Passengers in Ireland')\n",
    "    ),\n",
    "])\n",
    "\n",
    "if __name__ == '__main__':\n",
    "    app.run_server(debug=True)"
   ]
  },
  {
   "cell_type": "code",
   "execution_count": null,
   "id": "85f88525",
   "metadata": {},
   "outputs": [],
   "source": []
  }
 ],
 "metadata": {
  "kernelspec": {
   "display_name": "Python 3 (ipykernel)",
   "language": "python",
   "name": "python3"
  },
  "language_info": {
   "codemirror_mode": {
    "name": "ipython",
    "version": 3
   },
   "file_extension": ".py",
   "mimetype": "text/x-python",
   "name": "python",
   "nbconvert_exporter": "python",
   "pygments_lexer": "ipython3",
   "version": "3.11.4"
  }
 },
 "nbformat": 4,
 "nbformat_minor": 5
}
